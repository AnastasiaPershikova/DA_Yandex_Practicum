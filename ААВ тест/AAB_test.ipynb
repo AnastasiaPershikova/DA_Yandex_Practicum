{
 "cells": [
  {
   "cell_type": "markdown",
   "id": "8f56474c",
   "metadata": {},
   "source": [
    "# Исследование поведения пользователей мобильного приложения."
   ]
  },
  {
   "cell_type": "markdown",
   "id": "1a9bd661",
   "metadata": {},
   "source": [
    "Описание проекта.\n",
    "\n",
    "Стартап, занимающийся продажей продуктов питания, разбирается в поведении пользователей своего мобильного приложения. Дизайнеры предложили измение шрифта во всём приложении, менеджеры посчитали, что такое нововведение неблагоприятно скажется на поведении пользователей. Было принято решение проведения А/В теста. Пользователи разбиты на три группы, две контрольные и одну эспериментальную.\n",
    "\n",
    "Цель проекта :\n",
    "\n",
    "Изучение воронки событий пользователей мобильного приложения, анализ проведенного А/А/В теста.\n",
    "\n",
    "Входные данные для анализа: /datasets/logs_exp.csv.\n",
    "\n",
    "\n",
    "Ход исследования:  \n",
    "\n",
    "    Обзор данных\n",
    "    Предобработка данных\n",
    "    Изучение и проверка данных\n",
    "    Анализ воронки событий\n",
    "    Анализ результатов эксперимента\n",
    "    Вывод\n"
   ]
  },
  {
   "cell_type": "markdown",
   "id": "a4dcf972",
   "metadata": {},
   "source": [
    "## Обзор данных"
   ]
  },
  {
   "cell_type": "code",
   "execution_count": 1,
   "id": "93d46f8d",
   "metadata": {},
   "outputs": [],
   "source": [
    "# импортируем библиотеки\n",
    "import pandas as pd\n",
    "import os\n",
    "import matplotlib.pyplot as plt\n",
    "%matplotlib inline\n",
    "import seaborn as sns\n",
    "from plotly import graph_objects as go\n",
    "import kaleido\n",
    "import plotly.io as pio\n",
    "pio.renderers.default = \"png\"\n",
    "import datetime as dt\n",
    "import numpy as np\n",
    "import math as mth\n",
    "from scipy import stats as st\n",
    "import warnings; warnings.filterwarnings(action = 'ignore') "
   ]
  },
  {
   "cell_type": "markdown",
   "id": "13aa298a",
   "metadata": {},
   "source": [
    "Напишем функцию `description` на вход она должна получить имя таблицы и количество наблюдей, которые нужно вывести для ознакомления. На выходе вернёт случайно выбранные наблюдения, таблицу с постолбцовым описанием данных, диапазон индексов и общее число записей таблицы."
   ]
  },
  {
   "cell_type": "code",
   "execution_count": 2,
   "id": "56865ced",
   "metadata": {},
   "outputs": [],
   "source": [
    "def description(data, ns): \n",
    "    descripted_data = pd.DataFrame({'Количество наблюдений': data.count(),\n",
    "                                    'Количество уникальных значений': data.nunique(),\n",
    "                                 'Количество пропусков': data.isna().sum(), \n",
    "                                 'Доля пропусков': round(data.isna().sum() / len(data), 2), \n",
    "                                 'Тип данных': data.dtypes})\n",
    "    display(data.sample(ns))\n",
    "    display(descripted_data)\n",
    "    print(f'Диапазон индексов таблицы: {data.index.min()} - {data.index.max()}')\n",
    "    print(f'Количестов записей в таблице: {len(data)}')"
   ]
  },
  {
   "cell_type": "code",
   "execution_count": 3,
   "id": "22c394a2",
   "metadata": {},
   "outputs": [],
   "source": [
    "#загруззка файла с данными\n",
    "pth1 = 'logs_exp.csv'\n",
    "pth2 = '/datasets/logs_exp.csv'\n",
    "\n",
    "if os.path.exists(pth1):\n",
    "    data = pd.read_csv(pth1, sep='\\t')\n",
    "elif os.path.exists(pth2):\n",
    "    data = pd.read_csv(pth2, sep='\\t')\n",
    "else:\n",
    "    print('Something is wrong')"
   ]
  },
  {
   "cell_type": "markdown",
   "id": "5106cba5",
   "metadata": {},
   "source": [
    "Просмотриим данные"
   ]
  },
  {
   "cell_type": "code",
   "execution_count": 4,
   "id": "82cd9266",
   "metadata": {},
   "outputs": [
    {
     "data": {
      "text/html": [
       "<div>\n",
       "<style scoped>\n",
       "    .dataframe tbody tr th:only-of-type {\n",
       "        vertical-align: middle;\n",
       "    }\n",
       "\n",
       "    .dataframe tbody tr th {\n",
       "        vertical-align: top;\n",
       "    }\n",
       "\n",
       "    .dataframe thead th {\n",
       "        text-align: right;\n",
       "    }\n",
       "</style>\n",
       "<table border=\"1\" class=\"dataframe\">\n",
       "  <thead>\n",
       "    <tr style=\"text-align: right;\">\n",
       "      <th></th>\n",
       "      <th>EventName</th>\n",
       "      <th>DeviceIDHash</th>\n",
       "      <th>EventTimestamp</th>\n",
       "      <th>ExpId</th>\n",
       "    </tr>\n",
       "  </thead>\n",
       "  <tbody>\n",
       "    <tr>\n",
       "      <th>106276</th>\n",
       "      <td>OffersScreenAppear</td>\n",
       "      <td>935788065062565859</td>\n",
       "      <td>1564862178</td>\n",
       "      <td>248</td>\n",
       "    </tr>\n",
       "    <tr>\n",
       "      <th>17586</th>\n",
       "      <td>MainScreenAppear</td>\n",
       "      <td>4358497452144799972</td>\n",
       "      <td>1564660473</td>\n",
       "      <td>247</td>\n",
       "    </tr>\n",
       "    <tr>\n",
       "      <th>228446</th>\n",
       "      <td>CartScreenAppear</td>\n",
       "      <td>5779903777733962844</td>\n",
       "      <td>1565182845</td>\n",
       "      <td>247</td>\n",
       "    </tr>\n",
       "    <tr>\n",
       "      <th>220449</th>\n",
       "      <td>MainScreenAppear</td>\n",
       "      <td>4229497205630462633</td>\n",
       "      <td>1565167280</td>\n",
       "      <td>248</td>\n",
       "    </tr>\n",
       "    <tr>\n",
       "      <th>98164</th>\n",
       "      <td>MainScreenAppear</td>\n",
       "      <td>6940614918004530662</td>\n",
       "      <td>1564846567</td>\n",
       "      <td>246</td>\n",
       "    </tr>\n",
       "    <tr>\n",
       "      <th>209696</th>\n",
       "      <td>CartScreenAppear</td>\n",
       "      <td>907516373885804773</td>\n",
       "      <td>1565118506</td>\n",
       "      <td>246</td>\n",
       "    </tr>\n",
       "    <tr>\n",
       "      <th>118969</th>\n",
       "      <td>CartScreenAppear</td>\n",
       "      <td>7997218022319749424</td>\n",
       "      <td>1564914861</td>\n",
       "      <td>248</td>\n",
       "    </tr>\n",
       "    <tr>\n",
       "      <th>104834</th>\n",
       "      <td>CartScreenAppear</td>\n",
       "      <td>6984427171264510079</td>\n",
       "      <td>1564858708</td>\n",
       "      <td>247</td>\n",
       "    </tr>\n",
       "    <tr>\n",
       "      <th>165073</th>\n",
       "      <td>PaymentScreenSuccessful</td>\n",
       "      <td>4705890939205361551</td>\n",
       "      <td>1565019118</td>\n",
       "      <td>246</td>\n",
       "    </tr>\n",
       "    <tr>\n",
       "      <th>51524</th>\n",
       "      <td>MainScreenAppear</td>\n",
       "      <td>1545896428940364595</td>\n",
       "      <td>1564740746</td>\n",
       "      <td>246</td>\n",
       "    </tr>\n",
       "  </tbody>\n",
       "</table>\n",
       "</div>"
      ],
      "text/plain": [
       "                      EventName         DeviceIDHash  EventTimestamp  ExpId\n",
       "106276       OffersScreenAppear   935788065062565859      1564862178    248\n",
       "17586          MainScreenAppear  4358497452144799972      1564660473    247\n",
       "228446         CartScreenAppear  5779903777733962844      1565182845    247\n",
       "220449         MainScreenAppear  4229497205630462633      1565167280    248\n",
       "98164          MainScreenAppear  6940614918004530662      1564846567    246\n",
       "209696         CartScreenAppear   907516373885804773      1565118506    246\n",
       "118969         CartScreenAppear  7997218022319749424      1564914861    248\n",
       "104834         CartScreenAppear  6984427171264510079      1564858708    247\n",
       "165073  PaymentScreenSuccessful  4705890939205361551      1565019118    246\n",
       "51524          MainScreenAppear  1545896428940364595      1564740746    246"
      ]
     },
     "metadata": {},
     "output_type": "display_data"
    },
    {
     "data": {
      "text/html": [
       "<div>\n",
       "<style scoped>\n",
       "    .dataframe tbody tr th:only-of-type {\n",
       "        vertical-align: middle;\n",
       "    }\n",
       "\n",
       "    .dataframe tbody tr th {\n",
       "        vertical-align: top;\n",
       "    }\n",
       "\n",
       "    .dataframe thead th {\n",
       "        text-align: right;\n",
       "    }\n",
       "</style>\n",
       "<table border=\"1\" class=\"dataframe\">\n",
       "  <thead>\n",
       "    <tr style=\"text-align: right;\">\n",
       "      <th></th>\n",
       "      <th>Количество наблюдений</th>\n",
       "      <th>Количество уникальных значений</th>\n",
       "      <th>Количество пропусков</th>\n",
       "      <th>Доля пропусков</th>\n",
       "      <th>Тип данных</th>\n",
       "    </tr>\n",
       "  </thead>\n",
       "  <tbody>\n",
       "    <tr>\n",
       "      <th>EventName</th>\n",
       "      <td>244126</td>\n",
       "      <td>5</td>\n",
       "      <td>0</td>\n",
       "      <td>0.0</td>\n",
       "      <td>object</td>\n",
       "    </tr>\n",
       "    <tr>\n",
       "      <th>DeviceIDHash</th>\n",
       "      <td>244126</td>\n",
       "      <td>7551</td>\n",
       "      <td>0</td>\n",
       "      <td>0.0</td>\n",
       "      <td>int64</td>\n",
       "    </tr>\n",
       "    <tr>\n",
       "      <th>EventTimestamp</th>\n",
       "      <td>244126</td>\n",
       "      <td>176654</td>\n",
       "      <td>0</td>\n",
       "      <td>0.0</td>\n",
       "      <td>int64</td>\n",
       "    </tr>\n",
       "    <tr>\n",
       "      <th>ExpId</th>\n",
       "      <td>244126</td>\n",
       "      <td>3</td>\n",
       "      <td>0</td>\n",
       "      <td>0.0</td>\n",
       "      <td>int64</td>\n",
       "    </tr>\n",
       "  </tbody>\n",
       "</table>\n",
       "</div>"
      ],
      "text/plain": [
       "                Количество наблюдений  Количество уникальных значений  \\\n",
       "EventName                      244126                               5   \n",
       "DeviceIDHash                   244126                            7551   \n",
       "EventTimestamp                 244126                          176654   \n",
       "ExpId                          244126                               3   \n",
       "\n",
       "                Количество пропусков  Доля пропусков Тип данных  \n",
       "EventName                          0             0.0     object  \n",
       "DeviceIDHash                       0             0.0      int64  \n",
       "EventTimestamp                     0             0.0      int64  \n",
       "ExpId                              0             0.0      int64  "
      ]
     },
     "metadata": {},
     "output_type": "display_data"
    },
    {
     "name": "stdout",
     "output_type": "stream",
     "text": [
      "Диапазон индексов таблицы: 0 - 244125\n",
      "Количестов записей в таблице: 244126\n"
     ]
    }
   ],
   "source": [
    "description(data,10)"
   ]
  },
  {
   "cell_type": "markdown",
   "id": "ac050171",
   "metadata": {},
   "source": [
    "Таблица `logs_exp` содержит 244126 наблюдений о посещениях пользователей:  \n",
    "\n",
    "\n",
    "    EventName — название события;\n",
    "    DeviceIDHash — уникальный идентификатор пользователя;\n",
    "    EventTimestamp — дата и время события;\n",
    "    ExpId — номер эксперимента: 246 и 247 — контрольные группы, а 248 — экспериментальная.\n"
   ]
  },
  {
   "cell_type": "markdown",
   "id": "f74b71a8",
   "metadata": {},
   "source": [
    "### Вывод"
   ]
  },
  {
   "cell_type": "markdown",
   "id": "78210e51",
   "metadata": {},
   "source": [
    "Данные загружены. Таблица содержит  244126 наблюдений о посещениях пользователей с 4 признаками имя события, идентификатор пользователя, дата и время события, номер группы. Пропущенных значений нет. Необходимо привести названия столбцов к единому читабельному стилю, привести данные в столбце в датой и временем к типу datetime, выделить дату в отдельный столбец для дальнейшего анализа, проверить наличие явнях дубликатов и корректность попадания в группы."
   ]
  },
  {
   "cell_type": "markdown",
   "id": "140b7846",
   "metadata": {},
   "source": [
    "## Предообработка данных"
   ]
  },
  {
   "cell_type": "markdown",
   "id": "bbb3a2f8",
   "metadata": {},
   "source": [
    "Приведём названия столбцов к единому стилю."
   ]
  },
  {
   "cell_type": "code",
   "execution_count": 5,
   "id": "326b8a8b",
   "metadata": {
    "scrolled": true
   },
   "outputs": [
    {
     "data": {
      "text/plain": [
       "Index(['event_name', 'id', 'event_dt', 'exp_id'], dtype='object')"
      ]
     },
     "execution_count": 5,
     "metadata": {},
     "output_type": "execute_result"
    }
   ],
   "source": [
    "data = data.rename(columns={\n",
    "    'EventName':'event_name', 'DeviceIDHash':'id',\n",
    "    'EventTimestamp':'event_dt', 'ExpId':'exp_id'\n",
    "     })\n",
    "data.columns"
   ]
  },
  {
   "cell_type": "markdown",
   "id": "30ac8793",
   "metadata": {},
   "source": [
    "Проверим наличие явных дубликатов"
   ]
  },
  {
   "cell_type": "code",
   "execution_count": 6,
   "id": "2c90b6f2",
   "metadata": {},
   "outputs": [
    {
     "name": "stdout",
     "output_type": "stream",
     "text": [
      "Количество строк-дубликатов: 413\n",
      "Доля дубликатов:0.002\n"
     ]
    }
   ],
   "source": [
    "print(f'Количество строк-дубликатов: {data.duplicated().sum()}')\n",
    "print(\"Доля дубликатов:{0:.3f}\".format(data.duplicated().sum()/ len(data)))"
   ]
  },
  {
   "cell_type": "markdown",
   "id": "af409171",
   "metadata": {},
   "source": [
    "Обнаружены 413 строк дубликатов, удалим их, перезапишем индексы таблиц и проверим результат."
   ]
  },
  {
   "cell_type": "code",
   "execution_count": 7,
   "id": "782d78f2",
   "metadata": {},
   "outputs": [
    {
     "name": "stdout",
     "output_type": "stream",
     "text": [
      "Количество строк-дубликатов: 0\n"
     ]
    }
   ],
   "source": [
    "data = data.drop_duplicates().reset_index(drop=True)\n",
    "print(f'Количество строк-дубликатов: {data.duplicated().sum()}')\n"
   ]
  },
  {
   "cell_type": "markdown",
   "id": "18ced354",
   "metadata": {},
   "source": [
    "Приведём тип данных столбца с датой и временем к типу datetime."
   ]
  },
  {
   "cell_type": "code",
   "execution_count": 8,
   "id": "6cbbf1bf",
   "metadata": {},
   "outputs": [],
   "source": [
    "data['event_dt'] = pd.to_datetime(data['event_dt'] , unit='s')"
   ]
  },
  {
   "cell_type": "markdown",
   "id": "e95582b6",
   "metadata": {},
   "source": [
    "Создадим дополнительный столбец с датой"
   ]
  },
  {
   "cell_type": "code",
   "execution_count": 9,
   "id": "8882be03",
   "metadata": {},
   "outputs": [],
   "source": [
    "data['date'] = data['event_dt'].dt.floor('D') "
   ]
  },
  {
   "cell_type": "markdown",
   "id": "3bf91eb8",
   "metadata": {},
   "source": [
    "<a id='verify'></a> [Проверим](#verify) нет ли у нас пользователей попавших в несколько групп."
   ]
  },
  {
   "cell_type": "code",
   "execution_count": 10,
   "id": "50cad92a",
   "metadata": {},
   "outputs": [
    {
     "name": "stdout",
     "output_type": "stream",
     "text": [
      "Количество пользователей, которые попали в обе группы: 0\n"
     ]
    }
   ],
   "source": [
    "print(f\"Количество пользователей, которые попали в обе группы:\\\n",
    " {len(data.groupby('id').agg({'exp_id':'nunique'}).query('exp_id>1'))}\")"
   ]
  },
  {
   "cell_type": "markdown",
   "id": "2e461637",
   "metadata": {},
   "source": [
    "Для удобстава работы, добавим столбец с названием группы 246 - А1, 247 - А2, 248 - В. Проверим правильность присвоения."
   ]
  },
  {
   "cell_type": "code",
   "execution_count": 11,
   "id": "4bb4b9ea",
   "metadata": {},
   "outputs": [
    {
     "data": {
      "text/plain": [
       "array(['A1', 'B', 'A2'], dtype=object)"
      ]
     },
     "execution_count": 11,
     "metadata": {},
     "output_type": "execute_result"
    }
   ],
   "source": [
    "def name_group(group):\n",
    "    if group == 246:\n",
    "        return 'A1'\n",
    "    elif group == 247:\n",
    "        return 'A2'\n",
    "    elif group == 248:\n",
    "        return 'B'\n",
    "    else:\n",
    "        return 'unknown_id'\n",
    "\n",
    "data['group'] = data['exp_id'].apply(name_group)\n",
    "data['group'].unique()   "
   ]
  },
  {
   "cell_type": "markdown",
   "id": "4e7d2ad1",
   "metadata": {},
   "source": [
    "<a id ='verify'></a> Проверим корректность всех изменений."
   ]
  },
  {
   "cell_type": "code",
   "execution_count": 12,
   "id": "5b5b7438",
   "metadata": {},
   "outputs": [
    {
     "data": {
      "text/html": [
       "<div>\n",
       "<style scoped>\n",
       "    .dataframe tbody tr th:only-of-type {\n",
       "        vertical-align: middle;\n",
       "    }\n",
       "\n",
       "    .dataframe tbody tr th {\n",
       "        vertical-align: top;\n",
       "    }\n",
       "\n",
       "    .dataframe thead th {\n",
       "        text-align: right;\n",
       "    }\n",
       "</style>\n",
       "<table border=\"1\" class=\"dataframe\">\n",
       "  <thead>\n",
       "    <tr style=\"text-align: right;\">\n",
       "      <th></th>\n",
       "      <th>event_name</th>\n",
       "      <th>id</th>\n",
       "      <th>event_dt</th>\n",
       "      <th>exp_id</th>\n",
       "      <th>date</th>\n",
       "      <th>group</th>\n",
       "    </tr>\n",
       "  </thead>\n",
       "  <tbody>\n",
       "    <tr>\n",
       "      <th>70277</th>\n",
       "      <td>MainScreenAppear</td>\n",
       "      <td>6762259335237104420</td>\n",
       "      <td>2019-08-02 18:59:12</td>\n",
       "      <td>247</td>\n",
       "      <td>2019-08-02</td>\n",
       "      <td>A2</td>\n",
       "    </tr>\n",
       "    <tr>\n",
       "      <th>52914</th>\n",
       "      <td>CartScreenAppear</td>\n",
       "      <td>6598157157289930061</td>\n",
       "      <td>2019-08-02 10:57:07</td>\n",
       "      <td>247</td>\n",
       "      <td>2019-08-02</td>\n",
       "      <td>A2</td>\n",
       "    </tr>\n",
       "    <tr>\n",
       "      <th>7035</th>\n",
       "      <td>MainScreenAppear</td>\n",
       "      <td>911020573099466450</td>\n",
       "      <td>2019-08-01 06:34:43</td>\n",
       "      <td>248</td>\n",
       "      <td>2019-08-01</td>\n",
       "      <td>B</td>\n",
       "    </tr>\n",
       "    <tr>\n",
       "      <th>70389</th>\n",
       "      <td>CartScreenAppear</td>\n",
       "      <td>3232862589910296305</td>\n",
       "      <td>2019-08-02 19:02:30</td>\n",
       "      <td>246</td>\n",
       "      <td>2019-08-02</td>\n",
       "      <td>A1</td>\n",
       "    </tr>\n",
       "    <tr>\n",
       "      <th>190790</th>\n",
       "      <td>PaymentScreenSuccessful</td>\n",
       "      <td>4488981949755449740</td>\n",
       "      <td>2019-08-06 11:12:12</td>\n",
       "      <td>248</td>\n",
       "      <td>2019-08-06</td>\n",
       "      <td>B</td>\n",
       "    </tr>\n",
       "  </tbody>\n",
       "</table>\n",
       "</div>"
      ],
      "text/plain": [
       "                     event_name                   id            event_dt  \\\n",
       "70277          MainScreenAppear  6762259335237104420 2019-08-02 18:59:12   \n",
       "52914          CartScreenAppear  6598157157289930061 2019-08-02 10:57:07   \n",
       "7035           MainScreenAppear   911020573099466450 2019-08-01 06:34:43   \n",
       "70389          CartScreenAppear  3232862589910296305 2019-08-02 19:02:30   \n",
       "190790  PaymentScreenSuccessful  4488981949755449740 2019-08-06 11:12:12   \n",
       "\n",
       "        exp_id       date group  \n",
       "70277      247 2019-08-02    A2  \n",
       "52914      247 2019-08-02    A2  \n",
       "7035       248 2019-08-01     B  \n",
       "70389      246 2019-08-02    A1  \n",
       "190790     248 2019-08-06     B  "
      ]
     },
     "metadata": {},
     "output_type": "display_data"
    },
    {
     "data": {
      "text/html": [
       "<div>\n",
       "<style scoped>\n",
       "    .dataframe tbody tr th:only-of-type {\n",
       "        vertical-align: middle;\n",
       "    }\n",
       "\n",
       "    .dataframe tbody tr th {\n",
       "        vertical-align: top;\n",
       "    }\n",
       "\n",
       "    .dataframe thead th {\n",
       "        text-align: right;\n",
       "    }\n",
       "</style>\n",
       "<table border=\"1\" class=\"dataframe\">\n",
       "  <thead>\n",
       "    <tr style=\"text-align: right;\">\n",
       "      <th></th>\n",
       "      <th>Количество наблюдений</th>\n",
       "      <th>Количество уникальных значений</th>\n",
       "      <th>Количество пропусков</th>\n",
       "      <th>Доля пропусков</th>\n",
       "      <th>Тип данных</th>\n",
       "    </tr>\n",
       "  </thead>\n",
       "  <tbody>\n",
       "    <tr>\n",
       "      <th>event_name</th>\n",
       "      <td>243713</td>\n",
       "      <td>5</td>\n",
       "      <td>0</td>\n",
       "      <td>0.0</td>\n",
       "      <td>object</td>\n",
       "    </tr>\n",
       "    <tr>\n",
       "      <th>id</th>\n",
       "      <td>243713</td>\n",
       "      <td>7551</td>\n",
       "      <td>0</td>\n",
       "      <td>0.0</td>\n",
       "      <td>int64</td>\n",
       "    </tr>\n",
       "    <tr>\n",
       "      <th>event_dt</th>\n",
       "      <td>243713</td>\n",
       "      <td>176654</td>\n",
       "      <td>0</td>\n",
       "      <td>0.0</td>\n",
       "      <td>datetime64[ns]</td>\n",
       "    </tr>\n",
       "    <tr>\n",
       "      <th>exp_id</th>\n",
       "      <td>243713</td>\n",
       "      <td>3</td>\n",
       "      <td>0</td>\n",
       "      <td>0.0</td>\n",
       "      <td>int64</td>\n",
       "    </tr>\n",
       "    <tr>\n",
       "      <th>date</th>\n",
       "      <td>243713</td>\n",
       "      <td>14</td>\n",
       "      <td>0</td>\n",
       "      <td>0.0</td>\n",
       "      <td>datetime64[ns]</td>\n",
       "    </tr>\n",
       "    <tr>\n",
       "      <th>group</th>\n",
       "      <td>243713</td>\n",
       "      <td>3</td>\n",
       "      <td>0</td>\n",
       "      <td>0.0</td>\n",
       "      <td>object</td>\n",
       "    </tr>\n",
       "  </tbody>\n",
       "</table>\n",
       "</div>"
      ],
      "text/plain": [
       "            Количество наблюдений  Количество уникальных значений  \\\n",
       "event_name                 243713                               5   \n",
       "id                         243713                            7551   \n",
       "event_dt                   243713                          176654   \n",
       "exp_id                     243713                               3   \n",
       "date                       243713                              14   \n",
       "group                      243713                               3   \n",
       "\n",
       "            Количество пропусков  Доля пропусков      Тип данных  \n",
       "event_name                     0             0.0          object  \n",
       "id                             0             0.0           int64  \n",
       "event_dt                       0             0.0  datetime64[ns]  \n",
       "exp_id                         0             0.0           int64  \n",
       "date                           0             0.0  datetime64[ns]  \n",
       "group                          0             0.0          object  "
      ]
     },
     "metadata": {},
     "output_type": "display_data"
    },
    {
     "name": "stdout",
     "output_type": "stream",
     "text": [
      "Диапазон индексов таблицы: 0 - 243712\n",
      "Количестов записей в таблице: 243713\n"
     ]
    }
   ],
   "source": [
    "description(data,5)"
   ]
  },
  {
   "cell_type": "markdown",
   "id": "29d2bdd9",
   "metadata": {},
   "source": [
    "### Вывод"
   ]
  },
  {
   "cell_type": "markdown",
   "id": "51d394db",
   "metadata": {},
   "source": [
    "Названия столбцов изменены, удалено 413 строк-дубликатов, столбец с датой и временем приведён к необходимому типу, добавлен столбец с датой без времени, проверено попадание пользователей в единственную группу. Добавлен столбец с упрощенным обозначением групп. После обработки таблица содержит 243713 наблюдений. Можно приступать к изучению данных."
   ]
  },
  {
   "cell_type": "markdown",
   "id": "b78b717d",
   "metadata": {},
   "source": [
    "## Изучение и проверка данных"
   ]
  },
  {
   "cell_type": "markdown",
   "id": "ed66421d",
   "metadata": {},
   "source": [
    "Выведем общее количество наблюдений, пользователей и среднее количество наблюдений на пользователя."
   ]
  },
  {
   "cell_type": "code",
   "execution_count": 13,
   "id": "00e14317",
   "metadata": {},
   "outputs": [
    {
     "name": "stdout",
     "output_type": "stream",
     "text": [
      "Общее количество событий: 243713\n",
      "Количество пользователей: 7551\n",
      "Среднее число действий на пользователя: 32\n",
      "Медианное число действий на пользователя: 20\n"
     ]
    }
   ],
   "source": [
    "print(f'Общее количество событий: {len(data)}')\n",
    "print(f\"Количество пользователей: {data['id'].nunique()}\")\n",
    "print(\"Среднее число действий на пользователя: {0:.0f}\".format(len(data) / data['id'].nunique()))\n",
    "print(\"Медианное число действий на пользователя: {0:.0f}\". format(data.groupby('id')['event_name'].count().median()))"
   ]
  },
  {
   "cell_type": "markdown",
   "id": "bebfdaeb",
   "metadata": {},
   "source": [
    "Судя по разнице между средним и медианным количеством действий на пользователя, есть несколько особо активных пользвателей. "
   ]
  },
  {
   "cell_type": "markdown",
   "id": "d911affe",
   "metadata": {},
   "source": [
    "Определим период за который представлены данные"
   ]
  },
  {
   "cell_type": "code",
   "execution_count": 14,
   "id": "468fbdfd",
   "metadata": {},
   "outputs": [
    {
     "name": "stdout",
     "output_type": "stream",
     "text": [
      "Дата первого наблюдения: 2019-07-25 04:43:36\n",
      "Дата последнего наблюдения: 2019-08-07 21:15:17\n",
      "Продолжительность наблюдений: 13 days 16:31:41\n"
     ]
    }
   ],
   "source": [
    "print(f\"Дата первого наблюдения: {data['event_dt'].min()}\")\n",
    "print(f\"Дата последнего наблюдения: {data['event_dt'].max()}\")\n",
    "print(f\"Продолжительность наблюдений: {(data['event_dt'].max() - data['event_dt'].min())}\")"
   ]
  },
  {
   "cell_type": "markdown",
   "id": "26763d2f",
   "metadata": {},
   "source": [
    "Данные представлены за период с 25 июля 2019 года по 7 августа 2019. Продолжительность периода составляет 13 дней. Проверим как распределены данные во времени."
   ]
  },
  {
   "cell_type": "code",
   "execution_count": 15,
   "id": "91d7817f",
   "metadata": {},
   "outputs": [
    {
     "data": {
      "image/png": "[encoded data removed]",
      "text/plain": [
       "<Figure size 1000x500 with 1 Axes>"
      ]
     },
     "metadata": {},
     "output_type": "display_data"
    }
   ],
   "source": [
    "plt.figure(figsize=(10, 5))\n",
    "ax = sns.histplot(data = data, x = 'date', bins = data['date'].nunique(), hue ='event_name', multiple=\"stack\")\n",
    "plt.title('Распределение событий по времени')\n",
    "plt.xticks(data['date'].unique(), rotation = 45)\n",
    "plt.xlabel('Дата')\n",
    "plt.ylabel('Количество событий')\n",
    "plt.show()"
   ]
  },
  {
   "cell_type": "code",
   "execution_count": 16,
   "id": "82e0bef4",
   "metadata": {},
   "outputs": [
    {
     "data": {
      "image/png": "[encoded data removed]",
      "text/plain": [
       "<Figure size 1400x500 with 1 Axes>"
      ]
     },
     "metadata": {},
     "output_type": "display_data"
    }
   ],
   "source": [
    "data['event_dt'].hist(bins=14*24, figsize=(14, 5));"
   ]
  },
  {
   "cell_type": "markdown",
   "id": "74a95be0",
   "metadata": {},
   "source": [
    "Из гистограммы видно, что данные не являются одинакоко полными за весь период. Практически нет данных с 25 по 31 июля. 1 августа количество наблюдений резко выросло до примерно 36 тысяч и сохраняется на высоком уровне до конца периода наблюдений. Скорее всего данные первой недели это догруженные события из прошлого, полными данными будем считать события за период с 01.08.2019 по 07.08.2019. Устаревшие данные отфильтруем."
   ]
  },
  {
   "cell_type": "markdown",
   "id": "0de2f090",
   "metadata": {},
   "source": [
    "Создадим таблицу `data_clear`, в которую войдут данные после 31.07.2019."
   ]
  },
  {
   "cell_type": "code",
   "execution_count": 17,
   "id": "204c93ba",
   "metadata": {},
   "outputs": [],
   "source": [
    "data_clear = data.query('date>\"2019-07-31\"')"
   ]
  },
  {
   "cell_type": "markdown",
   "id": "4876b754",
   "metadata": {},
   "source": [
    "Проверим какое количество и процент данных мы отбросили."
   ]
  },
  {
   "cell_type": "code",
   "execution_count": 18,
   "id": "f6c9c28a",
   "metadata": {},
   "outputs": [
    {
     "name": "stdout",
     "output_type": "stream",
     "text": [
      "Количество очищенных наблюдений: 2826\n",
      "Процент отброшенных наблюдений: 1.2%\n",
      "Количество очищенных пользователей:17\n",
      "Процент отброшенных пользователей: 0.2%\n",
      "Процент отброшенных пользователей по группам:\n"
     ]
    },
    {
     "data": {
      "text/plain": [
       "group\n",
       "A1    0.002009\n",
       "A2    0.002778\n",
       "B     0.001967\n",
       "Name: id, dtype: float64"
      ]
     },
     "execution_count": 18,
     "metadata": {},
     "output_type": "execute_result"
    }
   ],
   "source": [
    "print(f'Количество очищенных наблюдений: {len(data)-len(data_clear)}')\n",
    "print('Процент отброшенных наблюдений: {0:.1%}'.format((len(data)-len(data_clear))/len(data)))\n",
    "print(f\"Количество очищенных пользователей:{data['id'].nunique()-data_clear['id'].nunique()}\")\n",
    "print('Процент отброшенных пользователей: {0:.1%}'.format((data['id'].nunique()-data_clear['id'].nunique())\n",
    "                                                       /data['id'].nunique()))\n",
    "print(f\"Процент отброшенных пользователей по группам:\")\n",
    "      \n",
    "(data.groupby('group').agg({'id':'nunique'})['id']\n",
    "      -data_clear.groupby('group').agg({'id':'nunique'})['id'])/data.groupby('group').agg({'id':'nunique'})['id']"
   ]
  },
  {
   "cell_type": "markdown",
   "id": "9c85f14e",
   "metadata": {},
   "source": [
    "После очистки данных мы удалили 2826 наблюдей, что составляет 1.2% от исходного количества и 17 пользователей(0.2%). Внутри групп потери пользователей  от 0.19% до 0.27%. Проверим количество пользователей и действий в группах."
   ]
  },
  {
   "cell_type": "code",
   "execution_count": 19,
   "id": "2ef6deff",
   "metadata": {},
   "outputs": [
    {
     "data": {
      "text/html": [
       "<div>\n",
       "<style scoped>\n",
       "    .dataframe tbody tr th:only-of-type {\n",
       "        vertical-align: middle;\n",
       "    }\n",
       "\n",
       "    .dataframe tbody tr th {\n",
       "        vertical-align: top;\n",
       "    }\n",
       "\n",
       "    .dataframe thead tr th {\n",
       "        text-align: left;\n",
       "    }\n",
       "\n",
       "    .dataframe thead tr:last-of-type th {\n",
       "        text-align: right;\n",
       "    }\n",
       "</style>\n",
       "<table border=\"1\" class=\"dataframe\">\n",
       "  <thead>\n",
       "    <tr>\n",
       "      <th></th>\n",
       "      <th>nunique</th>\n",
       "      <th>count</th>\n",
       "    </tr>\n",
       "    <tr>\n",
       "      <th></th>\n",
       "      <th>id</th>\n",
       "      <th>id</th>\n",
       "    </tr>\n",
       "    <tr>\n",
       "      <th>group</th>\n",
       "      <th></th>\n",
       "      <th></th>\n",
       "    </tr>\n",
       "  </thead>\n",
       "  <tbody>\n",
       "    <tr>\n",
       "      <th>A1</th>\n",
       "      <td>2484</td>\n",
       "      <td>79302</td>\n",
       "    </tr>\n",
       "    <tr>\n",
       "      <th>A2</th>\n",
       "      <td>2513</td>\n",
       "      <td>77022</td>\n",
       "    </tr>\n",
       "    <tr>\n",
       "      <th>B</th>\n",
       "      <td>2537</td>\n",
       "      <td>84563</td>\n",
       "    </tr>\n",
       "    <tr>\n",
       "      <th>All</th>\n",
       "      <td>7534</td>\n",
       "      <td>240887</td>\n",
       "    </tr>\n",
       "  </tbody>\n",
       "</table>\n",
       "</div>"
      ],
      "text/plain": [
       "      nunique   count\n",
       "           id      id\n",
       "group                \n",
       "A1       2484   79302\n",
       "A2       2513   77022\n",
       "B        2537   84563\n",
       "All      7534  240887"
      ]
     },
     "execution_count": 19,
     "metadata": {},
     "output_type": "execute_result"
    }
   ],
   "source": [
    "data_clear.pivot_table(index = 'group', values='id', aggfunc = ['nunique','count'], margins = True)"
   ]
  },
  {
   "cell_type": "markdown",
   "id": "80fb7b9f",
   "metadata": {},
   "source": [
    "Количество пользователей и событий достаточно равномерно распределены по группам."
   ]
  },
  {
   "cell_type": "markdown",
   "id": "b603a86f",
   "metadata": {},
   "source": [
    "### Вывод"
   ]
  },
  {
   "cell_type": "markdown",
   "id": "826110a0",
   "metadata": {},
   "source": [
    "В данных содержалось 243713 наблюдений и 7551 уникальный пользователь. В среднем на одного пользователя приходится 32 события. Данные предоставлены за период с 25 июля по 07 августа 2019 года. После проверки было выявлено, что полные данные представлены лишь за период с 01 августа, устаревшие данные отброшены. После очистки осталось 240887 наблюдений и 7534 пользователя. Потери составили 1,2% наблюдений и 0.2% пользователей. Количество наблюдений и пользователей достаточно равномерно распределены по группам, на группу В приходится чуть большая часть."
   ]
  },
  {
   "cell_type": "markdown",
   "id": "89ad4f2e",
   "metadata": {},
   "source": [
    "## Анализ воронки событий"
   ]
  },
  {
   "cell_type": "markdown",
   "id": "f6a1dfff",
   "metadata": {},
   "source": [
    "Создадим таблицу `user_event` сгруппированную посбытиям, выведем количиством наблюдений, количсетво пользователей и долю пользователей."
   ]
  },
  {
   "cell_type": "code",
   "execution_count": 20,
   "id": "b6c64e10",
   "metadata": {},
   "outputs": [
    {
     "data": {
      "text/html": [
       "<div>\n",
       "<style scoped>\n",
       "    .dataframe tbody tr th:only-of-type {\n",
       "        vertical-align: middle;\n",
       "    }\n",
       "\n",
       "    .dataframe tbody tr th {\n",
       "        vertical-align: top;\n",
       "    }\n",
       "\n",
       "    .dataframe thead th {\n",
       "        text-align: right;\n",
       "    }\n",
       "</style>\n",
       "<table border=\"1\" class=\"dataframe\">\n",
       "  <thead>\n",
       "    <tr style=\"text-align: right;\">\n",
       "      <th></th>\n",
       "      <th>event_name</th>\n",
       "      <th>count</th>\n",
       "      <th>user_count</th>\n",
       "      <th>%_users_per_all</th>\n",
       "    </tr>\n",
       "  </thead>\n",
       "  <tbody>\n",
       "    <tr>\n",
       "      <th>0</th>\n",
       "      <td>MainScreenAppear</td>\n",
       "      <td>117328</td>\n",
       "      <td>7419</td>\n",
       "      <td>98.47</td>\n",
       "    </tr>\n",
       "    <tr>\n",
       "      <th>1</th>\n",
       "      <td>OffersScreenAppear</td>\n",
       "      <td>46333</td>\n",
       "      <td>4593</td>\n",
       "      <td>60.96</td>\n",
       "    </tr>\n",
       "    <tr>\n",
       "      <th>2</th>\n",
       "      <td>CartScreenAppear</td>\n",
       "      <td>42303</td>\n",
       "      <td>3734</td>\n",
       "      <td>49.56</td>\n",
       "    </tr>\n",
       "    <tr>\n",
       "      <th>3</th>\n",
       "      <td>PaymentScreenSuccessful</td>\n",
       "      <td>33918</td>\n",
       "      <td>3539</td>\n",
       "      <td>46.97</td>\n",
       "    </tr>\n",
       "    <tr>\n",
       "      <th>4</th>\n",
       "      <td>Tutorial</td>\n",
       "      <td>1005</td>\n",
       "      <td>840</td>\n",
       "      <td>11.15</td>\n",
       "    </tr>\n",
       "  </tbody>\n",
       "</table>\n",
       "</div>"
      ],
      "text/plain": [
       "                event_name   count  user_count  %_users_per_all\n",
       "0         MainScreenAppear  117328        7419            98.47\n",
       "1       OffersScreenAppear   46333        4593            60.96\n",
       "2         CartScreenAppear   42303        3734            49.56\n",
       "3  PaymentScreenSuccessful   33918        3539            46.97\n",
       "4                 Tutorial    1005         840            11.15"
      ]
     },
     "execution_count": 20,
     "metadata": {},
     "output_type": "execute_result"
    }
   ],
   "source": [
    "user_event = (data_clear\n",
    "              .pivot_table(index = 'event_name', values = 'id', aggfunc = ['count', 'nunique'])\n",
    "              .reset_index())\n",
    "user_event.columns=['event_name','count', 'user_count']\n",
    "user_event['%_users_per_all'] = round(user_event['user_count']/data_clear['id'].nunique()*100,2)\n",
    "user_event = user_event.sort_values(by='user_count', ascending = False).reset_index(drop=True)\n",
    "user_event"
   ]
  },
  {
   "cell_type": "markdown",
   "id": "ead9d2ed",
   "metadata": {},
   "source": [
    "Мы видим, что у нас представлены пять событий:\n",
    "    \n",
    "\n",
    "    MainScreenAppear - главный экран\n",
    "    OffersScreenAppear - экран предложений\n",
    "    CartScreenAppear - экран корзины\n",
    "    PaymentScreenSuccessful - экран успешной оплаты\n",
    "    Tutorial - обучающий экран\n",
    "Исходя из сводной таблицы и логики, можно сделать вывод, что изначально пользователь попадает на главный экран, с него он может перейти на экран предложений, с экрана предложений на экран корзины, далее на экран успешной оплаты. По данным сложно определить с каких экранов можно перейти на обучающий экран, возможно, с любых, также возможно, что для новых пользователей изначально открывается обучающий экран, так как не все пользователи проходили этот этап, кто-то мог остановился на обучающем экране.\n",
    "\n",
    "Воронка событий представляется следующим образом: главный экран -> экран предложений -> экран корзины -> экран успешной оплаты."
   ]
  },
  {
   "cell_type": "markdown",
   "id": "908d7e50",
   "metadata": {},
   "source": [
    "Удалим из таблицы строку с обучающим экраном (Tutorial) и посчитаем процент перещедших с предыдушего шага на следующийи процент потерявшихся пользоваелей."
   ]
  },
  {
   "cell_type": "code",
   "execution_count": 21,
   "id": "6873378a",
   "metadata": {},
   "outputs": [
    {
     "data": {
      "text/html": [
       "<div>\n",
       "<style scoped>\n",
       "    .dataframe tbody tr th:only-of-type {\n",
       "        vertical-align: middle;\n",
       "    }\n",
       "\n",
       "    .dataframe tbody tr th {\n",
       "        vertical-align: top;\n",
       "    }\n",
       "\n",
       "    .dataframe thead th {\n",
       "        text-align: right;\n",
       "    }\n",
       "</style>\n",
       "<table border=\"1\" class=\"dataframe\">\n",
       "  <thead>\n",
       "    <tr style=\"text-align: right;\">\n",
       "      <th></th>\n",
       "      <th>event_name</th>\n",
       "      <th>count</th>\n",
       "      <th>user_count</th>\n",
       "      <th>%_users_per_all</th>\n",
       "      <th>%_per_previous</th>\n",
       "      <th>%_lost_per_previous</th>\n",
       "    </tr>\n",
       "  </thead>\n",
       "  <tbody>\n",
       "    <tr>\n",
       "      <th>0</th>\n",
       "      <td>MainScreenAppear</td>\n",
       "      <td>117328</td>\n",
       "      <td>7419</td>\n",
       "      <td>98.47</td>\n",
       "      <td>NaN</td>\n",
       "      <td>NaN</td>\n",
       "    </tr>\n",
       "    <tr>\n",
       "      <th>1</th>\n",
       "      <td>OffersScreenAppear</td>\n",
       "      <td>46333</td>\n",
       "      <td>4593</td>\n",
       "      <td>60.96</td>\n",
       "      <td>61.91</td>\n",
       "      <td>38.09</td>\n",
       "    </tr>\n",
       "    <tr>\n",
       "      <th>2</th>\n",
       "      <td>CartScreenAppear</td>\n",
       "      <td>42303</td>\n",
       "      <td>3734</td>\n",
       "      <td>49.56</td>\n",
       "      <td>81.30</td>\n",
       "      <td>18.70</td>\n",
       "    </tr>\n",
       "    <tr>\n",
       "      <th>3</th>\n",
       "      <td>PaymentScreenSuccessful</td>\n",
       "      <td>33918</td>\n",
       "      <td>3539</td>\n",
       "      <td>46.97</td>\n",
       "      <td>94.78</td>\n",
       "      <td>5.22</td>\n",
       "    </tr>\n",
       "  </tbody>\n",
       "</table>\n",
       "</div>"
      ],
      "text/plain": [
       "                event_name   count  user_count  %_users_per_all  \\\n",
       "0         MainScreenAppear  117328        7419            98.47   \n",
       "1       OffersScreenAppear   46333        4593            60.96   \n",
       "2         CartScreenAppear   42303        3734            49.56   \n",
       "3  PaymentScreenSuccessful   33918        3539            46.97   \n",
       "\n",
       "   %_per_previous  %_lost_per_previous  \n",
       "0             NaN                  NaN  \n",
       "1           61.91                38.09  \n",
       "2           81.30                18.70  \n",
       "3           94.78                 5.22  "
      ]
     },
     "execution_count": 21,
     "metadata": {},
     "output_type": "execute_result"
    }
   ],
   "source": [
    "user_event = user_event[user_event['event_name'] != 'Tutorial']\n",
    "user_event['%_per_previous'] = round(user_event['user_count']/user_event['user_count'].shift(1)*100,2)\n",
    "user_event['%_lost_per_previous'] = 100 - user_event['%_per_previous']\n",
    "user_event"
   ]
  },
  {
   "cell_type": "markdown",
   "id": "0f787aca",
   "metadata": {},
   "source": [
    "Как видно из таблицы с главного экрана до экрана успешной оплаты доходит почти 47% пользователей, больше всего пользователей теряется на этапе перехода от главного экрана к экрану предложений примерно 38%. От экрана предложений к экрану корзины переходит 81%. Почти все пользователи перещедшие в экран корхины, а именно 95%, переходят к экрану успешной оплаты. "
   ]
  },
  {
   "cell_type": "markdown",
   "id": "1f04070f",
   "metadata": {},
   "source": [
    "Визуализируем воронку событий "
   ]
  },
  {
   "cell_type": "code",
   "execution_count": 22,
   "id": "7aeb9ed9",
   "metadata": {},
   "outputs": [
    {
     "data": {
      "image/png": "[encoded data removed]"
     },
     "metadata": {},
     "output_type": "display_data"
    }
   ],
   "source": [
    "fig = go.Figure(go.Funnel(y = ['Главный экран','Экран предложений','Экран корзины','Экран оплаты'],\n",
    "                          x = user_event['user_count'],\n",
    "                          textposition = 'inside',\n",
    "                          textinfo = 'value + percent initial'\n",
    "                         ))\n",
    "fig.update_layout(title={\n",
    "        'text': \"Воронка событий\",\n",
    "        'y':0.9,\n",
    "        'x':0.5}\n",
    ")\n",
    "fig.show()"
   ]
  },
  {
   "cell_type": "markdown",
   "id": "1f7298a2",
   "metadata": {},
   "source": [
    "### Вывод"
   ]
  },
  {
   "cell_type": "markdown",
   "id": "74fedef7",
   "metadata": {},
   "source": [
    "В данных содержатся 5 событий (главный экран, экран предложений, экран корзины, экран успешной оплаты и обучающий экран). Обучающий экран был исключён из воронки событий, неизвестно в какой момент пользователь на него попадает. Последовательность воронки событий следющая: главный экран -> экран предложений -> экран корзины -> экран успешной оплаты. До экрана оплаты с главного экрана из 7419 доходит 48% или 3539 пользователей. Большая часть (38%) теряется при переходе с главного экрана к экрану предожений. Возможно, пользователи попадая на главный экран не видят заинтересовавших их товаров. Стоит проработать главный экран, провести анализ предпочтений пользователей и выводить на главный экран соответствующие карточки товаров."
   ]
  },
  {
   "cell_type": "markdown",
   "id": "a5f17120",
   "metadata": {},
   "source": [
    "## Анализ результатов эксперимента"
   ]
  },
  {
   "cell_type": "markdown",
   "id": "737733ff",
   "metadata": {},
   "source": [
    "Для анализа результатов необходимо будет сравнивать показатели между группами, для упрощения напишем функцию `diff_test`, которая будет проверять гипотезу о равенстве долей пользователей совершивших событие относительно общего количества в группе. На вход она будет получать две таблицы с данными по группам,наименование события и число проведенных экспериментов. Последний параметр необходим для снижения вероятности ошибки первого рода,так как у нас несколько групп и несколько параметров для сравнения необходимо применим поправку Бонферрони. Критический уровень статистической значимости зададим равным 0.05. "
   ]
  },
  {
   "cell_type": "code",
   "execution_count": 23,
   "id": "b8dd8f29",
   "metadata": {},
   "outputs": [],
   "source": [
    "def diff_test(data1, data2, event, n):\n",
    "    alpha = 0.05\n",
    "    \n",
    "    cor_alpha = alpha/n\n",
    "    trials = np.array([data1['id'].nunique(), data2['id'].nunique()])\n",
    "    successes = np.array([data1[data1['event_name'] == event]['id'].nunique(), \n",
    "                        data2[data2['event_name'] == event]['id'].nunique()])\n",
    "    p1 = successes[0]/trials[0]\n",
    "    p2 = successes[1]/trials[1]\n",
    "    p_combined = (successes[0] + successes[1])/(trials[0] + trials[1])\n",
    "    difference = p1 - p2 \n",
    "    z_value = difference/np.sqrt(p_combined * (1 - p_combined) * (1/trials[0] + 1/trials[1]))\n",
    "    distr = st.norm(0, 1)  \n",
    "    p_value = (1 - distr.cdf(abs(z_value))) * 2 \n",
    "    \n",
    "    print('Событие:', event)\n",
    "    print('p_value: {0:.3f}'.format(p_value))\n",
    "    if p_value < cor_alpha:\n",
    "        print('Отвергаем нулевую гипотезу: между долями есть значимая разница')\n",
    "    else:\n",
    "        print(\n",
    "        'Не получилось отвергнуть нулевую гипотезу, нет оснований считать доли разными')"
   ]
  },
  {
   "cell_type": "markdown",
   "id": "6c691c43",
   "metadata": {},
   "source": [
    "<a id='comfunc'></a>"
   ]
  },
  {
   "cell_type": "markdown",
   "id": "c4213212",
   "metadata": {},
   "source": [
    "Критерии успешного A/A-теста: \n",
    "\n",
    "    Количество пользователей в различных группах различается не более, чем на 1%;\n",
    "    Для всех групп фиксируют и отправляют в системы аналитики данные об одном и том же;\n",
    "    Различие ключевых метрик по группам не превышает 1% и не имеет статистической значимости;\n",
    "    Попавший в одну из групп посетитель остаётся в этой группе до конца теста."
   ]
  },
  {
   "cell_type": "markdown",
   "id": "2dca2bae",
   "metadata": {},
   "source": [
    "На этапе предобработки данных мы проверили, что нет пользователей попавших в несколько групп. На этапе анализа воронки мы выяснили, что обучающий экран не входит в воронку событий, однако здесь не стоит исключать данное событие, если при анализе А/В теста выявится существенная разница между долями пользователей перешедшими к обучающему экрану, это может быть знаком, что новые шрифты сказались на поведении пользователей."
   ]
  },
  {
   "cell_type": "code",
   "execution_count": 24,
   "id": "5fa02e9c",
   "metadata": {},
   "outputs": [
    {
     "data": {
      "text/html": [
       "<div>\n",
       "<style scoped>\n",
       "    .dataframe tbody tr th:only-of-type {\n",
       "        vertical-align: middle;\n",
       "    }\n",
       "\n",
       "    .dataframe tbody tr th {\n",
       "        vertical-align: top;\n",
       "    }\n",
       "\n",
       "    .dataframe thead th {\n",
       "        text-align: right;\n",
       "    }\n",
       "</style>\n",
       "<table border=\"1\" class=\"dataframe\">\n",
       "  <thead>\n",
       "    <tr style=\"text-align: right;\">\n",
       "      <th></th>\n",
       "      <th>group</th>\n",
       "      <th>exp_id</th>\n",
       "      <th>id</th>\n",
       "    </tr>\n",
       "  </thead>\n",
       "  <tbody>\n",
       "    <tr>\n",
       "      <th>0</th>\n",
       "      <td>A1</td>\n",
       "      <td>246</td>\n",
       "      <td>2484</td>\n",
       "    </tr>\n",
       "    <tr>\n",
       "      <th>1</th>\n",
       "      <td>A2</td>\n",
       "      <td>247</td>\n",
       "      <td>2513</td>\n",
       "    </tr>\n",
       "    <tr>\n",
       "      <th>2</th>\n",
       "      <td>B</td>\n",
       "      <td>248</td>\n",
       "      <td>2537</td>\n",
       "    </tr>\n",
       "  </tbody>\n",
       "</table>\n",
       "</div>"
      ],
      "text/plain": [
       "  group  exp_id    id\n",
       "0    A1     246  2484\n",
       "1    A2     247  2513\n",
       "2     B     248  2537"
      ]
     },
     "execution_count": 24,
     "metadata": {},
     "output_type": "execute_result"
    }
   ],
   "source": [
    "data_clear.groupby(['group','exp_id']).agg({'id':'nunique'}).reset_index()"
   ]
  },
  {
   "cell_type": "markdown",
   "id": "f742cc3e",
   "metadata": {},
   "source": [
    "В изначальных данных было представлено три группы 246 и 247 являлись контрольными, 248 экпериментальная, по этому принципу мы добавили имена А1, А2 и В. Выведем процентное соотношение разниц между группами."
   ]
  },
  {
   "cell_type": "code",
   "execution_count": 25,
   "id": "8b4043d4",
   "metadata": {},
   "outputs": [
    {
     "name": "stdout",
     "output_type": "stream",
     "text": [
      "Количество пользователей в группах A1 и A2 различается на 1.2%\n",
      "Количество пользователей в группах A1 и В различается на 2.1%\n",
      "Количество пользователей в группах A2 и B различается на 0.9%\n"
     ]
    }
   ],
   "source": [
    "group_A1 = data_clear[data_clear['group'] == 'A1']['id'].nunique()\n",
    "group_A2 = data_clear[data_clear['group'] == 'A2']['id'].nunique()\n",
    "group_B = data_clear[data_clear['group'] == 'B']['id'].nunique()\n",
    "group_A = group_A1 + group_A2\n",
    "print('Количество пользователей в группах A1 и A2 различается на {0:.1%}'.format(1- group_A1/group_A2))\n",
    "print('Количество пользователей в группах A1 и В различается на {0:.1%}'.format(1- group_A1/group_B))\n",
    "print('Количество пользователей в группах A2 и B различается на {0:.1%}'.format(1- group_A2/group_B))"
   ]
  },
  {
   "cell_type": "markdown",
   "id": "83b2b2b2",
   "metadata": {},
   "source": [
    "Разница между контрольными группами состаляет чуть больше допустимого 1.2%. Самое большое различие в количестве пользователей между группами A1 и В 2.1%."
   ]
  },
  {
   "cell_type": "markdown",
   "id": "13e04fb5",
   "metadata": {},
   "source": [
    "Создадим таблицу с количеством пользователей каждого шага в группах и процентом перешедших на следующий шаг относительно общего числа пользователей в группах"
   ]
  },
  {
   "cell_type": "code",
   "execution_count": 26,
   "id": "e63ee8b5",
   "metadata": {},
   "outputs": [
    {
     "data": {
      "text/html": [
       "<div>\n",
       "<style scoped>\n",
       "    .dataframe tbody tr th:only-of-type {\n",
       "        vertical-align: middle;\n",
       "    }\n",
       "\n",
       "    .dataframe tbody tr th {\n",
       "        vertical-align: top;\n",
       "    }\n",
       "\n",
       "    .dataframe thead th {\n",
       "        text-align: right;\n",
       "    }\n",
       "</style>\n",
       "<table border=\"1\" class=\"dataframe\">\n",
       "  <thead>\n",
       "    <tr style=\"text-align: right;\">\n",
       "      <th>group</th>\n",
       "      <th>event_name</th>\n",
       "      <th>A1</th>\n",
       "      <th>A2</th>\n",
       "      <th>B</th>\n",
       "      <th>All</th>\n",
       "      <th>A</th>\n",
       "      <th>%_converse_in_A1</th>\n",
       "      <th>%_converse_in_A2</th>\n",
       "      <th>diff_conv_A1_A2</th>\n",
       "      <th>%_converse_in_B</th>\n",
       "      <th>%_converse_in_A</th>\n",
       "    </tr>\n",
       "  </thead>\n",
       "  <tbody>\n",
       "    <tr>\n",
       "      <th>0</th>\n",
       "      <td>All</td>\n",
       "      <td>2484</td>\n",
       "      <td>2513</td>\n",
       "      <td>2537</td>\n",
       "      <td>7534</td>\n",
       "      <td>4997</td>\n",
       "      <td>100.00</td>\n",
       "      <td>100.00</td>\n",
       "      <td>0.00</td>\n",
       "      <td>100.00</td>\n",
       "      <td>100.00</td>\n",
       "    </tr>\n",
       "    <tr>\n",
       "      <th>1</th>\n",
       "      <td>MainScreenAppear</td>\n",
       "      <td>2450</td>\n",
       "      <td>2476</td>\n",
       "      <td>2493</td>\n",
       "      <td>7419</td>\n",
       "      <td>4926</td>\n",
       "      <td>98.63</td>\n",
       "      <td>98.53</td>\n",
       "      <td>0.10</td>\n",
       "      <td>98.27</td>\n",
       "      <td>98.58</td>\n",
       "    </tr>\n",
       "    <tr>\n",
       "      <th>2</th>\n",
       "      <td>OffersScreenAppear</td>\n",
       "      <td>1542</td>\n",
       "      <td>1520</td>\n",
       "      <td>1531</td>\n",
       "      <td>4593</td>\n",
       "      <td>3062</td>\n",
       "      <td>62.08</td>\n",
       "      <td>60.49</td>\n",
       "      <td>1.59</td>\n",
       "      <td>60.35</td>\n",
       "      <td>61.28</td>\n",
       "    </tr>\n",
       "    <tr>\n",
       "      <th>3</th>\n",
       "      <td>CartScreenAppear</td>\n",
       "      <td>1266</td>\n",
       "      <td>1238</td>\n",
       "      <td>1230</td>\n",
       "      <td>3734</td>\n",
       "      <td>2504</td>\n",
       "      <td>50.97</td>\n",
       "      <td>49.26</td>\n",
       "      <td>1.71</td>\n",
       "      <td>48.48</td>\n",
       "      <td>50.11</td>\n",
       "    </tr>\n",
       "    <tr>\n",
       "      <th>4</th>\n",
       "      <td>PaymentScreenSuccessful</td>\n",
       "      <td>1200</td>\n",
       "      <td>1158</td>\n",
       "      <td>1181</td>\n",
       "      <td>3539</td>\n",
       "      <td>2358</td>\n",
       "      <td>48.31</td>\n",
       "      <td>46.08</td>\n",
       "      <td>2.23</td>\n",
       "      <td>46.55</td>\n",
       "      <td>47.19</td>\n",
       "    </tr>\n",
       "    <tr>\n",
       "      <th>5</th>\n",
       "      <td>Tutorial</td>\n",
       "      <td>278</td>\n",
       "      <td>283</td>\n",
       "      <td>279</td>\n",
       "      <td>840</td>\n",
       "      <td>561</td>\n",
       "      <td>11.19</td>\n",
       "      <td>11.26</td>\n",
       "      <td>-0.07</td>\n",
       "      <td>11.00</td>\n",
       "      <td>11.23</td>\n",
       "    </tr>\n",
       "  </tbody>\n",
       "</table>\n",
       "</div>"
      ],
      "text/plain": [
       "group               event_name    A1    A2     B   All     A  \\\n",
       "0                          All  2484  2513  2537  7534  4997   \n",
       "1             MainScreenAppear  2450  2476  2493  7419  4926   \n",
       "2           OffersScreenAppear  1542  1520  1531  4593  3062   \n",
       "3             CartScreenAppear  1266  1238  1230  3734  2504   \n",
       "4      PaymentScreenSuccessful  1200  1158  1181  3539  2358   \n",
       "5                     Tutorial   278   283   279   840   561   \n",
       "\n",
       "group  %_converse_in_A1  %_converse_in_A2  diff_conv_A1_A2  %_converse_in_B  \\\n",
       "0                100.00            100.00             0.00           100.00   \n",
       "1                 98.63             98.53             0.10            98.27   \n",
       "2                 62.08             60.49             1.59            60.35   \n",
       "3                 50.97             49.26             1.71            48.48   \n",
       "4                 48.31             46.08             2.23            46.55   \n",
       "5                 11.19             11.26            -0.07            11.00   \n",
       "\n",
       "group  %_converse_in_A  \n",
       "0               100.00  \n",
       "1                98.58  \n",
       "2                61.28  \n",
       "3                50.11  \n",
       "4                47.19  \n",
       "5                11.23  "
      ]
     },
     "execution_count": 26,
     "metadata": {},
     "output_type": "execute_result"
    }
   ],
   "source": [
    "test_data = (data_clear.pivot_table(\n",
    "    index='event_name', \n",
    "    columns='group', \n",
    "    values='id',\n",
    "    aggfunc='nunique', margins = True)\n",
    "           .sort_values(by='B', ascending=False)\n",
    "           .reset_index()\n",
    "          )\n",
    "test_data['A'] = test_data['A1'] + test_data['A2']\n",
    "test_data['%_converse_in_A1'] = round(test_data['A1']/group_A1*100,2)\n",
    "test_data['%_converse_in_A2'] = round(test_data['A2']/group_A2*100,2)\n",
    "test_data['diff_conv_A1_A2'] = test_data['%_converse_in_A1'] - test_data['%_converse_in_A2']\n",
    "test_data['%_converse_in_B'] = round(test_data['B']/group_B*100,2)\n",
    "test_data['%_converse_in_A'] = round(test_data['A']/group_A*100,2)\n",
    "test_data"
   ]
  },
  {
   "cell_type": "markdown",
   "id": "5a490f32",
   "metadata": {},
   "source": [
    "Во всех группах набор событий одинаковый и для всех событий есть пользователи. По событиям экран предложений, экран корзины и экран успешной оплаты различия между группами А1 и А2 превышают 1%. "
   ]
  },
  {
   "cell_type": "markdown",
   "id": "73a6eba1",
   "metadata": {},
   "source": [
    "Мы имеем четыре группы для сравнений и 5 событий, соответственно количество проверок равно 20. Это число мы передадим в функцию для корректировки значения критического уровня статистической значимости.\n",
    "Сформулируем нулевую и альтернативную гипотезы:\n",
    "\n",
    "    Н0: доли пользователей, перешедших к событию в группах равны.\n",
    "    Н1: доли пользователей, перешедших к событию различаются.\n",
    "Проверим есть ли различия в контрольных группах. Запустим цикл по всем событиям."
   ]
  },
  {
   "cell_type": "code",
   "execution_count": 27,
   "id": "d5493512",
   "metadata": {},
   "outputs": [
    {
     "name": "stdout",
     "output_type": "stream",
     "text": [
      "Событие: Tutorial\n",
      "p_value: 0.938\n",
      "Не получилось отвергнуть нулевую гипотезу, нет оснований считать доли разными\n",
      "\n",
      "Событие: MainScreenAppear\n",
      "p_value: 0.757\n",
      "Не получилось отвергнуть нулевую гипотезу, нет оснований считать доли разными\n",
      "\n",
      "Событие: OffersScreenAppear\n",
      "p_value: 0.248\n",
      "Не получилось отвергнуть нулевую гипотезу, нет оснований считать доли разными\n",
      "\n",
      "Событие: CartScreenAppear\n",
      "p_value: 0.229\n",
      "Не получилось отвергнуть нулевую гипотезу, нет оснований считать доли разными\n",
      "\n",
      "Событие: PaymentScreenSuccessful\n",
      "p_value: 0.115\n",
      "Не получилось отвергнуть нулевую гипотезу, нет оснований считать доли разными\n",
      "\n"
     ]
    }
   ],
   "source": [
    "for event in data_clear['event_name'].unique():\n",
    "    diff_test(data_clear[data_clear['group'] == 'A1'], data_clear[data_clear['group'] == 'A2'], event, 20)\n",
    "    print()"
   ]
  },
  {
   "cell_type": "markdown",
   "id": "cd71b2e1",
   "metadata": {},
   "source": [
    "Статистически значимых различий между контрольными группами нет ни по одному событию."
   ]
  },
  {
   "cell_type": "markdown",
   "id": "b033c5f9",
   "metadata": {},
   "source": [
    "Проведенный А/А тест нельзя однозначно считать корректным так как\n",
    "    \n",
    "    различия по числу уникальных пользователей в группах различаются более чем на 1%. \n",
    "    различия в метрике конверсии из посетителя в покупателя, то естьпопадание на экран успешной оплаты между группами А1 и А2 составляет 2.23%.\n"
   ]
  },
  {
   "cell_type": "markdown",
   "id": "301c610e",
   "metadata": {},
   "source": [
    "Проанализируем показатели А/В теста. \n",
    "Сравним группу А1 и В."
   ]
  },
  {
   "cell_type": "code",
   "execution_count": 28,
   "id": "fffa51ad",
   "metadata": {},
   "outputs": [
    {
     "name": "stdout",
     "output_type": "stream",
     "text": [
      "Событие: Tutorial\n",
      "p_value: 0.826\n",
      "Не получилось отвергнуть нулевую гипотезу, нет оснований считать доли разными\n",
      "\n",
      "Событие: MainScreenAppear\n",
      "p_value: 0.295\n",
      "Не получилось отвергнуть нулевую гипотезу, нет оснований считать доли разными\n",
      "\n",
      "Событие: OffersScreenAppear\n",
      "p_value: 0.208\n",
      "Не получилось отвергнуть нулевую гипотезу, нет оснований считать доли разными\n",
      "\n",
      "Событие: CartScreenAppear\n",
      "p_value: 0.078\n",
      "Не получилось отвергнуть нулевую гипотезу, нет оснований считать доли разными\n",
      "\n",
      "Событие: PaymentScreenSuccessful\n",
      "p_value: 0.212\n",
      "Не получилось отвергнуть нулевую гипотезу, нет оснований считать доли разными\n",
      "\n"
     ]
    }
   ],
   "source": [
    "for event in data_clear['event_name'].unique():\n",
    "    diff_test(data_clear[data_clear['group'] == 'A1'], data_clear[data_clear['group'] == 'B'], event, 20)\n",
    "    print()"
   ]
  },
  {
   "cell_type": "markdown",
   "id": "c34e5a16",
   "metadata": {},
   "source": [
    "Статистически значимых различий между контрольной группой А1 и экспериментальной В нет ни по одному из событий."
   ]
  },
  {
   "cell_type": "code",
   "execution_count": 29,
   "id": "83da0666",
   "metadata": {},
   "outputs": [
    {
     "name": "stdout",
     "output_type": "stream",
     "text": [
      "Событие: Tutorial\n",
      "p_value: 0.765\n",
      "Не получилось отвергнуть нулевую гипотезу, нет оснований считать доли разными\n",
      "\n",
      "Событие: MainScreenAppear\n",
      "p_value: 0.459\n",
      "Не получилось отвергнуть нулевую гипотезу, нет оснований считать доли разными\n",
      "\n",
      "Событие: OffersScreenAppear\n",
      "p_value: 0.920\n",
      "Не получилось отвергнуть нулевую гипотезу, нет оснований считать доли разными\n",
      "\n",
      "Событие: CartScreenAppear\n",
      "p_value: 0.579\n",
      "Не получилось отвергнуть нулевую гипотезу, нет оснований считать доли разными\n",
      "\n",
      "Событие: PaymentScreenSuccessful\n",
      "p_value: 0.737\n",
      "Не получилось отвергнуть нулевую гипотезу, нет оснований считать доли разными\n",
      "\n"
     ]
    }
   ],
   "source": [
    "for event in data_clear['event_name'].unique():\n",
    "    diff_test(data_clear[data_clear['group'] == 'A2'], data_clear[data_clear['group'] == 'B'], event, 20)\n",
    "    print()"
   ]
  },
  {
   "cell_type": "markdown",
   "id": "afcce8fd",
   "metadata": {},
   "source": [
    "Статистически значимых различий между контрольной группой А2 и экспериментальной В нет ни по одному из событий."
   ]
  },
  {
   "cell_type": "markdown",
   "id": "c9234be8",
   "metadata": {},
   "source": [
    "Проверим есть ли различия между объединенной контрольной группой и экспериментальной."
   ]
  },
  {
   "cell_type": "code",
   "execution_count": 30,
   "id": "0d611fcc",
   "metadata": {},
   "outputs": [
    {
     "name": "stdout",
     "output_type": "stream",
     "text": [
      "Событие: Tutorial\n",
      "p_value: 0.765\n",
      "Не получилось отвергнуть нулевую гипотезу, нет оснований считать доли разными\n",
      "\n",
      "Событие: MainScreenAppear\n",
      "p_value: 0.294\n",
      "Не получилось отвергнуть нулевую гипотезу, нет оснований считать доли разными\n",
      "\n",
      "Событие: OffersScreenAppear\n",
      "p_value: 0.434\n",
      "Не получилось отвергнуть нулевую гипотезу, нет оснований считать доли разными\n",
      "\n",
      "Событие: CartScreenAppear\n",
      "p_value: 0.182\n",
      "Не получилось отвергнуть нулевую гипотезу, нет оснований считать доли разными\n",
      "\n",
      "Событие: PaymentScreenSuccessful\n",
      "p_value: 0.600\n",
      "Не получилось отвергнуть нулевую гипотезу, нет оснований считать доли разными\n",
      "\n"
     ]
    }
   ],
   "source": [
    "for event in data_clear['event_name'].unique():\n",
    "    diff_test(data_clear.query('group==\"A1\" or group==\"A2\" ') , data_clear[data_clear['group'] == 'B'], event, 20)\n",
    "    print()"
   ]
  },
  {
   "cell_type": "markdown",
   "id": "77925a96",
   "metadata": {},
   "source": [
    "Статистически значимых различий между объединенной контрольной группой А и экспериментальной В нет. Уровень статистической значимости значительно выше критического по всем событиям."
   ]
  },
  {
   "cell_type": "markdown",
   "id": "4568148f",
   "metadata": {},
   "source": [
    "### Вывод"
   ]
  },
  {
   "cell_type": "markdown",
   "id": "574ff18f",
   "metadata": {},
   "source": [
    "На этапе анализа А/А теста были зафиксированы нарушения корректности его проведения. Контрольные группы различаются на более чем 1% по количеству уникальных пользователей. Разница в проценте совершивших покупку составляет 2.23%. Однако, согласно результатам теста, статистической значмости в показателях между группами нет. \n",
    "При анализе А/В теста не зафиксировано ни одного статистически значимого различия между контрольными группами и группой В, аналогичный результат между объединенной контрольной группой и экспериментальной. Введение новых шрифтов никак не повлияло на поведение пользователей."
   ]
  },
  {
   "cell_type": "markdown",
   "id": "3c84e3b4",
   "metadata": {},
   "source": [
    "## Вывод"
   ]
  },
  {
   "cell_type": "markdown",
   "id": "12d09eec",
   "metadata": {},
   "source": [
    "Проведен анализ воронки событий и А/А/В теста поведения пользователей мобильного приложения стартапа, занимающегося продажей продуктов питания. На вход был получен файл с логами о действиях пользователей /datasets/logs_exp.csv. Файл содержал 244126 наблюдение с 5 типам действий пользователей (просмотр главного экрана, просмотр экрана предложений, переход в экран корзины, попадание на экран успешной оплаты и переход на обучающий экран). Данные представлены за период с 25 июля 2019 года по 7 августа 2019.\n",
    "\n",
    "В процессе предобработки данных было удалено 413 строк-дубликатов. Наименования столбцов приведены к единому стилю. Столбец содержащий информацию о дате и времени события приведет к типу datetime. Добавлен столбец с датой и столбец с новыми именами групп, контрольные группы получили названия А1 и А2, экспериментальная название В. Проверено попадание каждого пользователя в единственную группу.  \n",
    "После предобработки в данных осталось 243713 наблюдение и 7551 уникальных пользователей. Медианное число действий на пользователя составляет 20, среднее 32, определенно у приложения есть активные лояльные пользователи. При изучении данных было обнаружено, что полные данные есть только за период с 01 по 07 августа 2019 года. Данные предыдушего периода были удалены, потери составили 2826 наблюдений (1.2%) и 17 пользователей (0.2%).\n",
    "\n",
    "Воронка событий представляется следующим образом: главный экран -> экран предложений -> экран корзины -> экран успешной оплаты. С главного экрана к экрану успешной оплаты переходят 48% пользователей, это хороший показатель. Большая часть теряется на этапе перехода к экрану предложений 38%.\n",
    "\n",
    "При анализе А/А теста были зафиксированы небольшие нарушения корректности его проведения,но статистически значимых различий между контрольными группами обнаружено не было.\n",
    "При анализе А/В теста статистически значимых различиний так же не было обнаружено, как при сравнении экспериментальной группы с каждой из контрольных, так и экспериментальной с объединенными контрольными группами.\n",
    "Можно сделать вывод, что изменение шрифтов никак не отразилось на поведении пользователей."
   ]
  }
 ],
 "metadata": {
  "ExecuteTimeLog": [
   {
    "duration": 1467,
    "start_time": "2023-04-11T12:30:00.631Z"
   },
   {
    "duration": 6,
    "start_time": "2023-04-11T12:30:02.107Z"
   },
   {
    "duration": 423,
    "start_time": "2023-04-11T12:30:02.115Z"
   },
   {
    "duration": 132,
    "start_time": "2023-04-11T12:30:02.540Z"
   },
   {
    "duration": 29,
    "start_time": "2023-04-11T12:30:02.674Z"
   },
   {
    "duration": 147,
    "start_time": "2023-04-11T12:30:02.707Z"
   },
   {
    "duration": 139,
    "start_time": "2023-04-11T12:30:02.857Z"
   },
   {
    "duration": 14,
    "start_time": "2023-04-11T12:30:02.997Z"
   },
   {
    "duration": 28,
    "start_time": "2023-04-11T12:30:03.013Z"
   },
   {
    "duration": 52,
    "start_time": "2023-04-11T12:30:03.045Z"
   },
   {
    "duration": 66,
    "start_time": "2023-04-11T12:30:03.100Z"
   },
   {
    "duration": 208,
    "start_time": "2023-04-11T12:30:03.168Z"
   },
   {
    "duration": 42,
    "start_time": "2023-04-11T12:30:03.378Z"
   },
   {
    "duration": 8,
    "start_time": "2023-04-11T12:30:03.422Z"
   },
   {
    "duration": 889,
    "start_time": "2023-04-11T12:30:03.432Z"
   },
   {
    "duration": 13,
    "start_time": "2023-04-11T12:30:04.323Z"
   },
   {
    "duration": 189,
    "start_time": "2023-04-11T12:30:04.338Z"
   },
   {
    "duration": 156,
    "start_time": "2023-04-11T12:30:04.529Z"
   },
   {
    "duration": 141,
    "start_time": "2023-04-11T12:30:04.687Z"
   },
   {
    "duration": 16,
    "start_time": "2023-04-11T12:30:04.830Z"
   },
   {
    "duration": 1169,
    "start_time": "2023-04-11T12:30:04.848Z"
   },
   {
    "duration": 7,
    "start_time": "2023-04-11T12:30:06.019Z"
   },
   {
    "duration": 176,
    "start_time": "2023-04-11T12:30:06.027Z"
   },
   {
    "duration": 70,
    "start_time": "2023-04-11T12:30:06.209Z"
   },
   {
    "duration": 160,
    "start_time": "2023-04-11T12:30:06.281Z"
   },
   {
    "duration": 332,
    "start_time": "2023-04-11T12:30:06.444Z"
   },
   {
    "duration": 337,
    "start_time": "2023-04-11T12:30:06.778Z"
   },
   {
    "duration": 330,
    "start_time": "2023-04-11T12:30:07.118Z"
   },
   {
    "duration": 401,
    "start_time": "2023-04-11T12:30:07.449Z"
   },
   {
    "duration": 22,
    "start_time": "2023-04-11T12:38:20.774Z"
   },
   {
    "duration": 678,
    "start_time": "2023-04-11T12:38:27.004Z"
   },
   {
    "duration": 1631,
    "start_time": "2023-04-12T08:11:20.191Z"
   },
   {
    "duration": 3,
    "start_time": "2023-04-12T08:11:21.824Z"
   },
   {
    "duration": 724,
    "start_time": "2023-04-12T08:11:21.829Z"
   },
   {
    "duration": 98,
    "start_time": "2023-04-12T08:11:22.555Z"
   },
   {
    "duration": 7,
    "start_time": "2023-04-12T08:11:22.655Z"
   },
   {
    "duration": 124,
    "start_time": "2023-04-12T08:11:22.663Z"
   },
   {
    "duration": 112,
    "start_time": "2023-04-12T08:11:22.788Z"
   },
   {
    "duration": 10,
    "start_time": "2023-04-12T08:11:22.901Z"
   },
   {
    "duration": 19,
    "start_time": "2023-04-12T08:11:22.912Z"
   },
   {
    "duration": 51,
    "start_time": "2023-04-12T08:11:22.934Z"
   },
   {
    "duration": 53,
    "start_time": "2023-04-12T08:11:22.987Z"
   },
   {
    "duration": 168,
    "start_time": "2023-04-12T08:11:23.042Z"
   },
   {
    "duration": 22,
    "start_time": "2023-04-12T08:11:23.212Z"
   },
   {
    "duration": 6,
    "start_time": "2023-04-12T08:11:23.236Z"
   },
   {
    "duration": 695,
    "start_time": "2023-04-12T08:11:23.244Z"
   },
   {
    "duration": 565,
    "start_time": "2023-04-12T08:11:23.941Z"
   },
   {
    "duration": 11,
    "start_time": "2023-04-12T08:11:24.508Z"
   },
   {
    "duration": 139,
    "start_time": "2023-04-12T08:11:24.521Z"
   },
   {
    "duration": 114,
    "start_time": "2023-04-12T08:11:24.662Z"
   },
   {
    "duration": 102,
    "start_time": "2023-04-12T08:11:24.777Z"
   },
   {
    "duration": 12,
    "start_time": "2023-04-12T08:11:24.880Z"
   },
   {
    "duration": 1047,
    "start_time": "2023-04-12T08:11:24.893Z"
   },
   {
    "duration": 7,
    "start_time": "2023-04-12T08:11:25.942Z"
   },
   {
    "duration": 138,
    "start_time": "2023-04-12T08:11:25.951Z"
   },
   {
    "duration": 54,
    "start_time": "2023-04-12T08:11:26.090Z"
   },
   {
    "duration": 287,
    "start_time": "2023-04-12T08:11:26.145Z"
   },
   {
    "duration": 6,
    "start_time": "2023-04-12T08:11:26.434Z"
   },
   {
    "duration": 48,
    "start_time": "2023-04-12T08:11:26.444Z"
   },
   {
    "duration": 357,
    "start_time": "2023-04-12T08:11:26.494Z"
   },
   {
    "duration": 276,
    "start_time": "2023-04-12T08:11:26.853Z"
   },
   {
    "duration": 260,
    "start_time": "2023-04-12T08:11:27.130Z"
   },
   {
    "duration": 357,
    "start_time": "2023-04-12T08:11:27.391Z"
   }
  ],
  "kernelspec": {
   "display_name": "Python 3 (ipykernel)",
   "language": "python",
   "name": "python3"
  },
  "language_info": {
   "codemirror_mode": {
    "name": "ipython",
    "version": 3
   },
   "file_extension": ".py",
   "mimetype": "text/x-python",
   "name": "python",
   "nbconvert_exporter": "python",
   "pygments_lexer": "ipython3",
   "version": "3.9.13"
  },
  "toc": {
   "base_numbering": 1,
   "nav_menu": {},
   "number_sections": false,
   "sideBar": true,
   "skip_h1_title": false,
   "title_cell": "Table of Contents",
   "title_sidebar": "Содержание",
   "toc_cell": false,
   "toc_position": {
    "height": "calc(100% - 180px)",
    "left": "10px",
    "top": "150px",
    "width": "233.533px"
   },
   "toc_section_display": true,
   "toc_window_display": true
  }
 },
 "nbformat": 4,
 "nbformat_minor": 5
}
