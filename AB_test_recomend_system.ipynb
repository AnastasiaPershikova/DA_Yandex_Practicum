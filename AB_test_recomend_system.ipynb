{
 "cells": [
  {
   "cell_type": "markdown",
   "id": "b249c397",
   "metadata": {
    "toc": true
   },
   "source": [
    "<h1>Содержание<span class=\"tocSkip\"></span></h1>\n",
    "<div class=\"toc\"><ul class=\"toc-item\"><li><span><a href=\"#Обзор-данных\" data-toc-modified-id=\"Обзор-данных-1\"><span class=\"toc-item-num\">1&nbsp;&nbsp;</span>Обзор данных</a></span><ul class=\"toc-item\"><li><span><a href=\"#Загрузка-данных\" data-toc-modified-id=\"Загрузка-данных-1.1\"><span class=\"toc-item-num\">1.1&nbsp;&nbsp;</span>Загрузка данных</a></span></li><li><span><a href=\"#Обзор\" data-toc-modified-id=\"Обзор-1.2\"><span class=\"toc-item-num\">1.2&nbsp;&nbsp;</span>Обзор</a></span><ul class=\"toc-item\"><li><span><a href=\"#Таблица-marketing_company\" data-toc-modified-id=\"Таблица-marketing_company-1.2.1\"><span class=\"toc-item-num\">1.2.1&nbsp;&nbsp;</span>Таблица <code>marketing_company</code></a></span></li><li><span><a href=\"#Таблица-events\" data-toc-modified-id=\"Таблица-events-1.2.2\"><span class=\"toc-item-num\">1.2.2&nbsp;&nbsp;</span>Таблица <code>events</code></a></span></li><li><span><a href=\"#Таблица-new_users\" data-toc-modified-id=\"Таблица-new_users-1.2.3\"><span class=\"toc-item-num\">1.2.3&nbsp;&nbsp;</span>Таблица <code>new_users</code></a></span></li><li><span><a href=\"#Таблица-users\" data-toc-modified-id=\"Таблица-users-1.2.4\"><span class=\"toc-item-num\">1.2.4&nbsp;&nbsp;</span>Таблица <code>users</code></a></span></li></ul></li><li><span><a href=\"#Вывод\" data-toc-modified-id=\"Вывод-1.3\"><span class=\"toc-item-num\">1.3&nbsp;&nbsp;</span>Вывод</a></span></li></ul></li><li><span><a href=\"#Предобработка-данных\" data-toc-modified-id=\"Предобработка-данных-2\"><span class=\"toc-item-num\">2&nbsp;&nbsp;</span>Предобработка данных</a></span><ul class=\"toc-item\"><li><span><a href=\"#Приведение-типов-данных\" data-toc-modified-id=\"Приведение-типов-данных-2.1\"><span class=\"toc-item-num\">2.1&nbsp;&nbsp;</span>Приведение типов данных</a></span></li><li><span><a href=\"#Анализ-таблиц\" data-toc-modified-id=\"Анализ-таблиц-2.2\"><span class=\"toc-item-num\">2.2&nbsp;&nbsp;</span>Анализ таблиц</a></span><ul class=\"toc-item\"><li><span><a href=\"#Таблица-marketing_company\" data-toc-modified-id=\"Таблица-marketing_company-2.2.1\"><span class=\"toc-item-num\">2.2.1&nbsp;&nbsp;</span>Таблица marketing_company</a></span></li><li><span><a href=\"#Таблица-events\" data-toc-modified-id=\"Таблица-events-2.2.2\"><span class=\"toc-item-num\">2.2.2&nbsp;&nbsp;</span>Таблица <code>events</code></a></span></li><li><span><a href=\"#Таблица-new_users\" data-toc-modified-id=\"Таблица-new_users-2.2.3\"><span class=\"toc-item-num\">2.2.3&nbsp;&nbsp;</span>Таблица <code>new_users</code></a></span></li><li><span><a href=\"#Таблица-users\" data-toc-modified-id=\"Таблица-users-2.2.4\"><span class=\"toc-item-num\">2.2.4&nbsp;&nbsp;</span>Таблица <code>users</code></a></span></li></ul></li><li><span><a href=\"#Вывод\" data-toc-modified-id=\"Вывод-2.3\"><span class=\"toc-item-num\">2.3&nbsp;&nbsp;</span>Вывод</a></span></li></ul></li><li><span><a href=\"#Проверка-аудитории-теста\" data-toc-modified-id=\"Проверка-аудитории-теста-3\"><span class=\"toc-item-num\">3&nbsp;&nbsp;</span>Проверка аудитории теста</a></span><ul class=\"toc-item\"><li><span><a href=\"#Вывод\" data-toc-modified-id=\"Вывод-3.1\"><span class=\"toc-item-num\">3.1&nbsp;&nbsp;</span>Вывод</a></span></li></ul></li><li><span><a href=\"#Исследовательский-анализ-данных-теста\" data-toc-modified-id=\"Исследовательский-анализ-данных-теста-4\"><span class=\"toc-item-num\">4&nbsp;&nbsp;</span>Исследовательский анализ данных теста</a></span><ul class=\"toc-item\"><li><span><a href=\"#Исследование-общих-данных\" data-toc-modified-id=\"Исследование-общих-данных-4.1\"><span class=\"toc-item-num\">4.1&nbsp;&nbsp;</span>Исследование общих данных</a></span><ul class=\"toc-item\"><li><span><a href=\"#Общая-воронка-событий\" data-toc-modified-id=\"Общая-воронка-событий-4.1.1\"><span class=\"toc-item-num\">4.1.1&nbsp;&nbsp;</span>Общая воронка событий</a></span></li></ul></li><li><span><a href=\"#Сравнение-групп\" data-toc-modified-id=\"Сравнение-групп-4.2\"><span class=\"toc-item-num\">4.2&nbsp;&nbsp;</span>Сравнение групп</a></span><ul class=\"toc-item\"><li><span><a href=\"#Воронка-событий-в-группах\" data-toc-modified-id=\"Воронка-событий-в-группах-4.2.1\"><span class=\"toc-item-num\">4.2.1&nbsp;&nbsp;</span>Воронка событий в группах</a></span></li></ul></li><li><span><a href=\"#Вывод\" data-toc-modified-id=\"Вывод-4.3\"><span class=\"toc-item-num\">4.3&nbsp;&nbsp;</span>Вывод</a></span></li></ul></li><li><span><a href=\"#Оценка-результатов-теста\" data-toc-modified-id=\"Оценка-результатов-теста-5\"><span class=\"toc-item-num\">5&nbsp;&nbsp;</span>Оценка результатов теста</a></span><ul class=\"toc-item\"><li><span><a href=\"#Вывод\" data-toc-modified-id=\"Вывод-5.1\"><span class=\"toc-item-num\">5.1&nbsp;&nbsp;</span>Вывод</a></span></li></ul></li><li><span><a href=\"#Общий-вывод\" data-toc-modified-id=\"Общий-вывод-6\"><span class=\"toc-item-num\">6&nbsp;&nbsp;</span>Общий вывод</a></span></li></ul></div>"
   ]
  },
  {
   "cell_type": "markdown",
   "id": "251fb455",
   "metadata": {},
   "source": [
    "# Анализ А/В теста\n"
   ]
  },
  {
   "cell_type": "markdown",
   "id": "96a40e36",
   "metadata": {},
   "source": [
    "Предоставлены 4 набора данных  'ab_project_marketing_events.csv', 'final_ab_events.csv', 'final_ab_new_users.csv', 'final_ab_participants.csv', содержащие информацию о проведенных за 2020 год маркетинговых компаниях, зарегистрированных пользователях, действиях пользователей и разбивке на тестовые группы.\n",
    "\n",
    "**Цель**: Оценить влияние новой рекомендательной системы на конверсию пользователей.\n",
    "\n",
    "**Задачи**: проверка данных на соотвествие техническому заданию, анализ результатов теста.\n",
    "\n",
    "**Техническое задание:**\n",
    "\n",
    "    название теста: recommender_system_test;\n",
    "    группы: А — контрольная, B — тестовая;\n",
    "    сроки:\n",
    "        дата запуска: 2020-12-07;\n",
    "        дата остановки набора новых пользователей: 2020-12-21;\n",
    "        дата остановки: 2021-01-04;\n",
    "    аудитория:\n",
    "        15% новых пользователей из региона EU; \n",
    "        ожидаемое количество участников теста: 6000\n",
    "    \n",
    "    ожидаемый эффект: \n",
    "        за 14 дней с момента регистрации пользователи покажут улучшение каждой метрики не менее, чем на 10%:\n",
    "\n",
    "                конверсии в просмотр карточек товаров — событие product_page,\n",
    "                просмотры корзины — product_cart,\n",
    "                покупки — purchase.\n",
    "Ход исследования:\n",
    "\n",
    "    Обзор данных\n",
    "    Предобработка\n",
    "    Проверка аудитории\n",
    "    Исследовательский анализ данных теста\n",
    "    Оценка результатов теста\n",
    "    Вывод"
   ]
  },
  {
   "cell_type": "markdown",
   "id": "0afeca11",
   "metadata": {},
   "source": [
    "## Обзор данных"
   ]
  },
  {
   "cell_type": "markdown",
   "id": "d6016c70",
   "metadata": {},
   "source": [
    "### Загрузка данных"
   ]
  },
  {
   "cell_type": "code",
   "execution_count": 1,
   "id": "025dea00",
   "metadata": {},
   "outputs": [],
   "source": [
    "#Импортируем библиотеки\n",
    "import pandas as pd\n",
    "import matplotlib.pyplot as plt\n",
    "import seaborn as sns\n",
    "from plotly import graph_objects as go\n",
    "import plotly.express as px\n",
    "import plotly.io as pio\n",
    "import numpy as np\n",
    "import datetime as dt\n",
    "import math as mth\n",
    "from scipy import stats as st\n",
    "from statsmodels. stats.proportion import proportions_ztest"
   ]
  },
  {
   "cell_type": "code",
   "execution_count": 2,
   "id": "f7bdd230",
   "metadata": {},
   "outputs": [],
   "source": [
    "#Настройка отображения данных\n",
    "pd.set_option('display.max_columns', None)\n",
    "pd.set_option('display.max_colwidth', None)\n",
    "pd.set_option('display.max_rows', None)\n",
    "sns.set_palette('coolwarm')\n",
    "pio.renderers.default = \"png\""
   ]
  },
  {
   "cell_type": "code",
   "execution_count": 3,
   "id": "4dfad55e",
   "metadata": {},
   "outputs": [
    {
     "name": "stdout",
     "output_type": "stream",
     "text": [
      "Данные загружены по абслолютному пути\n"
     ]
    }
   ],
   "source": [
    "#загрузка данных\n",
    "try:\n",
    "    marketing_company, events, new_users, users = (\n",
    "        pd.read_csv('ab_project_marketing_events.csv'),\n",
    "        pd.read_csv('final_ab_events.csv'),\n",
    "        pd.read_csv('final_ab_new_users.csv'),\n",
    "        pd.read_csv('final_ab_participants.csv')\n",
    "    )\n",
    "    print('Данные загружены по абслолютному пути')\n",
    "except:\n",
    "    marketing_company, events, new_users, users = (\n",
    "        pd.read_csv('https://code.s3.yandex.net/datasets/ab_project_marketing_events.csv'),\n",
    "        pd.read_csv('https://code.s3.yandex.net/datasets/final_ab_events.csv'),\n",
    "        pd.read_csv('https://code.s3.yandex.net/datasets/final_ab_new_users.csv'),\n",
    "        pd.read_csv('https://code.s3.yandex.net/datasets/final_ab_participants.csv')\n",
    "    )\n",
    "    print('Данные загружены по относительному пути')"
   ]
  },
  {
   "cell_type": "markdown",
   "id": "8fe66f5b",
   "metadata": {},
   "source": [
    "Данные загружены, посмотрим их содержимое."
   ]
  },
  {
   "cell_type": "markdown",
   "id": "9b6d021d",
   "metadata": {},
   "source": [
    "### Обзор "
   ]
  },
  {
   "cell_type": "markdown",
   "id": "940c6817",
   "metadata": {},
   "source": [
    "Функция `description` на вход получает имя таблицы и количество наблюдений, которые нужно вывести для ознакомления. На выходе вернёт случайно выбранные наблюдения, таблицу с постолбцовым описанием данных, диапазон индексов и общее число записей таблицы."
   ]
  },
  {
   "cell_type": "code",
   "execution_count": 4,
   "id": "5ef062fc",
   "metadata": {},
   "outputs": [],
   "source": [
    "def description(data, ns): \n",
    "    descripted_data = pd.DataFrame({'Наблюдений': data.count(),\n",
    "                                    'Уникальных значений': data.nunique(),\n",
    "                                    'Пропусков': data.isna().sum(), \n",
    "                                    'Доля пропусков': round(data.isna().sum() / len(data), 3), \n",
    "                                    'Тип данных': data.dtypes})\n",
    "    display(data.sample(ns))\n",
    "    display(descripted_data)\n",
    "    print(f'Диапазон индексов таблицы: {data.index.min()} - {data.index.max()}')\n",
    "    print(f'Количестов записей в таблице: {len(data)}')\n",
    "    print(f'Количество строк-дубликатов: {data.duplicated().sum()}')\n",
    "    print('Доля строк-дубликатов дубликатов:{0:.2f}'.format(data.duplicated().sum()/ len(data)))\n",
    "    print(f'Количество столбцов: {len(data.columns)}')\n",
    "    return"
   ]
  },
  {
   "cell_type": "markdown",
   "id": "13df727a",
   "metadata": {},
   "source": [
    "#### Таблица `marketing_company`"
   ]
  },
  {
   "cell_type": "code",
   "execution_count": 5,
   "id": "bdb295b5",
   "metadata": {},
   "outputs": [
    {
     "data": {
      "text/html": [
       "<div>\n",
       "<style scoped>\n",
       "    .dataframe tbody tr th:only-of-type {\n",
       "        vertical-align: middle;\n",
       "    }\n",
       "\n",
       "    .dataframe tbody tr th {\n",
       "        vertical-align: top;\n",
       "    }\n",
       "\n",
       "    .dataframe thead th {\n",
       "        text-align: right;\n",
       "    }\n",
       "</style>\n",
       "<table border=\"1\" class=\"dataframe\">\n",
       "  <thead>\n",
       "    <tr style=\"text-align: right;\">\n",
       "      <th></th>\n",
       "      <th>name</th>\n",
       "      <th>regions</th>\n",
       "      <th>start_dt</th>\n",
       "      <th>finish_dt</th>\n",
       "    </tr>\n",
       "  </thead>\n",
       "  <tbody>\n",
       "    <tr>\n",
       "      <th>8</th>\n",
       "      <td>International Women's Day Promo</td>\n",
       "      <td>EU, CIS, APAC</td>\n",
       "      <td>2020-03-08</td>\n",
       "      <td>2020-03-10</td>\n",
       "    </tr>\n",
       "    <tr>\n",
       "      <th>5</th>\n",
       "      <td>Black Friday Ads Campaign</td>\n",
       "      <td>EU, CIS, APAC, N.America</td>\n",
       "      <td>2020-11-26</td>\n",
       "      <td>2020-12-01</td>\n",
       "    </tr>\n",
       "    <tr>\n",
       "      <th>1</th>\n",
       "      <td>St. Valentine's Day Giveaway</td>\n",
       "      <td>EU, CIS, APAC, N.America</td>\n",
       "      <td>2020-02-14</td>\n",
       "      <td>2020-02-16</td>\n",
       "    </tr>\n",
       "    <tr>\n",
       "      <th>9</th>\n",
       "      <td>Victory Day CIS (May 9th) Event</td>\n",
       "      <td>CIS</td>\n",
       "      <td>2020-05-09</td>\n",
       "      <td>2020-05-11</td>\n",
       "    </tr>\n",
       "    <tr>\n",
       "      <th>6</th>\n",
       "      <td>Chinese New Year Promo</td>\n",
       "      <td>APAC</td>\n",
       "      <td>2020-01-25</td>\n",
       "      <td>2020-02-07</td>\n",
       "    </tr>\n",
       "    <tr>\n",
       "      <th>11</th>\n",
       "      <td>Dragon Boat Festival Giveaway</td>\n",
       "      <td>APAC</td>\n",
       "      <td>2020-06-25</td>\n",
       "      <td>2020-07-01</td>\n",
       "    </tr>\n",
       "    <tr>\n",
       "      <th>2</th>\n",
       "      <td>St. Patric's Day Promo</td>\n",
       "      <td>EU, N.America</td>\n",
       "      <td>2020-03-17</td>\n",
       "      <td>2020-03-19</td>\n",
       "    </tr>\n",
       "    <tr>\n",
       "      <th>12</th>\n",
       "      <td>Single's Day Gift Promo</td>\n",
       "      <td>APAC</td>\n",
       "      <td>2020-11-11</td>\n",
       "      <td>2020-11-12</td>\n",
       "    </tr>\n",
       "    <tr>\n",
       "      <th>3</th>\n",
       "      <td>Easter Promo</td>\n",
       "      <td>EU, CIS, APAC, N.America</td>\n",
       "      <td>2020-04-12</td>\n",
       "      <td>2020-04-19</td>\n",
       "    </tr>\n",
       "    <tr>\n",
       "      <th>10</th>\n",
       "      <td>CIS New Year Gift Lottery</td>\n",
       "      <td>CIS</td>\n",
       "      <td>2020-12-30</td>\n",
       "      <td>2021-01-07</td>\n",
       "    </tr>\n",
       "    <tr>\n",
       "      <th>4</th>\n",
       "      <td>4th of July Promo</td>\n",
       "      <td>N.America</td>\n",
       "      <td>2020-07-04</td>\n",
       "      <td>2020-07-11</td>\n",
       "    </tr>\n",
       "    <tr>\n",
       "      <th>0</th>\n",
       "      <td>Christmas&amp;New Year Promo</td>\n",
       "      <td>EU, N.America</td>\n",
       "      <td>2020-12-25</td>\n",
       "      <td>2021-01-03</td>\n",
       "    </tr>\n",
       "    <tr>\n",
       "      <th>7</th>\n",
       "      <td>Labor day (May 1st) Ads Campaign</td>\n",
       "      <td>EU, CIS, APAC</td>\n",
       "      <td>2020-05-01</td>\n",
       "      <td>2020-05-03</td>\n",
       "    </tr>\n",
       "    <tr>\n",
       "      <th>13</th>\n",
       "      <td>Chinese Moon Festival</td>\n",
       "      <td>APAC</td>\n",
       "      <td>2020-10-01</td>\n",
       "      <td>2020-10-07</td>\n",
       "    </tr>\n",
       "  </tbody>\n",
       "</table>\n",
       "</div>"
      ],
      "text/plain": [
       "                                name                   regions    start_dt  \\\n",
       "8    International Women's Day Promo             EU, CIS, APAC  2020-03-08   \n",
       "5          Black Friday Ads Campaign  EU, CIS, APAC, N.America  2020-11-26   \n",
       "1       St. Valentine's Day Giveaway  EU, CIS, APAC, N.America  2020-02-14   \n",
       "9    Victory Day CIS (May 9th) Event                       CIS  2020-05-09   \n",
       "6             Chinese New Year Promo                      APAC  2020-01-25   \n",
       "11     Dragon Boat Festival Giveaway                      APAC  2020-06-25   \n",
       "2             St. Patric's Day Promo             EU, N.America  2020-03-17   \n",
       "12           Single's Day Gift Promo                      APAC  2020-11-11   \n",
       "3                       Easter Promo  EU, CIS, APAC, N.America  2020-04-12   \n",
       "10         CIS New Year Gift Lottery                       CIS  2020-12-30   \n",
       "4                  4th of July Promo                 N.America  2020-07-04   \n",
       "0           Christmas&New Year Promo             EU, N.America  2020-12-25   \n",
       "7   Labor day (May 1st) Ads Campaign             EU, CIS, APAC  2020-05-01   \n",
       "13             Chinese Moon Festival                      APAC  2020-10-01   \n",
       "\n",
       "     finish_dt  \n",
       "8   2020-03-10  \n",
       "5   2020-12-01  \n",
       "1   2020-02-16  \n",
       "9   2020-05-11  \n",
       "6   2020-02-07  \n",
       "11  2020-07-01  \n",
       "2   2020-03-19  \n",
       "12  2020-11-12  \n",
       "3   2020-04-19  \n",
       "10  2021-01-07  \n",
       "4   2020-07-11  \n",
       "0   2021-01-03  \n",
       "7   2020-05-03  \n",
       "13  2020-10-07  "
      ]
     },
     "metadata": {},
     "output_type": "display_data"
    },
    {
     "data": {
      "text/html": [
       "<div>\n",
       "<style scoped>\n",
       "    .dataframe tbody tr th:only-of-type {\n",
       "        vertical-align: middle;\n",
       "    }\n",
       "\n",
       "    .dataframe tbody tr th {\n",
       "        vertical-align: top;\n",
       "    }\n",
       "\n",
       "    .dataframe thead th {\n",
       "        text-align: right;\n",
       "    }\n",
       "</style>\n",
       "<table border=\"1\" class=\"dataframe\">\n",
       "  <thead>\n",
       "    <tr style=\"text-align: right;\">\n",
       "      <th></th>\n",
       "      <th>Наблюдений</th>\n",
       "      <th>Уникальных значений</th>\n",
       "      <th>Пропусков</th>\n",
       "      <th>Доля пропусков</th>\n",
       "      <th>Тип данных</th>\n",
       "    </tr>\n",
       "  </thead>\n",
       "  <tbody>\n",
       "    <tr>\n",
       "      <th>name</th>\n",
       "      <td>14</td>\n",
       "      <td>14</td>\n",
       "      <td>0</td>\n",
       "      <td>0.0</td>\n",
       "      <td>object</td>\n",
       "    </tr>\n",
       "    <tr>\n",
       "      <th>regions</th>\n",
       "      <td>14</td>\n",
       "      <td>6</td>\n",
       "      <td>0</td>\n",
       "      <td>0.0</td>\n",
       "      <td>object</td>\n",
       "    </tr>\n",
       "    <tr>\n",
       "      <th>start_dt</th>\n",
       "      <td>14</td>\n",
       "      <td>14</td>\n",
       "      <td>0</td>\n",
       "      <td>0.0</td>\n",
       "      <td>object</td>\n",
       "    </tr>\n",
       "    <tr>\n",
       "      <th>finish_dt</th>\n",
       "      <td>14</td>\n",
       "      <td>14</td>\n",
       "      <td>0</td>\n",
       "      <td>0.0</td>\n",
       "      <td>object</td>\n",
       "    </tr>\n",
       "  </tbody>\n",
       "</table>\n",
       "</div>"
      ],
      "text/plain": [
       "           Наблюдений  Уникальных значений  Пропусков  Доля пропусков  \\\n",
       "name               14                   14          0             0.0   \n",
       "regions            14                    6          0             0.0   \n",
       "start_dt           14                   14          0             0.0   \n",
       "finish_dt          14                   14          0             0.0   \n",
       "\n",
       "          Тип данных  \n",
       "name          object  \n",
       "regions       object  \n",
       "start_dt      object  \n",
       "finish_dt     object  "
      ]
     },
     "metadata": {},
     "output_type": "display_data"
    },
    {
     "name": "stdout",
     "output_type": "stream",
     "text": [
      "Диапазон индексов таблицы: 0 - 13\n",
      "Количестов записей в таблице: 14\n",
      "Количество строк-дубликатов: 0\n",
      "Доля строк-дубликатов дубликатов:0.00\n",
      "Количество столбцов: 4\n"
     ]
    }
   ],
   "source": [
    "description(marketing_company, 14)"
   ]
  },
  {
   "cell_type": "markdown",
   "id": "6630b85a",
   "metadata": {},
   "source": [
    "Таблица `marketing_company` — календарь маркетинговых событий на 2020 год.\n",
    "\n",
    "Структура файла:\n",
    "\n",
    "    name — название маркетингового события;\n",
    "    regions — регионы, в которых будет проводиться рекламная кампания;\n",
    "    start_dt — дата начала кампании;\n",
    "    finish_dt — дата завершения кампании.\n",
    "\n",
    "Пропуски и дубликаты отсутствуют.\n",
    "\n",
    "Необходимо привести столбцы start_dt и finish_dt к типу datetime"
   ]
  },
  {
   "cell_type": "markdown",
   "id": "8eddd0e0",
   "metadata": {},
   "source": [
    "#### Таблица `events`"
   ]
  },
  {
   "cell_type": "code",
   "execution_count": 6,
   "id": "ba2b0f8e",
   "metadata": {},
   "outputs": [
    {
     "data": {
      "text/html": [
       "<div>\n",
       "<style scoped>\n",
       "    .dataframe tbody tr th:only-of-type {\n",
       "        vertical-align: middle;\n",
       "    }\n",
       "\n",
       "    .dataframe tbody tr th {\n",
       "        vertical-align: top;\n",
       "    }\n",
       "\n",
       "    .dataframe thead th {\n",
       "        text-align: right;\n",
       "    }\n",
       "</style>\n",
       "<table border=\"1\" class=\"dataframe\">\n",
       "  <thead>\n",
       "    <tr style=\"text-align: right;\">\n",
       "      <th></th>\n",
       "      <th>user_id</th>\n",
       "      <th>event_dt</th>\n",
       "      <th>event_name</th>\n",
       "      <th>details</th>\n",
       "    </tr>\n",
       "  </thead>\n",
       "  <tbody>\n",
       "    <tr>\n",
       "      <th>178061</th>\n",
       "      <td>DC3EA1D9E7D20A44</td>\n",
       "      <td>2020-12-17 17:46:41</td>\n",
       "      <td>product_page</td>\n",
       "      <td>NaN</td>\n",
       "    </tr>\n",
       "    <tr>\n",
       "      <th>154848</th>\n",
       "      <td>13A7BDA187127659</td>\n",
       "      <td>2020-12-14 19:06:08</td>\n",
       "      <td>product_page</td>\n",
       "      <td>NaN</td>\n",
       "    </tr>\n",
       "    <tr>\n",
       "      <th>400701</th>\n",
       "      <td>40DDFE823639DFEE</td>\n",
       "      <td>2020-12-23 20:33:17</td>\n",
       "      <td>login</td>\n",
       "      <td>NaN</td>\n",
       "    </tr>\n",
       "    <tr>\n",
       "      <th>173287</th>\n",
       "      <td>9D7B547018DDA36D</td>\n",
       "      <td>2020-12-16 19:35:29</td>\n",
       "      <td>product_page</td>\n",
       "      <td>NaN</td>\n",
       "    </tr>\n",
       "    <tr>\n",
       "      <th>98115</th>\n",
       "      <td>3EEFC16C6381739D</td>\n",
       "      <td>2020-12-20 06:57:30</td>\n",
       "      <td>product_cart</td>\n",
       "      <td>NaN</td>\n",
       "    </tr>\n",
       "    <tr>\n",
       "      <th>406839</th>\n",
       "      <td>C860435436ADDD98</td>\n",
       "      <td>2020-12-24 13:05:34</td>\n",
       "      <td>login</td>\n",
       "      <td>NaN</td>\n",
       "    </tr>\n",
       "    <tr>\n",
       "      <th>292545</th>\n",
       "      <td>7D2B7906AD9C0117</td>\n",
       "      <td>2020-12-13 05:22:44</td>\n",
       "      <td>login</td>\n",
       "      <td>NaN</td>\n",
       "    </tr>\n",
       "    <tr>\n",
       "      <th>373761</th>\n",
       "      <td>A3A5EAFE8C50FCBF</td>\n",
       "      <td>2020-12-21 19:28:25</td>\n",
       "      <td>login</td>\n",
       "      <td>NaN</td>\n",
       "    </tr>\n",
       "    <tr>\n",
       "      <th>76786</th>\n",
       "      <td>6AD54D59AA4448E1</td>\n",
       "      <td>2020-12-13 10:51:13</td>\n",
       "      <td>product_cart</td>\n",
       "      <td>NaN</td>\n",
       "    </tr>\n",
       "    <tr>\n",
       "      <th>362256</th>\n",
       "      <td>198FEF39910DCF76</td>\n",
       "      <td>2020-12-20 07:55:42</td>\n",
       "      <td>login</td>\n",
       "      <td>NaN</td>\n",
       "    </tr>\n",
       "  </tbody>\n",
       "</table>\n",
       "</div>"
      ],
      "text/plain": [
       "                 user_id             event_dt    event_name  details\n",
       "178061  DC3EA1D9E7D20A44  2020-12-17 17:46:41  product_page      NaN\n",
       "154848  13A7BDA187127659  2020-12-14 19:06:08  product_page      NaN\n",
       "400701  40DDFE823639DFEE  2020-12-23 20:33:17         login      NaN\n",
       "173287  9D7B547018DDA36D  2020-12-16 19:35:29  product_page      NaN\n",
       "98115   3EEFC16C6381739D  2020-12-20 06:57:30  product_cart      NaN\n",
       "406839  C860435436ADDD98  2020-12-24 13:05:34         login      NaN\n",
       "292545  7D2B7906AD9C0117  2020-12-13 05:22:44         login      NaN\n",
       "373761  A3A5EAFE8C50FCBF  2020-12-21 19:28:25         login      NaN\n",
       "76786   6AD54D59AA4448E1  2020-12-13 10:51:13  product_cart      NaN\n",
       "362256  198FEF39910DCF76  2020-12-20 07:55:42         login      NaN"
      ]
     },
     "metadata": {},
     "output_type": "display_data"
    },
    {
     "data": {
      "text/html": [
       "<div>\n",
       "<style scoped>\n",
       "    .dataframe tbody tr th:only-of-type {\n",
       "        vertical-align: middle;\n",
       "    }\n",
       "\n",
       "    .dataframe tbody tr th {\n",
       "        vertical-align: top;\n",
       "    }\n",
       "\n",
       "    .dataframe thead th {\n",
       "        text-align: right;\n",
       "    }\n",
       "</style>\n",
       "<table border=\"1\" class=\"dataframe\">\n",
       "  <thead>\n",
       "    <tr style=\"text-align: right;\">\n",
       "      <th></th>\n",
       "      <th>Наблюдений</th>\n",
       "      <th>Уникальных значений</th>\n",
       "      <th>Пропусков</th>\n",
       "      <th>Доля пропусков</th>\n",
       "      <th>Тип данных</th>\n",
       "    </tr>\n",
       "  </thead>\n",
       "  <tbody>\n",
       "    <tr>\n",
       "      <th>user_id</th>\n",
       "      <td>440317</td>\n",
       "      <td>58703</td>\n",
       "      <td>0</td>\n",
       "      <td>0.000</td>\n",
       "      <td>object</td>\n",
       "    </tr>\n",
       "    <tr>\n",
       "      <th>event_dt</th>\n",
       "      <td>440317</td>\n",
       "      <td>267268</td>\n",
       "      <td>0</td>\n",
       "      <td>0.000</td>\n",
       "      <td>object</td>\n",
       "    </tr>\n",
       "    <tr>\n",
       "      <th>event_name</th>\n",
       "      <td>440317</td>\n",
       "      <td>4</td>\n",
       "      <td>0</td>\n",
       "      <td>0.000</td>\n",
       "      <td>object</td>\n",
       "    </tr>\n",
       "    <tr>\n",
       "      <th>details</th>\n",
       "      <td>62740</td>\n",
       "      <td>4</td>\n",
       "      <td>377577</td>\n",
       "      <td>0.858</td>\n",
       "      <td>float64</td>\n",
       "    </tr>\n",
       "  </tbody>\n",
       "</table>\n",
       "</div>"
      ],
      "text/plain": [
       "            Наблюдений  Уникальных значений  Пропусков  Доля пропусков  \\\n",
       "user_id         440317                58703          0           0.000   \n",
       "event_dt        440317               267268          0           0.000   \n",
       "event_name      440317                    4          0           0.000   \n",
       "details          62740                    4     377577           0.858   \n",
       "\n",
       "           Тип данных  \n",
       "user_id        object  \n",
       "event_dt       object  \n",
       "event_name     object  \n",
       "details       float64  "
      ]
     },
     "metadata": {},
     "output_type": "display_data"
    },
    {
     "name": "stdout",
     "output_type": "stream",
     "text": [
      "Диапазон индексов таблицы: 0 - 440316\n",
      "Количестов записей в таблице: 440317\n",
      "Количество строк-дубликатов: 0\n",
      "Доля строк-дубликатов дубликатов:0.00\n",
      "Количество столбцов: 4\n"
     ]
    }
   ],
   "source": [
    "description(events,10)"
   ]
  },
  {
   "cell_type": "markdown",
   "id": "a1236565",
   "metadata": {},
   "source": [
    "`events` — 440317 действий пользователей в период с 7 декабря 2020 по 4 января 2021 года.\n",
    "\n",
    "Структура файла:\n",
    "\n",
    "    user_id — идентификатор пользователя;\n",
    "    event_dt — дата и время события, совершённого пользователем;\n",
    "    event_name — тип события;\n",
    "    details — дополнительные данные о событии. Например, для покупок, purchase, в этом поле хранится стоимость покупки в долларах.\n",
    "Строк-дубликатов не обнаружено. Всего у нах 4 типа событий ознакомимся с ними на этапе предобработки. В столбце details 86% пропусков, это нормально, так как он хранит дополнительные сведения,но стоит выявить их природу. Необходимо привести столбец event_dt к типу datetime.\n"
   ]
  },
  {
   "cell_type": "markdown",
   "id": "38818434",
   "metadata": {},
   "source": [
    "#### Таблица `new_users`"
   ]
  },
  {
   "cell_type": "code",
   "execution_count": 7,
   "id": "3eba5cb9",
   "metadata": {},
   "outputs": [
    {
     "data": {
      "text/html": [
       "<div>\n",
       "<style scoped>\n",
       "    .dataframe tbody tr th:only-of-type {\n",
       "        vertical-align: middle;\n",
       "    }\n",
       "\n",
       "    .dataframe tbody tr th {\n",
       "        vertical-align: top;\n",
       "    }\n",
       "\n",
       "    .dataframe thead th {\n",
       "        text-align: right;\n",
       "    }\n",
       "</style>\n",
       "<table border=\"1\" class=\"dataframe\">\n",
       "  <thead>\n",
       "    <tr style=\"text-align: right;\">\n",
       "      <th></th>\n",
       "      <th>user_id</th>\n",
       "      <th>first_date</th>\n",
       "      <th>region</th>\n",
       "      <th>device</th>\n",
       "    </tr>\n",
       "  </thead>\n",
       "  <tbody>\n",
       "    <tr>\n",
       "      <th>50366</th>\n",
       "      <td>F4A0D7499C60F863</td>\n",
       "      <td>2020-12-19</td>\n",
       "      <td>N.America</td>\n",
       "      <td>PC</td>\n",
       "    </tr>\n",
       "    <tr>\n",
       "      <th>59956</th>\n",
       "      <td>F8EE0E6A58FE78A2</td>\n",
       "      <td>2020-12-20</td>\n",
       "      <td>APAC</td>\n",
       "      <td>iPhone</td>\n",
       "    </tr>\n",
       "    <tr>\n",
       "      <th>25044</th>\n",
       "      <td>0E7844CB553DF605</td>\n",
       "      <td>2020-12-22</td>\n",
       "      <td>EU</td>\n",
       "      <td>iPhone</td>\n",
       "    </tr>\n",
       "    <tr>\n",
       "      <th>22480</th>\n",
       "      <td>6B8DE67C522D3489</td>\n",
       "      <td>2020-12-15</td>\n",
       "      <td>EU</td>\n",
       "      <td>iPhone</td>\n",
       "    </tr>\n",
       "    <tr>\n",
       "      <th>29196</th>\n",
       "      <td>300471625E74FCFD</td>\n",
       "      <td>2020-12-16</td>\n",
       "      <td>EU</td>\n",
       "      <td>Android</td>\n",
       "    </tr>\n",
       "    <tr>\n",
       "      <th>23234</th>\n",
       "      <td>7F2A5DA6945ABF8D</td>\n",
       "      <td>2020-12-15</td>\n",
       "      <td>EU</td>\n",
       "      <td>iPhone</td>\n",
       "    </tr>\n",
       "    <tr>\n",
       "      <th>27461</th>\n",
       "      <td>4E29D27097C10F1A</td>\n",
       "      <td>2020-12-09</td>\n",
       "      <td>N.America</td>\n",
       "      <td>Android</td>\n",
       "    </tr>\n",
       "    <tr>\n",
       "      <th>40083</th>\n",
       "      <td>567E053014B0CEDD</td>\n",
       "      <td>2020-12-11</td>\n",
       "      <td>EU</td>\n",
       "      <td>Android</td>\n",
       "    </tr>\n",
       "    <tr>\n",
       "      <th>35139</th>\n",
       "      <td>822A4D7433FDF914</td>\n",
       "      <td>2020-12-10</td>\n",
       "      <td>EU</td>\n",
       "      <td>Android</td>\n",
       "    </tr>\n",
       "    <tr>\n",
       "      <th>34152</th>\n",
       "      <td>55169836DB0F578F</td>\n",
       "      <td>2020-12-10</td>\n",
       "      <td>EU</td>\n",
       "      <td>Android</td>\n",
       "    </tr>\n",
       "  </tbody>\n",
       "</table>\n",
       "</div>"
      ],
      "text/plain": [
       "                user_id  first_date     region   device\n",
       "50366  F4A0D7499C60F863  2020-12-19  N.America       PC\n",
       "59956  F8EE0E6A58FE78A2  2020-12-20       APAC   iPhone\n",
       "25044  0E7844CB553DF605  2020-12-22         EU   iPhone\n",
       "22480  6B8DE67C522D3489  2020-12-15         EU   iPhone\n",
       "29196  300471625E74FCFD  2020-12-16         EU  Android\n",
       "23234  7F2A5DA6945ABF8D  2020-12-15         EU   iPhone\n",
       "27461  4E29D27097C10F1A  2020-12-09  N.America  Android\n",
       "40083  567E053014B0CEDD  2020-12-11         EU  Android\n",
       "35139  822A4D7433FDF914  2020-12-10         EU  Android\n",
       "34152  55169836DB0F578F  2020-12-10         EU  Android"
      ]
     },
     "metadata": {},
     "output_type": "display_data"
    },
    {
     "data": {
      "text/html": [
       "<div>\n",
       "<style scoped>\n",
       "    .dataframe tbody tr th:only-of-type {\n",
       "        vertical-align: middle;\n",
       "    }\n",
       "\n",
       "    .dataframe tbody tr th {\n",
       "        vertical-align: top;\n",
       "    }\n",
       "\n",
       "    .dataframe thead th {\n",
       "        text-align: right;\n",
       "    }\n",
       "</style>\n",
       "<table border=\"1\" class=\"dataframe\">\n",
       "  <thead>\n",
       "    <tr style=\"text-align: right;\">\n",
       "      <th></th>\n",
       "      <th>Наблюдений</th>\n",
       "      <th>Уникальных значений</th>\n",
       "      <th>Пропусков</th>\n",
       "      <th>Доля пропусков</th>\n",
       "      <th>Тип данных</th>\n",
       "    </tr>\n",
       "  </thead>\n",
       "  <tbody>\n",
       "    <tr>\n",
       "      <th>user_id</th>\n",
       "      <td>61733</td>\n",
       "      <td>61733</td>\n",
       "      <td>0</td>\n",
       "      <td>0.0</td>\n",
       "      <td>object</td>\n",
       "    </tr>\n",
       "    <tr>\n",
       "      <th>first_date</th>\n",
       "      <td>61733</td>\n",
       "      <td>17</td>\n",
       "      <td>0</td>\n",
       "      <td>0.0</td>\n",
       "      <td>object</td>\n",
       "    </tr>\n",
       "    <tr>\n",
       "      <th>region</th>\n",
       "      <td>61733</td>\n",
       "      <td>4</td>\n",
       "      <td>0</td>\n",
       "      <td>0.0</td>\n",
       "      <td>object</td>\n",
       "    </tr>\n",
       "    <tr>\n",
       "      <th>device</th>\n",
       "      <td>61733</td>\n",
       "      <td>4</td>\n",
       "      <td>0</td>\n",
       "      <td>0.0</td>\n",
       "      <td>object</td>\n",
       "    </tr>\n",
       "  </tbody>\n",
       "</table>\n",
       "</div>"
      ],
      "text/plain": [
       "            Наблюдений  Уникальных значений  Пропусков  Доля пропусков  \\\n",
       "user_id          61733                61733          0             0.0   \n",
       "first_date       61733                   17          0             0.0   \n",
       "region           61733                    4          0             0.0   \n",
       "device           61733                    4          0             0.0   \n",
       "\n",
       "           Тип данных  \n",
       "user_id        object  \n",
       "first_date     object  \n",
       "region         object  \n",
       "device         object  "
      ]
     },
     "metadata": {},
     "output_type": "display_data"
    },
    {
     "name": "stdout",
     "output_type": "stream",
     "text": [
      "Диапазон индексов таблицы: 0 - 61732\n",
      "Количестов записей в таблице: 61733\n",
      "Количество строк-дубликатов: 0\n",
      "Доля строк-дубликатов дубликатов:0.00\n",
      "Количество столбцов: 4\n"
     ]
    }
   ],
   "source": [
    "description(new_users,10)"
   ]
  },
  {
   "cell_type": "markdown",
   "id": "a485928c",
   "metadata": {},
   "source": [
    "`new_users` — данные о 61733 пользователях, зарегистрировавшихся с 7 по 21 декабря 2020 года.\n",
    "\n",
    "Структура файла:\n",
    "\n",
    "    user_id — идентификатор пользователя;\n",
    "    first_date — дата регистрации;\n",
    "    region — регион пользователя;\n",
    "    device — устройство, с которого происходила регистрация.\n",
    "Пропусков и дубликатов не обнаружено. Данный содержат информацию о пользователях из 4х регионов, использовавщих 4 типа устройст при регистрации. Количество уникальных user_id совпадает с количеством наблюдений, значит дубликатов нет. Необходимо привести столбец first_date к типу datetime."
   ]
  },
  {
   "cell_type": "markdown",
   "id": "d8ee58f9",
   "metadata": {},
   "source": [
    "#### Таблица `users`"
   ]
  },
  {
   "cell_type": "code",
   "execution_count": 8,
   "id": "5b301246",
   "metadata": {},
   "outputs": [
    {
     "data": {
      "text/html": [
       "<div>\n",
       "<style scoped>\n",
       "    .dataframe tbody tr th:only-of-type {\n",
       "        vertical-align: middle;\n",
       "    }\n",
       "\n",
       "    .dataframe tbody tr th {\n",
       "        vertical-align: top;\n",
       "    }\n",
       "\n",
       "    .dataframe thead th {\n",
       "        text-align: right;\n",
       "    }\n",
       "</style>\n",
       "<table border=\"1\" class=\"dataframe\">\n",
       "  <thead>\n",
       "    <tr style=\"text-align: right;\">\n",
       "      <th></th>\n",
       "      <th>user_id</th>\n",
       "      <th>group</th>\n",
       "      <th>ab_test</th>\n",
       "    </tr>\n",
       "  </thead>\n",
       "  <tbody>\n",
       "    <tr>\n",
       "      <th>8363</th>\n",
       "      <td>4DED7F23C8A4DE2F</td>\n",
       "      <td>A</td>\n",
       "      <td>interface_eu_test</td>\n",
       "    </tr>\n",
       "    <tr>\n",
       "      <th>16081</th>\n",
       "      <td>A3BEB02A027BA3C4</td>\n",
       "      <td>A</td>\n",
       "      <td>interface_eu_test</td>\n",
       "    </tr>\n",
       "    <tr>\n",
       "      <th>11245</th>\n",
       "      <td>767D6609CC3D6589</td>\n",
       "      <td>B</td>\n",
       "      <td>interface_eu_test</td>\n",
       "    </tr>\n",
       "    <tr>\n",
       "      <th>1298</th>\n",
       "      <td>C5AE17CBD0B33628</td>\n",
       "      <td>A</td>\n",
       "      <td>recommender_system_test</td>\n",
       "    </tr>\n",
       "    <tr>\n",
       "      <th>15931</th>\n",
       "      <td>272A786014FFF0E1</td>\n",
       "      <td>B</td>\n",
       "      <td>interface_eu_test</td>\n",
       "    </tr>\n",
       "    <tr>\n",
       "      <th>12370</th>\n",
       "      <td>A7C52908423BB4CE</td>\n",
       "      <td>B</td>\n",
       "      <td>interface_eu_test</td>\n",
       "    </tr>\n",
       "    <tr>\n",
       "      <th>348</th>\n",
       "      <td>6FFE54E4BC305708</td>\n",
       "      <td>A</td>\n",
       "      <td>recommender_system_test</td>\n",
       "    </tr>\n",
       "    <tr>\n",
       "      <th>11567</th>\n",
       "      <td>A967D8644370E1AE</td>\n",
       "      <td>A</td>\n",
       "      <td>interface_eu_test</td>\n",
       "    </tr>\n",
       "    <tr>\n",
       "      <th>11548</th>\n",
       "      <td>146B80B4B15DE2FF</td>\n",
       "      <td>B</td>\n",
       "      <td>interface_eu_test</td>\n",
       "    </tr>\n",
       "    <tr>\n",
       "      <th>7899</th>\n",
       "      <td>1D4E1B08B2F60B5F</td>\n",
       "      <td>A</td>\n",
       "      <td>interface_eu_test</td>\n",
       "    </tr>\n",
       "  </tbody>\n",
       "</table>\n",
       "</div>"
      ],
      "text/plain": [
       "                user_id group                  ab_test\n",
       "8363   4DED7F23C8A4DE2F     A        interface_eu_test\n",
       "16081  A3BEB02A027BA3C4     A        interface_eu_test\n",
       "11245  767D6609CC3D6589     B        interface_eu_test\n",
       "1298   C5AE17CBD0B33628     A  recommender_system_test\n",
       "15931  272A786014FFF0E1     B        interface_eu_test\n",
       "12370  A7C52908423BB4CE     B        interface_eu_test\n",
       "348    6FFE54E4BC305708     A  recommender_system_test\n",
       "11567  A967D8644370E1AE     A        interface_eu_test\n",
       "11548  146B80B4B15DE2FF     B        interface_eu_test\n",
       "7899   1D4E1B08B2F60B5F     A        interface_eu_test"
      ]
     },
     "metadata": {},
     "output_type": "display_data"
    },
    {
     "data": {
      "text/html": [
       "<div>\n",
       "<style scoped>\n",
       "    .dataframe tbody tr th:only-of-type {\n",
       "        vertical-align: middle;\n",
       "    }\n",
       "\n",
       "    .dataframe tbody tr th {\n",
       "        vertical-align: top;\n",
       "    }\n",
       "\n",
       "    .dataframe thead th {\n",
       "        text-align: right;\n",
       "    }\n",
       "</style>\n",
       "<table border=\"1\" class=\"dataframe\">\n",
       "  <thead>\n",
       "    <tr style=\"text-align: right;\">\n",
       "      <th></th>\n",
       "      <th>Наблюдений</th>\n",
       "      <th>Уникальных значений</th>\n",
       "      <th>Пропусков</th>\n",
       "      <th>Доля пропусков</th>\n",
       "      <th>Тип данных</th>\n",
       "    </tr>\n",
       "  </thead>\n",
       "  <tbody>\n",
       "    <tr>\n",
       "      <th>user_id</th>\n",
       "      <td>18268</td>\n",
       "      <td>16666</td>\n",
       "      <td>0</td>\n",
       "      <td>0.0</td>\n",
       "      <td>object</td>\n",
       "    </tr>\n",
       "    <tr>\n",
       "      <th>group</th>\n",
       "      <td>18268</td>\n",
       "      <td>2</td>\n",
       "      <td>0</td>\n",
       "      <td>0.0</td>\n",
       "      <td>object</td>\n",
       "    </tr>\n",
       "    <tr>\n",
       "      <th>ab_test</th>\n",
       "      <td>18268</td>\n",
       "      <td>2</td>\n",
       "      <td>0</td>\n",
       "      <td>0.0</td>\n",
       "      <td>object</td>\n",
       "    </tr>\n",
       "  </tbody>\n",
       "</table>\n",
       "</div>"
      ],
      "text/plain": [
       "         Наблюдений  Уникальных значений  Пропусков  Доля пропусков Тип данных\n",
       "user_id       18268                16666          0             0.0     object\n",
       "group         18268                    2          0             0.0     object\n",
       "ab_test       18268                    2          0             0.0     object"
      ]
     },
     "metadata": {},
     "output_type": "display_data"
    },
    {
     "name": "stdout",
     "output_type": "stream",
     "text": [
      "Диапазон индексов таблицы: 0 - 18267\n",
      "Количестов записей в таблице: 18268\n",
      "Количество строк-дубликатов: 0\n",
      "Доля строк-дубликатов дубликатов:0.00\n",
      "Количество столбцов: 3\n"
     ]
    }
   ],
   "source": [
    "description(users, 10)"
   ]
  },
  {
   "cell_type": "markdown",
   "id": "1a79941c",
   "metadata": {},
   "source": [
    "`users` — таблица участников тестов.\n",
    "\n",
    "Структура файла:\n",
    "\n",
    "    user_id — идентификатор пользователя;\n",
    "    ab_test — название теста;\n",
    "    group — группа пользователя.\n",
    "    \n",
    "Представлены данные о 16666 участниках тестов. Всего 18268 наблюдений. Некоторые пользователи учавствовали в несскольких тестах, либо попали в две группы одного теста. Необходимо провести проверку. Возможных тестовых групп и названий тестов 2.  "
   ]
  },
  {
   "cell_type": "markdown",
   "id": "5e93b743",
   "metadata": {},
   "source": [
    "### Вывод"
   ]
  },
  {
   "cell_type": "markdown",
   "id": "f96b155e",
   "metadata": {},
   "source": [
    "Загружено 4 файла `marketing_company`, `events`, `new_users`, `users`.  \n",
    "Таблица `marketing_company` содержит 14 наблюдений, о проведенных в течение 2020 года маркетинговых компаниях, регионах, дате начала и окончания компании.  \n",
    "Таблица `events` 440317 наблюдений о 4 типах событий совершённых 58703 пользователями, дату и дополнительную данные о событии(заполнено частично).  \n",
    "Таблица `new_users` содержит информацию о 61733 новых пользователях, зарегистрировавшихся в период с 07 по 21 декабря 2020 года.\n",
    "Таблица `users` содержит информацию с 18268 наблюдениями об участии пользвателей в 2х тестах с разбивкой на 2 группы.  \n",
    "\n",
    "На этапе предобработки неободимо:\n",
    "    \n",
    "    привести все столбцы, содержащие дату к типу date_time    \n",
    "    проверить данные на аномалии и дубликаты\n",
    "    выяснить природу пропущенных значений\n",
    "    проверить данные на соответствие техническому заданию в пунктах:  \n",
    "            дата запуска: 2020-12-07;\n",
    "            дата остановки: 2021-01-04;\n",
    "            дата остановки набора новых пользователей: 2020-12-21."
   ]
  },
  {
   "cell_type": "markdown",
   "id": "20b5ea4c",
   "metadata": {},
   "source": [
    "## Предобработка данных"
   ]
  },
  {
   "cell_type": "markdown",
   "id": "9f07b1fa",
   "metadata": {},
   "source": [
    "Функция `draw_bar` на вход получает таблицу с данными, наименование колонки для группировки и словарь для офрмления графика. На выходе строит столбчаю диаграмму распределения."
   ]
  },
  {
   "cell_type": "code",
   "execution_count": 9,
   "id": "46a7ac73",
   "metadata": {},
   "outputs": [],
   "source": [
    "def draw_bar(table, i):\n",
    "    plt.figure(figsize=(6, 3))\n",
    "    ax = sns.barplot(x= i, y='count', data = (table.groupby(i)\n",
    "                                              .agg(count=(i,'count'))\n",
    "                                              .sort_values(by = 'count', ascending = False)\n",
    "                                              .reset_index()))\n",
    "    plt.title(col_dict.get(i))\n",
    "    plt.xlabel(col_dict.get(i))\n",
    "    plt.xticks(rotation= 30)\n",
    "    plt.ylabel('Количество наблюдений')\n",
    "    for p in ax.patches:\n",
    "                percentage = '{:.2f}%'.format(100 * p.get_height()/len(table[i]))\n",
    "                x = p.get_x()\n",
    "                y = p.get_y() + p.get_height()\n",
    "                ax.annotate(percentage, (x, y))\n",
    "    plt.show()"
   ]
  },
  {
   "cell_type": "markdown",
   "id": "1c4bd6f0",
   "metadata": {},
   "source": [
    "Функция `content` на вход получает название таблицы и словарь с наименованиями колонок. Возвращает по столбцам название, количество пропусков, долю пропусков, тип данных. Для столбцов типа float строит ящик с усами. Для datetime выводит минимальное и максимальное значение. Для object с количеством уникальных наблюдений меньше 10, количество наблюдений по каждому уникальному значению, строит диаграмму распределения. Если уникальных наблюдений больше 10, выводит общее количество наблюдений и количество уникальных."
   ]
  },
  {
   "cell_type": "code",
   "execution_count": 10,
   "id": "25ad418f",
   "metadata": {},
   "outputs": [],
   "source": [
    "def content(table):\n",
    "    for i in table.columns:\n",
    "        print('\\n')\n",
    "        print ('\\033[1m' + col_dict.get(i))\n",
    "        print(i)\n",
    "        print ('\\033[0m')\n",
    "        print(f\"Количество пропусков: {table[i].isna().sum()}\")\n",
    "        print(f\"Доля пропусков: {round(table[i].isna().sum() / len(table), 3)}\")\n",
    "        print(f\"Тип данных: {table[i].dtype}\")\n",
    "        if table[i].dtype == 'float64':\n",
    "            print(table[i].describe())\n",
    "            plt.figure(figsize=(4,4))\n",
    "            ax = sns.boxplot(y = table[i])\n",
    "            ax.set_ylabel(col_dict.get(i))\n",
    "            ax.set_title(col_dict.get(i))\n",
    "            plt.show()\n",
    "        elif table[i].dtype == 'datetime64[ns]':\n",
    "            print(f\"Минимальная дата: {table[i].min() }\")\n",
    "            print(f\"Максимальная дата: {table[i].max() }\")\n",
    "            plt.figure(figsize=(10, 3))\n",
    "            ax = table[i].hist(alpha=0.6)\n",
    "            plt.xticks( rotation= 20)\n",
    "            plt.show()\n",
    "        elif table[i].dtype == 'object' and table[i].nunique()<10:\n",
    "            draw_bar(table,i)\n",
    "        else:\n",
    "            print(f\"Количество уникальных наблюдений: {table[i].nunique()}\")\n",
    "            print(f\"Количество наблюдений: {len(table[i])}\")\n",
    "            "
   ]
  },
  {
   "cell_type": "markdown",
   "id": "862e48a6",
   "metadata": {},
   "source": [
    "Зададим переменные для начала test_start и окончания test_finish теста и переменную user_set дата остановки набора новых пользователей."
   ]
  },
  {
   "cell_type": "code",
   "execution_count": 11,
   "id": "0a374b20",
   "metadata": {},
   "outputs": [],
   "source": [
    "test_start = dt.datetime(2020, 12, 7)\n",
    "test_finish = dt.datetime(2021, 1, 4)\n",
    "users_set = dt.datetime(2020, 12, 21)"
   ]
  },
  {
   "cell_type": "markdown",
   "id": "e5561926",
   "metadata": {},
   "source": [
    "Словарь наименований столбцов `col_dict`"
   ]
  },
  {
   "cell_type": "code",
   "execution_count": 12,
   "id": "5f6e3d73",
   "metadata": {},
   "outputs": [],
   "source": [
    "col_dict = {\n",
    "    'name': 'название маркетинговой компании',\n",
    "    'regions' : 'регион проведения компании',\n",
    "    'start_dt' : 'дата начала компании',\n",
    "    'finish_dt' : 'дата окончания  компании',\n",
    "    'user_id': 'идентификатор пользователя',\n",
    "    'event_dt' : 'дата и время события',\n",
    "    'event_name' : 'событие',\n",
    "    'details' : 'дополнительная информация',\n",
    "    'first_date' : 'дата регистрации',\n",
    "    'region' : 'регион',\n",
    "    'device' : 'устройство',\n",
    "    'group' : 'группа теста',\n",
    "    'ab_test' : 'имя теста'    \n",
    "}"
   ]
  },
  {
   "cell_type": "markdown",
   "id": "f466426d",
   "metadata": {},
   "source": [
    "### Приведение типов данных"
   ]
  },
  {
   "cell_type": "markdown",
   "id": "972a9121",
   "metadata": {},
   "source": [
    "Приведем столбцы с датами к типу datetime."
   ]
  },
  {
   "cell_type": "code",
   "execution_count": 13,
   "id": "c23f3841",
   "metadata": {},
   "outputs": [],
   "source": [
    "marketing_company['start_dt'] = pd.to_datetime(marketing_company['start_dt'])\n",
    "marketing_company['finish_dt'] = pd.to_datetime(marketing_company['finish_dt'])\n",
    "events['event_dt'] = pd.to_datetime(events['event_dt'])\n",
    "new_users['first_date'] = pd.to_datetime(new_users['first_date'])"
   ]
  },
  {
   "cell_type": "markdown",
   "id": "67546faf",
   "metadata": {},
   "source": [
    "### Анализ таблиц"
   ]
  },
  {
   "cell_type": "markdown",
   "id": "020ad3e0",
   "metadata": {},
   "source": [
    "#### Таблица marketing_company"
   ]
  },
  {
   "cell_type": "code",
   "execution_count": 14,
   "id": "0c8675c0",
   "metadata": {
    "scrolled": false
   },
   "outputs": [
    {
     "name": "stdout",
     "output_type": "stream",
     "text": [
      "\n",
      "\n",
      "\u001b[1mназвание маркетинговой компании\n",
      "name\n",
      "\u001b[0m\n",
      "Количество пропусков: 0\n",
      "Доля пропусков: 0.0\n",
      "Тип данных: object\n",
      "Количество уникальных наблюдений: 14\n",
      "Количество наблюдений: 14\n",
      "\n",
      "\n",
      "\u001b[1mрегион проведения компании\n",
      "regions\n",
      "\u001b[0m\n",
      "Количество пропусков: 0\n",
      "Доля пропусков: 0.0\n",
      "Тип данных: object\n"
     ]
    },
    {
     "data": {
      "image/png": "[encoded data removed]",
      "text/plain": [
       "<Figure size 600x300 with 1 Axes>"
      ]
     },
     "metadata": {},
     "output_type": "display_data"
    },
    {
     "name": "stdout",
     "output_type": "stream",
     "text": [
      "\n",
      "\n",
      "\u001b[1mдата начала компании\n",
      "start_dt\n",
      "\u001b[0m\n",
      "Количество пропусков: 0\n",
      "Доля пропусков: 0.0\n",
      "Тип данных: datetime64[ns]\n",
      "Минимальная дата: 2020-01-25 00:00:00\n",
      "Максимальная дата: 2020-12-30 00:00:00\n"
     ]
    },
    {
     "data": {
      "image/png": "[encoded data removed]",
      "text/plain": [
       "<Figure size 1000x300 with 1 Axes>"
      ]
     },
     "metadata": {},
     "output_type": "display_data"
    },
    {
     "name": "stdout",
     "output_type": "stream",
     "text": [
      "\n",
      "\n",
      "\u001b[1mдата окончания  компании\n",
      "finish_dt\n",
      "\u001b[0m\n",
      "Количество пропусков: 0\n",
      "Доля пропусков: 0.0\n",
      "Тип данных: datetime64[ns]\n",
      "Минимальная дата: 2020-02-07 00:00:00\n",
      "Максимальная дата: 2021-01-07 00:00:00\n"
     ]
    },
    {
     "data": {
      "image/png": "[encoded data removed]",
      "text/plain": [
       "<Figure size 1000x300 with 1 Axes>"
      ]
     },
     "metadata": {},
     "output_type": "display_data"
    }
   ],
   "source": [
    "content(marketing_company)"
   ]
  },
  {
   "cell_type": "markdown",
   "id": "6926eb1c",
   "metadata": {},
   "source": [
    "За 2020 год было проведено 14 маркетинговых акций, график отображающий регионы, учавствовавшие в акции не совсем корректен, не будем его перестраивать, так как из этой таблицы нам важно получить информацию о совпадении маркетинговых компаний с исследуемым тестом. Однако можно заметить, что на страны Азиатско-Тихоокеанского сообщества приходится большая часть акций, а именно 9, из них 4 направленные только на этот регион. На страны СНГ пришлось 7 акций( из них 2 индивидуальных). Страны Европы также 7(ни одной индивидуальной). На северную Америку 6(1 индивидуальная).  \n",
    "Судя по графикам маркетинговые компании пересекаются с исследуемым АВ тестом, посмотрим какие из них распространялись на европейский регион, на который был ориентирован тест."
   ]
  },
  {
   "cell_type": "code",
   "execution_count": 15,
   "id": "8dd3fd7f",
   "metadata": {
    "scrolled": false
   },
   "outputs": [
    {
     "data": {
      "text/html": [
       "<div>\n",
       "<style scoped>\n",
       "    .dataframe tbody tr th:only-of-type {\n",
       "        vertical-align: middle;\n",
       "    }\n",
       "\n",
       "    .dataframe tbody tr th {\n",
       "        vertical-align: top;\n",
       "    }\n",
       "\n",
       "    .dataframe thead th {\n",
       "        text-align: right;\n",
       "    }\n",
       "</style>\n",
       "<table border=\"1\" class=\"dataframe\">\n",
       "  <thead>\n",
       "    <tr style=\"text-align: right;\">\n",
       "      <th></th>\n",
       "      <th>name</th>\n",
       "      <th>regions</th>\n",
       "      <th>start_dt</th>\n",
       "      <th>finish_dt</th>\n",
       "    </tr>\n",
       "  </thead>\n",
       "  <tbody>\n",
       "    <tr>\n",
       "      <th>0</th>\n",
       "      <td>Christmas&amp;New Year Promo</td>\n",
       "      <td>EU, N.America</td>\n",
       "      <td>2020-12-25</td>\n",
       "      <td>2021-01-03</td>\n",
       "    </tr>\n",
       "  </tbody>\n",
       "</table>\n",
       "</div>"
      ],
      "text/plain": [
       "                       name        regions   start_dt  finish_dt\n",
       "0  Christmas&New Year Promo  EU, N.America 2020-12-25 2021-01-03"
      ]
     },
     "execution_count": 15,
     "metadata": {},
     "output_type": "execute_result"
    }
   ],
   "source": [
    "#marketing_company.query\\\n",
    "#('start_dt>=@test_start & start_dt<=@test_finish or finish_dt<=@test_finish & finish_dt>=@test_start')\n",
    "# Новый код\n",
    "marketing_company.loc[(marketing_company['start_dt']>=test_start) & (marketing_company['start_dt']<=test_finish)\\\n",
    "                     | (marketing_company['finish_dt']>=test_finish) & (marketing_company['finish_dt']<=test_start)\\\n",
    "                     | (marketing_company['start_dt']<=test_start) & (marketing_company['finish_dt']>=test_finish)]\\\n",
    ".loc[marketing_company['regions'].str.find('EU')==0]"
   ]
  },
  {
   "cell_type": "markdown",
   "id": "c0fe5896",
   "metadata": {},
   "source": [
    "Маркетинговая компания Christmas&New Year Promo, проводилась в том числе в Европе во время проведения теста. Это снижает его достоверность, так как она могла повлиять на поведение покупателей."
   ]
  },
  {
   "cell_type": "markdown",
   "id": "b24da461",
   "metadata": {},
   "source": [
    "#### Таблица `events`"
   ]
  },
  {
   "cell_type": "code",
   "execution_count": 16,
   "id": "5dbea092",
   "metadata": {
    "scrolled": false
   },
   "outputs": [
    {
     "name": "stdout",
     "output_type": "stream",
     "text": [
      "\n",
      "\n",
      "\u001b[1mидентификатор пользователя\n",
      "user_id\n",
      "\u001b[0m\n",
      "Количество пропусков: 0\n",
      "Доля пропусков: 0.0\n",
      "Тип данных: object\n",
      "Количество уникальных наблюдений: 58703\n",
      "Количество наблюдений: 440317\n",
      "\n",
      "\n",
      "\u001b[1mдата и время события\n",
      "event_dt\n",
      "\u001b[0m\n",
      "Количество пропусков: 0\n",
      "Доля пропусков: 0.0\n",
      "Тип данных: datetime64[ns]\n",
      "Минимальная дата: 2020-12-07 00:00:33\n",
      "Максимальная дата: 2020-12-30 23:36:33\n"
     ]
    },
    {
     "data": {
      "image/png": "[encoded data removed]",
      "text/plain": [
       "<Figure size 1000x300 with 1 Axes>"
      ]
     },
     "metadata": {},
     "output_type": "display_data"
    },
    {
     "name": "stdout",
     "output_type": "stream",
     "text": [
      "\n",
      "\n",
      "\u001b[1mсобытие\n",
      "event_name\n",
      "\u001b[0m\n",
      "Количество пропусков: 0\n",
      "Доля пропусков: 0.0\n",
      "Тип данных: object\n"
     ]
    },
    {
     "data": {
      "image/png": "[encoded data removed]",
      "text/plain": [
       "<Figure size 600x300 with 1 Axes>"
      ]
     },
     "metadata": {},
     "output_type": "display_data"
    },
    {
     "name": "stdout",
     "output_type": "stream",
     "text": [
      "\n",
      "\n",
      "\u001b[1mдополнительная информация\n",
      "details\n",
      "\u001b[0m\n",
      "Количество пропусков: 377577\n",
      "Доля пропусков: 0.858\n",
      "Тип данных: float64\n",
      "count    62740.000000\n",
      "mean        23.877631\n",
      "std         72.180465\n",
      "min          4.990000\n",
      "25%          4.990000\n",
      "50%          4.990000\n",
      "75%          9.990000\n",
      "max        499.990000\n",
      "Name: details, dtype: float64\n"
     ]
    },
    {
     "data": {
      "image/png": "[encoded data removed]",
      "text/plain": [
       "<Figure size 400x400 with 1 Axes>"
      ]
     },
     "metadata": {},
     "output_type": "display_data"
    }
   ],
   "source": [
    "content(events)"
   ]
  },
  {
   "cell_type": "markdown",
   "id": "05cad0df",
   "metadata": {},
   "source": [
    "Действия совершали 58703 пользователя. Согласно техническому заданию тест проводился с 7 декабря по 4 января, однако в таблице последнее наблюдение датируется 30 декабря в 23:36. Возможно тест был остановлен раньше указанного срока или в файл недогруженны данные, в любом случае это делает его результат не достаточно достоверным.  \n",
    "В данных 4 типа событий:\n",
    "    \n",
    "    `login` - авторизация\n",
    "    `product_page` - просмотр карточки товара\n",
    "    `product_card` - просмотр корзины\n",
    "    `purchase` - покупка\n",
    "    \n",
    "Мы видим, что покупок чуть больше, чем посмотров корзины, скорее всего пользователь может соверить покупку прямо из карточки товара.  \n",
    "75% совершали покупки на сумму от 4.99 до 9.99 у.е. Однако есть выбросы, их необходимо учесть при анализе результатов.  \n",
    "Мы видим, что число наблюдений о покупках, совпадает с количеством наблюдений в дополнительной информации, однако проверим есть ли наблюдения с наименованием действия \"purchase\" и пропуском в \"details\" "
   ]
  },
  {
   "cell_type": "code",
   "execution_count": 17,
   "id": "89aff204",
   "metadata": {},
   "outputs": [
    {
     "name": "stdout",
     "output_type": "stream",
     "text": [
      "Количество покупок без дополнительной информации 0\n",
      "Количество дополнительной информации для иных действий, кроме покупки 0\n"
     ]
    }
   ],
   "source": [
    "print('Количество покупок без дополнительной информации {}' \n",
    "      .format(len(events.query('event_name == \"purchase\" & details.isna() == True'))))\n",
    "print('Количество дополнительной информации для иных действий, кроме покупки {}' \n",
    "      .format(len(events.query('event_name != \"purchase\" & details.isna() == False'))))"
   ]
  },
  {
   "cell_type": "markdown",
   "id": "df796d17",
   "metadata": {},
   "source": [
    "Все дополнительные детали относятся к покупкам, у всех покупок есть детальная информация."
   ]
  },
  {
   "cell_type": "markdown",
   "id": "e518e931",
   "metadata": {},
   "source": [
    "#### Таблица `new_users`"
   ]
  },
  {
   "cell_type": "code",
   "execution_count": 18,
   "id": "edce3d28",
   "metadata": {
    "scrolled": false
   },
   "outputs": [
    {
     "name": "stdout",
     "output_type": "stream",
     "text": [
      "\n",
      "\n",
      "\u001b[1mидентификатор пользователя\n",
      "user_id\n",
      "\u001b[0m\n",
      "Количество пропусков: 0\n",
      "Доля пропусков: 0.0\n",
      "Тип данных: object\n",
      "Количество уникальных наблюдений: 61733\n",
      "Количество наблюдений: 61733\n",
      "\n",
      "\n",
      "\u001b[1mдата регистрации\n",
      "first_date\n",
      "\u001b[0m\n",
      "Количество пропусков: 0\n",
      "Доля пропусков: 0.0\n",
      "Тип данных: datetime64[ns]\n",
      "Минимальная дата: 2020-12-07 00:00:00\n",
      "Максимальная дата: 2020-12-23 00:00:00\n"
     ]
    },
    {
     "data": {
      "image/png": "[encoded data removed]",
      "text/plain": [
       "<Figure size 1000x300 with 1 Axes>"
      ]
     },
     "metadata": {},
     "output_type": "display_data"
    },
    {
     "name": "stdout",
     "output_type": "stream",
     "text": [
      "\n",
      "\n",
      "\u001b[1mрегион\n",
      "region\n",
      "\u001b[0m\n",
      "Количество пропусков: 0\n",
      "Доля пропусков: 0.0\n",
      "Тип данных: object\n"
     ]
    },
    {
     "data": {
      "image/png": "[encoded data removed]",
      "text/plain": [
       "<Figure size 600x300 with 1 Axes>"
      ]
     },
     "metadata": {},
     "output_type": "display_data"
    },
    {
     "name": "stdout",
     "output_type": "stream",
     "text": [
      "\n",
      "\n",
      "\u001b[1mустройство\n",
      "device\n",
      "\u001b[0m\n",
      "Количество пропусков: 0\n",
      "Доля пропусков: 0.0\n",
      "Тип данных: object\n"
     ]
    },
    {
     "data": {
      "image/png": "[encoded data removed]",
      "text/plain": [
       "<Figure size 600x300 with 1 Axes>"
      ]
     },
     "metadata": {},
     "output_type": "display_data"
    }
   ],
   "source": [
    "content(new_users)"
   ]
  },
  {
   "cell_type": "markdown",
   "id": "b010db49",
   "metadata": {},
   "source": [
    "C 7 по 23 декабря 2020 года зарегистрировались 61733 пользователя. 75% из Европы, 15% из Северной Америки, по 5% из стран Азиатско-Тихоокеанского региона и стран СНГ. Андройд устройства при регстрации использвали почти 45%.\n",
    "Датой остановки набора пользователей, согласно ТЗ является 21 декабря 2020 года. Создадим список `new_users_late` для пользователей, зарегистрировавшихся после контрольной даты."
   ]
  },
  {
   "cell_type": "code",
   "execution_count": 19,
   "id": "1a8160e0",
   "metadata": {},
   "outputs": [
    {
     "name": "stdout",
     "output_type": "stream",
     "text": [
      "Количество пользователей, зарегистрировавшихся после остановки набора по ТЗ: 5263\n",
      "Доля пользователей 8.5%\n"
     ]
    }
   ],
   "source": [
    "new_users_late = new_users.query('first_date > @users_set')['user_id'].values\n",
    "print('Количество пользователей, зарегистрировавшихся после остановки набора по ТЗ: {}'.format(len(new_users_late)))\n",
    "print('Доля пользователей {0:.1%}'.format(len(new_users_late)/len(new_users)))"
   ]
  },
  {
   "cell_type": "markdown",
   "id": "68fcf027",
   "metadata": {},
   "source": [
    "Итак у нас есть информация о 5263 пользователях(8.5%), которые зарегистрировались после остановки набора в тест.\n",
    "Проверим по скольким из них есть наблюдения в таблице events."
   ]
  },
  {
   "cell_type": "code",
   "execution_count": 20,
   "id": "356e963a",
   "metadata": {},
   "outputs": [
    {
     "name": "stdout",
     "output_type": "stream",
     "text": [
      "Количество пользователей, совершавших действия, среди зарегистрировавшихся после остановки набора 5263\n",
      "Количество совершенных ими действий: 32567\n"
     ]
    }
   ],
   "source": [
    "print('Количество пользователей, совершавших действия, среди зарегистрировавшихся после остановки набора {}'\\\n",
    "      .format(len(events.query('user_id in @new_users_late')['user_id'].unique())))\n",
    "print('Количество совершенных ими действий: {}'\\\n",
    "      .format(len(events.query('user_id in @new_users_late')['user_id'])))"
   ]
  },
  {
   "cell_type": "markdown",
   "id": "1e1d0128",
   "metadata": {},
   "source": [
    "Все пользователи, зарегистрированные после остановки набора в тест совершали действия, отображенные в таблице events. Количество действий 32567. После исследования таблицы users проверим попал ли кто-то из них в тест. "
   ]
  },
  {
   "cell_type": "markdown",
   "id": "cd3d02f9",
   "metadata": {},
   "source": [
    "#### Таблица `users`"
   ]
  },
  {
   "cell_type": "code",
   "execution_count": 21,
   "id": "cf689892",
   "metadata": {},
   "outputs": [
    {
     "name": "stdout",
     "output_type": "stream",
     "text": [
      "\n",
      "\n",
      "\u001b[1mидентификатор пользователя\n",
      "user_id\n",
      "\u001b[0m\n",
      "Количество пропусков: 0\n",
      "Доля пропусков: 0.0\n",
      "Тип данных: object\n",
      "Количество уникальных наблюдений: 16666\n",
      "Количество наблюдений: 18268\n",
      "\n",
      "\n",
      "\u001b[1mгруппа теста\n",
      "group\n",
      "\u001b[0m\n",
      "Количество пропусков: 0\n",
      "Доля пропусков: 0.0\n",
      "Тип данных: object\n"
     ]
    },
    {
     "data": {
      "image/png": "[encoded data removed]",
      "text/plain": [
       "<Figure size 600x300 with 1 Axes>"
      ]
     },
     "metadata": {},
     "output_type": "display_data"
    },
    {
     "name": "stdout",
     "output_type": "stream",
     "text": [
      "\n",
      "\n",
      "\u001b[1mимя теста\n",
      "ab_test\n",
      "\u001b[0m\n",
      "Количество пропусков: 0\n",
      "Доля пропусков: 0.0\n",
      "Тип данных: object\n"
     ]
    },
    {
     "data": {
      "image/png": "[encoded data removed]",
      "text/plain": [
       "<Figure size 600x300 with 1 Axes>"
      ]
     },
     "metadata": {},
     "output_type": "display_data"
    }
   ],
   "source": [
    "content(users)"
   ]
  },
  {
   "cell_type": "markdown",
   "id": "bad842a5",
   "metadata": {},
   "source": [
    "Уникальных значений 16666, всего наблюдений 18268, явно есть пересечения. Необходимо проверить как по тестам, так и по группам. Данные о разбивке по группам, содержат информацию о двух тестах interface_eu_test и recommender_system_test. Исходя из названия interface_eu_test должен распространяться только на Европу. Проверим, отобраны ли в исследуемый тест пользователи, зарегистрировавшиеся после окончания набора."
   ]
  },
  {
   "cell_type": "code",
   "execution_count": 22,
   "id": "82855d86",
   "metadata": {},
   "outputs": [
    {
     "data": {
      "text/plain": [
       "0"
      ]
     },
     "execution_count": 22,
     "metadata": {},
     "output_type": "execute_result"
    }
   ],
   "source": [
    "len(users.query('user_id in @new_users_late and ab_test == \"recommender_system_test\"'))"
   ]
  },
  {
   "cell_type": "markdown",
   "id": "c930f51e",
   "metadata": {},
   "source": [
    "Таких пользователей нет. Можем удалить из таблицы events и new_users всех пользователей зарегистрировавшихся посе остановки набора в тест и их действия."
   ]
  },
  {
   "cell_type": "code",
   "execution_count": 23,
   "id": "8c11f177",
   "metadata": {},
   "outputs": [
    {
     "data": {
      "text/plain": [
       "407750"
      ]
     },
     "execution_count": 23,
     "metadata": {},
     "output_type": "execute_result"
    }
   ],
   "source": [
    "events = events.query('user_id not in @new_users_late')\n",
    "events.shape[0]"
   ]
  },
  {
   "cell_type": "code",
   "execution_count": 24,
   "id": "58e65da2",
   "metadata": {},
   "outputs": [
    {
     "data": {
      "text/plain": [
       "56470"
      ]
     },
     "execution_count": 24,
     "metadata": {},
     "output_type": "execute_result"
    }
   ],
   "source": [
    "new_users = new_users.query('user_id not in @new_users_late')\n",
    "new_users.shape[0]"
   ]
  },
  {
   "cell_type": "markdown",
   "id": "66a73a2c",
   "metadata": {},
   "source": [
    "Мы удалили лишние данные, можем приступать к сборке таблицы для анализа теста и проверке на соответствие техническому заданию."
   ]
  },
  {
   "cell_type": "markdown",
   "id": "29863076",
   "metadata": {},
   "source": [
    "### Вывод"
   ]
  },
  {
   "cell_type": "markdown",
   "id": "dbf84fc0",
   "metadata": {},
   "source": [
    "На этапе преобработки столбцы, содержавшие временные данные приведены к типу datetime.  \n",
    "Выялены две маркетинговые компании, проводившиеся в период теста Christmas&New Year Promo, проводилась в Европе и Северной Америке, она могла сказаться на достоверности результатов теста.  \n",
    "\n",
    "Таблица с действиями пользователей содержат данные с 7 по 30 декабря 2020 года, тест проводился с 7 декабря по 4 января, это снижает достоверность результатов исследования.\n",
    "\n",
    "В таблицу с информацией о новых пользователях попали излишние данные, после проверки, что среди учатников теста нет пользователей, зарегистрировавшихся после остановки набора(21.12.2020), излишние наблюдения по этим пользателям были удалены. \n",
    "\n",
    "На следующем этапе соберем данные участников исследуемого теста(recommender_system_test) в единую таблицу и проверим на соответствие следующим пунктам технического задания:  \n",
    "\n",
    "    аудитория: 15% новых пользователей из региона EU;\n",
    "    ожидаемое количество участников теста: 6000;\n",
    "    лайфтайм пользователя не должен превышать 14 дней на момент совершения действия.\n"
   ]
  },
  {
   "cell_type": "markdown",
   "id": "fa6afb83",
   "metadata": {},
   "source": [
    "## Проверка аудитории теста"
   ]
  },
  {
   "cell_type": "markdown",
   "id": "ec494a20",
   "metadata": {},
   "source": [
    "Соединим таблицы users и new_users в test_data"
   ]
  },
  {
   "cell_type": "code",
   "execution_count": 25,
   "id": "12a84510",
   "metadata": {},
   "outputs": [],
   "source": [
    "test_data = users.merge(new_users, on = 'user_id', how = 'left')"
   ]
  },
  {
   "cell_type": "code",
   "execution_count": 26,
   "id": "e190d3d6",
   "metadata": {},
   "outputs": [
    {
     "data": {
      "text/html": [
       "<div>\n",
       "<style scoped>\n",
       "    .dataframe tbody tr th:only-of-type {\n",
       "        vertical-align: middle;\n",
       "    }\n",
       "\n",
       "    .dataframe tbody tr th {\n",
       "        vertical-align: top;\n",
       "    }\n",
       "\n",
       "    .dataframe thead th {\n",
       "        text-align: right;\n",
       "    }\n",
       "</style>\n",
       "<table border=\"1\" class=\"dataframe\">\n",
       "  <thead>\n",
       "    <tr style=\"text-align: right;\">\n",
       "      <th></th>\n",
       "      <th>user_id</th>\n",
       "      <th>group</th>\n",
       "      <th>ab_test</th>\n",
       "      <th>first_date</th>\n",
       "      <th>region</th>\n",
       "      <th>device</th>\n",
       "    </tr>\n",
       "  </thead>\n",
       "  <tbody>\n",
       "    <tr>\n",
       "      <th>0</th>\n",
       "      <td>D1ABA3E2887B6A73</td>\n",
       "      <td>A</td>\n",
       "      <td>recommender_system_test</td>\n",
       "      <td>2020-12-07</td>\n",
       "      <td>EU</td>\n",
       "      <td>PC</td>\n",
       "    </tr>\n",
       "    <tr>\n",
       "      <th>1</th>\n",
       "      <td>A7A3664BD6242119</td>\n",
       "      <td>A</td>\n",
       "      <td>recommender_system_test</td>\n",
       "      <td>2020-12-20</td>\n",
       "      <td>EU</td>\n",
       "      <td>iPhone</td>\n",
       "    </tr>\n",
       "    <tr>\n",
       "      <th>2</th>\n",
       "      <td>DABC14FDDFADD29E</td>\n",
       "      <td>A</td>\n",
       "      <td>recommender_system_test</td>\n",
       "      <td>2020-12-08</td>\n",
       "      <td>EU</td>\n",
       "      <td>Mac</td>\n",
       "    </tr>\n",
       "    <tr>\n",
       "      <th>3</th>\n",
       "      <td>04988C5DF189632E</td>\n",
       "      <td>A</td>\n",
       "      <td>recommender_system_test</td>\n",
       "      <td>2020-12-14</td>\n",
       "      <td>EU</td>\n",
       "      <td>iPhone</td>\n",
       "    </tr>\n",
       "    <tr>\n",
       "      <th>4</th>\n",
       "      <td>482F14783456D21B</td>\n",
       "      <td>B</td>\n",
       "      <td>recommender_system_test</td>\n",
       "      <td>2020-12-14</td>\n",
       "      <td>EU</td>\n",
       "      <td>PC</td>\n",
       "    </tr>\n",
       "  </tbody>\n",
       "</table>\n",
       "</div>"
      ],
      "text/plain": [
       "            user_id group                  ab_test first_date region  device\n",
       "0  D1ABA3E2887B6A73     A  recommender_system_test 2020-12-07     EU      PC\n",
       "1  A7A3664BD6242119     A  recommender_system_test 2020-12-20     EU  iPhone\n",
       "2  DABC14FDDFADD29E     A  recommender_system_test 2020-12-08     EU     Mac\n",
       "3  04988C5DF189632E     A  recommender_system_test 2020-12-14     EU  iPhone\n",
       "4  482F14783456D21B     B  recommender_system_test 2020-12-14     EU      PC"
      ]
     },
     "execution_count": 26,
     "metadata": {},
     "output_type": "execute_result"
    }
   ],
   "source": [
    "test_data.head()"
   ]
  },
  {
   "cell_type": "markdown",
   "id": "1a0eb29f",
   "metadata": {},
   "source": [
    "Согласно ТЗ в тесте должны принять участие 15% от новых пользователей из Европы, ожидаемая аудитория 6000 пользователей"
   ]
  },
  {
   "cell_type": "code",
   "execution_count": 27,
   "id": "202ab710",
   "metadata": {},
   "outputs": [
    {
     "name": "stdout",
     "output_type": "stream",
     "text": [
      "Процент европейских участников теста среди новых пользователей из Европы: 15.0%\n",
      "Количество участников теста: 6351\n"
     ]
    }
   ],
   "source": [
    "print('Процент европейских участников теста среди новых пользователей из Европы: {0:.1%}'\\\n",
    "      .format(len(test_data.query('ab_test == \"recommender_system_test\" and region == \"EU\"'))\\\n",
    "                  /len(new_users.query('region == \"EU\"'))))\n",
    "print('Количество участников теста: {}'.format(len(test_data.query('ab_test== \"recommender_system_test\" and region == \"EU\"'))))"
   ]
  },
  {
   "cell_type": "markdown",
   "id": "0fabedf2",
   "metadata": {},
   "source": [
    "Доля и количество набранных в тест пользователей соответствует техническому заданию. Однако необходимо проверить нет ли пересечения с конкурирующим тестом."
   ]
  },
  {
   "cell_type": "code",
   "execution_count": 28,
   "id": "3a8992ad",
   "metadata": {},
   "outputs": [
    {
     "name": "stdout",
     "output_type": "stream",
     "text": [
      "Количество пользователей, которые попали в два теста: 1602\n",
      "Доля:23.9%\n"
     ]
    }
   ],
   "source": [
    "users_two_test = users.groupby('user_id', as_index = False).agg({'ab_test':'nunique'}).query('ab_test>1')['user_id']\n",
    "print(f\"Количество пользователей, которые попали в два теста: {len(users_two_test)}\")\n",
    "print(\"Доля:{0:.1%}\" .format(len(users_two_test)/len(test_data.query('ab_test== \"recommender_system_test\"'))))"
   ]
  },
  {
   "cell_type": "markdown",
   "id": "5d727e55",
   "metadata": {},
   "source": [
    "Почти 24% участников теста попали в конкурирующий тест. Проверим в какую группу конкурирующего теста они попали."
   ]
  },
  {
   "cell_type": "code",
   "execution_count": 29,
   "id": "9135dc6c",
   "metadata": {},
   "outputs": [
    {
     "data": {
      "text/plain": [
       "group\n",
       "A    819\n",
       "B    783\n",
       "Name: user_id, dtype: int64"
      ]
     },
     "execution_count": 29,
     "metadata": {},
     "output_type": "execute_result"
    }
   ],
   "source": [
    "test_data.query('user_id in @users_two_test & ab_test==\"interface_eu_test\"').groupby('group')['user_id'].count()"
   ]
  },
  {
   "cell_type": "markdown",
   "id": "43ad67aa",
   "metadata": {},
   "source": [
    "Пользователей, попавших в группу А мы можем оставить, на них не влияют, изменения конкурирующего теста. Пользователей группы В, необходимо удалить, мы не можем быть уверены, какой из тестов повлиял на их активность."
   ]
  },
  {
   "cell_type": "code",
   "execution_count": 30,
   "id": "523502b0",
   "metadata": {},
   "outputs": [
    {
     "data": {
      "text/plain": [
       "783"
      ]
     },
     "execution_count": 30,
     "metadata": {},
     "output_type": "execute_result"
    }
   ],
   "source": [
    "user_to_delete = test_data.query('ab_test==\"interface_eu_test\" and user_id in @users_two_test and group==\"B\"')['user_id']\n",
    "len(user_to_delete)"
   ]
  },
  {
   "cell_type": "markdown",
   "id": "a32901a2",
   "metadata": {},
   "source": [
    "Проверим все ли пользователи из европейского региона."
   ]
  },
  {
   "cell_type": "code",
   "execution_count": 31,
   "id": "32cf8715",
   "metadata": {},
   "outputs": [
    {
     "data": {
      "text/plain": [
       "350"
      ]
     },
     "execution_count": 31,
     "metadata": {},
     "output_type": "execute_result"
    }
   ],
   "source": [
    "len(test_data.query('user_id not in @user_to_delete and ab_test==\"recommender_system_test\" and region!=\"EU\"'))"
   ]
  },
  {
   "cell_type": "markdown",
   "id": "8487d8df",
   "metadata": {},
   "source": [
    "Так же в тест попали 350 пользователей, не являющихся целевой аудиторией.Удалим из test_data данные об этих пользователях, все наблюдения по конкурирующему тесту и пользователей из иных регионов."
   ]
  },
  {
   "cell_type": "code",
   "execution_count": 32,
   "id": "27b83264",
   "metadata": {},
   "outputs": [],
   "source": [
    "test_data = test_data.query('user_id not in @user_to_delete and ab_test==\"recommender_system_test\" and region ==\"EU\"')"
   ]
  },
  {
   "cell_type": "markdown",
   "id": "30cf4bf2",
   "metadata": {},
   "source": [
    "Проверим нет ли у нас пересечения пользователей в группах внутри теста."
   ]
  },
  {
   "cell_type": "code",
   "execution_count": 33,
   "id": "1ce531e9",
   "metadata": {
    "scrolled": true
   },
   "outputs": [
    {
     "name": "stdout",
     "output_type": "stream",
     "text": [
      "Количество пользователей попавших в две группы исследуемного теста одновременно: 0\n"
     ]
    }
   ],
   "source": [
    "print(f\"Количество пользователей попавших в две группы исследуемного теста одновременно: \\\n",
    "{len(test_data.groupby('user_id').agg({'group':'nunique'}).query('group>1'))}\")"
   ]
  },
  {
   "cell_type": "markdown",
   "id": "73aa70df",
   "metadata": {},
   "source": [
    "Пользователи внутри теста расспределены по группам корректно. Проверим сколько осталось пользователей и какой процент от новых пользователей из Европы остался в данных."
   ]
  },
  {
   "cell_type": "code",
   "execution_count": 34,
   "id": "c2e97d8d",
   "metadata": {},
   "outputs": [
    {
     "name": "stdout",
     "output_type": "stream",
     "text": [
      "Процент европейских участников теста среди новых пользователей из Европы: 13.2%\n",
      "Количество участников теста: 5568\n"
     ]
    }
   ],
   "source": [
    "print('Процент европейских участников теста среди новых пользователей из Европы: {0:.1%}'\\\n",
    "      .format(len(test_data.query('ab_test == \"recommender_system_test\" and region == \"EU\"'))\\\n",
    "                  /len(new_users.query('region == \"EU\"'))))\n",
    "print('Количество участников теста: {}'.format(len(test_data.query('ab_test== \"recommender_system_test\"'))))"
   ]
  },
  {
   "cell_type": "markdown",
   "id": "5d92c71d",
   "metadata": {},
   "source": [
    "После удаления пользователей, попавших в тестовую группу В конкурирующего теста, мы вышли за рамки технического задания. Добавим в таблицу test_data действия по пользователям."
   ]
  },
  {
   "cell_type": "code",
   "execution_count": 35,
   "id": "6e45d5e7",
   "metadata": {},
   "outputs": [
    {
     "name": "stdout",
     "output_type": "stream",
     "text": [
      "Количество наблюдений о действиях участников теста:23082\n"
     ]
    }
   ],
   "source": [
    "test_data = events.merge(test_data, how='right',on='user_id')\n",
    "print(f'Количество наблюдений о действиях участников теста:{test_data.shape[0]}')"
   ]
  },
  {
   "cell_type": "markdown",
   "id": "44d415d3",
   "metadata": {},
   "source": [
    "Мы собрали данные в них попало 23082 наблюдений, в том числе информация о пользователях, совершивших лишь регистрацию, для них в event_name остался пропуск. Cогласно техническому заданию, ожидаемый эффект: за 14 дней с момента регистрации пользователи покажут улучшение каждой метрики не менее, чем на 10%. Добавим столбец с лайфтаймом пользователя на момент совершения действия и преобразуем его в количество дней."
   ]
  },
  {
   "cell_type": "code",
   "execution_count": 36,
   "id": "ef5c93de",
   "metadata": {},
   "outputs": [],
   "source": [
    "test_data['lifetime'] = (test_data['event_dt'] - test_data['first_date']).map(lambda x: x.days+1)\n",
    "col_dict['lifetime'] = 'лайфтам пользователя'"
   ]
  },
  {
   "cell_type": "markdown",
   "id": "fe996cfa",
   "metadata": {},
   "source": [
    "Удалим действия, у которых лайфтайм пользователя превышает 14 дней."
   ]
  },
  {
   "cell_type": "code",
   "execution_count": 37,
   "id": "1c40d9f6",
   "metadata": {
    "scrolled": true
   },
   "outputs": [],
   "source": [
    "test_data = test_data.query('lifetime<=14 or lifetime.isna()==True')"
   ]
  },
  {
   "cell_type": "markdown",
   "id": "f831f217",
   "metadata": {},
   "source": [
    "Проверим дату последнего наблюдения."
   ]
  },
  {
   "cell_type": "code",
   "execution_count": 38,
   "id": "956338cc",
   "metadata": {},
   "outputs": [
    {
     "data": {
      "text/plain": [
       "Timestamp('2020-12-29 23:38:29')"
      ]
     },
     "execution_count": 38,
     "metadata": {},
     "output_type": "execute_result"
    }
   ],
   "source": [
    "test_data['event_dt'].max()"
   ]
  },
  {
   "cell_type": "markdown",
   "id": "db8d7974",
   "metadata": {},
   "source": [
    "Последнее наблюдение по действиям пользователей 29 декабря. Скорее всего тест был остановлен раньше срока, либо нам предоставлены не полные данные. Возможно, пользователи перестали совершать какие-либо действия в связи с правздника, однако в Европе больше празднуется католичесое Рождество, выпадающее на 25 декабря, следовательно этот вариант маловероятен."
   ]
  },
  {
   "cell_type": "code",
   "execution_count": 39,
   "id": "44d31703",
   "metadata": {},
   "outputs": [
    {
     "data": {
      "text/html": [
       "<div>\n",
       "<style scoped>\n",
       "    .dataframe tbody tr th:only-of-type {\n",
       "        vertical-align: middle;\n",
       "    }\n",
       "\n",
       "    .dataframe tbody tr th {\n",
       "        vertical-align: top;\n",
       "    }\n",
       "\n",
       "    .dataframe thead th {\n",
       "        text-align: right;\n",
       "    }\n",
       "</style>\n",
       "<table border=\"1\" class=\"dataframe\">\n",
       "  <thead>\n",
       "    <tr style=\"text-align: right;\">\n",
       "      <th></th>\n",
       "      <th>user_id</th>\n",
       "      <th>event_dt</th>\n",
       "      <th>event_name</th>\n",
       "      <th>details</th>\n",
       "      <th>group</th>\n",
       "      <th>ab_test</th>\n",
       "      <th>first_date</th>\n",
       "      <th>region</th>\n",
       "      <th>device</th>\n",
       "      <th>lifetime</th>\n",
       "    </tr>\n",
       "  </thead>\n",
       "  <tbody>\n",
       "    <tr>\n",
       "      <th>21625</th>\n",
       "      <td>7E1AF6C5FC07021E</td>\n",
       "      <td>2020-12-14 12:25:29</td>\n",
       "      <td>login</td>\n",
       "      <td>NaN</td>\n",
       "      <td>A</td>\n",
       "      <td>recommender_system_test</td>\n",
       "      <td>2020-12-14</td>\n",
       "      <td>EU</td>\n",
       "      <td>Android</td>\n",
       "      <td>1.0</td>\n",
       "    </tr>\n",
       "    <tr>\n",
       "      <th>6177</th>\n",
       "      <td>E2F9D9C5F177CBE9</td>\n",
       "      <td>2020-12-19 18:54:55</td>\n",
       "      <td>product_page</td>\n",
       "      <td>NaN</td>\n",
       "      <td>B</td>\n",
       "      <td>recommender_system_test</td>\n",
       "      <td>2020-12-18</td>\n",
       "      <td>EU</td>\n",
       "      <td>Android</td>\n",
       "      <td>2.0</td>\n",
       "    </tr>\n",
       "    <tr>\n",
       "      <th>19676</th>\n",
       "      <td>DD2BC1ABB3311B35</td>\n",
       "      <td>NaT</td>\n",
       "      <td>NaN</td>\n",
       "      <td>NaN</td>\n",
       "      <td>B</td>\n",
       "      <td>recommender_system_test</td>\n",
       "      <td>2020-12-19</td>\n",
       "      <td>EU</td>\n",
       "      <td>iPhone</td>\n",
       "      <td>NaN</td>\n",
       "    </tr>\n",
       "    <tr>\n",
       "      <th>7033</th>\n",
       "      <td>A3EC85E750F2AFC6</td>\n",
       "      <td>2020-12-18 20:27:08</td>\n",
       "      <td>login</td>\n",
       "      <td>NaN</td>\n",
       "      <td>A</td>\n",
       "      <td>recommender_system_test</td>\n",
       "      <td>2020-12-15</td>\n",
       "      <td>EU</td>\n",
       "      <td>Android</td>\n",
       "      <td>4.0</td>\n",
       "    </tr>\n",
       "    <tr>\n",
       "      <th>3655</th>\n",
       "      <td>899282BE203420CE</td>\n",
       "      <td>2020-12-21 15:56:48</td>\n",
       "      <td>login</td>\n",
       "      <td>NaN</td>\n",
       "      <td>A</td>\n",
       "      <td>recommender_system_test</td>\n",
       "      <td>2020-12-21</td>\n",
       "      <td>EU</td>\n",
       "      <td>iPhone</td>\n",
       "      <td>1.0</td>\n",
       "    </tr>\n",
       "    <tr>\n",
       "      <th>10054</th>\n",
       "      <td>5D1A0C29AA615473</td>\n",
       "      <td>2020-12-24 19:17:35</td>\n",
       "      <td>login</td>\n",
       "      <td>NaN</td>\n",
       "      <td>A</td>\n",
       "      <td>recommender_system_test</td>\n",
       "      <td>2020-12-19</td>\n",
       "      <td>EU</td>\n",
       "      <td>iPhone</td>\n",
       "      <td>6.0</td>\n",
       "    </tr>\n",
       "    <tr>\n",
       "      <th>15293</th>\n",
       "      <td>38DA0BA08A977520</td>\n",
       "      <td>2020-12-27 22:50:53</td>\n",
       "      <td>login</td>\n",
       "      <td>NaN</td>\n",
       "      <td>A</td>\n",
       "      <td>recommender_system_test</td>\n",
       "      <td>2020-12-15</td>\n",
       "      <td>EU</td>\n",
       "      <td>PC</td>\n",
       "      <td>13.0</td>\n",
       "    </tr>\n",
       "    <tr>\n",
       "      <th>9238</th>\n",
       "      <td>14E7C76B7AB8822A</td>\n",
       "      <td>2020-12-16 19:10:28</td>\n",
       "      <td>login</td>\n",
       "      <td>NaN</td>\n",
       "      <td>A</td>\n",
       "      <td>recommender_system_test</td>\n",
       "      <td>2020-12-14</td>\n",
       "      <td>EU</td>\n",
       "      <td>iPhone</td>\n",
       "      <td>3.0</td>\n",
       "    </tr>\n",
       "    <tr>\n",
       "      <th>1245</th>\n",
       "      <td>12E86A81CC9AA775</td>\n",
       "      <td>2020-12-25 15:04:51</td>\n",
       "      <td>login</td>\n",
       "      <td>NaN</td>\n",
       "      <td>A</td>\n",
       "      <td>recommender_system_test</td>\n",
       "      <td>2020-12-21</td>\n",
       "      <td>EU</td>\n",
       "      <td>PC</td>\n",
       "      <td>5.0</td>\n",
       "    </tr>\n",
       "    <tr>\n",
       "      <th>13127</th>\n",
       "      <td>4DD82EC1BB4034B1</td>\n",
       "      <td>2020-12-09 08:01:43</td>\n",
       "      <td>purchase</td>\n",
       "      <td>4.99</td>\n",
       "      <td>A</td>\n",
       "      <td>recommender_system_test</td>\n",
       "      <td>2020-12-09</td>\n",
       "      <td>EU</td>\n",
       "      <td>Android</td>\n",
       "      <td>1.0</td>\n",
       "    </tr>\n",
       "  </tbody>\n",
       "</table>\n",
       "</div>"
      ],
      "text/plain": [
       "                user_id            event_dt    event_name  details group  \\\n",
       "21625  7E1AF6C5FC07021E 2020-12-14 12:25:29         login      NaN     A   \n",
       "6177   E2F9D9C5F177CBE9 2020-12-19 18:54:55  product_page      NaN     B   \n",
       "19676  DD2BC1ABB3311B35                 NaT           NaN      NaN     B   \n",
       "7033   A3EC85E750F2AFC6 2020-12-18 20:27:08         login      NaN     A   \n",
       "3655   899282BE203420CE 2020-12-21 15:56:48         login      NaN     A   \n",
       "10054  5D1A0C29AA615473 2020-12-24 19:17:35         login      NaN     A   \n",
       "15293  38DA0BA08A977520 2020-12-27 22:50:53         login      NaN     A   \n",
       "9238   14E7C76B7AB8822A 2020-12-16 19:10:28         login      NaN     A   \n",
       "1245   12E86A81CC9AA775 2020-12-25 15:04:51         login      NaN     A   \n",
       "13127  4DD82EC1BB4034B1 2020-12-09 08:01:43      purchase     4.99     A   \n",
       "\n",
       "                       ab_test first_date region   device  lifetime  \n",
       "21625  recommender_system_test 2020-12-14     EU  Android       1.0  \n",
       "6177   recommender_system_test 2020-12-18     EU  Android       2.0  \n",
       "19676  recommender_system_test 2020-12-19     EU   iPhone       NaN  \n",
       "7033   recommender_system_test 2020-12-15     EU  Android       4.0  \n",
       "3655   recommender_system_test 2020-12-21     EU   iPhone       1.0  \n",
       "10054  recommender_system_test 2020-12-19     EU   iPhone       6.0  \n",
       "15293  recommender_system_test 2020-12-15     EU       PC      13.0  \n",
       "9238   recommender_system_test 2020-12-14     EU   iPhone       3.0  \n",
       "1245   recommender_system_test 2020-12-21     EU       PC       5.0  \n",
       "13127  recommender_system_test 2020-12-09     EU  Android       1.0  "
      ]
     },
     "metadata": {},
     "output_type": "display_data"
    },
    {
     "data": {
      "text/html": [
       "<div>\n",
       "<style scoped>\n",
       "    .dataframe tbody tr th:only-of-type {\n",
       "        vertical-align: middle;\n",
       "    }\n",
       "\n",
       "    .dataframe tbody tr th {\n",
       "        vertical-align: top;\n",
       "    }\n",
       "\n",
       "    .dataframe thead th {\n",
       "        text-align: right;\n",
       "    }\n",
       "</style>\n",
       "<table border=\"1\" class=\"dataframe\">\n",
       "  <thead>\n",
       "    <tr style=\"text-align: right;\">\n",
       "      <th></th>\n",
       "      <th>Наблюдений</th>\n",
       "      <th>Уникальных значений</th>\n",
       "      <th>Пропусков</th>\n",
       "      <th>Доля пропусков</th>\n",
       "      <th>Тип данных</th>\n",
       "    </tr>\n",
       "  </thead>\n",
       "  <tbody>\n",
       "    <tr>\n",
       "      <th>user_id</th>\n",
       "      <td>22367</td>\n",
       "      <td>5568</td>\n",
       "      <td>0</td>\n",
       "      <td>0.000</td>\n",
       "      <td>object</td>\n",
       "    </tr>\n",
       "    <tr>\n",
       "      <th>event_dt</th>\n",
       "      <td>19849</td>\n",
       "      <td>13247</td>\n",
       "      <td>2518</td>\n",
       "      <td>0.113</td>\n",
       "      <td>datetime64[ns]</td>\n",
       "    </tr>\n",
       "    <tr>\n",
       "      <th>event_name</th>\n",
       "      <td>19849</td>\n",
       "      <td>4</td>\n",
       "      <td>2518</td>\n",
       "      <td>0.113</td>\n",
       "      <td>object</td>\n",
       "    </tr>\n",
       "    <tr>\n",
       "      <th>details</th>\n",
       "      <td>2719</td>\n",
       "      <td>4</td>\n",
       "      <td>19648</td>\n",
       "      <td>0.878</td>\n",
       "      <td>float64</td>\n",
       "    </tr>\n",
       "    <tr>\n",
       "      <th>group</th>\n",
       "      <td>22367</td>\n",
       "      <td>2</td>\n",
       "      <td>0</td>\n",
       "      <td>0.000</td>\n",
       "      <td>object</td>\n",
       "    </tr>\n",
       "    <tr>\n",
       "      <th>ab_test</th>\n",
       "      <td>22367</td>\n",
       "      <td>1</td>\n",
       "      <td>0</td>\n",
       "      <td>0.000</td>\n",
       "      <td>object</td>\n",
       "    </tr>\n",
       "    <tr>\n",
       "      <th>first_date</th>\n",
       "      <td>22367</td>\n",
       "      <td>15</td>\n",
       "      <td>0</td>\n",
       "      <td>0.000</td>\n",
       "      <td>datetime64[ns]</td>\n",
       "    </tr>\n",
       "    <tr>\n",
       "      <th>region</th>\n",
       "      <td>22367</td>\n",
       "      <td>1</td>\n",
       "      <td>0</td>\n",
       "      <td>0.000</td>\n",
       "      <td>object</td>\n",
       "    </tr>\n",
       "    <tr>\n",
       "      <th>device</th>\n",
       "      <td>22367</td>\n",
       "      <td>4</td>\n",
       "      <td>0</td>\n",
       "      <td>0.000</td>\n",
       "      <td>object</td>\n",
       "    </tr>\n",
       "    <tr>\n",
       "      <th>lifetime</th>\n",
       "      <td>19849</td>\n",
       "      <td>14</td>\n",
       "      <td>2518</td>\n",
       "      <td>0.113</td>\n",
       "      <td>float64</td>\n",
       "    </tr>\n",
       "  </tbody>\n",
       "</table>\n",
       "</div>"
      ],
      "text/plain": [
       "            Наблюдений  Уникальных значений  Пропусков  Доля пропусков  \\\n",
       "user_id          22367                 5568          0           0.000   \n",
       "event_dt         19849                13247       2518           0.113   \n",
       "event_name       19849                    4       2518           0.113   \n",
       "details           2719                    4      19648           0.878   \n",
       "group            22367                    2          0           0.000   \n",
       "ab_test          22367                    1          0           0.000   \n",
       "first_date       22367                   15          0           0.000   \n",
       "region           22367                    1          0           0.000   \n",
       "device           22367                    4          0           0.000   \n",
       "lifetime         19849                   14       2518           0.113   \n",
       "\n",
       "                Тип данных  \n",
       "user_id             object  \n",
       "event_dt    datetime64[ns]  \n",
       "event_name          object  \n",
       "details            float64  \n",
       "group               object  \n",
       "ab_test             object  \n",
       "first_date  datetime64[ns]  \n",
       "region              object  \n",
       "device              object  \n",
       "lifetime           float64  "
      ]
     },
     "metadata": {},
     "output_type": "display_data"
    },
    {
     "name": "stdout",
     "output_type": "stream",
     "text": [
      "Диапазон индексов таблицы: 0 - 23081\n",
      "Количестов записей в таблице: 22367\n",
      "Количество строк-дубликатов: 0\n",
      "Доля строк-дубликатов дубликатов:0.00\n",
      "Количество столбцов: 10\n"
     ]
    }
   ],
   "source": [
    "description(test_data, ns = 10)"
   ]
  },
  {
   "cell_type": "markdown",
   "id": "c15fad56",
   "metadata": {},
   "source": [
    "### Вывод"
   ]
  },
  {
   "cell_type": "markdown",
   "id": "4b5bef99",
   "metadata": {},
   "source": [
    "В иссследуемый тест был отобран 6701 пользователь, в том чисе 15% от новых европейских пользователей. Но 1602 попали в конкурирующий тест, 783 в группу В конкурирующего теста. Так как действия любого пользователя из тестовой группы конкурирующего теста могут сказаться на результате исследуемого. Обнаружены 350 пользователей не относящиеся к европейскому региону. Эти пользователи были удалены.   \n",
    "В результате техническое задание на этапе отбора в группы не соблюдено, осталось 5568 пользователей, что составляет 13.2% европейской аудитории, 11.3% не совершили ни одного действия кроме регистрации  \n",
    "Данные по действиям пользователей объединены в таблицу test_data.\n",
    "Добавлен столбец с лайфтаймом. Удалены действия, соверенные при лайфтайме пользователя более 14 дней. В итоге к анализу приняты 22367 наблюдений, 5568 пользователей.  \n",
    "На этапе предобработки было зафиксировано, что наблюдения по действиям пользователей ограничены 30 декабря.\n",
    "Датой последнего действия среди участников теста является  29 декабря 2020 года, время 23:38:29. Согласно техническому заданию, срок проведения теста с 7 декабря по 4 января. Либо тест был остановлен раньше срока, что недопустимо и нивелирует корректность результатов. Либо предоставлены не полные данные, что так же делает анализ не информативным.  \n",
    "Период отбора пользователей с 07 по 21 декабря, зафиксированный в техническом задании соблюден.  \n",
    "На следующем этапе исследуем полученные данные."
   ]
  },
  {
   "cell_type": "markdown",
   "id": "b2850887",
   "metadata": {},
   "source": [
    "## Исследовательский анализ данных теста"
   ]
  },
  {
   "cell_type": "markdown",
   "id": "f01abca4",
   "metadata": {},
   "source": [
    "Функция draw_hists для отрисовки распределений по необходимым признакам, base_col столбец, по которому ведется сравнение, col- критерий сравнения, data- данные для отрисовки, bins - количество корзин, по умолчанию определяется автоматически."
   ]
  },
  {
   "cell_type": "code",
   "execution_count": 40,
   "id": "12597ff2",
   "metadata": {},
   "outputs": [],
   "source": [
    "def draw_hists(base_col, col, data = test_data, bins = 'auto'):\n",
    "    plt.figure(figsize =(8,4))\n",
    "    sns.histplot( data = data, x = data[base_col], hue = col, palette = 'BuPu',\n",
    "                 stat = 'density',alpha = 0.4, kde = True, bins = bins, common_norm = False)\n",
    "    plt.title(f'Распределение {col_dict.get(base_col)} по признаку {col_dict.get(col)}')\n",
    "    plt.xlabel(col_dict.get(base_col))\n",
    "    plt.xticks(rotation =20)\n",
    "    plt.ylabel('плотность')"
   ]
  },
  {
   "cell_type": "markdown",
   "id": "41249e4e",
   "metadata": {},
   "source": [
    "Удалим столбец ab_test"
   ]
  },
  {
   "cell_type": "code",
   "execution_count": 41,
   "id": "49588c1d",
   "metadata": {},
   "outputs": [],
   "source": [
    "test_data = test_data.drop(['ab_test'], axis = 1)"
   ]
  },
  {
   "cell_type": "markdown",
   "id": "99b0656f",
   "metadata": {},
   "source": [
    "### Исследование общих данных"
   ]
  },
  {
   "cell_type": "markdown",
   "id": "199c1b72",
   "metadata": {},
   "source": [
    "Посмотрим общую информацию по данным"
   ]
  },
  {
   "cell_type": "code",
   "execution_count": 42,
   "id": "acafc49c",
   "metadata": {},
   "outputs": [
    {
     "name": "stdout",
     "output_type": "stream",
     "text": [
      "Общее количество событий: 22367\n",
      "Количество пользователей: 5568\n",
      "Среднее число действий на пользователя: 4\n",
      "Медианное число действий на пользователя: 2\n",
      "Максимальное число действий на пользователя: 24\n"
     ]
    }
   ],
   "source": [
    "print(f'Общее количество событий: {len(test_data)}')\n",
    "print(f\"Количество пользователей: {test_data['user_id'].nunique()}\")\n",
    "print(\"Среднее число действий на пользователя: {0:.0f}\"\n",
    "      .format(test_data['event_name'].count()/ test_data['user_id'].nunique()))\n",
    "print(\"Медианное число действий на пользователя: {0:.0f}\"\n",
    "      .format(test_data.groupby('user_id')['event_name'].count().median()))\n",
    "print(\"Максимальное число действий на пользователя: {0:.0f}\"\n",
    "      .format(test_data.groupby('user_id')['event_name'].count().max()))"
   ]
  },
  {
   "cell_type": "markdown",
   "id": "bedd11c5",
   "metadata": {},
   "source": [
    "Среднее и медианное количество действий на пользователя совпадают, максимум один пользователь совершил 24 действия"
   ]
  },
  {
   "cell_type": "markdown",
   "id": "0aaad606",
   "metadata": {},
   "source": [
    "Проверим насколько на показатели повлияли пользователи не совершившие ни одного действия."
   ]
  },
  {
   "cell_type": "code",
   "execution_count": 43,
   "id": "550d2cb6",
   "metadata": {},
   "outputs": [
    {
     "name": "stdout",
     "output_type": "stream",
     "text": [
      "Общее количество событий: 19849\n",
      "Количество пользователей: 3050\n",
      "Среднее число действий на пользователя: 7\n",
      "Медианное число действий на пользователя: 6\n",
      "Минимальное число действий на пользователя: 1\n"
     ]
    }
   ],
   "source": [
    "# Новый код\n",
    "print('Общее количество событий: {0:.0f}' .format(len(test_data.query(\"event_name.isna() == False\"))))\n",
    "print('Количество пользователей: {0:.0f}' .format(test_data.query(\"event_name.isna() == False\")['user_id'].nunique()))\n",
    "print(\"Среднее число действий на пользователя: {0:.0f}\"\n",
    "      .format(test_data.query(\"event_name.isna() == False\")['event_name'].count()\\\n",
    "              / test_data.query(\"event_name.isna() == False\")['user_id'].nunique()))\n",
    "print(\"Медианное число действий на пользователя: {0:.0f}\"\n",
    "      .format(test_data.query(\"event_name.isna() == False\").groupby('user_id')['event_name'].count().median()))\n",
    "print(\"Минимальное число действий на пользователя: {0:.0f}\"\n",
    "      .format(test_data.query(\"event_name.isna() == False\").groupby('user_id')['event_name'].count().min()))"
   ]
  },
  {
   "cell_type": "markdown",
   "id": "24c9d19c",
   "metadata": {},
   "source": [
    "Среди совершивших хотя бы одно действие пользователей показатели заметно выросли, чаще всего они совершали 6 действий, однако были более активные пользователи, поэтому среднее количество действий чуть больше, их 7. Однако есть и те, кто только авторизовались. "
   ]
  },
  {
   "cell_type": "markdown",
   "id": "150c7cfb",
   "metadata": {},
   "source": [
    "Посмотрим как распределялась активность регистрации пользователей"
   ]
  },
  {
   "cell_type": "code",
   "execution_count": 44,
   "id": "a29d1e44",
   "metadata": {},
   "outputs": [
    {
     "data": {
      "image/png": "[encoded data removed]",
      "text/plain": [
       "<Figure size 1000x300 with 1 Axes>"
      ]
     },
     "metadata": {},
     "output_type": "display_data"
    }
   ],
   "source": [
    "plt.figure(figsize=(10, 3))\n",
    "ax = test_data['first_date'].hist()\n",
    "plt.xticks( rotation= 20)\n",
    "plt.title('Распределение пользователей по дням регистрации')\n",
    "plt.xlabel('дата')\n",
    "plt.ylabel('количество пользователей')\n",
    "plt.show()"
   ]
  },
  {
   "cell_type": "markdown",
   "id": "6a2bc825",
   "metadata": {},
   "source": [
    "В последний день набора в тест зафиксировано максимальное количество регистраций. Так же заметен всплеск регистраций 14-15. Посмотрим как распределена активность в течение дня."
   ]
  },
  {
   "cell_type": "code",
   "execution_count": 45,
   "id": "e9a2760a",
   "metadata": {},
   "outputs": [
    {
     "data": {
      "image/png": "[encoded data removed]",
      "text/plain": [
       "<Figure size 1000x300 with 1 Axes>"
      ]
     },
     "metadata": {},
     "output_type": "display_data"
    }
   ],
   "source": [
    "plt.figure(figsize=(10, 3))\n",
    "ax = test_data['event_dt'].hist()\n",
    "plt.xticks( rotation= 20)\n",
    "plt.title('Распределение действий по дням ')\n",
    "plt.xlabel('дата')\n",
    "plt.ylabel('количество действий')\n",
    "plt.show()"
   ]
  },
  {
   "cell_type": "markdown",
   "id": "c58d06fe",
   "metadata": {},
   "source": [
    "Подъем активности пользователей начинается с 14 декабря и продолжается до 23го. Пик 21-22 числа. Либо маркетинговая компании Christmas&New Year Promo,проводившиеся период с 25 декабря по 3 января никак не повлияли на пользователей, либо у нас очень серьезный недостаток данных. Посмотрим на распределение активности по времени суток."
   ]
  },
  {
   "cell_type": "code",
   "execution_count": 46,
   "id": "8d4be9bb",
   "metadata": {},
   "outputs": [
    {
     "data": {
      "image/png": "[encoded data removed]",
      "text/plain": [
       "<Figure size 1000x300 with 1 Axes>"
      ]
     },
     "metadata": {},
     "output_type": "display_data"
    }
   ],
   "source": [
    "plt.figure(figsize=(10, 3))\n",
    "ax = test_data['event_dt'].dt.hour.hist(bins=24)\n",
    "plt.xticks(range(0, 23))\n",
    "plt.title('Распределение действий по времени суток')\n",
    "plt.xlabel('время дня')\n",
    "plt.ylabel('количество действий')\n",
    "plt.show()"
   ]
  },
  {
   "cell_type": "markdown",
   "id": "345df0e8",
   "metadata": {},
   "source": [
    "Самая низкая активность с 9:30 до 12:30.Самая высокая около 8 утра."
   ]
  },
  {
   "cell_type": "markdown",
   "id": "ac957506",
   "metadata": {},
   "source": [
    "#### Общая воронка событий"
   ]
  },
  {
   "cell_type": "markdown",
   "id": "5f9d3e41",
   "metadata": {},
   "source": [
    "Сгруппируем данные по событиям и посчитаем количество наблюдений и участвовавших в них пользователей."
   ]
  },
  {
   "cell_type": "code",
   "execution_count": 47,
   "id": "ea689801",
   "metadata": {},
   "outputs": [
    {
     "data": {
      "text/html": [
       "<div>\n",
       "<style scoped>\n",
       "    .dataframe tbody tr th:only-of-type {\n",
       "        vertical-align: middle;\n",
       "    }\n",
       "\n",
       "    .dataframe tbody tr th {\n",
       "        vertical-align: top;\n",
       "    }\n",
       "\n",
       "    .dataframe thead th {\n",
       "        text-align: right;\n",
       "    }\n",
       "</style>\n",
       "<table border=\"1\" class=\"dataframe\">\n",
       "  <thead>\n",
       "    <tr style=\"text-align: right;\">\n",
       "      <th></th>\n",
       "      <th>event_name</th>\n",
       "      <th>count</th>\n",
       "      <th>user_count</th>\n",
       "      <th>n</th>\n",
       "    </tr>\n",
       "  </thead>\n",
       "  <tbody>\n",
       "    <tr>\n",
       "      <th>0</th>\n",
       "      <td>login</td>\n",
       "      <td>8968</td>\n",
       "      <td>3049</td>\n",
       "      <td>1</td>\n",
       "    </tr>\n",
       "    <tr>\n",
       "      <th>2</th>\n",
       "      <td>product_page</td>\n",
       "      <td>5536</td>\n",
       "      <td>1905</td>\n",
       "      <td>2</td>\n",
       "    </tr>\n",
       "    <tr>\n",
       "      <th>1</th>\n",
       "      <td>product_cart</td>\n",
       "      <td>2626</td>\n",
       "      <td>900</td>\n",
       "      <td>3</td>\n",
       "    </tr>\n",
       "    <tr>\n",
       "      <th>3</th>\n",
       "      <td>purchase</td>\n",
       "      <td>2719</td>\n",
       "      <td>953</td>\n",
       "      <td>4</td>\n",
       "    </tr>\n",
       "  </tbody>\n",
       "</table>\n",
       "</div>"
      ],
      "text/plain": [
       "     event_name  count  user_count  n\n",
       "0         login   8968        3049  1\n",
       "2  product_page   5536        1905  2\n",
       "1  product_cart   2626         900  3\n",
       "3      purchase   2719         953  4"
      ]
     },
     "execution_count": 47,
     "metadata": {},
     "output_type": "execute_result"
    }
   ],
   "source": [
    "user_event = (test_data\n",
    "              .pivot_table(index = 'event_name', values = 'user_id', aggfunc = ['count', 'nunique'])\n",
    "              .reset_index())\n",
    "user_event.columns=['event_name','count', 'user_count']\n",
    "user_event['n'] =[1,3,2,4]\n",
    "user_event = user_event.sort_values(by ='n')\n",
    "user_event"
   ]
  },
  {
   "cell_type": "markdown",
   "id": "1f475fc7",
   "metadata": {},
   "source": [
    "Мы видим, что покупок больше, чем просмотров корзины. Однозначно определеть воронку событий не получится. Пользователи могут идти двумя путями:\n",
    "1. авторизация - промотр товара - корзина - покупка\n",
    "2. авторизация - просмотр товара - покупка"
   ]
  },
  {
   "cell_type": "markdown",
   "id": "d9ae76a3",
   "metadata": {},
   "source": [
    "Построим воронку"
   ]
  },
  {
   "cell_type": "code",
   "execution_count": 48,
   "id": "79c36d56",
   "metadata": {},
   "outputs": [
    {
     "data": {
      "image/png": "[encoded data removed]"
     },
     "metadata": {},
     "output_type": "display_data"
    }
   ],
   "source": [
    "fig = go.Figure(\n",
    "    go.Funnel(y = ['Авторизация','Просмотр товара','Просмотр корзины','Покупка'],\n",
    "              x = user_event['user_count'],\n",
    "              textposition = 'inside',\n",
    "              textinfo = 'value + percent initial'\n",
    "                         ))\n",
    "fig.update_layout(title={\n",
    "        'text': \"Воронка событий\",\n",
    "        'y':0.9,\n",
    "        'x':0.5}\n",
    ")\n",
    "fig.show()"
   ]
  },
  {
   "cell_type": "markdown",
   "id": "9750e52d",
   "metadata": {},
   "source": [
    "От авторизации к просмотру товара переходят 62.6%, в корзину переходят 46.9% из них. Конверсия авторизовавшихся в оплативших покупки составляет 30.8%."
   ]
  },
  {
   "cell_type": "markdown",
   "id": "11536850",
   "metadata": {},
   "source": [
    "### Сравнение групп"
   ]
  },
  {
   "cell_type": "markdown",
   "id": "83aaf6ff",
   "metadata": {},
   "source": [
    "Посмотрим как распределены пользователи, не совершавшие действий, внутри групп."
   ]
  },
  {
   "cell_type": "code",
   "execution_count": 49,
   "id": "5370fa27",
   "metadata": {},
   "outputs": [
    {
     "name": "stdout",
     "output_type": "stream",
     "text": [
      "Количество пользователей, не совершивших ни одного действия в группе А:916\n",
      "Доля:5.5%\n"
     ]
    }
   ],
   "source": [
    "print(\"Количество пользователей, не совершивших ни одного действия в группе А:{}\"\\\n",
    "      .format(len(test_data.query('group==\"A\" and event_name.isna()'))))\n",
    "print(\"Доля:{0:.1%}\" \n",
    "      .format(len(test_data.query('group==\"A\" and event_name.isna()'))/len(test_data.query('group == \"A\"'))))"
   ]
  },
  {
   "cell_type": "code",
   "execution_count": 50,
   "id": "3155850d",
   "metadata": {},
   "outputs": [
    {
     "name": "stdout",
     "output_type": "stream",
     "text": [
      "Количество пользователей, не совершивших ни одного действия в группе B:1602\n",
      "Доля:28.0%\n"
     ]
    }
   ],
   "source": [
    "print(\"Количество пользователей, не совершивших ни одного действия в группе B:{}\"\\\n",
    "      .format(len(test_data.query('group==\"B\" and event_name.isna()'))))\n",
    "print(\"Доля:{0:.1%}\" \n",
    "      .format(len(test_data.query('group==\"B\" and event_name.isna()'))/len(test_data.query('group == \"B\"'))))"
   ]
  },
  {
   "cell_type": "markdown",
   "id": "62a162a8",
   "metadata": {},
   "source": [
    "Необходимо проверить техническую корректность тестовых изменений, почти 28% из них не стали после регистрации совершать никаких действий. По сравнению с 5.3% в контрольной группе. Посмотрим как распредлены участники теста и события по группам."
   ]
  },
  {
   "cell_type": "code",
   "execution_count": 51,
   "id": "cb2c56a5",
   "metadata": {},
   "outputs": [
    {
     "data": {
      "text/html": [
       "<div>\n",
       "<style scoped>\n",
       "    .dataframe tbody tr th:only-of-type {\n",
       "        vertical-align: middle;\n",
       "    }\n",
       "\n",
       "    .dataframe tbody tr th {\n",
       "        vertical-align: top;\n",
       "    }\n",
       "\n",
       "    .dataframe thead tr th {\n",
       "        text-align: left;\n",
       "    }\n",
       "</style>\n",
       "<table border=\"1\" class=\"dataframe\">\n",
       "  <thead>\n",
       "    <tr>\n",
       "      <th></th>\n",
       "      <th>group</th>\n",
       "      <th>nunique</th>\n",
       "      <th>count</th>\n",
       "      <th>%_of_users</th>\n",
       "      <th>%_of_events</th>\n",
       "    </tr>\n",
       "    <tr>\n",
       "      <th></th>\n",
       "      <th></th>\n",
       "      <th>user_id</th>\n",
       "      <th>user_id</th>\n",
       "      <th></th>\n",
       "      <th></th>\n",
       "    </tr>\n",
       "  </thead>\n",
       "  <tbody>\n",
       "    <tr>\n",
       "      <th>0</th>\n",
       "      <td>A</td>\n",
       "      <td>3195</td>\n",
       "      <td>16642</td>\n",
       "      <td>57.38</td>\n",
       "      <td>74.4</td>\n",
       "    </tr>\n",
       "    <tr>\n",
       "      <th>1</th>\n",
       "      <td>B</td>\n",
       "      <td>2373</td>\n",
       "      <td>5725</td>\n",
       "      <td>42.62</td>\n",
       "      <td>25.6</td>\n",
       "    </tr>\n",
       "    <tr>\n",
       "      <th>2</th>\n",
       "      <td>All</td>\n",
       "      <td>5568</td>\n",
       "      <td>22367</td>\n",
       "      <td>100.00</td>\n",
       "      <td>100.0</td>\n",
       "    </tr>\n",
       "  </tbody>\n",
       "</table>\n",
       "</div>"
      ],
      "text/plain": [
       "  group nunique   count %_of_users %_of_events\n",
       "        user_id user_id                       \n",
       "0     A    3195   16642      57.38        74.4\n",
       "1     B    2373    5725      42.62        25.6\n",
       "2   All    5568   22367     100.00       100.0"
      ]
     },
     "execution_count": 51,
     "metadata": {},
     "output_type": "execute_result"
    }
   ],
   "source": [
    "user_group = test_data.pivot_table(index = 'group',\n",
    "                                    values='user_id', \n",
    "                                    aggfunc = ['nunique','count'],\n",
    "                                    margins = True).reset_index()\n",
    "user_group['%_of_users'] = round(user_group[('nunique','user_id')]/ user_group[('nunique','user_id')][2]*100, 2)\n",
    "user_group['%_of_events'] = round(user_group[('count','user_id')]/ user_group[('count','user_id')][2]*100, 2)\n",
    "user_group"
   ]
  },
  {
   "cell_type": "markdown",
   "id": "1b25a225",
   "metadata": {},
   "source": [
    "Пользователи и действия распределены неравномерно по группам. Контрольная группа составляет около 57%, тестовая около 43%. Количество событий в тестовой группе лишь 25% от всех событий. Проверим средние, медианные и максимальные показатели по дествиям в группах."
   ]
  },
  {
   "cell_type": "code",
   "execution_count": 52,
   "id": "4d53380b",
   "metadata": {},
   "outputs": [
    {
     "name": "stdout",
     "output_type": "stream",
     "text": [
      "Среднее число действий на пользователя в группе А: 5\n",
      "Медианное число действий на пользователя в группе А: 4\n",
      "Максимальное число действий на пользователя в группе А: 24\n",
      "Среднее число действий на пользователя в группе B: 1\n",
      "Медианное число действий на пользователя в группе B: 0\n",
      "Максимальное число действий на пользователя в группе B: 24\n"
     ]
    }
   ],
   "source": [
    "print(\"Среднее число действий на пользователя в группе А: {0:.0f}\"\n",
    "      .format(test_data.query('group==\"A\"')['event_name'].count()/ test_data.query('group==\"A\"')['user_id'].nunique()))\n",
    "print(\"Медианное число действий на пользователя в группе А: {0:.0f}\"\n",
    "      .format(test_data.query('group==\"A\"').groupby('user_id')['event_name'].count().median()))\n",
    "print(\"Максимальное число действий на пользователя в группе А: {0:.0f}\"\n",
    "      .format(test_data.query('group==\"A\"').groupby('user_id')['event_name'].count().max()))\n",
    "print(\"Среднее число действий на пользователя в группе B: {0:.0f}\"\n",
    "      .format(test_data.query('group==\"B\"')['event_name'].count()/ test_data.query('group==\"A\"')['user_id'].nunique()))\n",
    "print(\"Медианное число действий на пользователя в группе B: {0:.0f}\"\n",
    "      .format(test_data.query('group==\"B\"').groupby('user_id')['event_name'].count().median()))\n",
    "print(\"Максимальное число действий на пользователя в группе B: {0:.0f}\"\n",
    "      .format(test_data.query('group==\"B\"').groupby('user_id')['event_name'].count().max()))"
   ]
  },
  {
   "cell_type": "markdown",
   "id": "4e1f529f",
   "metadata": {},
   "source": [
    "Максимальные количества действий на пользователя в группах совпадают. В контрольной группе есть активные пользователи, совершающие много действий. А в тестововй группе основная масса пользователей только зарегистрировалась и больше не использовала приложение. Проверим суммы заказов в группах."
   ]
  },
  {
   "cell_type": "code",
   "execution_count": 53,
   "id": "fed3f297",
   "metadata": {},
   "outputs": [
    {
     "name": "stdout",
     "output_type": "stream",
     "text": [
      "Сумма покупки на пользователя\n"
     ]
    },
    {
     "data": {
      "text/plain": [
       "group\n",
       "A    15.916451\n",
       "B     4.865044\n",
       "dtype: float64"
      ]
     },
     "execution_count": 53,
     "metadata": {},
     "output_type": "execute_result"
    }
   ],
   "source": [
    "print(\"Сумма покупки на пользователя\")\n",
    "test_data.groupby('group')['details'].sum()/test_data.groupby('group')['user_id'].nunique()"
   ]
  },
  {
   "cell_type": "markdown",
   "id": "819996f6",
   "metadata": {},
   "source": [
    " В группе A в среднем каждый пользователь совершил покупку на почти 16 долларов. В группе В чуть меньше, чем на 5 долларов."
   ]
  },
  {
   "cell_type": "markdown",
   "id": "671443c6",
   "metadata": {},
   "source": [
    "Проверим показатели среди совершивших хотя бы одно действие пользователях."
   ]
  },
  {
   "cell_type": "code",
   "execution_count": 54,
   "id": "32d1e71a",
   "metadata": {},
   "outputs": [
    {
     "name": "stdout",
     "output_type": "stream",
     "text": [
      "Среднее число действий на пользователя в группе А: 7\n",
      "Медианное число действий на пользователя в группе А: 6\n",
      "Минимальное число действий на пользователя в группе А: 1\n",
      "Среднее число действий на пользователя в группе B: 2\n",
      "Медианное число действий на пользователя в группе B: 4\n",
      "Минимальное число действий на пользователя в группе B: 1\n"
     ]
    }
   ],
   "source": [
    "print(\"Среднее число действий на пользователя в группе А: {0:.0f}\"\n",
    "      .format(test_data.query('group==\"A\" and event_name.isna()== False')['event_name'].count()\\\n",
    "              / test_data.query('group==\"A\" and event_name.isna()== False')['user_id'].nunique()))\n",
    "print(\"Медианное число действий на пользователя в группе А: {0:.0f}\"\n",
    "      .format(test_data.query('group==\"A\" and event_name.isna()== False').groupby('user_id')['event_name'].count().median()))\n",
    "print(\"Минимальное число действий на пользователя в группе А: {0:.0f}\"\n",
    "      .format(test_data.query('group==\"A\" and event_name.isna()== False').groupby('user_id')['event_name'].count().min()))\n",
    "print(\"Среднее число действий на пользователя в группе B: {0:.0f}\"\n",
    "      .format(test_data.query('group==\"B\" and event_name.isna()== False')['event_name'].count()\\\n",
    "              / test_data.query('group==\"A\" and event_name.isna()== False')['user_id'].nunique()))\n",
    "print(\"Медианное число действий на пользователя в группе B: {0:.0f}\"\n",
    "      .format(test_data.query('group==\"B\" and event_name.isna()== False').groupby('user_id')['event_name'].count().median()))\n",
    "print(\"Минимальное число действий на пользователя в группе B: {0:.0f}\"\n",
    "      .format(test_data.query('group==\"B\" and event_name.isna()== False').groupby('user_id')['event_name'].count().min()))"
   ]
  },
  {
   "cell_type": "markdown",
   "id": "9c7e9b25",
   "metadata": {},
   "source": [
    "Группа A по преженему превосходит группу В и в нейесть пользователи совершаюшие большое количество действий. В группе В среднее вдвое меньше медианы, а значит многие пользователи совершают мало дейтсвий"
   ]
  },
  {
   "cell_type": "code",
   "execution_count": 55,
   "id": "c2ab17ad",
   "metadata": {},
   "outputs": [
    {
     "data": {
      "text/plain": [
       "group\n",
       "A    22.313760\n",
       "B    14.973735\n",
       "dtype: float64"
      ]
     },
     "execution_count": 55,
     "metadata": {},
     "output_type": "execute_result"
    }
   ],
   "source": [
    "test_data.query('event_name.isna()== False').groupby('group')['details'].sum()\\\n",
    "/test_data.query('event_name.isna()== False').groupby('group')['user_id'].nunique()"
   ]
  },
  {
   "cell_type": "markdown",
   "id": "a671ce5f",
   "metadata": {},
   "source": [
    "Средние суммы покупок на пользователя, совершившего хотя бы одно действие выросли, в группе А 22.3 доллара, в группе В 15."
   ]
  },
  {
   "cell_type": "markdown",
   "id": "8e33ad80",
   "metadata": {},
   "source": [
    "Распределение регистраций пользователей по группам"
   ]
  },
  {
   "cell_type": "code",
   "execution_count": 56,
   "id": "df8c3801",
   "metadata": {},
   "outputs": [
    {
     "data": {
      "image/png": "[encoded data removed]",
      "text/plain": [
       "<Figure size 800x400 with 1 Axes>"
      ]
     },
     "metadata": {},
     "output_type": "display_data"
    }
   ],
   "source": [
    "draw_hists('first_date','group')"
   ]
  },
  {
   "cell_type": "markdown",
   "id": "b82bbcfe",
   "metadata": {},
   "source": [
    "Активность регистрационных действий в первой половине периода выше в группе В."
   ]
  },
  {
   "cell_type": "markdown",
   "id": "56675e4a",
   "metadata": {},
   "source": [
    "Распределение действий в группах"
   ]
  },
  {
   "cell_type": "code",
   "execution_count": 57,
   "id": "4b322055",
   "metadata": {},
   "outputs": [
    {
     "data": {
      "image/png": "[encoded data removed]",
      "text/plain": [
       "<Figure size 800x400 with 1 Axes>"
      ]
     },
     "metadata": {},
     "output_type": "display_data"
    }
   ],
   "source": [
    "draw_hists('event_dt','group')"
   ]
  },
  {
   "cell_type": "markdown",
   "id": "176d9ca9",
   "metadata": {},
   "source": [
    "Группа В была более активна в первой половине наблюдаемого периода."
   ]
  },
  {
   "cell_type": "markdown",
   "id": "6fc88c02",
   "metadata": {},
   "source": [
    "Скорее всего активность в контрольной группе выросла в связи с приближением рождества. Странно, что Christmas & New Year Promo маркетинговая компания началась уже после наступления рождества, видимо она была нацелена поддержание активности пользователей вплоть до нового года, но на поведении участников теста не отразилась, либо отразилась негативно, снизив их активноть.  \n",
    "Графики регистраций и совершенных действий схожи между собой. Пользователи проявляют активность сразу после регистрации."
   ]
  },
  {
   "cell_type": "markdown",
   "id": "bcb661dc",
   "metadata": {},
   "source": [
    "#### Воронка событий в группах"
   ]
  },
  {
   "cell_type": "markdown",
   "id": "ffd9a6bd",
   "metadata": {},
   "source": [
    "Сгруппируем данные по событиям совершенным уникальными пользователями в разрезе групп."
   ]
  },
  {
   "cell_type": "code",
   "execution_count": 58,
   "id": "6d8bd6f4",
   "metadata": {},
   "outputs": [
    {
     "data": {
      "text/html": [
       "<div>\n",
       "<style scoped>\n",
       "    .dataframe tbody tr th:only-of-type {\n",
       "        vertical-align: middle;\n",
       "    }\n",
       "\n",
       "    .dataframe tbody tr th {\n",
       "        vertical-align: top;\n",
       "    }\n",
       "\n",
       "    .dataframe thead th {\n",
       "        text-align: right;\n",
       "    }\n",
       "</style>\n",
       "<table border=\"1\" class=\"dataframe\">\n",
       "  <thead>\n",
       "    <tr style=\"text-align: right;\">\n",
       "      <th>group</th>\n",
       "      <th>event_name</th>\n",
       "      <th>A</th>\n",
       "      <th>B</th>\n",
       "      <th>order</th>\n",
       "    </tr>\n",
       "  </thead>\n",
       "  <tbody>\n",
       "    <tr>\n",
       "      <th>0</th>\n",
       "      <td>login</td>\n",
       "      <td>2279</td>\n",
       "      <td>770</td>\n",
       "      <td>1</td>\n",
       "    </tr>\n",
       "    <tr>\n",
       "      <th>2</th>\n",
       "      <td>product_page</td>\n",
       "      <td>1476</td>\n",
       "      <td>429</td>\n",
       "      <td>2</td>\n",
       "    </tr>\n",
       "    <tr>\n",
       "      <th>1</th>\n",
       "      <td>product_cart</td>\n",
       "      <td>686</td>\n",
       "      <td>214</td>\n",
       "      <td>3</td>\n",
       "    </tr>\n",
       "    <tr>\n",
       "      <th>3</th>\n",
       "      <td>purchase</td>\n",
       "      <td>734</td>\n",
       "      <td>219</td>\n",
       "      <td>4</td>\n",
       "    </tr>\n",
       "  </tbody>\n",
       "</table>\n",
       "</div>"
      ],
      "text/plain": [
       "group    event_name     A    B  order\n",
       "0             login  2279  770      1\n",
       "2      product_page  1476  429      2\n",
       "1      product_cart   686  214      3\n",
       "3          purchase   734  219      4"
      ]
     },
     "execution_count": 58,
     "metadata": {},
     "output_type": "execute_result"
    }
   ],
   "source": [
    "events_by_group = test_data.pivot_table(index='event_name',\n",
    "                                      columns='group',\n",
    "                                      values='user_id',\n",
    "                                      aggfunc='nunique').reset_index()\n",
    "events_by_group['order'] =[1,3,2,4]\n",
    "events_by_group = events_by_group.sort_values(by ='order')\n",
    "events_by_group"
   ]
  },
  {
   "cell_type": "code",
   "execution_count": 59,
   "id": "1f81aaf6",
   "metadata": {},
   "outputs": [
    {
     "data": {
      "image/png": "[encoded data removed]"
     },
     "metadata": {},
     "output_type": "display_data"
    }
   ],
   "source": [
    "fig = go.Figure()\n",
    "fig.add_trace(go.Funnel(\n",
    "    name = 'Группа А',\n",
    "    x = events_by_group['A'], \n",
    "    y = ['Авторизация','Просмотр товара','Просмотр корзины','Покупка'],\n",
    "    textinfo = \"value+percent initial\"))\n",
    "fig.update_layout(title={'text': \"Воронка событий по группам\",\n",
    "                         'y':0.9,\n",
    "                         'x':0.5})\n",
    "fig.add_trace(go.Funnel(\n",
    "    name = 'Группа В',\n",
    "    orientation = \"h\",\n",
    "    x = events_by_group['B'], \n",
    "    y = ['Авторизация','Просмотр товара','Просмотр корзины','Покупка'],\n",
    "    textposition = \"inside\",\n",
    "    textinfo = \"value+percent initial\"))\n",
    "fig.show();"
   ]
  },
  {
   "cell_type": "markdown",
   "id": "62d99640",
   "metadata": {},
   "source": [
    "В группе В меньше пользователей доходит до покупки, так же больше пользователей не идет дальше авторизации. Конверсия среди участников теста снизилась."
   ]
  },
  {
   "cell_type": "markdown",
   "id": "e9a2be58",
   "metadata": {},
   "source": [
    "### Вывод"
   ]
  },
  {
   "cell_type": "markdown",
   "id": "14feed79",
   "metadata": {},
   "source": [
    "Пользователи неравномерно распределены по группам, особенно в части количества событий, на тестовую группу приходится лишь 25%. В контрольной группе не совершили ни одного действия в изучаемом периоде 5.5%. В тестовой 28%. Возможно тестирование новой рекомендательной системы могло спровоцировать технические проблемы.  \n",
    "Средняя покупка в тестовой группе чуть меньше 5 долларов, в  контрольной почти 16. Можно сделать вывод, что тестовая рекомендательная система не стимулирует совершать покупки, особенно крупные.  \n",
    "\n",
    "Пользователи из тестовой группы активнее регистрировались в начале периода. Так же они были более активно совершали действия в первой половине тестирования. \n",
    "Существует 2 воронки событий:  \n",
    "\n",
    "    1 авторизация - просмотр товара -переход в корзину - покупка\n",
    "    2 авторизация - просмотр товара - покупка\n",
    "\n",
    "Конверсия в тестовой группе выросла лишь при переходе от просмотра товара к корзине на 3%. Остальные показатели упали. "
   ]
  },
  {
   "cell_type": "markdown",
   "id": "a0440691",
   "metadata": {},
   "source": [
    "## Оценка результатов теста"
   ]
  },
  {
   "cell_type": "markdown",
   "id": "6eba28e5",
   "metadata": {},
   "source": [
    "Для анализа результатов и проверки соответствия данных техническому заданию, необходимо будет сравнивать доли между группами, напишем функцию `diff_test`, которая будет проверять гипотезу о равенстве долей пользователей совершивших событие относительно общего количества на этапе авторизации в группе. На вход она будет получать две переменные с количеством совершивших действие пользователей из разных групп, количсевто пользователей сравниваемого этапа в группах и число проведенных экспериментов. Последний параметр необходим для снижения вероятности ошибки первого рода,так как у нас несколько несколько параметров для сравнения, применим поправку Бонферрони. Критический уровень статистической значимости зададим равным 0.05."
   ]
  },
  {
   "cell_type": "code",
   "execution_count": 60,
   "id": "d6926474",
   "metadata": {},
   "outputs": [],
   "source": [
    "def diff_test(successes_1, successes_2, trials_1, trials_2, n=3):\n",
    "    alpha = 0.05\n",
    "    cor_alpha = alpha/n\n",
    "    stat, p_value = proportions_ztest(count= np.array([successes_1, successes_2]),\n",
    "                                      nobs = np.array([trials_1, trials_2]),\n",
    "                                      alternative='two-sided')\n",
    "    print('Событие:', event)\n",
    "    print('{0:3f}'.format(p_value))\n",
    "    if p_value < cor_alpha:\n",
    "        print('Отвергаем нулевую гипотезу: между долями есть статистически значимая разница')\n",
    "    else:\n",
    "        print(\n",
    "        'Не получилось отвергнуть нулевую гипотезу, нет оснований считать доли разными')"
   ]
  },
  {
   "cell_type": "markdown",
   "id": "6a6b1fb8",
   "metadata": {},
   "source": [
    "Создадим сводную таблицу с количеством участников на каждом этапе внутри группы, конверсией от предыдущего шага, конверсией от количества авторизовашихся пользователей и разницей между группами В и А."
   ]
  },
  {
   "cell_type": "code",
   "execution_count": 61,
   "id": "09d1f831",
   "metadata": {},
   "outputs": [
    {
     "data": {
      "text/html": [
       "<div>\n",
       "<style scoped>\n",
       "    .dataframe tbody tr th:only-of-type {\n",
       "        vertical-align: middle;\n",
       "    }\n",
       "\n",
       "    .dataframe tbody tr th {\n",
       "        vertical-align: top;\n",
       "    }\n",
       "\n",
       "    .dataframe thead th {\n",
       "        text-align: right;\n",
       "    }\n",
       "</style>\n",
       "<table border=\"1\" class=\"dataframe\">\n",
       "  <thead>\n",
       "    <tr style=\"text-align: right;\">\n",
       "      <th>group</th>\n",
       "      <th>event_name</th>\n",
       "      <th>A</th>\n",
       "      <th>B</th>\n",
       "      <th>n</th>\n",
       "      <th>%_per_previous_A</th>\n",
       "      <th>%_per_previous_B</th>\n",
       "      <th>%_per_all_A</th>\n",
       "      <th>%_per_all_B</th>\n",
       "      <th>diff</th>\n",
       "    </tr>\n",
       "  </thead>\n",
       "  <tbody>\n",
       "    <tr>\n",
       "      <th>0</th>\n",
       "      <td>login</td>\n",
       "      <td>2279</td>\n",
       "      <td>770</td>\n",
       "      <td>1</td>\n",
       "      <td>NaN</td>\n",
       "      <td>NaN</td>\n",
       "      <td>100.00</td>\n",
       "      <td>100.00</td>\n",
       "      <td>0.00</td>\n",
       "    </tr>\n",
       "    <tr>\n",
       "      <th>1</th>\n",
       "      <td>product_page</td>\n",
       "      <td>1476</td>\n",
       "      <td>429</td>\n",
       "      <td>2</td>\n",
       "      <td>64.77</td>\n",
       "      <td>55.71</td>\n",
       "      <td>64.77</td>\n",
       "      <td>55.71</td>\n",
       "      <td>-9.06</td>\n",
       "    </tr>\n",
       "    <tr>\n",
       "      <th>3</th>\n",
       "      <td>product_cart</td>\n",
       "      <td>686</td>\n",
       "      <td>214</td>\n",
       "      <td>3</td>\n",
       "      <td>46.48</td>\n",
       "      <td>49.88</td>\n",
       "      <td>30.10</td>\n",
       "      <td>27.79</td>\n",
       "      <td>-2.31</td>\n",
       "    </tr>\n",
       "    <tr>\n",
       "      <th>2</th>\n",
       "      <td>purchase</td>\n",
       "      <td>734</td>\n",
       "      <td>219</td>\n",
       "      <td>4</td>\n",
       "      <td>107.00</td>\n",
       "      <td>102.34</td>\n",
       "      <td>32.21</td>\n",
       "      <td>28.44</td>\n",
       "      <td>-3.77</td>\n",
       "    </tr>\n",
       "  </tbody>\n",
       "</table>\n",
       "</div>"
      ],
      "text/plain": [
       "group    event_name     A    B  n  %_per_previous_A  %_per_previous_B  \\\n",
       "0             login  2279  770  1               NaN               NaN   \n",
       "1      product_page  1476  429  2             64.77             55.71   \n",
       "3      product_cart   686  214  3             46.48             49.88   \n",
       "2          purchase   734  219  4            107.00            102.34   \n",
       "\n",
       "group  %_per_all_A  %_per_all_B  diff  \n",
       "0           100.00       100.00  0.00  \n",
       "1            64.77        55.71 -9.06  \n",
       "3            30.10        27.79 -2.31  \n",
       "2            32.21        28.44 -3.77  "
      ]
     },
     "execution_count": 61,
     "metadata": {},
     "output_type": "execute_result"
    }
   ],
   "source": [
    "group_data = (test_data.query('event_name.isna()==False').pivot_table(\n",
    "    index='event_name', \n",
    "    columns='group', \n",
    "    values='user_id',\n",
    "    aggfunc='nunique')\n",
    "           .sort_values(by='B', ascending=False)\n",
    "           .reset_index()\n",
    "          )\n",
    "group_data['n'] = (1,2,4,3)\n",
    "group_data = group_data.sort_values(by='n')\n",
    "group_data['%_per_previous_A'] = round(group_data['A']/group_data['A'].shift(1)*100,2)\n",
    "group_data['%_per_previous_B'] = round(group_data['B']/group_data['B'].shift(1)*100,2)\n",
    "group_data['%_per_all_A'] = round(group_data['A']/group_data['A'][0]*100,2)\n",
    "group_data['%_per_all_B'] = round(group_data['B']/group_data['B'][0]*100,2)\n",
    "group_data['diff'] = group_data['%_per_all_B'] - group_data['%_per_all_A']\n",
    "group_data"
   ]
  },
  {
   "cell_type": "markdown",
   "id": "31b8b997",
   "metadata": {},
   "source": [
    "Конверсия относительно авторизованных в тестовой группе снизилась на всех этапах. Проверим есть ли статистически значимая разница между долями пользователей на разных этапах воронки. Сформулируем нулевую и альтернативную гипотезы:\n",
    "\n",
    "    Н0: доли пользователей, перешедших от авторизации к событию в группах равны.\n",
    "    Н1: доли пользователей, перешедших от авторизации к событию различаются.\n"
   ]
  },
  {
   "cell_type": "code",
   "execution_count": 62,
   "id": "9127802c",
   "metadata": {},
   "outputs": [
    {
     "name": "stdout",
     "output_type": "stream",
     "text": [
      "Событие: purchase\n",
      "0.051311\n",
      "Не получилось отвергнуть нулевую гипотезу, нет оснований считать доли разными\n",
      "Событие: product_cart\n",
      "0.224632\n",
      "Не получилось отвергнуть нулевую гипотезу, нет оснований считать доли разными\n",
      "Событие: product_page\n",
      "0.000007\n",
      "Отвергаем нулевую гипотезу: между долями есть статистически значимая разница\n"
     ]
    }
   ],
   "source": [
    "events = test_data[(test_data['event_name']!='login') & (test_data['event_name'].isna()==False)]['event_name'].unique()\n",
    "trials_1 = test_data.query('group==\"A\" and event_name == \"login\"')['user_id'].nunique()\n",
    "trials_2 = test_data.query('group==\"B\" and event_name == \"login\"')['user_id'].nunique()\n",
    "for event in events:\n",
    "    successes_1 = test_data.query('group==\"A\" and event_name == @event')['user_id'].nunique()\n",
    "    successes_2 = test_data.query('group==\"B\" and event_name == @event')['user_id'].nunique()\n",
    "    diff_test(successes_1,successes_2, trials_1, trials_2, n=3)"
   ]
  },
  {
   "cell_type": "markdown",
   "id": "65b7f1f1",
   "metadata": {},
   "source": [
    "По результатм теста, мы видим наличие статистичеки значимых различий между долями перешедших от авторизации к просмотру карточки товара между тестовой и контрольной группами.\n",
    "Между долями перешедших от авторизации в корзину и от авторизации к покупке нет статистически значимых различий."
   ]
  },
  {
   "cell_type": "markdown",
   "id": "f6938e6a",
   "metadata": {},
   "source": [
    "### Вывод"
   ]
  },
  {
   "cell_type": "markdown",
   "id": "2392bd52",
   "metadata": {},
   "source": [
    "Конверсии покупалей в тестовой группе снизились относительно контрольной группы. Новая рекомендательная система плохо сказывается на поведении пользователей. Статистически значимые различия в долях пользователей зафиксированы среди перешедших от авторизации к просмотру товара. По остальным событиям статистически значимых различий нет."
   ]
  },
  {
   "cell_type": "markdown",
   "id": "d136210b",
   "metadata": {},
   "source": [
    "## Общий вывод"
   ]
  },
  {
   "cell_type": "markdown",
   "id": "207c08ef",
   "metadata": {},
   "source": [
    "Проведен анализ воронки событий и А/В теста поведения пользователей. На вход были получены 4 файла: \n",
    "    \n",
    "    ab_project_marketing_events.csv с информацией о 14 проведенных в 2020 году маркетинговых команиях, сроки проведения и регион охвата;  \n",
    "    final_ab_events.csv с 440317 наблюдений о 4 типах действий, совершенных посльзователями в период с 7 по 30 декабря 2020 года.  \n",
    "    final_ab_new_users.csv - данные о 61733 пользователях, зарегистрировавшихся с 7 по 23 декабря 2020 года;  \n",
    "    final_ab_participants.csv - данные, с 18268 наблюдениями об участниках двух А/В тестов (конкурирующий тест interface_eu_test и  исследуемый recommender_system_test).\n",
    "В процессе предобработки все столбцы содержащие временные параметры были приведены к типу datetime  и проведён анализ входных данных. Согласно техническому заданию, дата окончания набора в тест 21 декабря 2020. После проверки на отсутствие в тестовом наборе пользователей, зарегистрировавшихся после окончания набора, были удалены излишние данные.  \n",
    "Выялены две маркетинговые компании, проводившиеся в период теста Christmas&New Year Promo, проводилась в Европе и Северной Америке,  CIS New Year Gift Lottery, для стран СНГ. Эти акции могли оказать влияние на поведение участников А/В теста, что вызывает вопросы к его достоверности.\n",
    "Зафиксирована неполнота данных по действиям пользователей, дата последего наблюдения 30 декабря 2020, датой остановки теста являлось 4 января.  \n",
    "Согласно техническому заданию в тест должны быть отобраны 15% от новых пользователей из европейского региона, количество участников 6000. При проверке аудитории теста, изначально аудитория было зафиксировано 6701 пользователь и 15% от новых европейских. Однако 1602 участника попали в конкурирующий тест, 783 в группу В. Было принято решение, об исключении этих пользователей из дальнейшего анализа, так как мы не можем быть уверены, что влияло на их поведение. Аудитория теста снизилась до 5568 участников (13.2%  от новых из европейского региона). \n",
    "Для анализа были приняты 22367 наблюдений, с учетом лайфтайма пользователей в 14 дней с момента регистрации, описанном в техническом задании.  \n",
    "При анализе данных теста выялена проблема не равномерного распределения по группам. в группу А попали 57%,в группу В 43%. Среди них в группе А не совершили ни одного действия 5.5%, в группе В 28%. Стоит так же обратить внимание, что в группе В зафиксировано всего 25% действий от общего количества в тесте. Средняя покупка в группе В в разы меньше, 5 долларов против 16 в А.\n",
    "Определены 2 типа воронок событий:\n",
    "1. авторизация -> промотр товара -> корзина -> покупка\n",
    "2. авторизация -> просмотр товара -> покупка  \n",
    "\n",
    "В тестовой группе все показатели конверсий снизились, за исключением доли перешедших из корзины к покупке, она выросла на 3%. Согласно техническму заданию, ожидалось улучшение конверсий на 10%.  \n",
    "При проверке статистических гипотез, выявлена статистически значимая разница между долями пользователей перешедшими от авторизации к просмотру товара.\n",
    "\n",
    "Тест новой рекомендательной системы проведён с нарушениями:\n",
    "\n",
    "    совпал с двумя маркетинговыми компаниями\n",
    "    остановлен раньше срока, либо переданы неполные данные\n",
    "    аудитория теста сформирована некорректно(пересечение с конкурирующим тестом, неравномерное распределение по группам)\n",
    "Делать выводы о новой рекомендательной системе на основе проведенного анализа нельзя. Рекомендуется проверить корректность работы новой рекомендательной системы и провести новый А/В тест, с учетом всех требований к его проведению.         \n",
    "    \n"
   ]
  }
 ],
 "metadata": {
  "ExecuteTimeLog": [
   {
    "duration": 1335,
    "start_time": "2023-06-09T15:45:30.298Z"
   },
   {
    "duration": 5,
    "start_time": "2023-06-09T15:45:31.636Z"
   },
   {
    "duration": 1408,
    "start_time": "2023-06-09T15:45:31.642Z"
   },
   {
    "duration": 5,
    "start_time": "2023-06-09T15:45:33.051Z"
   },
   {
    "duration": 49,
    "start_time": "2023-06-09T15:45:33.059Z"
   },
   {
    "duration": 1101,
    "start_time": "2023-06-09T15:45:33.110Z"
   },
   {
    "duration": 205,
    "start_time": "2023-06-09T15:45:34.213Z"
   },
   {
    "duration": 57,
    "start_time": "2023-06-09T15:45:34.426Z"
   },
   {
    "duration": 8,
    "start_time": "2023-06-09T15:45:34.484Z"
   },
   {
    "duration": 15,
    "start_time": "2023-06-09T15:45:34.495Z"
   },
   {
    "duration": 15,
    "start_time": "2023-06-09T15:45:34.515Z"
   },
   {
    "duration": 8,
    "start_time": "2023-06-09T15:45:34.532Z"
   },
   {
    "duration": 165,
    "start_time": "2023-06-09T15:45:34.542Z"
   },
   {
    "duration": 625,
    "start_time": "2023-06-09T15:45:34.711Z"
   },
   {
    "duration": 13,
    "start_time": "2023-06-09T15:45:35.338Z"
   },
   {
    "duration": 895,
    "start_time": "2023-06-09T15:45:35.353Z"
   },
   {
    "duration": 5922,
    "start_time": "2023-06-09T15:45:36.250Z"
   },
   {
    "duration": 636,
    "start_time": "2023-06-09T15:45:42.173Z"
   },
   {
    "duration": 7,
    "start_time": "2023-06-09T15:45:42.811Z"
   },
   {
    "duration": 112,
    "start_time": "2023-06-09T15:45:42.820Z"
   },
   {
    "duration": 287,
    "start_time": "2023-06-09T15:45:42.934Z"
   },
   {
    "duration": 9,
    "start_time": "2023-06-09T15:45:43.222Z"
   },
   {
    "duration": 82,
    "start_time": "2023-06-09T15:45:43.233Z"
   },
   {
    "duration": 14,
    "start_time": "2023-06-09T15:45:43.319Z"
   },
   {
    "duration": 47,
    "start_time": "2023-06-09T15:45:43.335Z"
   },
   {
    "duration": 12,
    "start_time": "2023-06-09T15:45:43.384Z"
   },
   {
    "duration": 29,
    "start_time": "2023-06-09T15:45:43.401Z"
   },
   {
    "duration": 58,
    "start_time": "2023-06-09T15:45:43.432Z"
   },
   {
    "duration": 16,
    "start_time": "2023-06-09T15:45:43.492Z"
   },
   {
    "duration": 23,
    "start_time": "2023-06-09T15:45:43.512Z"
   },
   {
    "duration": 30,
    "start_time": "2023-06-09T15:45:43.536Z"
   },
   {
    "duration": 38,
    "start_time": "2023-06-09T15:45:43.568Z"
   },
   {
    "duration": 30,
    "start_time": "2023-06-09T15:45:43.608Z"
   },
   {
    "duration": 139,
    "start_time": "2023-06-09T15:45:43.640Z"
   },
   {
    "duration": 174,
    "start_time": "2023-06-09T15:45:43.781Z"
   },
   {
    "duration": 241,
    "start_time": "2023-06-09T15:45:43.961Z"
   },
   {
    "duration": 131,
    "start_time": "2023-06-09T15:45:44.203Z"
   },
   {
    "duration": 6,
    "start_time": "2023-06-09T15:45:44.337Z"
   },
   {
    "duration": 41,
    "start_time": "2023-06-09T15:45:44.346Z"
   },
   {
    "duration": 87,
    "start_time": "2023-06-09T15:45:44.390Z"
   },
   {
    "duration": 219,
    "start_time": "2023-06-09T15:45:44.482Z"
   },
   {
    "duration": 190,
    "start_time": "2023-06-09T15:45:44.706Z"
   },
   {
    "duration": 284,
    "start_time": "2023-06-09T15:45:44.900Z"
   },
   {
    "duration": 37,
    "start_time": "2023-06-09T15:45:45.191Z"
   },
   {
    "duration": 339,
    "start_time": "2023-06-09T15:45:45.230Z"
   },
   {
    "duration": 457,
    "start_time": "2023-06-09T15:45:45.571Z"
   },
   {
    "duration": 381,
    "start_time": "2023-06-09T15:45:46.030Z"
   },
   {
    "duration": 63,
    "start_time": "2023-06-09T15:45:46.413Z"
   },
   {
    "duration": 65,
    "start_time": "2023-06-09T15:45:46.482Z"
   },
   {
    "duration": 14,
    "start_time": "2023-06-09T15:45:46.548Z"
   },
   {
    "duration": 641,
    "start_time": "2023-06-09T15:45:46.563Z"
   },
   {
    "duration": 643,
    "start_time": "2023-06-09T15:45:47.209Z"
   },
   {
    "duration": 43,
    "start_time": "2023-06-09T15:45:47.855Z"
   },
   {
    "duration": 16,
    "start_time": "2023-06-09T15:45:47.899Z"
   },
   {
    "duration": 12,
    "start_time": "2023-06-09T15:45:47.916Z"
   },
   {
    "duration": 234,
    "start_time": "2023-06-09T15:45:47.930Z"
   },
   {
    "duration": 34,
    "start_time": "2023-06-09T15:45:48.165Z"
   },
   {
    "duration": 1264,
    "start_time": "2023-06-10T08:42:36.828Z"
   },
   {
    "duration": 5,
    "start_time": "2023-06-10T08:42:38.094Z"
   },
   {
    "duration": 1148,
    "start_time": "2023-06-10T08:42:38.101Z"
   },
   {
    "duration": 5,
    "start_time": "2023-06-10T08:42:39.251Z"
   },
   {
    "duration": 53,
    "start_time": "2023-06-10T08:42:39.257Z"
   },
   {
    "duration": 756,
    "start_time": "2023-06-10T08:42:39.312Z"
   },
   {
    "duration": 132,
    "start_time": "2023-06-10T08:42:40.070Z"
   },
   {
    "duration": 45,
    "start_time": "2023-06-10T08:42:40.203Z"
   },
   {
    "duration": 5,
    "start_time": "2023-06-10T08:42:40.249Z"
   },
   {
    "duration": 23,
    "start_time": "2023-06-10T08:42:40.257Z"
   },
   {
    "duration": 21,
    "start_time": "2023-06-10T08:42:40.281Z"
   },
   {
    "duration": 21,
    "start_time": "2023-06-10T08:42:40.304Z"
   },
   {
    "duration": 120,
    "start_time": "2023-06-10T08:42:40.327Z"
   },
   {
    "duration": 491,
    "start_time": "2023-06-10T08:42:40.448Z"
   },
   {
    "duration": 11,
    "start_time": "2023-06-10T08:42:40.940Z"
   },
   {
    "duration": 669,
    "start_time": "2023-06-10T08:42:40.953Z"
   },
   {
    "duration": 5142,
    "start_time": "2023-06-10T08:42:41.624Z"
   },
   {
    "duration": 521,
    "start_time": "2023-06-10T08:42:46.768Z"
   },
   {
    "duration": 7,
    "start_time": "2023-06-10T08:42:47.290Z"
   },
   {
    "duration": 82,
    "start_time": "2023-06-10T08:42:47.298Z"
   },
   {
    "duration": 242,
    "start_time": "2023-06-10T08:42:47.382Z"
   },
   {
    "duration": 8,
    "start_time": "2023-06-10T08:42:47.625Z"
   },
   {
    "duration": 58,
    "start_time": "2023-06-10T08:42:47.634Z"
   },
   {
    "duration": 23,
    "start_time": "2023-06-10T08:42:47.693Z"
   },
   {
    "duration": 23,
    "start_time": "2023-06-10T08:42:47.717Z"
   },
   {
    "duration": 15,
    "start_time": "2023-06-10T08:42:47.742Z"
   },
   {
    "duration": 17,
    "start_time": "2023-06-10T08:42:47.758Z"
   },
   {
    "duration": 46,
    "start_time": "2023-06-10T08:42:47.778Z"
   },
   {
    "duration": 24,
    "start_time": "2023-06-10T08:42:47.825Z"
   },
   {
    "duration": 10,
    "start_time": "2023-06-10T08:42:47.851Z"
   },
   {
    "duration": 59,
    "start_time": "2023-06-10T08:42:47.863Z"
   },
   {
    "duration": 9,
    "start_time": "2023-06-10T08:42:47.924Z"
   },
   {
    "duration": 14,
    "start_time": "2023-06-10T08:42:47.935Z"
   },
   {
    "duration": 28,
    "start_time": "2023-06-10T08:42:47.951Z"
   },
   {
    "duration": 82,
    "start_time": "2023-06-10T08:42:47.981Z"
   },
   {
    "duration": 128,
    "start_time": "2023-06-10T08:42:48.065Z"
   },
   {
    "duration": 160,
    "start_time": "2023-06-10T08:42:48.195Z"
   },
   {
    "duration": 5,
    "start_time": "2023-06-10T08:42:48.357Z"
   },
   {
    "duration": 103,
    "start_time": "2023-06-10T08:42:48.363Z"
   },
   {
    "duration": 4,
    "start_time": "2023-06-10T08:42:48.468Z"
   },
   {
    "duration": 13,
    "start_time": "2023-06-10T08:42:48.474Z"
   },
   {
    "duration": 49,
    "start_time": "2023-06-10T08:42:48.488Z"
   },
   {
    "duration": 917,
    "start_time": "2023-06-10T08:42:48.539Z"
   },
   {
    "duration": 166,
    "start_time": "2023-06-10T08:42:49.457Z"
   },
   {
    "duration": 158,
    "start_time": "2023-06-10T08:42:49.624Z"
   },
   {
    "duration": 212,
    "start_time": "2023-06-10T08:42:49.784Z"
   },
   {
    "duration": 36,
    "start_time": "2023-06-10T08:42:49.998Z"
   },
   {
    "duration": 285,
    "start_time": "2023-06-10T08:42:50.036Z"
   },
   {
    "duration": 380,
    "start_time": "2023-06-10T08:42:50.323Z"
   },
   {
    "duration": 310,
    "start_time": "2023-06-10T08:42:50.704Z"
   },
   {
    "duration": 60,
    "start_time": "2023-06-10T08:42:51.016Z"
   },
   {
    "duration": 88,
    "start_time": "2023-06-10T08:42:51.078Z"
   },
   {
    "duration": 23,
    "start_time": "2023-06-10T08:42:51.167Z"
   },
   {
    "duration": 1234,
    "start_time": "2023-06-10T08:42:51.192Z"
   },
   {
    "duration": 330,
    "start_time": "2023-06-10T08:42:52.427Z"
   },
   {
    "duration": 690,
    "start_time": "2023-06-10T08:42:52.759Z"
   },
   {
    "duration": 569,
    "start_time": "2023-06-10T08:42:53.450Z"
   },
   {
    "duration": 25,
    "start_time": "2023-06-10T08:42:54.021Z"
   },
   {
    "duration": 14,
    "start_time": "2023-06-10T08:42:54.048Z"
   },
   {
    "duration": 8,
    "start_time": "2023-06-10T08:42:54.064Z"
   },
   {
    "duration": 6,
    "start_time": "2023-06-10T08:42:54.073Z"
   },
   {
    "duration": 72,
    "start_time": "2023-06-10T08:42:54.080Z"
   },
   {
    "duration": 187,
    "start_time": "2023-06-10T08:42:54.154Z"
   },
   {
    "duration": 16,
    "start_time": "2023-06-10T08:42:54.342Z"
   },
   {
    "duration": 1336,
    "start_time": "2023-06-10T10:32:13.508Z"
   },
   {
    "duration": 5,
    "start_time": "2023-06-10T10:32:14.845Z"
   },
   {
    "duration": 1170,
    "start_time": "2023-06-10T10:32:14.852Z"
   },
   {
    "duration": 4,
    "start_time": "2023-06-10T10:32:16.023Z"
   },
   {
    "duration": 42,
    "start_time": "2023-06-10T10:32:16.029Z"
   },
   {
    "duration": 782,
    "start_time": "2023-06-10T10:32:16.072Z"
   },
   {
    "duration": 113,
    "start_time": "2023-06-10T10:32:16.855Z"
   },
   {
    "duration": 49,
    "start_time": "2023-06-10T10:32:16.969Z"
   },
   {
    "duration": 5,
    "start_time": "2023-06-10T10:32:17.019Z"
   },
   {
    "duration": 5,
    "start_time": "2023-06-10T10:32:17.026Z"
   },
   {
    "duration": 7,
    "start_time": "2023-06-10T10:32:17.033Z"
   },
   {
    "duration": 6,
    "start_time": "2023-06-10T10:32:17.041Z"
   },
   {
    "duration": 106,
    "start_time": "2023-06-10T10:32:17.048Z"
   },
   {
    "duration": 478,
    "start_time": "2023-06-10T10:32:17.156Z"
   },
   {
    "duration": 11,
    "start_time": "2023-06-10T10:32:17.636Z"
   },
   {
    "duration": 668,
    "start_time": "2023-06-10T10:32:17.649Z"
   },
   {
    "duration": 4577,
    "start_time": "2023-06-10T10:32:18.319Z"
   },
   {
    "duration": 485,
    "start_time": "2023-06-10T10:32:22.898Z"
   },
   {
    "duration": 6,
    "start_time": "2023-06-10T10:32:23.384Z"
   },
   {
    "duration": 79,
    "start_time": "2023-06-10T10:32:23.392Z"
   },
   {
    "duration": 235,
    "start_time": "2023-06-10T10:32:23.473Z"
   },
   {
    "duration": 8,
    "start_time": "2023-06-10T10:32:23.709Z"
   },
   {
    "duration": 57,
    "start_time": "2023-06-10T10:32:23.719Z"
   },
   {
    "duration": 13,
    "start_time": "2023-06-10T10:32:23.777Z"
   },
   {
    "duration": 36,
    "start_time": "2023-06-10T10:32:23.791Z"
   },
   {
    "duration": 8,
    "start_time": "2023-06-10T10:32:23.829Z"
   },
   {
    "duration": 30,
    "start_time": "2023-06-10T10:32:23.839Z"
   },
   {
    "duration": 34,
    "start_time": "2023-06-10T10:32:23.873Z"
   },
   {
    "duration": 8,
    "start_time": "2023-06-10T10:32:23.909Z"
   },
   {
    "duration": 13,
    "start_time": "2023-06-10T10:32:23.919Z"
   },
   {
    "duration": 11,
    "start_time": "2023-06-10T10:32:23.934Z"
   },
   {
    "duration": 10,
    "start_time": "2023-06-10T10:32:23.948Z"
   },
   {
    "duration": 19,
    "start_time": "2023-06-10T10:32:23.959Z"
   },
   {
    "duration": 36,
    "start_time": "2023-06-10T10:32:23.979Z"
   },
   {
    "duration": 89,
    "start_time": "2023-06-10T10:32:24.017Z"
   },
   {
    "duration": 111,
    "start_time": "2023-06-10T10:32:24.108Z"
   },
   {
    "duration": 142,
    "start_time": "2023-06-10T10:32:24.221Z"
   },
   {
    "duration": 5,
    "start_time": "2023-06-10T10:32:24.364Z"
   },
   {
    "duration": 88,
    "start_time": "2023-06-10T10:32:24.370Z"
   },
   {
    "duration": 4,
    "start_time": "2023-06-10T10:32:24.459Z"
   },
   {
    "duration": 15,
    "start_time": "2023-06-10T10:32:24.464Z"
   },
   {
    "duration": 49,
    "start_time": "2023-06-10T10:32:24.480Z"
   },
   {
    "duration": 884,
    "start_time": "2023-06-10T10:32:24.530Z"
   },
   {
    "duration": 190,
    "start_time": "2023-06-10T10:32:25.416Z"
   },
   {
    "duration": 175,
    "start_time": "2023-06-10T10:32:25.608Z"
   },
   {
    "duration": 214,
    "start_time": "2023-06-10T10:32:25.785Z"
   },
   {
    "duration": 29,
    "start_time": "2023-06-10T10:32:26.001Z"
   },
   {
    "duration": 225,
    "start_time": "2023-06-10T10:32:26.032Z"
   },
   {
    "duration": 334,
    "start_time": "2023-06-10T10:32:26.259Z"
   },
   {
    "duration": 282,
    "start_time": "2023-06-10T10:32:26.595Z"
   },
   {
    "duration": 55,
    "start_time": "2023-06-10T10:32:26.879Z"
   },
   {
    "duration": 45,
    "start_time": "2023-06-10T10:32:26.935Z"
   },
   {
    "duration": 25,
    "start_time": "2023-06-10T10:32:26.982Z"
   },
   {
    "duration": 1099,
    "start_time": "2023-06-10T10:32:27.008Z"
   },
   {
    "duration": 283,
    "start_time": "2023-06-10T10:32:28.109Z"
   },
   {
    "duration": 599,
    "start_time": "2023-06-10T10:32:28.393Z"
   },
   {
    "duration": 617,
    "start_time": "2023-06-10T10:32:28.994Z"
   },
   {
    "duration": 23,
    "start_time": "2023-06-10T10:32:29.613Z"
   },
   {
    "duration": 11,
    "start_time": "2023-06-10T10:32:29.637Z"
   },
   {
    "duration": 7,
    "start_time": "2023-06-10T10:32:29.649Z"
   },
   {
    "duration": 4,
    "start_time": "2023-06-10T10:32:29.658Z"
   },
   {
    "duration": 70,
    "start_time": "2023-06-10T10:32:29.663Z"
   },
   {
    "duration": 169,
    "start_time": "2023-06-10T10:32:29.734Z"
   },
   {
    "duration": 17,
    "start_time": "2023-06-10T10:32:29.906Z"
   }
  ],
  "kernelspec": {
   "display_name": "Python 3 (ipykernel)",
   "language": "python",
   "name": "python3"
  },
  "language_info": {
   "codemirror_mode": {
    "name": "ipython",
    "version": 3
   },
   "file_extension": ".py",
   "mimetype": "text/x-python",
   "name": "python",
   "nbconvert_exporter": "python",
   "pygments_lexer": "ipython3",
   "version": "3.9.13"
  },
  "toc": {
   "base_numbering": 1,
   "nav_menu": {},
   "number_sections": true,
   "sideBar": true,
   "skip_h1_title": true,
   "title_cell": "Содержание",
   "title_sidebar": "Содержание",
   "toc_cell": true,
   "toc_position": {
    "height": "567px",
    "left": "24px",
    "top": "111.133px",
    "width": "250.167px"
   },
   "toc_section_display": true,
   "toc_window_display": true
  }
 },
 "nbformat": 4,
 "nbformat_minor": 5
}
