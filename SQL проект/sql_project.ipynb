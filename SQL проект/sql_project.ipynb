{
 "cells": [
  {
   "cell_type": "markdown",
   "id": "8161a684",
   "metadata": {
    "toc": true
   },
   "source": [
    "<h1>Содержание<span class=\"tocSkip\"></span></h1>\n",
    "<div class=\"toc\"><ul class=\"toc-item\"><li><span><a href=\"#Загрузка-данных\" data-toc-modified-id=\"Загрузка-данных-1\"><span class=\"toc-item-num\">1&nbsp;&nbsp;</span>Загрузка данных</a></span></li><li><span><a href=\"#Обзор-данных\" data-toc-modified-id=\"Обзор-данных-2\"><span class=\"toc-item-num\">2&nbsp;&nbsp;</span>Обзор данных</a></span><ul class=\"toc-item\"><li><span><a href=\"#Таблица-books\" data-toc-modified-id=\"Таблица-books-2.1\"><span class=\"toc-item-num\">2.1&nbsp;&nbsp;</span>Таблица <code>books</code></a></span></li><li><span><a href=\"#Таблица-authors\" data-toc-modified-id=\"Таблица-authors-2.2\"><span class=\"toc-item-num\">2.2&nbsp;&nbsp;</span>Таблица <code>authors</code></a></span></li><li><span><a href=\"#Таблица-publishers\" data-toc-modified-id=\"Таблица-publishers-2.3\"><span class=\"toc-item-num\">2.3&nbsp;&nbsp;</span>Таблица <code>publishers</code></a></span></li><li><span><a href=\"#Таблица-ratings\" data-toc-modified-id=\"Таблица-ratings-2.4\"><span class=\"toc-item-num\">2.4&nbsp;&nbsp;</span>Таблица <code>ratings</code></a></span></li><li><span><a href=\"#Таблица-reviews\" data-toc-modified-id=\"Таблица-reviews-2.5\"><span class=\"toc-item-num\">2.5&nbsp;&nbsp;</span>Таблица <code>reviews</code></a></span></li><li><span><a href=\"#Вывод\" data-toc-modified-id=\"Вывод-2.6\"><span class=\"toc-item-num\">2.6&nbsp;&nbsp;</span>Вывод</a></span></li></ul></li><li><span><a href=\"#Анализ-данных\" data-toc-modified-id=\"Анализ-данных-3\"><span class=\"toc-item-num\">3&nbsp;&nbsp;</span>Анализ данных</a></span><ul class=\"toc-item\"><li><span><a href=\"#Количество-книг-вышедших-после-1-января-2000-года\" data-toc-modified-id=\"Количество-книг-вышедших-после-1-января-2000-года-3.1\"><span class=\"toc-item-num\">3.1&nbsp;&nbsp;</span>Количество книг вышедших после 1 января 2000 года</a></span></li><li><span><a href=\"#Количество-обзоров-и-средняя-оценка-для-каждой-книги\" data-toc-modified-id=\"Количество-обзоров-и-средняя-оценка-для-каждой-книги-3.2\"><span class=\"toc-item-num\">3.2&nbsp;&nbsp;</span>Количество обзоров и средняя оценка для каждой книги</a></span></li><li><span><a href=\"#Издательство,-которое-выпустило-наибольшее-число-книг-толще-50-страниц-(менее-50-страниц-считаем-брошюрами)\" data-toc-modified-id=\"Издательство,-которое-выпустило-наибольшее-число-книг-толще-50-страниц-(менее-50-страниц-считаем-брошюрами)-3.3\"><span class=\"toc-item-num\">3.3&nbsp;&nbsp;</span>Издательство, которое выпустило наибольшее число книг толще 50 страниц (менее 50 страниц считаем брошюрами)</a></span></li><li><span><a href=\"#Автора-с-самой-высокой-средней-оценкой-книг,-учитывая-только-книги-с-50-и-более-оценками\" data-toc-modified-id=\"Автора-с-самой-высокой-средней-оценкой-книг,-учитывая-только-книги-с-50-и-более-оценками-3.4\"><span class=\"toc-item-num\">3.4&nbsp;&nbsp;</span>Автора с самой высокой средней оценкой книг, учитывая только книги с 50 и более оценками</a></span></li><li><span><a href=\"#Среднее-количество-обзоров-от-пользователей,-которые-поставили-больше-48-оценок\" data-toc-modified-id=\"Среднее-количество-обзоров-от-пользователей,-которые-поставили-больше-48-оценок-3.5\"><span class=\"toc-item-num\">3.5&nbsp;&nbsp;</span>Среднее количество обзоров от пользователей, которые поставили больше 48 оценок</a></span></li></ul></li><li><span><a href=\"#Вывод\" data-toc-modified-id=\"Вывод-4\"><span class=\"toc-item-num\">4&nbsp;&nbsp;</span>Вывод</a></span></li></ul></div>"
   ]
  },
  {
   "cell_type": "markdown",
   "id": "97066f6a",
   "metadata": {},
   "source": [
    "# Анализ базы данных сервиса чтения книг"
   ]
  },
  {
   "cell_type": "markdown",
   "id": "d042f911",
   "metadata": {},
   "source": [
    "На волне коронавирусных ограничений компания прибрела крупный сервис для чтения книг по подписке.  \n",
    "Задачи: \n",
    "\n",
    "    Посчитать сколько книг вышло после 1 января 2000 года;\n",
    "    Для каждой книги посчитать количество обзоров и среднюю оценку;\n",
    "    Определить издательство, которое выпустило наибольшее число книг толще 50 страниц — так вы исключите из анализа брошюры;\n",
    "    Определить автора с самой высокой средней оценкой книг — учитывайте только книги с 50 и более оценками;\n",
    "    Посчитать среднее количество обзоров от пользователей, которые поставили больше 48 оценок.\n",
    "\n",
    "**Цель проекта:** проанализировать данные для формирования ценностных предложений нового продукта."
   ]
  },
  {
   "cell_type": "markdown",
   "id": "0b750f31",
   "metadata": {},
   "source": [
    "**Описание данных**\n",
    "\n",
    "Таблица books\n",
    "Содержит данные о книгах:\n",
    "\n",
    "        book_id — идентификатор книги;\n",
    "        author_id — идентификатор автора;\n",
    "        title — название книги;\n",
    "        num_pages — количество страниц;\n",
    "        publication_date — дата публикации книги;\n",
    "        publisher_id — идентификатор издателя.\n",
    "Таблица authors\n",
    "Содержит данные об авторах:\n",
    " \n",
    "        author_id — идентификатор автора;\n",
    "        author — имя автора.\n",
    "Таблица publishers\n",
    "Содержит данные об издательствах:\n",
    "\n",
    "        publisher_id — идентификатор издательства;\n",
    "        publisher — название издательства;\n",
    "Таблица ratings\n",
    "Содержит данные о пользовательских оценках книг:\n",
    "\n",
    "        rating_id — идентификатор оценки;\n",
    "        book_id — идентификатор книги;\n",
    "        username — имя пользователя, оставившего оценку;\n",
    "        rating — оценка книги.\n",
    "Таблица reviews\n",
    "Содержит данные о пользовательских обзорах на книги:\n",
    "        \n",
    "        `review_id` — идентификатор обзора;\n",
    "        `book_id` — идентификатор книги;\n",
    "        `username` — имя пользователя, написавшего обзор;\n",
    "        `text` — текст обзора."
   ]
  },
  {
   "cell_type": "markdown",
   "id": "888ee642",
   "metadata": {},
   "source": [
    "## Загрузка данных"
   ]
  },
  {
   "cell_type": "code",
   "execution_count": 1,
   "id": "b1b2df68",
   "metadata": {},
   "outputs": [],
   "source": [
    "# импортируем библиотеки\n",
    "import pandas as pd\n",
    "from sqlalchemy import text, create_engine"
   ]
  },
  {
   "cell_type": "markdown",
   "id": "fabe7842",
   "metadata": {},
   "source": [
    "Загрузка базы данных"
   ]
  },
  {
   "cell_type": "code",
   "execution_count": 2,
   "id": "d4fb90ab",
   "metadata": {},
   "outputs": [],
   "source": [
    "# устанавливаем параметры\n",
    "db_config = {'user': 'praktikum_student', # имя пользователя\n",
    "'pwd': 'Sdf4$2;d-d30pp', # пароль\n",
    "'host': 'rc1b-wcoijxj3yxfsf3fs.mdb.yandexcloud.net',\n",
    "'port': 6432, # порт подключения\n",
    "'db': 'data-analyst-final-project-db'} # название базы данных\n",
    "connection_string = 'postgresql://{user}:{pwd}@{host}:{port}/{db}'.format(**db_config)\n",
    "\n",
    "# сохраняем коннектор\n",
    "engine = create_engine(connection_string, connect_args={'sslmode':'require'})"
   ]
  },
  {
   "cell_type": "markdown",
   "id": "6abde019",
   "metadata": {},
   "source": [
    "## Обзор данных"
   ]
  },
  {
   "cell_type": "markdown",
   "id": "09fa6062",
   "metadata": {},
   "source": [
    "Функция `go_query` на вход получает sql запрос и выводит результат в формате таблица pandas."
   ]
  },
  {
   "cell_type": "code",
   "execution_count": 3,
   "id": "6fef45f3",
   "metadata": {},
   "outputs": [],
   "source": [
    "def go_query(query):\n",
    "    con=engine.connect()\n",
    "    return(pd.io.sql.read_sql(sql = query, con = con))"
   ]
  },
  {
   "cell_type": "markdown",
   "id": "af9d406b",
   "metadata": {},
   "source": [
    "### Таблица `books`"
   ]
  },
  {
   "cell_type": "code",
   "execution_count": 4,
   "id": "80f47afd",
   "metadata": {},
   "outputs": [
    {
     "data": {
      "text/html": [
       "<div>\n",
       "<style scoped>\n",
       "    .dataframe tbody tr th:only-of-type {\n",
       "        vertical-align: middle;\n",
       "    }\n",
       "\n",
       "    .dataframe tbody tr th {\n",
       "        vertical-align: top;\n",
       "    }\n",
       "\n",
       "    .dataframe thead th {\n",
       "        text-align: right;\n",
       "    }\n",
       "</style>\n",
       "<table border=\"1\" class=\"dataframe\">\n",
       "  <thead>\n",
       "    <tr style=\"text-align: right;\">\n",
       "      <th></th>\n",
       "      <th>book_id</th>\n",
       "      <th>author_id</th>\n",
       "      <th>title</th>\n",
       "      <th>num_pages</th>\n",
       "      <th>publication_date</th>\n",
       "      <th>publisher_id</th>\n",
       "    </tr>\n",
       "  </thead>\n",
       "  <tbody>\n",
       "    <tr>\n",
       "      <th>0</th>\n",
       "      <td>1</td>\n",
       "      <td>546</td>\n",
       "      <td>'Salem's Lot</td>\n",
       "      <td>594</td>\n",
       "      <td>2005-11-01</td>\n",
       "      <td>93</td>\n",
       "    </tr>\n",
       "    <tr>\n",
       "      <th>1</th>\n",
       "      <td>2</td>\n",
       "      <td>465</td>\n",
       "      <td>1 000 Places to See Before You Die</td>\n",
       "      <td>992</td>\n",
       "      <td>2003-05-22</td>\n",
       "      <td>336</td>\n",
       "    </tr>\n",
       "    <tr>\n",
       "      <th>2</th>\n",
       "      <td>3</td>\n",
       "      <td>407</td>\n",
       "      <td>13 Little Blue Envelopes (Little Blue Envelope...</td>\n",
       "      <td>322</td>\n",
       "      <td>2010-12-21</td>\n",
       "      <td>135</td>\n",
       "    </tr>\n",
       "    <tr>\n",
       "      <th>3</th>\n",
       "      <td>4</td>\n",
       "      <td>82</td>\n",
       "      <td>1491: New Revelations of the Americas Before C...</td>\n",
       "      <td>541</td>\n",
       "      <td>2006-10-10</td>\n",
       "      <td>309</td>\n",
       "    </tr>\n",
       "    <tr>\n",
       "      <th>4</th>\n",
       "      <td>5</td>\n",
       "      <td>125</td>\n",
       "      <td>1776</td>\n",
       "      <td>386</td>\n",
       "      <td>2006-07-04</td>\n",
       "      <td>268</td>\n",
       "    </tr>\n",
       "  </tbody>\n",
       "</table>\n",
       "</div>"
      ],
      "text/plain": [
       "   book_id  author_id                                              title  \\\n",
       "0        1        546                                       'Salem's Lot   \n",
       "1        2        465                 1 000 Places to See Before You Die   \n",
       "2        3        407  13 Little Blue Envelopes (Little Blue Envelope...   \n",
       "3        4         82  1491: New Revelations of the Americas Before C...   \n",
       "4        5        125                                               1776   \n",
       "\n",
       "   num_pages publication_date  publisher_id  \n",
       "0        594       2005-11-01            93  \n",
       "1        992       2003-05-22           336  \n",
       "2        322       2010-12-21           135  \n",
       "3        541       2006-10-10           309  \n",
       "4        386       2006-07-04           268  "
      ]
     },
     "execution_count": 4,
     "metadata": {},
     "output_type": "execute_result"
    }
   ],
   "source": [
    "go_query(''' SELECT *\n",
    "             FROM books\n",
    "             LIMIT 5\n",
    "         ''')"
   ]
  },
  {
   "cell_type": "code",
   "execution_count": 5,
   "id": "c9037ecb",
   "metadata": {},
   "outputs": [
    {
     "data": {
      "text/html": [
       "<div>\n",
       "<style scoped>\n",
       "    .dataframe tbody tr th:only-of-type {\n",
       "        vertical-align: middle;\n",
       "    }\n",
       "\n",
       "    .dataframe tbody tr th {\n",
       "        vertical-align: top;\n",
       "    }\n",
       "\n",
       "    .dataframe thead th {\n",
       "        text-align: right;\n",
       "    }\n",
       "</style>\n",
       "<table border=\"1\" class=\"dataframe\">\n",
       "  <thead>\n",
       "    <tr style=\"text-align: right;\">\n",
       "      <th></th>\n",
       "      <th>books</th>\n",
       "      <th>authors</th>\n",
       "      <th>publishers</th>\n",
       "      <th>min_book_id</th>\n",
       "      <th>max_book_id</th>\n",
       "      <th>min_author_id</th>\n",
       "      <th>max_author_i</th>\n",
       "      <th>min_pub_id</th>\n",
       "      <th>max_pub_id</th>\n",
       "      <th>min_pages</th>\n",
       "      <th>max_pages</th>\n",
       "      <th>min_date</th>\n",
       "      <th>max_date</th>\n",
       "    </tr>\n",
       "  </thead>\n",
       "  <tbody>\n",
       "    <tr>\n",
       "      <th>0</th>\n",
       "      <td>1000</td>\n",
       "      <td>636</td>\n",
       "      <td>340</td>\n",
       "      <td>1</td>\n",
       "      <td>1000</td>\n",
       "      <td>1</td>\n",
       "      <td>636</td>\n",
       "      <td>1</td>\n",
       "      <td>340</td>\n",
       "      <td>14</td>\n",
       "      <td>2690</td>\n",
       "      <td>1952-12-01</td>\n",
       "      <td>2020-03-31</td>\n",
       "    </tr>\n",
       "  </tbody>\n",
       "</table>\n",
       "</div>"
      ],
      "text/plain": [
       "   books  authors  publishers  min_book_id  max_book_id  min_author_id  \\\n",
       "0   1000      636         340            1         1000              1   \n",
       "\n",
       "   max_author_i  min_pub_id  max_pub_id  min_pages  max_pages    min_date  \\\n",
       "0           636           1         340         14       2690  1952-12-01   \n",
       "\n",
       "     max_date  \n",
       "0  2020-03-31  "
      ]
     },
     "execution_count": 5,
     "metadata": {},
     "output_type": "execute_result"
    }
   ],
   "source": [
    "go_query('''SELECT COUNT(DISTINCT(book_id)) AS books,\n",
    "                 COUNT(DISTINCT(author_id)) AS authors,\n",
    "                 COUNT(DISTINCT(publisher_id)) AS publishers,\n",
    "                 MIN(book_id) as min_book_id,\n",
    "                 MAX(book_id) as max_book_id,\n",
    "                 MIN(author_id) as min_author_id,\n",
    "                 MAX(author_id) as max_author_i,\n",
    "                 MIN(publisher_id) as min_pub_id,\n",
    "                 MAX(publisher_id) as max_pub_id,\n",
    "                 MIN(num_pages) as min_pages,\n",
    "                 MAX(num_pages) as max_pages,\n",
    "                 MIN(publication_date) as min_date,\n",
    "                 MAX(publication_date) as max_date\n",
    "         FROM books''')"
   ]
  },
  {
   "cell_type": "markdown",
   "id": "d14d8b33",
   "metadata": {},
   "source": [
    "В таблице `books` представлена информация о 1000 книг от 636 авторов, изданных в 340 издательствах. МИнимальная длина книги 14 страниц, максимальная 2690. Даты издания варьируются от 1 декабря 1952 года до 31 марта 2020."
   ]
  },
  {
   "cell_type": "markdown",
   "id": "e0c38ba5",
   "metadata": {},
   "source": [
    "### Таблица `authors`"
   ]
  },
  {
   "cell_type": "code",
   "execution_count": 6,
   "id": "0bbfa3bd",
   "metadata": {},
   "outputs": [
    {
     "data": {
      "text/html": [
       "<div>\n",
       "<style scoped>\n",
       "    .dataframe tbody tr th:only-of-type {\n",
       "        vertical-align: middle;\n",
       "    }\n",
       "\n",
       "    .dataframe tbody tr th {\n",
       "        vertical-align: top;\n",
       "    }\n",
       "\n",
       "    .dataframe thead th {\n",
       "        text-align: right;\n",
       "    }\n",
       "</style>\n",
       "<table border=\"1\" class=\"dataframe\">\n",
       "  <thead>\n",
       "    <tr style=\"text-align: right;\">\n",
       "      <th></th>\n",
       "      <th>author_id</th>\n",
       "      <th>author</th>\n",
       "    </tr>\n",
       "  </thead>\n",
       "  <tbody>\n",
       "    <tr>\n",
       "      <th>0</th>\n",
       "      <td>1</td>\n",
       "      <td>A.S. Byatt</td>\n",
       "    </tr>\n",
       "    <tr>\n",
       "      <th>1</th>\n",
       "      <td>2</td>\n",
       "      <td>Aesop/Laura Harris/Laura Gibbs</td>\n",
       "    </tr>\n",
       "    <tr>\n",
       "      <th>2</th>\n",
       "      <td>3</td>\n",
       "      <td>Agatha Christie</td>\n",
       "    </tr>\n",
       "    <tr>\n",
       "      <th>3</th>\n",
       "      <td>4</td>\n",
       "      <td>Alan Brennert</td>\n",
       "    </tr>\n",
       "    <tr>\n",
       "      <th>4</th>\n",
       "      <td>5</td>\n",
       "      <td>Alan Moore/David   Lloyd</td>\n",
       "    </tr>\n",
       "  </tbody>\n",
       "</table>\n",
       "</div>"
      ],
      "text/plain": [
       "   author_id                          author\n",
       "0          1                      A.S. Byatt\n",
       "1          2  Aesop/Laura Harris/Laura Gibbs\n",
       "2          3                 Agatha Christie\n",
       "3          4                   Alan Brennert\n",
       "4          5        Alan Moore/David   Lloyd"
      ]
     },
     "execution_count": 6,
     "metadata": {},
     "output_type": "execute_result"
    }
   ],
   "source": [
    "go_query('''  SELECT *\n",
    "            FROM authors\n",
    "            LIMIT 5\n",
    "            ''')"
   ]
  },
  {
   "cell_type": "code",
   "execution_count": 7,
   "id": "bd1a4f46",
   "metadata": {},
   "outputs": [
    {
     "data": {
      "text/html": [
       "<div>\n",
       "<style scoped>\n",
       "    .dataframe tbody tr th:only-of-type {\n",
       "        vertical-align: middle;\n",
       "    }\n",
       "\n",
       "    .dataframe tbody tr th {\n",
       "        vertical-align: top;\n",
       "    }\n",
       "\n",
       "    .dataframe thead th {\n",
       "        text-align: right;\n",
       "    }\n",
       "</style>\n",
       "<table border=\"1\" class=\"dataframe\">\n",
       "  <thead>\n",
       "    <tr style=\"text-align: right;\">\n",
       "      <th></th>\n",
       "      <th>count_id</th>\n",
       "      <th>count_names</th>\n",
       "      <th>min_author_id</th>\n",
       "      <th>max_author_id</th>\n",
       "    </tr>\n",
       "  </thead>\n",
       "  <tbody>\n",
       "    <tr>\n",
       "      <th>0</th>\n",
       "      <td>636</td>\n",
       "      <td>636</td>\n",
       "      <td>1</td>\n",
       "      <td>636</td>\n",
       "    </tr>\n",
       "  </tbody>\n",
       "</table>\n",
       "</div>"
      ],
      "text/plain": [
       "   count_id  count_names  min_author_id  max_author_id\n",
       "0       636          636              1            636"
      ]
     },
     "execution_count": 7,
     "metadata": {},
     "output_type": "execute_result"
    }
   ],
   "source": [
    "go_query('''  SELECT COUNT(DISTINCT(author_id)) AS count_id,\n",
    "                   COUNT(DISTINCT(author)) AS count_names,\n",
    "                   MIN(author_id) as min_author_id,\n",
    "                   MAX(author_id) as max_author_id\n",
    "            FROM authors\n",
    "            ''')"
   ]
  },
  {
   "cell_type": "markdown",
   "id": "f7e4c6ca",
   "metadata": {},
   "source": [
    "`author` количество уникальных идентификаторов и имен авторов 636, то есть у каждого автора есть хтя бы одна книга в таблице `books`"
   ]
  },
  {
   "cell_type": "markdown",
   "id": "5d14d41a",
   "metadata": {},
   "source": [
    "### Таблица `publishers`"
   ]
  },
  {
   "cell_type": "code",
   "execution_count": 8,
   "id": "11fb0fab",
   "metadata": {},
   "outputs": [
    {
     "data": {
      "text/html": [
       "<div>\n",
       "<style scoped>\n",
       "    .dataframe tbody tr th:only-of-type {\n",
       "        vertical-align: middle;\n",
       "    }\n",
       "\n",
       "    .dataframe tbody tr th {\n",
       "        vertical-align: top;\n",
       "    }\n",
       "\n",
       "    .dataframe thead th {\n",
       "        text-align: right;\n",
       "    }\n",
       "</style>\n",
       "<table border=\"1\" class=\"dataframe\">\n",
       "  <thead>\n",
       "    <tr style=\"text-align: right;\">\n",
       "      <th></th>\n",
       "      <th>publisher_id</th>\n",
       "      <th>publisher</th>\n",
       "    </tr>\n",
       "  </thead>\n",
       "  <tbody>\n",
       "    <tr>\n",
       "      <th>0</th>\n",
       "      <td>1</td>\n",
       "      <td>Ace</td>\n",
       "    </tr>\n",
       "    <tr>\n",
       "      <th>1</th>\n",
       "      <td>2</td>\n",
       "      <td>Ace Book</td>\n",
       "    </tr>\n",
       "    <tr>\n",
       "      <th>2</th>\n",
       "      <td>3</td>\n",
       "      <td>Ace Books</td>\n",
       "    </tr>\n",
       "    <tr>\n",
       "      <th>3</th>\n",
       "      <td>4</td>\n",
       "      <td>Ace Hardcover</td>\n",
       "    </tr>\n",
       "    <tr>\n",
       "      <th>4</th>\n",
       "      <td>5</td>\n",
       "      <td>Addison Wesley Publishing Company</td>\n",
       "    </tr>\n",
       "  </tbody>\n",
       "</table>\n",
       "</div>"
      ],
      "text/plain": [
       "   publisher_id                          publisher\n",
       "0             1                                Ace\n",
       "1             2                           Ace Book\n",
       "2             3                          Ace Books\n",
       "3             4                      Ace Hardcover\n",
       "4             5  Addison Wesley Publishing Company"
      ]
     },
     "execution_count": 8,
     "metadata": {},
     "output_type": "execute_result"
    }
   ],
   "source": [
    "go_query('''  SELECT *\n",
    "            FROM publishers\n",
    "            LIMIT 5\n",
    "            ''')"
   ]
  },
  {
   "cell_type": "code",
   "execution_count": 9,
   "id": "08ac0f56",
   "metadata": {},
   "outputs": [
    {
     "data": {
      "text/html": [
       "<div>\n",
       "<style scoped>\n",
       "    .dataframe tbody tr th:only-of-type {\n",
       "        vertical-align: middle;\n",
       "    }\n",
       "\n",
       "    .dataframe tbody tr th {\n",
       "        vertical-align: top;\n",
       "    }\n",
       "\n",
       "    .dataframe thead th {\n",
       "        text-align: right;\n",
       "    }\n",
       "</style>\n",
       "<table border=\"1\" class=\"dataframe\">\n",
       "  <thead>\n",
       "    <tr style=\"text-align: right;\">\n",
       "      <th></th>\n",
       "      <th>id_count</th>\n",
       "      <th>names_pub_counts</th>\n",
       "      <th>min_pub_id</th>\n",
       "      <th>max_pub_id</th>\n",
       "    </tr>\n",
       "  </thead>\n",
       "  <tbody>\n",
       "    <tr>\n",
       "      <th>0</th>\n",
       "      <td>340</td>\n",
       "      <td>340</td>\n",
       "      <td>1</td>\n",
       "      <td>340</td>\n",
       "    </tr>\n",
       "  </tbody>\n",
       "</table>\n",
       "</div>"
      ],
      "text/plain": [
       "   id_count  names_pub_counts  min_pub_id  max_pub_id\n",
       "0       340               340           1         340"
      ]
     },
     "execution_count": 9,
     "metadata": {},
     "output_type": "execute_result"
    }
   ],
   "source": [
    "go_query('''  SELECT COUNT(DISTINCT(publisher_id)) AS id_count,\n",
    "                   COUNT(DISTINCT(publisher)) AS names_pub_counts,\n",
    "                   MIN(publisher_id) as min_pub_id,\n",
    "                   MAX(publisher_id) as max_pub_id\n",
    "            FROM publishers\n",
    "            ''')"
   ]
  },
  {
   "cell_type": "markdown",
   "id": "c5d178eb",
   "metadata": {},
   "source": [
    "Количество уникальных идентифиаторов издательств совпадает с количеством уникальных имён 340. Идентификаторы от 1 до 340, значит у каждого издательства есть книги в таблице books."
   ]
  },
  {
   "cell_type": "markdown",
   "id": "88037087",
   "metadata": {},
   "source": [
    "### Таблица `ratings`"
   ]
  },
  {
   "cell_type": "code",
   "execution_count": 10,
   "id": "b836db4b",
   "metadata": {},
   "outputs": [
    {
     "data": {
      "text/html": [
       "<div>\n",
       "<style scoped>\n",
       "    .dataframe tbody tr th:only-of-type {\n",
       "        vertical-align: middle;\n",
       "    }\n",
       "\n",
       "    .dataframe tbody tr th {\n",
       "        vertical-align: top;\n",
       "    }\n",
       "\n",
       "    .dataframe thead th {\n",
       "        text-align: right;\n",
       "    }\n",
       "</style>\n",
       "<table border=\"1\" class=\"dataframe\">\n",
       "  <thead>\n",
       "    <tr style=\"text-align: right;\">\n",
       "      <th></th>\n",
       "      <th>rating_id</th>\n",
       "      <th>book_id</th>\n",
       "      <th>username</th>\n",
       "      <th>rating</th>\n",
       "    </tr>\n",
       "  </thead>\n",
       "  <tbody>\n",
       "    <tr>\n",
       "      <th>0</th>\n",
       "      <td>1</td>\n",
       "      <td>1</td>\n",
       "      <td>ryanfranco</td>\n",
       "      <td>4</td>\n",
       "    </tr>\n",
       "    <tr>\n",
       "      <th>1</th>\n",
       "      <td>2</td>\n",
       "      <td>1</td>\n",
       "      <td>grantpatricia</td>\n",
       "      <td>2</td>\n",
       "    </tr>\n",
       "    <tr>\n",
       "      <th>2</th>\n",
       "      <td>3</td>\n",
       "      <td>1</td>\n",
       "      <td>brandtandrea</td>\n",
       "      <td>5</td>\n",
       "    </tr>\n",
       "    <tr>\n",
       "      <th>3</th>\n",
       "      <td>4</td>\n",
       "      <td>2</td>\n",
       "      <td>lorichen</td>\n",
       "      <td>3</td>\n",
       "    </tr>\n",
       "    <tr>\n",
       "      <th>4</th>\n",
       "      <td>5</td>\n",
       "      <td>2</td>\n",
       "      <td>mariokeller</td>\n",
       "      <td>2</td>\n",
       "    </tr>\n",
       "  </tbody>\n",
       "</table>\n",
       "</div>"
      ],
      "text/plain": [
       "   rating_id  book_id       username  rating\n",
       "0          1        1     ryanfranco       4\n",
       "1          2        1  grantpatricia       2\n",
       "2          3        1   brandtandrea       5\n",
       "3          4        2       lorichen       3\n",
       "4          5        2    mariokeller       2"
      ]
     },
     "execution_count": 10,
     "metadata": {},
     "output_type": "execute_result"
    }
   ],
   "source": [
    "go_query('''  SELECT *\n",
    "            FROM ratings\n",
    "            LIMIT 5\n",
    "            ''')"
   ]
  },
  {
   "cell_type": "code",
   "execution_count": 11,
   "id": "58a28d0e",
   "metadata": {},
   "outputs": [
    {
     "data": {
      "text/html": [
       "<div>\n",
       "<style scoped>\n",
       "    .dataframe tbody tr th:only-of-type {\n",
       "        vertical-align: middle;\n",
       "    }\n",
       "\n",
       "    .dataframe tbody tr th {\n",
       "        vertical-align: top;\n",
       "    }\n",
       "\n",
       "    .dataframe thead th {\n",
       "        text-align: right;\n",
       "    }\n",
       "</style>\n",
       "<table border=\"1\" class=\"dataframe\">\n",
       "  <thead>\n",
       "    <tr style=\"text-align: right;\">\n",
       "      <th></th>\n",
       "      <th>reting_count</th>\n",
       "      <th>books_count</th>\n",
       "      <th>users_count</th>\n",
       "      <th>min_book_id</th>\n",
       "      <th>max_book_id</th>\n",
       "      <th>min_rating</th>\n",
       "      <th>max_rating</th>\n",
       "    </tr>\n",
       "  </thead>\n",
       "  <tbody>\n",
       "    <tr>\n",
       "      <th>0</th>\n",
       "      <td>6456</td>\n",
       "      <td>1000</td>\n",
       "      <td>160</td>\n",
       "      <td>1</td>\n",
       "      <td>1000</td>\n",
       "      <td>1</td>\n",
       "      <td>5</td>\n",
       "    </tr>\n",
       "  </tbody>\n",
       "</table>\n",
       "</div>"
      ],
      "text/plain": [
       "   reting_count  books_count  users_count  min_book_id  max_book_id  \\\n",
       "0          6456         1000          160            1         1000   \n",
       "\n",
       "   min_rating  max_rating  \n",
       "0           1           5  "
      ]
     },
     "execution_count": 11,
     "metadata": {},
     "output_type": "execute_result"
    }
   ],
   "source": [
    "go_query(''' SELECT COUNT(DISTINCT(rating_id)) AS reting_count,\n",
    "                   COUNT(DISTINCT(book_id)) AS books_count,\n",
    "                   COUNT(DISTINCT(username)) AS users_count,\n",
    "                   MIN(book_id) as min_book_id,\n",
    "                   MAX(book_id) as max_book_id,\n",
    "                   MIN(rating) as min_rating,\n",
    "                   MAX(rating) as max_rating\n",
    "            FROM ratings \n",
    "            ''')"
   ]
  },
  {
   "cell_type": "markdown",
   "id": "09c6d0f5",
   "metadata": {},
   "source": [
    "Мы имеем данные о 6456 оценках от 160 пользователей. У всех книг представленных в таблице books есть оценки, минимальный рейтинг 1, максимальный 5."
   ]
  },
  {
   "cell_type": "markdown",
   "id": "19a5de03",
   "metadata": {},
   "source": [
    "### Таблица `reviews`"
   ]
  },
  {
   "cell_type": "code",
   "execution_count": 12,
   "id": "d60bcf4e",
   "metadata": {},
   "outputs": [
    {
     "data": {
      "text/html": [
       "<div>\n",
       "<style scoped>\n",
       "    .dataframe tbody tr th:only-of-type {\n",
       "        vertical-align: middle;\n",
       "    }\n",
       "\n",
       "    .dataframe tbody tr th {\n",
       "        vertical-align: top;\n",
       "    }\n",
       "\n",
       "    .dataframe thead th {\n",
       "        text-align: right;\n",
       "    }\n",
       "</style>\n",
       "<table border=\"1\" class=\"dataframe\">\n",
       "  <thead>\n",
       "    <tr style=\"text-align: right;\">\n",
       "      <th></th>\n",
       "      <th>review_id</th>\n",
       "      <th>book_id</th>\n",
       "      <th>username</th>\n",
       "      <th>text</th>\n",
       "    </tr>\n",
       "  </thead>\n",
       "  <tbody>\n",
       "    <tr>\n",
       "      <th>0</th>\n",
       "      <td>1</td>\n",
       "      <td>1</td>\n",
       "      <td>brandtandrea</td>\n",
       "      <td>Mention society tell send professor analysis. ...</td>\n",
       "    </tr>\n",
       "    <tr>\n",
       "      <th>1</th>\n",
       "      <td>2</td>\n",
       "      <td>1</td>\n",
       "      <td>ryanfranco</td>\n",
       "      <td>Foot glass pretty audience hit themselves. Amo...</td>\n",
       "    </tr>\n",
       "    <tr>\n",
       "      <th>2</th>\n",
       "      <td>3</td>\n",
       "      <td>2</td>\n",
       "      <td>lorichen</td>\n",
       "      <td>Listen treat keep worry. Miss husband tax but ...</td>\n",
       "    </tr>\n",
       "    <tr>\n",
       "      <th>3</th>\n",
       "      <td>4</td>\n",
       "      <td>3</td>\n",
       "      <td>johnsonamanda</td>\n",
       "      <td>Finally month interesting blue could nature cu...</td>\n",
       "    </tr>\n",
       "    <tr>\n",
       "      <th>4</th>\n",
       "      <td>5</td>\n",
       "      <td>3</td>\n",
       "      <td>scotttamara</td>\n",
       "      <td>Nation purpose heavy give wait song will. List...</td>\n",
       "    </tr>\n",
       "  </tbody>\n",
       "</table>\n",
       "</div>"
      ],
      "text/plain": [
       "   review_id  book_id       username  \\\n",
       "0          1        1   brandtandrea   \n",
       "1          2        1     ryanfranco   \n",
       "2          3        2       lorichen   \n",
       "3          4        3  johnsonamanda   \n",
       "4          5        3    scotttamara   \n",
       "\n",
       "                                                text  \n",
       "0  Mention society tell send professor analysis. ...  \n",
       "1  Foot glass pretty audience hit themselves. Amo...  \n",
       "2  Listen treat keep worry. Miss husband tax but ...  \n",
       "3  Finally month interesting blue could nature cu...  \n",
       "4  Nation purpose heavy give wait song will. List...  "
      ]
     },
     "execution_count": 12,
     "metadata": {},
     "output_type": "execute_result"
    }
   ],
   "source": [
    "go_query('''  SELECT *\n",
    "            FROM reviews\n",
    "            LIMIT 5\n",
    "            ''')      "
   ]
  },
  {
   "cell_type": "code",
   "execution_count": 13,
   "id": "e3e806b5",
   "metadata": {},
   "outputs": [
    {
     "data": {
      "text/html": [
       "<div>\n",
       "<style scoped>\n",
       "    .dataframe tbody tr th:only-of-type {\n",
       "        vertical-align: middle;\n",
       "    }\n",
       "\n",
       "    .dataframe tbody tr th {\n",
       "        vertical-align: top;\n",
       "    }\n",
       "\n",
       "    .dataframe thead th {\n",
       "        text-align: right;\n",
       "    }\n",
       "</style>\n",
       "<table border=\"1\" class=\"dataframe\">\n",
       "  <thead>\n",
       "    <tr style=\"text-align: right;\">\n",
       "      <th></th>\n",
       "      <th>count_reviews</th>\n",
       "      <th>count_books</th>\n",
       "      <th>count_users</th>\n",
       "      <th>min_book_id</th>\n",
       "      <th>max_book_id</th>\n",
       "      <th>min_review_id</th>\n",
       "      <th>max__review_id</th>\n",
       "    </tr>\n",
       "  </thead>\n",
       "  <tbody>\n",
       "    <tr>\n",
       "      <th>0</th>\n",
       "      <td>2793</td>\n",
       "      <td>994</td>\n",
       "      <td>160</td>\n",
       "      <td>1</td>\n",
       "      <td>1000</td>\n",
       "      <td>1</td>\n",
       "      <td>2793</td>\n",
       "    </tr>\n",
       "  </tbody>\n",
       "</table>\n",
       "</div>"
      ],
      "text/plain": [
       "   count_reviews  count_books  count_users  min_book_id  max_book_id  \\\n",
       "0           2793          994          160            1         1000   \n",
       "\n",
       "   min_review_id  max__review_id  \n",
       "0              1            2793  "
      ]
     },
     "execution_count": 13,
     "metadata": {},
     "output_type": "execute_result"
    }
   ],
   "source": [
    "go_query('''  SELECT COUNT(DISTINCT(review_id)) AS count_reviews,\n",
    "                   COUNT(DISTINCT(book_id)) AS count_books,\n",
    "                   COUNT(DISTINCT(username)) AS count_users,\n",
    "                   MIN(book_id) as min_book_id,\n",
    "                   MAX(book_id) as max_book_id,\n",
    "                   MIN(review_id) as min_review_id,\n",
    "                   MAX(review_id) as max__review_id\n",
    "               FROM reviews\n",
    "            ''')"
   ]
  },
  {
   "cell_type": "markdown",
   "id": "da56208a",
   "metadata": {},
   "source": [
    "Мы имеем 2793 ревью на 994 книги."
   ]
  },
  {
   "cell_type": "markdown",
   "id": "74bd0c42",
   "metadata": {},
   "source": [
    "### Вывод"
   ]
  },
  {
   "cell_type": "markdown",
   "id": "9da6b03f",
   "metadata": {},
   "source": [
    "Мы ознакомились с представленной для анализа базой, состоящей из 5 таблиц.  \n",
    "Она содержит информацию о 1000 книг от 636 авторов, изданных в 340 издательствах.  \n",
    "Длина книг от 14 до 2690 страниц.  \n",
    "Изданы в период с 1 декабря 1952 года по 31 марта 2020.  \n",
    "160 пользователей выставили оценки от 1 до 5 баллов всем книгам в базе.   \n",
    "Ревью есть так же от 160 пользователей у 994 книг.  \n",
    "Имена авторов и названия издательств уникальны.\n"
   ]
  },
  {
   "cell_type": "markdown",
   "id": "f7169038",
   "metadata": {},
   "source": [
    "## Анализ данных"
   ]
  },
  {
   "cell_type": "markdown",
   "id": "4a91394b",
   "metadata": {},
   "source": [
    "### Количество книг вышедших после 1 января 2000 года"
   ]
  },
  {
   "cell_type": "code",
   "execution_count": 14,
   "id": "3f2326b4",
   "metadata": {},
   "outputs": [
    {
     "data": {
      "text/html": [
       "<div>\n",
       "<style scoped>\n",
       "    .dataframe tbody tr th:only-of-type {\n",
       "        vertical-align: middle;\n",
       "    }\n",
       "\n",
       "    .dataframe tbody tr th {\n",
       "        vertical-align: top;\n",
       "    }\n",
       "\n",
       "    .dataframe thead th {\n",
       "        text-align: right;\n",
       "    }\n",
       "</style>\n",
       "<table border=\"1\" class=\"dataframe\">\n",
       "  <thead>\n",
       "    <tr style=\"text-align: right;\">\n",
       "      <th></th>\n",
       "      <th>количество_книг</th>\n",
       "    </tr>\n",
       "  </thead>\n",
       "  <tbody>\n",
       "    <tr>\n",
       "      <th>0</th>\n",
       "      <td>819</td>\n",
       "    </tr>\n",
       "  </tbody>\n",
       "</table>\n",
       "</div>"
      ],
      "text/plain": [
       "   количество_книг\n",
       "0              819"
      ]
     },
     "execution_count": 14,
     "metadata": {},
     "output_type": "execute_result"
    }
   ],
   "source": [
    "go_query('''  SELECT COUNT(book_id) AS количество_книг\n",
    "            FROM books\n",
    "            WHERE publication_date::date > '2000-01-01'\n",
    "            ''')"
   ]
  },
  {
   "cell_type": "markdown",
   "id": "16537acb",
   "metadata": {},
   "source": [
    "Количество книг выпущенных после 1 января 2000 года 819."
   ]
  },
  {
   "cell_type": "markdown",
   "id": "2f5965e8",
   "metadata": {},
   "source": [
    "### Количество обзоров и средняя оценка для каждой книги"
   ]
  },
  {
   "cell_type": "code",
   "execution_count": 19,
   "id": "cbb995d8",
   "metadata": {
    "scrolled": false
   },
   "outputs": [
    {
     "data": {
      "text/html": [
       "<div>\n",
       "<style scoped>\n",
       "    .dataframe tbody tr th:only-of-type {\n",
       "        vertical-align: middle;\n",
       "    }\n",
       "\n",
       "    .dataframe tbody tr th {\n",
       "        vertical-align: top;\n",
       "    }\n",
       "\n",
       "    .dataframe thead th {\n",
       "        text-align: right;\n",
       "    }\n",
       "</style>\n",
       "<table border=\"1\" class=\"dataframe\">\n",
       "  <thead>\n",
       "    <tr style=\"text-align: right;\">\n",
       "      <th></th>\n",
       "      <th>название</th>\n",
       "      <th>количество_обзоров</th>\n",
       "      <th>средняя_оценка</th>\n",
       "    </tr>\n",
       "  </thead>\n",
       "  <tbody>\n",
       "    <tr>\n",
       "      <th>0</th>\n",
       "      <td>Crucial Conversations: Tools for Talking When ...</td>\n",
       "      <td>2</td>\n",
       "      <td>5.0</td>\n",
       "    </tr>\n",
       "    <tr>\n",
       "      <th>1</th>\n",
       "      <td>The Walking Dead  Book One (The Walking Dead #...</td>\n",
       "      <td>2</td>\n",
       "      <td>5.0</td>\n",
       "    </tr>\n",
       "    <tr>\n",
       "      <th>2</th>\n",
       "      <td>A Dirty Job (Grim Reaper  #1)</td>\n",
       "      <td>4</td>\n",
       "      <td>5.0</td>\n",
       "    </tr>\n",
       "    <tr>\n",
       "      <th>3</th>\n",
       "      <td>Geek Love</td>\n",
       "      <td>2</td>\n",
       "      <td>5.0</td>\n",
       "    </tr>\n",
       "    <tr>\n",
       "      <th>4</th>\n",
       "      <td>Homage to Catalonia</td>\n",
       "      <td>2</td>\n",
       "      <td>5.0</td>\n",
       "    </tr>\n",
       "    <tr>\n",
       "      <th>...</th>\n",
       "      <td>...</td>\n",
       "      <td>...</td>\n",
       "      <td>...</td>\n",
       "    </tr>\n",
       "    <tr>\n",
       "      <th>995</th>\n",
       "      <td>The Kitchen God's Wife</td>\n",
       "      <td>3</td>\n",
       "      <td>2.3</td>\n",
       "    </tr>\n",
       "    <tr>\n",
       "      <th>996</th>\n",
       "      <td>His Excellency: George Washington</td>\n",
       "      <td>2</td>\n",
       "      <td>2.0</td>\n",
       "    </tr>\n",
       "    <tr>\n",
       "      <th>997</th>\n",
       "      <td>Drowning Ruth</td>\n",
       "      <td>3</td>\n",
       "      <td>2.0</td>\n",
       "    </tr>\n",
       "    <tr>\n",
       "      <th>998</th>\n",
       "      <td>Junky</td>\n",
       "      <td>2</td>\n",
       "      <td>2.0</td>\n",
       "    </tr>\n",
       "    <tr>\n",
       "      <th>999</th>\n",
       "      <td>Harvesting the Heart</td>\n",
       "      <td>2</td>\n",
       "      <td>1.5</td>\n",
       "    </tr>\n",
       "  </tbody>\n",
       "</table>\n",
       "<p>1000 rows × 3 columns</p>\n",
       "</div>"
      ],
      "text/plain": [
       "                                              название  количество_обзоров  \\\n",
       "0    Crucial Conversations: Tools for Talking When ...                   2   \n",
       "1    The Walking Dead  Book One (The Walking Dead #...                   2   \n",
       "2                        A Dirty Job (Grim Reaper  #1)                   4   \n",
       "3                                            Geek Love                   2   \n",
       "4                                  Homage to Catalonia                   2   \n",
       "..                                                 ...                 ...   \n",
       "995                             The Kitchen God's Wife                   3   \n",
       "996                  His Excellency: George Washington                   2   \n",
       "997                                      Drowning Ruth                   3   \n",
       "998                                              Junky                   2   \n",
       "999                               Harvesting the Heart                   2   \n",
       "\n",
       "     средняя_оценка  \n",
       "0               5.0  \n",
       "1               5.0  \n",
       "2               5.0  \n",
       "3               5.0  \n",
       "4               5.0  \n",
       "..              ...  \n",
       "995             2.3  \n",
       "996             2.0  \n",
       "997             2.0  \n",
       "998             2.0  \n",
       "999             1.5  \n",
       "\n",
       "[1000 rows x 3 columns]"
      ]
     },
     "execution_count": 19,
     "metadata": {},
     "output_type": "execute_result"
    }
   ],
   "source": [
    "go_query('''  SELECT b.title as название,\n",
    "                   COUNT(DISTINCT(rew.review_id)) AS количество_обзоров,\n",
    "                   ROUND(AVG(rat.rating),1) AS средняя_оценка\n",
    "            FROM books AS b LEFT JOIN reviews AS rew ON b.book_id = rew.book_id\n",
    "            LEFT JOIN ratings AS rat ON b.book_id = rat.book_id\n",
    "            GROUP BY b.book_id\n",
    "            ORDER BY 3 DESC\n",
    "            ''')"
   ]
  },
  {
   "cell_type": "markdown",
   "id": "985dba84",
   "metadata": {},
   "source": [
    "### Издательство, которое выпустило наибольшее число книг толще 50 страниц (менее 50 страниц считаем брошюрами)"
   ]
  },
  {
   "cell_type": "code",
   "execution_count": 16,
   "id": "67bf4d84",
   "metadata": {},
   "outputs": [
    {
     "data": {
      "text/html": [
       "<div>\n",
       "<style scoped>\n",
       "    .dataframe tbody tr th:only-of-type {\n",
       "        vertical-align: middle;\n",
       "    }\n",
       "\n",
       "    .dataframe tbody tr th {\n",
       "        vertical-align: top;\n",
       "    }\n",
       "\n",
       "    .dataframe thead th {\n",
       "        text-align: right;\n",
       "    }\n",
       "</style>\n",
       "<table border=\"1\" class=\"dataframe\">\n",
       "  <thead>\n",
       "    <tr style=\"text-align: right;\">\n",
       "      <th></th>\n",
       "      <th>издатель</th>\n",
       "      <th>количество_книг</th>\n",
       "    </tr>\n",
       "  </thead>\n",
       "  <tbody>\n",
       "    <tr>\n",
       "      <th>0</th>\n",
       "      <td>Penguin Books</td>\n",
       "      <td>42</td>\n",
       "    </tr>\n",
       "  </tbody>\n",
       "</table>\n",
       "</div>"
      ],
      "text/plain": [
       "        издатель  количество_книг\n",
       "0  Penguin Books               42"
      ]
     },
     "execution_count": 16,
     "metadata": {},
     "output_type": "execute_result"
    }
   ],
   "source": [
    "go_query('''SELECT publisher as издатель, \n",
    "                   COUNT(book_id) as количество_книг\n",
    "            FROM books as b INNER JOIN publishers as p ON p.publisher_id = b.publisher_id\n",
    "            WHERE num_pages > 50\n",
    "            GROUP BY publisher\n",
    "            ORDER BY count(book_id) DESC\n",
    "            LIMIT 1\n",
    "            ''')"
   ]
  },
  {
   "cell_type": "markdown",
   "id": "4e283648",
   "metadata": {},
   "source": [
    "Наиболее продуктивным в выпуске книг толще 50 страниц является Penguin Books."
   ]
  },
  {
   "cell_type": "markdown",
   "id": "6134ca61",
   "metadata": {},
   "source": [
    "### Автора с самой высокой средней оценкой книг, учитывая только книги с 50 и более оценками"
   ]
  },
  {
   "cell_type": "code",
   "execution_count": 17,
   "id": "bea3b618",
   "metadata": {
    "scrolled": true
   },
   "outputs": [
    {
     "data": {
      "text/html": [
       "<div>\n",
       "<style scoped>\n",
       "    .dataframe tbody tr th:only-of-type {\n",
       "        vertical-align: middle;\n",
       "    }\n",
       "\n",
       "    .dataframe tbody tr th {\n",
       "        vertical-align: top;\n",
       "    }\n",
       "\n",
       "    .dataframe thead th {\n",
       "        text-align: right;\n",
       "    }\n",
       "</style>\n",
       "<table border=\"1\" class=\"dataframe\">\n",
       "  <thead>\n",
       "    <tr style=\"text-align: right;\">\n",
       "      <th></th>\n",
       "      <th>идентификатор_автора</th>\n",
       "      <th>автор</th>\n",
       "      <th>средний_рейтинг</th>\n",
       "    </tr>\n",
       "  </thead>\n",
       "  <tbody>\n",
       "    <tr>\n",
       "      <th>0</th>\n",
       "      <td>236</td>\n",
       "      <td>J.K. Rowling/Mary GrandPré</td>\n",
       "      <td>4.3</td>\n",
       "    </tr>\n",
       "  </tbody>\n",
       "</table>\n",
       "</div>"
      ],
      "text/plain": [
       "   идентификатор_автора                       автор  средний_рейтинг\n",
       "0                   236  J.K. Rowling/Mary GrandPré              4.3"
      ]
     },
     "execution_count": 17,
     "metadata": {},
     "output_type": "execute_result"
    }
   ],
   "source": [
    "go_query('''  WITH bb AS (SELECT b.book_id,\n",
    "                               AVG(rat.rating)\n",
    "                        FROM ratings AS rat LEFT JOIN books as b ON b.book_id = rat.book_id\n",
    "                        GROUP BY b.book_id\n",
    "                        HAVING count(rat.rating) >= 50)\n",
    "            SELECT a.author_id AS идентификатор_автора,\n",
    "                    a.author AS автор,\n",
    "                    ROUND(AVG(bb.avg),1) AS средний_рейтинг\n",
    "            FROM bb LEFT JOIN books as b ON bb.book_id = b.book_id\n",
    "            LEFT JOIN authors as a ON a.author_id = b.author_id\n",
    "            GROUP BY 1\n",
    "            ORDER BY 3 DESC\n",
    "            LIMIT 1\n",
    "            ''')"
   ]
  },
  {
   "cell_type": "markdown",
   "id": "742d400f",
   "metadata": {},
   "source": [
    "### Среднее количество обзоров от пользователей, которые поставили больше 48 оценок"
   ]
  },
  {
   "cell_type": "code",
   "execution_count": 18,
   "id": "1db982f0",
   "metadata": {},
   "outputs": [
    {
     "data": {
      "text/html": [
       "<div>\n",
       "<style scoped>\n",
       "    .dataframe tbody tr th:only-of-type {\n",
       "        vertical-align: middle;\n",
       "    }\n",
       "\n",
       "    .dataframe tbody tr th {\n",
       "        vertical-align: top;\n",
       "    }\n",
       "\n",
       "    .dataframe thead th {\n",
       "        text-align: right;\n",
       "    }\n",
       "</style>\n",
       "<table border=\"1\" class=\"dataframe\">\n",
       "  <thead>\n",
       "    <tr style=\"text-align: right;\">\n",
       "      <th></th>\n",
       "      <th>среднее_количество_обзоров</th>\n",
       "    </tr>\n",
       "  </thead>\n",
       "  <tbody>\n",
       "    <tr>\n",
       "      <th>0</th>\n",
       "      <td>24.0</td>\n",
       "    </tr>\n",
       "  </tbody>\n",
       "</table>\n",
       "</div>"
      ],
      "text/plain": [
       "   среднее_количество_обзоров\n",
       "0                        24.0"
      ]
     },
     "execution_count": 18,
     "metadata": {},
     "output_type": "execute_result"
    }
   ],
   "source": [
    "go_query('''  WITH users AS (SELECT rat.username\n",
    "                           FROM ratings AS rat\n",
    "                           GROUP BY rat.username\n",
    "                           HAVING count(rat.rating_id) >48),\n",
    "             count_rew AS (SELECT r.username AS user,\n",
    "                                  COUNT(r.review_id)\n",
    "                           FROM users LEFT JOIN reviews AS r ON users.username = r.username\n",
    "             GROUP BY 1)\n",
    "            SELECT AVG(count) AS среднее_количество_обзоров\n",
    "            FROM count_rew\n",
    "         ''')"
   ]
  },
  {
   "cell_type": "markdown",
   "id": "2a86975a",
   "metadata": {},
   "source": [
    "В среднем 24 обзора сделали пользователи, поставившие более 48 оценок."
   ]
  },
  {
   "cell_type": "markdown",
   "id": "221bac54",
   "metadata": {},
   "source": [
    "## Вывод"
   ]
  },
  {
   "cell_type": "markdown",
   "id": "f0eaf8e8",
   "metadata": {},
   "source": [
    "На вход была получена база данных сервиса для чтения книг по подписке. Мы ознакомились с данными проверили корректность значений.  \n",
    "\n",
    "В ходе анализа выяснили следующее:\n",
    "    \n",
    "       1. после 01 января 2020 года было выпущено 819 книг\n",
    "       \n",
    "       2. была выведена таблица с количеством ревью и средней оценкой по всем книгам. Наибольшее количество,7 обзороз, получила книга Сумерки часть 1 (\"Twilight (Twilight #1)\"), при этом её средняя оценка невысока 3.7 баллов. Ни одного обзора и самая низкая средняя оценка в 3 балла у книги \"Естественный путь к рисованию\" (\"The Natural Way to Draw\")\n",
    "       \n",
    "       3.издательство Penguin Books выпустило наибольшее количество книг толще 50 страниц, а именно 42 книги. Продуктивность издательства неудивительна. Издательство основано в 1935 году в Лондоне, главной миссией являлось сделать бумажные книги доступными. Однако с 1993 года начало выпускать и аудиокниги. В 2013 году объединилось со своим главным конкурентом из США, создав первую в мире глобальную издательскую компанию. \n",
    "       \n",
    "       4.среди книг с 50ю и более оценками, автором с самой высокой средней оценкой являются Джоан Роулинг/Мэри Грандпре J.K. Rowling/Mary GrandPré. Джоан Роулинг автор, а Мэри Грандпре иллюстратор серии книг о Гарри Поттере. Такое количество оценок и достаточно высокий средний рейтинг 4.3 неудивительны, у книг множество фанатов по всеми миру.\n",
    "       \n",
    "       5. в среднем 24 обзора сделали пользователи, поставившие более 48 оценок.\n",
    "\n",
    "       \n",
    "    \n",
    "    "
   ]
  },
  {
   "cell_type": "code",
   "execution_count": null,
   "id": "00fb61d8",
   "metadata": {},
   "outputs": [],
   "source": []
  }
 ],
 "metadata": {
  "ExecuteTimeLog": [
   {
    "duration": 531,
    "start_time": "2023-06-10T09:11:37.912Z"
   },
   {
    "duration": 10407,
    "start_time": "2023-06-10T09:11:38.445Z"
   },
   {
    "duration": 3,
    "start_time": "2023-06-10T09:11:48.854Z"
   },
   {
    "duration": 283,
    "start_time": "2023-06-10T09:11:48.859Z"
   },
   {
    "duration": 56,
    "start_time": "2023-06-10T09:11:49.144Z"
   },
   {
    "duration": 55,
    "start_time": "2023-06-10T09:11:49.202Z"
   },
   {
    "duration": 52,
    "start_time": "2023-06-10T09:11:49.259Z"
   },
   {
    "duration": 55,
    "start_time": "2023-06-10T09:11:49.313Z"
   },
   {
    "duration": 54,
    "start_time": "2023-06-10T09:11:49.369Z"
   },
   {
    "duration": 52,
    "start_time": "2023-06-10T09:11:49.431Z"
   },
   {
    "duration": 60,
    "start_time": "2023-06-10T09:11:49.485Z"
   },
   {
    "duration": 54,
    "start_time": "2023-06-10T09:11:49.546Z"
   },
   {
    "duration": 57,
    "start_time": "2023-06-10T09:11:49.601Z"
   },
   {
    "duration": 52,
    "start_time": "2023-06-10T09:11:49.660Z"
   },
   {
    "duration": 117,
    "start_time": "2023-06-10T09:11:49.713Z"
   },
   {
    "duration": 53,
    "start_time": "2023-06-10T09:11:49.833Z"
   },
   {
    "duration": 68,
    "start_time": "2023-06-10T09:11:49.888Z"
   },
   {
    "duration": 53,
    "start_time": "2023-06-10T09:11:49.957Z"
   },
   {
    "duration": 561,
    "start_time": "2023-06-10T09:13:43.518Z"
   },
   {
    "duration": 11098,
    "start_time": "2023-06-10T09:13:44.081Z"
   },
   {
    "duration": 4,
    "start_time": "2023-06-10T09:13:55.181Z"
   },
   {
    "duration": 262,
    "start_time": "2023-06-10T09:13:55.187Z"
   },
   {
    "duration": 61,
    "start_time": "2023-06-10T09:13:55.452Z"
   },
   {
    "duration": 54,
    "start_time": "2023-06-10T09:13:55.515Z"
   },
   {
    "duration": 54,
    "start_time": "2023-06-10T09:13:55.571Z"
   },
   {
    "duration": 54,
    "start_time": "2023-06-10T09:13:55.626Z"
   },
   {
    "duration": 54,
    "start_time": "2023-06-10T09:13:55.682Z"
   },
   {
    "duration": 56,
    "start_time": "2023-06-10T09:13:55.739Z"
   },
   {
    "duration": 60,
    "start_time": "2023-06-10T09:13:55.797Z"
   },
   {
    "duration": 53,
    "start_time": "2023-06-10T09:13:55.859Z"
   },
   {
    "duration": 54,
    "start_time": "2023-06-10T09:13:55.914Z"
   },
   {
    "duration": 52,
    "start_time": "2023-06-10T09:13:55.970Z"
   },
   {
    "duration": 86,
    "start_time": "2023-06-10T09:13:56.024Z"
   },
   {
    "duration": 53,
    "start_time": "2023-06-10T09:13:56.112Z"
   },
   {
    "duration": 56,
    "start_time": "2023-06-10T09:13:56.167Z"
   },
   {
    "duration": 54,
    "start_time": "2023-06-10T09:13:56.224Z"
   }
  ],
  "kernelspec": {
   "display_name": "Python 3 (ipykernel)",
   "language": "python",
   "name": "python3"
  },
  "language_info": {
   "codemirror_mode": {
    "name": "ipython",
    "version": 3
   },
   "file_extension": ".py",
   "mimetype": "text/x-python",
   "name": "python",
   "nbconvert_exporter": "python",
   "pygments_lexer": "ipython3",
   "version": "3.9.13"
  },
  "toc": {
   "base_numbering": 1,
   "nav_menu": {},
   "number_sections": true,
   "sideBar": true,
   "skip_h1_title": true,
   "title_cell": "Содержание",
   "title_sidebar": "Содержание",
   "toc_cell": true,
   "toc_position": {
    "height": "calc(100% - 180px)",
    "left": "10px",
    "top": "150px",
    "width": "165px"
   },
   "toc_section_display": true,
   "toc_window_display": true
  }
 },
 "nbformat": 4,
 "nbformat_minor": 5
}
