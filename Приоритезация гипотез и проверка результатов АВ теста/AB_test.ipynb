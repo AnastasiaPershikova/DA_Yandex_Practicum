{
 "cells": [
  {
   "cell_type": "markdown",
   "id": "759820b0",
   "metadata": {},
   "source": [
    "# Проверка гипотез для увеличения выручки интернет-магазина"
   ]
  },
  {
   "cell_type": "markdown",
   "id": "80d6ff4a",
   "metadata": {},
   "source": [
    "Описание проекта.\n",
    "\n",
    "Совместно с маркетинговым отделом был подготовлен список из 9 гипотез для увеличенияя выручки интернет-магазина.\n",
    "\n",
    "Цель проекта:\n",
    "\n",
    "Приоритизировать гипотезы и проанализивать результаты A/B-теста.\n",
    "\n",
    "Входные данные для анализа:  \n",
    "\n",
    "    /datasets/hypothesis.csv  файл с гипотезами\n",
    "    /datasets/orders.csv файл с даннми по заказам\n",
    "    /datasets/visitors.csv   файл с данными о посещениях\n",
    "\n",
    "Ход исследования:\n",
    "\n",
    "    Обзор данных.\n",
    "    Предобработка данных.\n",
    "    Приоритизация гипотез\n",
    "    Анализ A/B-теста, принятие решения по результатам теста\n",
    "    Вывод\n"
   ]
  },
  {
   "cell_type": "markdown",
   "id": "ee759a85",
   "metadata": {},
   "source": [
    "## Обзор данных и предобработка"
   ]
  },
  {
   "cell_type": "code",
   "execution_count": 1,
   "id": "ed0cfac4",
   "metadata": {},
   "outputs": [],
   "source": [
    "#Импорт необходимых библиотек\n",
    "import pandas as pd\n",
    "import numpy as np\n",
    "import matplotlib.pyplot as plt\n",
    "%matplotlib inline\n",
    "import datetime as dt\n",
    "from scipy import stats as st\n",
    "import warnings"
   ]
  },
  {
   "cell_type": "code",
   "execution_count": 2,
   "id": "804e16f2",
   "metadata": {},
   "outputs": [],
   "source": [
    "#настраиваем отображение колонок (полностью)\n",
    "pd.set_option('display.max_columns', None)\n",
    "#настраиваем отображение формата значений типа float\n",
    "pd.options.display.float_format = '{:,.2f}'.format\n",
    "#настраиваем полное отображение содержимого ячеек\n",
    "pd.set_option('display.max_colwidth', None)"
   ]
  },
  {
   "cell_type": "code",
   "execution_count": 3,
   "id": "7bea6d16",
   "metadata": {},
   "outputs": [],
   "source": [
    "#загрузка данных\n",
    "try:\n",
    "    hypothesis, orders, visitors = (\n",
    "        pd.read_csv('/datasets/hypothesis.csv'),\n",
    "        pd.read_csv('/datasets/orders.csv'),\n",
    "        pd.read_csv('/datasets/visitors.csv')\n",
    "    )\n",
    "\n",
    "\n",
    "except:\n",
    "    hypothesis, orders, visitors = (\n",
    "        pd.read_csv('hypothesis.csv'),\n",
    "        pd.read_csv('orders.csv'),\n",
    "        pd.read_csv('visitors.csv')\n",
    "    )"
   ]
  },
  {
   "cell_type": "markdown",
   "id": "8b590514",
   "metadata": {},
   "source": [
    "Напишем функцию `description` на вход она должна получить имя таблицы и количество наблюдей, которые нужно вывести для ознакомления. На выходе вернёт случайно выбранные наблюдения, таблицу с постолбцовым описанием данных, диапазон индексов и общее число записей таблицы."
   ]
  },
  {
   "cell_type": "code",
   "execution_count": 4,
   "id": "51392fe3",
   "metadata": {},
   "outputs": [],
   "source": [
    "def description(data, ns): \n",
    "    descripted_data = pd.DataFrame({'Количество наблюдений': data.count(),\n",
    "                                 'Количество пропусков': data.isna().sum(), \n",
    "                                 'Доля пропусков': round(data.isna().sum() / len(data), 2), \n",
    "                                 'Тип данных': data.dtypes})\n",
    "    display(data.sample(ns))\n",
    "    display(descripted_data)\n",
    "    print(f'Диапазон индексов таблицы: {data.index.min()} - {data.index.max()}')\n",
    "    print(f'Количестов записей в таблице: {len(data)}')"
   ]
  },
  {
   "cell_type": "markdown",
   "id": "9ba9a707",
   "metadata": {},
   "source": [
    "Файл `hypothesis` должен содержать 9 гипотез, просмотрим его полностью, проверим типы данных ."
   ]
  },
  {
   "cell_type": "code",
   "execution_count": 5,
   "id": "887878c3",
   "metadata": {},
   "outputs": [
    {
     "data": {
      "text/html": [
       "<div>\n",
       "<style scoped>\n",
       "    .dataframe tbody tr th:only-of-type {\n",
       "        vertical-align: middle;\n",
       "    }\n",
       "\n",
       "    .dataframe tbody tr th {\n",
       "        vertical-align: top;\n",
       "    }\n",
       "\n",
       "    .dataframe thead th {\n",
       "        text-align: right;\n",
       "    }\n",
       "</style>\n",
       "<table border=\"1\" class=\"dataframe\">\n",
       "  <thead>\n",
       "    <tr style=\"text-align: right;\">\n",
       "      <th></th>\n",
       "      <th>Hypothesis</th>\n",
       "      <th>Reach</th>\n",
       "      <th>Impact</th>\n",
       "      <th>Confidence</th>\n",
       "      <th>Efforts</th>\n",
       "    </tr>\n",
       "  </thead>\n",
       "  <tbody>\n",
       "    <tr>\n",
       "      <th>8</th>\n",
       "      <td>Запустить акцию, дающую скидку на товар в день рождения</td>\n",
       "      <td>1</td>\n",
       "      <td>9</td>\n",
       "      <td>9</td>\n",
       "      <td>5</td>\n",
       "    </tr>\n",
       "    <tr>\n",
       "      <th>7</th>\n",
       "      <td>Добавить форму подписки на все основные страницы, чтобы собрать базу клиентов для email-рассылок</td>\n",
       "      <td>10</td>\n",
       "      <td>7</td>\n",
       "      <td>8</td>\n",
       "      <td>5</td>\n",
       "    </tr>\n",
       "    <tr>\n",
       "      <th>1</th>\n",
       "      <td>Запустить собственную службу доставки, что сократит срок доставки заказов</td>\n",
       "      <td>2</td>\n",
       "      <td>5</td>\n",
       "      <td>4</td>\n",
       "      <td>10</td>\n",
       "    </tr>\n",
       "    <tr>\n",
       "      <th>4</th>\n",
       "      <td>Изменить цвет фона главной страницы, чтобы увеличить вовлеченность пользователей</td>\n",
       "      <td>3</td>\n",
       "      <td>1</td>\n",
       "      <td>1</td>\n",
       "      <td>1</td>\n",
       "    </tr>\n",
       "    <tr>\n",
       "      <th>3</th>\n",
       "      <td>Изменить структура категорий, что увеличит конверсию, т.к. пользователи быстрее найдут нужный товар</td>\n",
       "      <td>8</td>\n",
       "      <td>3</td>\n",
       "      <td>3</td>\n",
       "      <td>8</td>\n",
       "    </tr>\n",
       "    <tr>\n",
       "      <th>0</th>\n",
       "      <td>Добавить два новых канала привлечения трафика, что позволит привлекать на 30% больше пользователей</td>\n",
       "      <td>3</td>\n",
       "      <td>10</td>\n",
       "      <td>8</td>\n",
       "      <td>6</td>\n",
       "    </tr>\n",
       "    <tr>\n",
       "      <th>5</th>\n",
       "      <td>Добавить страницу отзывов клиентов о магазине, что позволит увеличить количество заказов</td>\n",
       "      <td>3</td>\n",
       "      <td>2</td>\n",
       "      <td>2</td>\n",
       "      <td>3</td>\n",
       "    </tr>\n",
       "    <tr>\n",
       "      <th>6</th>\n",
       "      <td>Показать на главной странице баннеры с актуальными акциями и распродажами, чтобы увеличить конверсию</td>\n",
       "      <td>5</td>\n",
       "      <td>3</td>\n",
       "      <td>8</td>\n",
       "      <td>3</td>\n",
       "    </tr>\n",
       "    <tr>\n",
       "      <th>2</th>\n",
       "      <td>Добавить блоки рекомендаций товаров на сайт интернет магазина, чтобы повысить конверсию и средний чек заказа</td>\n",
       "      <td>8</td>\n",
       "      <td>3</td>\n",
       "      <td>7</td>\n",
       "      <td>3</td>\n",
       "    </tr>\n",
       "  </tbody>\n",
       "</table>\n",
       "</div>"
      ],
      "text/plain": [
       "                                                                                                     Hypothesis  \\\n",
       "8                                                       Запустить акцию, дающую скидку на товар в день рождения   \n",
       "7              Добавить форму подписки на все основные страницы, чтобы собрать базу клиентов для email-рассылок   \n",
       "1                                     Запустить собственную службу доставки, что сократит срок доставки заказов   \n",
       "4                              Изменить цвет фона главной страницы, чтобы увеличить вовлеченность пользователей   \n",
       "3           Изменить структура категорий, что увеличит конверсию, т.к. пользователи быстрее найдут нужный товар   \n",
       "0            Добавить два новых канала привлечения трафика, что позволит привлекать на 30% больше пользователей   \n",
       "5                      Добавить страницу отзывов клиентов о магазине, что позволит увеличить количество заказов   \n",
       "6          Показать на главной странице баннеры с актуальными акциями и распродажами, чтобы увеличить конверсию   \n",
       "2  Добавить блоки рекомендаций товаров на сайт интернет магазина, чтобы повысить конверсию и средний чек заказа   \n",
       "\n",
       "   Reach  Impact  Confidence  Efforts  \n",
       "8      1       9           9        5  \n",
       "7     10       7           8        5  \n",
       "1      2       5           4       10  \n",
       "4      3       1           1        1  \n",
       "3      8       3           3        8  \n",
       "0      3      10           8        6  \n",
       "5      3       2           2        3  \n",
       "6      5       3           8        3  \n",
       "2      8       3           7        3  "
      ]
     },
     "metadata": {},
     "output_type": "display_data"
    },
    {
     "data": {
      "text/html": [
       "<div>\n",
       "<style scoped>\n",
       "    .dataframe tbody tr th:only-of-type {\n",
       "        vertical-align: middle;\n",
       "    }\n",
       "\n",
       "    .dataframe tbody tr th {\n",
       "        vertical-align: top;\n",
       "    }\n",
       "\n",
       "    .dataframe thead th {\n",
       "        text-align: right;\n",
       "    }\n",
       "</style>\n",
       "<table border=\"1\" class=\"dataframe\">\n",
       "  <thead>\n",
       "    <tr style=\"text-align: right;\">\n",
       "      <th></th>\n",
       "      <th>Количество наблюдений</th>\n",
       "      <th>Количество пропусков</th>\n",
       "      <th>Доля пропусков</th>\n",
       "      <th>Тип данных</th>\n",
       "    </tr>\n",
       "  </thead>\n",
       "  <tbody>\n",
       "    <tr>\n",
       "      <th>Hypothesis</th>\n",
       "      <td>9</td>\n",
       "      <td>0</td>\n",
       "      <td>0.00</td>\n",
       "      <td>object</td>\n",
       "    </tr>\n",
       "    <tr>\n",
       "      <th>Reach</th>\n",
       "      <td>9</td>\n",
       "      <td>0</td>\n",
       "      <td>0.00</td>\n",
       "      <td>int64</td>\n",
       "    </tr>\n",
       "    <tr>\n",
       "      <th>Impact</th>\n",
       "      <td>9</td>\n",
       "      <td>0</td>\n",
       "      <td>0.00</td>\n",
       "      <td>int64</td>\n",
       "    </tr>\n",
       "    <tr>\n",
       "      <th>Confidence</th>\n",
       "      <td>9</td>\n",
       "      <td>0</td>\n",
       "      <td>0.00</td>\n",
       "      <td>int64</td>\n",
       "    </tr>\n",
       "    <tr>\n",
       "      <th>Efforts</th>\n",
       "      <td>9</td>\n",
       "      <td>0</td>\n",
       "      <td>0.00</td>\n",
       "      <td>int64</td>\n",
       "    </tr>\n",
       "  </tbody>\n",
       "</table>\n",
       "</div>"
      ],
      "text/plain": [
       "            Количество наблюдений  Количество пропусков  Доля пропусков  \\\n",
       "Hypothesis                      9                     0            0.00   \n",
       "Reach                           9                     0            0.00   \n",
       "Impact                          9                     0            0.00   \n",
       "Confidence                      9                     0            0.00   \n",
       "Efforts                         9                     0            0.00   \n",
       "\n",
       "           Тип данных  \n",
       "Hypothesis     object  \n",
       "Reach           int64  \n",
       "Impact          int64  \n",
       "Confidence      int64  \n",
       "Efforts         int64  "
      ]
     },
     "metadata": {},
     "output_type": "display_data"
    },
    {
     "name": "stdout",
     "output_type": "stream",
     "text": [
      "Диапазон индексов таблицы: 0 - 8\n",
      "Количестов записей в таблице: 9\n"
     ]
    }
   ],
   "source": [
    "description(hypothesis,9)"
   ]
  },
  {
   "cell_type": "markdown",
   "id": "2d8eb005",
   "metadata": {},
   "source": [
    "Файл `hypothesis`, как и предполагалось, содержит 9 гипотез с 5 признаками:\n",
    "\n",
    "    Hypothesis — краткое описание гипотезы;\n",
    "    Reach — охват пользователей по 10-балльной шкале;\n",
    "    Impact — влияние на пользователей по 10-балльной шкале;\n",
    "    Confidence — уверенность в гипотезе по 10-балльной шкале;\n",
    "    Efforts — затраты ресурсов на проверку гипотезы по 10-балльной шкале. \n",
    "    \n",
    "Все данные корректны, необходимо привести наименования столбцов к нижнему регистру.    "
   ]
  },
  {
   "cell_type": "markdown",
   "id": "e5bf44de",
   "metadata": {},
   "source": [
    "Просмотрим информацию о содержимом файлов `orders` и `visitors`, выведем на экран слечайные 5 строк."
   ]
  },
  {
   "cell_type": "code",
   "execution_count": 6,
   "id": "6d93e8be",
   "metadata": {},
   "outputs": [
    {
     "data": {
      "text/html": [
       "<div>\n",
       "<style scoped>\n",
       "    .dataframe tbody tr th:only-of-type {\n",
       "        vertical-align: middle;\n",
       "    }\n",
       "\n",
       "    .dataframe tbody tr th {\n",
       "        vertical-align: top;\n",
       "    }\n",
       "\n",
       "    .dataframe thead th {\n",
       "        text-align: right;\n",
       "    }\n",
       "</style>\n",
       "<table border=\"1\" class=\"dataframe\">\n",
       "  <thead>\n",
       "    <tr style=\"text-align: right;\">\n",
       "      <th></th>\n",
       "      <th>transactionId</th>\n",
       "      <th>visitorId</th>\n",
       "      <th>date</th>\n",
       "      <th>revenue</th>\n",
       "      <th>group</th>\n",
       "    </tr>\n",
       "  </thead>\n",
       "  <tbody>\n",
       "    <tr>\n",
       "      <th>229</th>\n",
       "      <td>4139571321</td>\n",
       "      <td>737242975</td>\n",
       "      <td>2019-08-18</td>\n",
       "      <td>15850</td>\n",
       "      <td>A</td>\n",
       "    </tr>\n",
       "    <tr>\n",
       "      <th>518</th>\n",
       "      <td>1765769688</td>\n",
       "      <td>1744796792</td>\n",
       "      <td>2019-08-26</td>\n",
       "      <td>3140</td>\n",
       "      <td>A</td>\n",
       "    </tr>\n",
       "    <tr>\n",
       "      <th>302</th>\n",
       "      <td>887219389</td>\n",
       "      <td>3170813781</td>\n",
       "      <td>2019-08-24</td>\n",
       "      <td>7485</td>\n",
       "      <td>B</td>\n",
       "    </tr>\n",
       "    <tr>\n",
       "      <th>631</th>\n",
       "      <td>3448552908</td>\n",
       "      <td>960782649</td>\n",
       "      <td>2019-08-20</td>\n",
       "      <td>18990</td>\n",
       "      <td>A</td>\n",
       "    </tr>\n",
       "    <tr>\n",
       "      <th>435</th>\n",
       "      <td>2430683444</td>\n",
       "      <td>2378935119</td>\n",
       "      <td>2019-08-28</td>\n",
       "      <td>20450</td>\n",
       "      <td>B</td>\n",
       "    </tr>\n",
       "  </tbody>\n",
       "</table>\n",
       "</div>"
      ],
      "text/plain": [
       "     transactionId   visitorId        date  revenue group\n",
       "229     4139571321   737242975  2019-08-18    15850     A\n",
       "518     1765769688  1744796792  2019-08-26     3140     A\n",
       "302      887219389  3170813781  2019-08-24     7485     B\n",
       "631     3448552908   960782649  2019-08-20    18990     A\n",
       "435     2430683444  2378935119  2019-08-28    20450     B"
      ]
     },
     "metadata": {},
     "output_type": "display_data"
    },
    {
     "data": {
      "text/html": [
       "<div>\n",
       "<style scoped>\n",
       "    .dataframe tbody tr th:only-of-type {\n",
       "        vertical-align: middle;\n",
       "    }\n",
       "\n",
       "    .dataframe tbody tr th {\n",
       "        vertical-align: top;\n",
       "    }\n",
       "\n",
       "    .dataframe thead th {\n",
       "        text-align: right;\n",
       "    }\n",
       "</style>\n",
       "<table border=\"1\" class=\"dataframe\">\n",
       "  <thead>\n",
       "    <tr style=\"text-align: right;\">\n",
       "      <th></th>\n",
       "      <th>Количество наблюдений</th>\n",
       "      <th>Количество пропусков</th>\n",
       "      <th>Доля пропусков</th>\n",
       "      <th>Тип данных</th>\n",
       "    </tr>\n",
       "  </thead>\n",
       "  <tbody>\n",
       "    <tr>\n",
       "      <th>transactionId</th>\n",
       "      <td>1197</td>\n",
       "      <td>0</td>\n",
       "      <td>0.00</td>\n",
       "      <td>int64</td>\n",
       "    </tr>\n",
       "    <tr>\n",
       "      <th>visitorId</th>\n",
       "      <td>1197</td>\n",
       "      <td>0</td>\n",
       "      <td>0.00</td>\n",
       "      <td>int64</td>\n",
       "    </tr>\n",
       "    <tr>\n",
       "      <th>date</th>\n",
       "      <td>1197</td>\n",
       "      <td>0</td>\n",
       "      <td>0.00</td>\n",
       "      <td>object</td>\n",
       "    </tr>\n",
       "    <tr>\n",
       "      <th>revenue</th>\n",
       "      <td>1197</td>\n",
       "      <td>0</td>\n",
       "      <td>0.00</td>\n",
       "      <td>int64</td>\n",
       "    </tr>\n",
       "    <tr>\n",
       "      <th>group</th>\n",
       "      <td>1197</td>\n",
       "      <td>0</td>\n",
       "      <td>0.00</td>\n",
       "      <td>object</td>\n",
       "    </tr>\n",
       "  </tbody>\n",
       "</table>\n",
       "</div>"
      ],
      "text/plain": [
       "               Количество наблюдений  Количество пропусков  Доля пропусков  \\\n",
       "transactionId                   1197                     0            0.00   \n",
       "visitorId                       1197                     0            0.00   \n",
       "date                            1197                     0            0.00   \n",
       "revenue                         1197                     0            0.00   \n",
       "group                           1197                     0            0.00   \n",
       "\n",
       "              Тип данных  \n",
       "transactionId      int64  \n",
       "visitorId          int64  \n",
       "date              object  \n",
       "revenue            int64  \n",
       "group             object  "
      ]
     },
     "metadata": {},
     "output_type": "display_data"
    },
    {
     "name": "stdout",
     "output_type": "stream",
     "text": [
      "Диапазон индексов таблицы: 0 - 1196\n",
      "Количестов записей в таблице: 1197\n"
     ]
    }
   ],
   "source": [
    "description(orders, 5)"
   ]
  },
  {
   "cell_type": "markdown",
   "id": "22a3429d",
   "metadata": {},
   "source": [
    "Файл `orders` содержит информацию о 1197 заказах с 5 признаками:  \n",
    "\n",
    "    transactionId — идентификатор заказа;  \n",
    "    visitorId — идентификатор пользователя, совершившего заказ;  \n",
    "    date — дата, когда был совершён заказ;  \n",
    "    revenue — выручка заказа;\n",
    "    group — группа A/B-теста, в которую попал заказ.\n",
    "    \n",
    "В таблице отстутствуют пропуски, переименуем названия столбцов transactionId в order_id и visitorId в user_id для удобства воприятия. Так же необходимо привести тип данных столбца date к типу дата."
   ]
  },
  {
   "cell_type": "markdown",
   "id": "8ed36ce6",
   "metadata": {},
   "source": [
    "Изменения внесены. Просмотрим файл `visitors`"
   ]
  },
  {
   "cell_type": "code",
   "execution_count": 7,
   "id": "5bd5ce70",
   "metadata": {},
   "outputs": [
    {
     "data": {
      "text/html": [
       "<div>\n",
       "<style scoped>\n",
       "    .dataframe tbody tr th:only-of-type {\n",
       "        vertical-align: middle;\n",
       "    }\n",
       "\n",
       "    .dataframe tbody tr th {\n",
       "        vertical-align: top;\n",
       "    }\n",
       "\n",
       "    .dataframe thead th {\n",
       "        text-align: right;\n",
       "    }\n",
       "</style>\n",
       "<table border=\"1\" class=\"dataframe\">\n",
       "  <thead>\n",
       "    <tr style=\"text-align: right;\">\n",
       "      <th></th>\n",
       "      <th>date</th>\n",
       "      <th>group</th>\n",
       "      <th>visitors</th>\n",
       "    </tr>\n",
       "  </thead>\n",
       "  <tbody>\n",
       "    <tr>\n",
       "      <th>2</th>\n",
       "      <td>2019-08-03</td>\n",
       "      <td>A</td>\n",
       "      <td>507</td>\n",
       "    </tr>\n",
       "    <tr>\n",
       "      <th>44</th>\n",
       "      <td>2019-08-14</td>\n",
       "      <td>B</td>\n",
       "      <td>746</td>\n",
       "    </tr>\n",
       "    <tr>\n",
       "      <th>54</th>\n",
       "      <td>2019-08-24</td>\n",
       "      <td>B</td>\n",
       "      <td>378</td>\n",
       "    </tr>\n",
       "    <tr>\n",
       "      <th>51</th>\n",
       "      <td>2019-08-21</td>\n",
       "      <td>B</td>\n",
       "      <td>656</td>\n",
       "    </tr>\n",
       "    <tr>\n",
       "      <th>52</th>\n",
       "      <td>2019-08-22</td>\n",
       "      <td>B</td>\n",
       "      <td>650</td>\n",
       "    </tr>\n",
       "  </tbody>\n",
       "</table>\n",
       "</div>"
      ],
      "text/plain": [
       "          date group  visitors\n",
       "2   2019-08-03     A       507\n",
       "44  2019-08-14     B       746\n",
       "54  2019-08-24     B       378\n",
       "51  2019-08-21     B       656\n",
       "52  2019-08-22     B       650"
      ]
     },
     "metadata": {},
     "output_type": "display_data"
    },
    {
     "data": {
      "text/html": [
       "<div>\n",
       "<style scoped>\n",
       "    .dataframe tbody tr th:only-of-type {\n",
       "        vertical-align: middle;\n",
       "    }\n",
       "\n",
       "    .dataframe tbody tr th {\n",
       "        vertical-align: top;\n",
       "    }\n",
       "\n",
       "    .dataframe thead th {\n",
       "        text-align: right;\n",
       "    }\n",
       "</style>\n",
       "<table border=\"1\" class=\"dataframe\">\n",
       "  <thead>\n",
       "    <tr style=\"text-align: right;\">\n",
       "      <th></th>\n",
       "      <th>Количество наблюдений</th>\n",
       "      <th>Количество пропусков</th>\n",
       "      <th>Доля пропусков</th>\n",
       "      <th>Тип данных</th>\n",
       "    </tr>\n",
       "  </thead>\n",
       "  <tbody>\n",
       "    <tr>\n",
       "      <th>date</th>\n",
       "      <td>62</td>\n",
       "      <td>0</td>\n",
       "      <td>0.00</td>\n",
       "      <td>object</td>\n",
       "    </tr>\n",
       "    <tr>\n",
       "      <th>group</th>\n",
       "      <td>62</td>\n",
       "      <td>0</td>\n",
       "      <td>0.00</td>\n",
       "      <td>object</td>\n",
       "    </tr>\n",
       "    <tr>\n",
       "      <th>visitors</th>\n",
       "      <td>62</td>\n",
       "      <td>0</td>\n",
       "      <td>0.00</td>\n",
       "      <td>int64</td>\n",
       "    </tr>\n",
       "  </tbody>\n",
       "</table>\n",
       "</div>"
      ],
      "text/plain": [
       "          Количество наблюдений  Количество пропусков  Доля пропусков  \\\n",
       "date                         62                     0            0.00   \n",
       "group                        62                     0            0.00   \n",
       "visitors                     62                     0            0.00   \n",
       "\n",
       "         Тип данных  \n",
       "date         object  \n",
       "group        object  \n",
       "visitors      int64  "
      ]
     },
     "metadata": {},
     "output_type": "display_data"
    },
    {
     "name": "stdout",
     "output_type": "stream",
     "text": [
      "Диапазон индексов таблицы: 0 - 61\n",
      "Количестов записей в таблице: 62\n"
     ]
    }
   ],
   "source": [
    "description(visitors, 5)"
   ]
  },
  {
   "cell_type": "markdown",
   "id": "d59ea5c1",
   "metadata": {},
   "source": [
    "Файл `visitors` содержит 62 наблюдения с 3 признаками:\n",
    "    \n",
    "    date — дата;\n",
    "    group — группа A/B-теста;\n",
    "    visitors — количество пользователей в указанную дату в указанной группе A/B-теста\n",
    "    \n",
    "Таблица не содержит пропусков. Необходимо привести столбец date к типу дата. Проверить совпадает ли временной отрезок с отрезком в файле `orders`"
   ]
  },
  {
   "cell_type": "markdown",
   "id": "cdf992d2",
   "metadata": {},
   "source": [
    "### Вывод"
   ]
  },
  {
   "cell_type": "markdown",
   "id": "1a3a4172",
   "metadata": {},
   "source": [
    "Файл `hypotesis` содержит 9 гипотез с показателями для их приоритизации по 10 бальной шкале. Файл `orders` содержит результаты A\\B теста с 1197 заказами с разбивкой на группы.\n",
    "Файл `visitors`содержит 62 наблюдения о количестве посетителей в каждую дату с разбивкой по группам.\n",
    "Необходимо привети названия столбцов к единому стилю. Столбцы содержащие дату привести к типу дата, проверить совпадение временных периодов. Проверить наличие дубликатов и корректность разбивки пользователей на группы."
   ]
  },
  {
   "cell_type": "markdown",
   "id": "9ebff1ae",
   "metadata": {},
   "source": [
    "## Предобработка данных"
   ]
  },
  {
   "cell_type": "markdown",
   "id": "91dbb7d8",
   "metadata": {},
   "source": [
    "Приведём названия столбцов к единому стилю"
   ]
  },
  {
   "cell_type": "code",
   "execution_count": 8,
   "id": "b82e2f6a",
   "metadata": {},
   "outputs": [
    {
     "data": {
      "text/plain": [
       "Index(['hypothesis', 'reach', 'impact', 'confidence', 'efforts'], dtype='object')"
      ]
     },
     "execution_count": 8,
     "metadata": {},
     "output_type": "execute_result"
    }
   ],
   "source": [
    "hypothesis.columns = hypothesis.columns.str.lower()\n",
    "hypothesis.columns"
   ]
  },
  {
   "cell_type": "code",
   "execution_count": 9,
   "id": "518ff2e8",
   "metadata": {},
   "outputs": [
    {
     "data": {
      "text/plain": [
       "Index(['order_id', 'user_id', 'date', 'revenue', 'group'], dtype='object')"
      ]
     },
     "execution_count": 9,
     "metadata": {},
     "output_type": "execute_result"
    }
   ],
   "source": [
    "orders = orders.rename(columns = {'transactionId':'order_id','visitorId':'user_id'})\n",
    "orders.columns"
   ]
  },
  {
   "cell_type": "markdown",
   "id": "75caf272",
   "metadata": {},
   "source": [
    "Приведём столбы с датами к типу datetime."
   ]
  },
  {
   "cell_type": "code",
   "execution_count": 10,
   "id": "82c1084c",
   "metadata": {},
   "outputs": [],
   "source": [
    "orders['date'] = orders['date'].map(lambda x: dt.datetime.strptime(x, '%Y-%m-%d'))"
   ]
  },
  {
   "cell_type": "code",
   "execution_count": 11,
   "id": "591dc740",
   "metadata": {},
   "outputs": [],
   "source": [
    "visitors['date'] = visitors['date'].map(lambda x: dt.datetime.strptime(x, '%Y-%m-%d'))"
   ]
  },
  {
   "cell_type": "markdown",
   "id": "76594d86",
   "metadata": {},
   "source": [
    "Проверим совпадение временных периодов в таблицах `visitors` и `orders`"
   ]
  },
  {
   "cell_type": "code",
   "execution_count": 12,
   "id": "2e2a6683",
   "metadata": {},
   "outputs": [
    {
     "name": "stdout",
     "output_type": "stream",
     "text": [
      "Данные в таблице visitors представлены за период 2019-08-01 00:00:00 - 2019-08-31 00:00:00\n",
      "Данные в таблице orders представлены за период 2019-08-01 00:00:00 - 2019-08-31 00:00:00\n"
     ]
    }
   ],
   "source": [
    "print(f\"Данные в таблице visitors представлены за период {visitors['date'].min()} - {visitors['date'].max()}\")\n",
    "print(f\"Данные в таблице orders представлены за период {orders['date'].min()} - {orders['date'].max()}\")"
   ]
  },
  {
   "cell_type": "markdown",
   "id": "c6ac9bfd",
   "metadata": {},
   "source": [
    "Периоды совпадают. Проверим наличие явных дубликатов в таблицах `visitors` и `orders`"
   ]
  },
  {
   "cell_type": "code",
   "execution_count": 13,
   "id": "71f3f2fe",
   "metadata": {},
   "outputs": [
    {
     "name": "stdout",
     "output_type": "stream",
     "text": [
      "число строк дубликатов: 0\n",
      "число строк дубликатов: 0\n"
     ]
    }
   ],
   "source": [
    "for i in [visitors, orders]:\n",
    "    print(f'число строк дубликатов: {i.duplicated().sum()}')"
   ]
  },
  {
   "cell_type": "markdown",
   "id": "5b2df24a",
   "metadata": {},
   "source": [
    "Явных дубликатов нет. Проверим корректность распределения пользователей по группам."
   ]
  },
  {
   "cell_type": "code",
   "execution_count": 14,
   "id": "d4cd4f7e",
   "metadata": {},
   "outputs": [
    {
     "name": "stdout",
     "output_type": "stream",
     "text": [
      "Количество пользователей, которые попали в обе группы: 58\n",
      "Количество пользователей, учавствоващих  в тесте: 1031\n",
      "Количество пользователей в группе А: 503\n",
      "Количество пользователей в группе B: 586\n"
     ]
    }
   ],
   "source": [
    "print(f\"Количество пользователей, которые попали в обе группы:\\\n",
    " {len(orders.groupby('user_id').agg({'group':'nunique'}).query('group>1'))}\")\n",
    "print(f\"Количество пользователей, учавствоващих  в тесте: {orders['user_id'].nunique()}\")\n",
    "print(f\"Количество пользователей в группе А:\\\n",
    " {orders[orders['group'] == 'A']['user_id'].nunique()}\")\n",
    "print(f\"Количество пользователей в группе B:\\\n",
    " {orders[orders['group'] == 'B']['user_id'].nunique()}\")"
   ]
  },
  {
   "cell_type": "markdown",
   "id": "69af0851",
   "metadata": {},
   "source": [
    "В обе группы попало 58 пользователей, это примерно 10 % каждой группы. Неизвестно, какая из версий исследуемой страницы повлияла на их решения, значит, результаты исследования нельзя интерпретировать однозначно. Исключим заказы этих пользоватей из таблицы `orders`, также снизим количество посещений по датам и группам в таблице `visitors`."
   ]
  },
  {
   "cell_type": "code",
   "execution_count": 15,
   "id": "02c313fa",
   "metadata": {},
   "outputs": [],
   "source": [
    "two_group_users = orders.groupby('user_id').agg({'group':'nunique'}).query('group>1').reset_index()['user_id']\n",
    "two_group_visitors = (orders.query('user_id in @two_group_users')\n",
    "                      .groupby(['date','group'])\n",
    "                      .agg({'user_id':'count'}).reset_index()\n",
    "                     )\n",
    "orders = orders.query('user_id not in @two_group_users')\n",
    "visitors_clear = (visitors.merge(two_group_visitors, left_on = ['date','group'], right_on = ['date','group'], how='left')\n",
    "                  .fillna(0))\n",
    "visitors_clear['visitors'] = visitors_clear['visitors'] - visitors_clear['user_id']\n",
    "visitors = visitors_clear[['date','group','visitors']]"
   ]
  },
  {
   "cell_type": "markdown",
   "id": "53f090e1",
   "metadata": {},
   "source": [
    "### Вывод"
   ]
  },
  {
   "cell_type": "markdown",
   "id": "f07b7a9d",
   "metadata": {},
   "source": [
    "На этапе предобработки наименования столбцов были приведены к единому стилю, содержащие даты столбцы приведены к типу datetime, данные проверены на дубликаты. Данные очищены от пользователей попавших в обе группы, однако стоит обратить внимание, что из таблицы `visitors` удаалены лишь те посещения, в которые пользователи соверщили покупки, так как нет информации о id пользователей повещавших интернет-магазин, это снижает доверие к результатом A/B теста.\n"
   ]
  },
  {
   "cell_type": "markdown",
   "id": "a21dc3a9",
   "metadata": {},
   "source": [
    "## Приоритизация гипотез"
   ]
  },
  {
   "cell_type": "markdown",
   "id": "7da22ed4",
   "metadata": {},
   "source": [
    "### Приоритизация с применением фреймворка ICE для приоритизации гипотез. \n"
   ]
  },
  {
   "cell_type": "code",
   "execution_count": 16,
   "id": "4099b1fd",
   "metadata": {},
   "outputs": [
    {
     "data": {
      "text/html": [
       "<div>\n",
       "<style scoped>\n",
       "    .dataframe tbody tr th:only-of-type {\n",
       "        vertical-align: middle;\n",
       "    }\n",
       "\n",
       "    .dataframe tbody tr th {\n",
       "        vertical-align: top;\n",
       "    }\n",
       "\n",
       "    .dataframe thead th {\n",
       "        text-align: right;\n",
       "    }\n",
       "</style>\n",
       "<table border=\"1\" class=\"dataframe\">\n",
       "  <thead>\n",
       "    <tr style=\"text-align: right;\">\n",
       "      <th></th>\n",
       "      <th>hypothesis</th>\n",
       "      <th>ICE</th>\n",
       "    </tr>\n",
       "  </thead>\n",
       "  <tbody>\n",
       "    <tr>\n",
       "      <th>8</th>\n",
       "      <td>Запустить акцию, дающую скидку на товар в день рождения</td>\n",
       "      <td>16.20</td>\n",
       "    </tr>\n",
       "    <tr>\n",
       "      <th>0</th>\n",
       "      <td>Добавить два новых канала привлечения трафика, что позволит привлекать на 30% больше пользователей</td>\n",
       "      <td>13.33</td>\n",
       "    </tr>\n",
       "    <tr>\n",
       "      <th>7</th>\n",
       "      <td>Добавить форму подписки на все основные страницы, чтобы собрать базу клиентов для email-рассылок</td>\n",
       "      <td>11.20</td>\n",
       "    </tr>\n",
       "    <tr>\n",
       "      <th>6</th>\n",
       "      <td>Показать на главной странице баннеры с актуальными акциями и распродажами, чтобы увеличить конверсию</td>\n",
       "      <td>8.00</td>\n",
       "    </tr>\n",
       "    <tr>\n",
       "      <th>2</th>\n",
       "      <td>Добавить блоки рекомендаций товаров на сайт интернет магазина, чтобы повысить конверсию и средний чек заказа</td>\n",
       "      <td>7.00</td>\n",
       "    </tr>\n",
       "    <tr>\n",
       "      <th>1</th>\n",
       "      <td>Запустить собственную службу доставки, что сократит срок доставки заказов</td>\n",
       "      <td>2.00</td>\n",
       "    </tr>\n",
       "    <tr>\n",
       "      <th>5</th>\n",
       "      <td>Добавить страницу отзывов клиентов о магазине, что позволит увеличить количество заказов</td>\n",
       "      <td>1.33</td>\n",
       "    </tr>\n",
       "    <tr>\n",
       "      <th>3</th>\n",
       "      <td>Изменить структура категорий, что увеличит конверсию, т.к. пользователи быстрее найдут нужный товар</td>\n",
       "      <td>1.12</td>\n",
       "    </tr>\n",
       "    <tr>\n",
       "      <th>4</th>\n",
       "      <td>Изменить цвет фона главной страницы, чтобы увеличить вовлеченность пользователей</td>\n",
       "      <td>1.00</td>\n",
       "    </tr>\n",
       "  </tbody>\n",
       "</table>\n",
       "</div>"
      ],
      "text/plain": [
       "                                                                                                     hypothesis  \\\n",
       "8                                                       Запустить акцию, дающую скидку на товар в день рождения   \n",
       "0            Добавить два новых канала привлечения трафика, что позволит привлекать на 30% больше пользователей   \n",
       "7              Добавить форму подписки на все основные страницы, чтобы собрать базу клиентов для email-рассылок   \n",
       "6          Показать на главной странице баннеры с актуальными акциями и распродажами, чтобы увеличить конверсию   \n",
       "2  Добавить блоки рекомендаций товаров на сайт интернет магазина, чтобы повысить конверсию и средний чек заказа   \n",
       "1                                     Запустить собственную службу доставки, что сократит срок доставки заказов   \n",
       "5                      Добавить страницу отзывов клиентов о магазине, что позволит увеличить количество заказов   \n",
       "3           Изменить структура категорий, что увеличит конверсию, т.к. пользователи быстрее найдут нужный товар   \n",
       "4                              Изменить цвет фона главной страницы, чтобы увеличить вовлеченность пользователей   \n",
       "\n",
       "    ICE  \n",
       "8 16.20  \n",
       "0 13.33  \n",
       "7 11.20  \n",
       "6  8.00  \n",
       "2  7.00  \n",
       "1  2.00  \n",
       "5  1.33  \n",
       "3  1.12  \n",
       "4  1.00  "
      ]
     },
     "execution_count": 16,
     "metadata": {},
     "output_type": "execute_result"
    }
   ],
   "source": [
    "hypothesis['ICE'] = hypothesis['impact']*hypothesis['confidence']/hypothesis['efforts']\n",
    "hypothesis[['hypothesis','ICE']].sort_values(by = 'ICE', ascending=False)"
   ]
  },
  {
   "cell_type": "markdown",
   "id": "c4fd1b42",
   "metadata": {},
   "source": [
    "Исходя из расчётов по методу ICE приоритетной является 8, 0 и 7 гипотезы."
   ]
  },
  {
   "cell_type": "markdown",
   "id": "98539d50",
   "metadata": {},
   "source": [
    "### Приоритизация с применением фреймворка RICE для приоритизации гипотез."
   ]
  },
  {
   "cell_type": "code",
   "execution_count": 17,
   "id": "e202a1fd",
   "metadata": {},
   "outputs": [
    {
     "data": {
      "text/html": [
       "<div>\n",
       "<style scoped>\n",
       "    .dataframe tbody tr th:only-of-type {\n",
       "        vertical-align: middle;\n",
       "    }\n",
       "\n",
       "    .dataframe tbody tr th {\n",
       "        vertical-align: top;\n",
       "    }\n",
       "\n",
       "    .dataframe thead th {\n",
       "        text-align: right;\n",
       "    }\n",
       "</style>\n",
       "<table border=\"1\" class=\"dataframe\">\n",
       "  <thead>\n",
       "    <tr style=\"text-align: right;\">\n",
       "      <th></th>\n",
       "      <th>hypothesis</th>\n",
       "      <th>RICE</th>\n",
       "    </tr>\n",
       "  </thead>\n",
       "  <tbody>\n",
       "    <tr>\n",
       "      <th>7</th>\n",
       "      <td>Добавить форму подписки на все основные страницы, чтобы собрать базу клиентов для email-рассылок</td>\n",
       "      <td>112.00</td>\n",
       "    </tr>\n",
       "    <tr>\n",
       "      <th>2</th>\n",
       "      <td>Добавить блоки рекомендаций товаров на сайт интернет магазина, чтобы повысить конверсию и средний чек заказа</td>\n",
       "      <td>56.00</td>\n",
       "    </tr>\n",
       "    <tr>\n",
       "      <th>0</th>\n",
       "      <td>Добавить два новых канала привлечения трафика, что позволит привлекать на 30% больше пользователей</td>\n",
       "      <td>40.00</td>\n",
       "    </tr>\n",
       "    <tr>\n",
       "      <th>6</th>\n",
       "      <td>Показать на главной странице баннеры с актуальными акциями и распродажами, чтобы увеличить конверсию</td>\n",
       "      <td>40.00</td>\n",
       "    </tr>\n",
       "    <tr>\n",
       "      <th>8</th>\n",
       "      <td>Запустить акцию, дающую скидку на товар в день рождения</td>\n",
       "      <td>16.20</td>\n",
       "    </tr>\n",
       "    <tr>\n",
       "      <th>3</th>\n",
       "      <td>Изменить структура категорий, что увеличит конверсию, т.к. пользователи быстрее найдут нужный товар</td>\n",
       "      <td>9.00</td>\n",
       "    </tr>\n",
       "    <tr>\n",
       "      <th>1</th>\n",
       "      <td>Запустить собственную службу доставки, что сократит срок доставки заказов</td>\n",
       "      <td>4.00</td>\n",
       "    </tr>\n",
       "    <tr>\n",
       "      <th>5</th>\n",
       "      <td>Добавить страницу отзывов клиентов о магазине, что позволит увеличить количество заказов</td>\n",
       "      <td>4.00</td>\n",
       "    </tr>\n",
       "    <tr>\n",
       "      <th>4</th>\n",
       "      <td>Изменить цвет фона главной страницы, чтобы увеличить вовлеченность пользователей</td>\n",
       "      <td>3.00</td>\n",
       "    </tr>\n",
       "  </tbody>\n",
       "</table>\n",
       "</div>"
      ],
      "text/plain": [
       "                                                                                                     hypothesis  \\\n",
       "7              Добавить форму подписки на все основные страницы, чтобы собрать базу клиентов для email-рассылок   \n",
       "2  Добавить блоки рекомендаций товаров на сайт интернет магазина, чтобы повысить конверсию и средний чек заказа   \n",
       "0            Добавить два новых канала привлечения трафика, что позволит привлекать на 30% больше пользователей   \n",
       "6          Показать на главной странице баннеры с актуальными акциями и распродажами, чтобы увеличить конверсию   \n",
       "8                                                       Запустить акцию, дающую скидку на товар в день рождения   \n",
       "3           Изменить структура категорий, что увеличит конверсию, т.к. пользователи быстрее найдут нужный товар   \n",
       "1                                     Запустить собственную службу доставки, что сократит срок доставки заказов   \n",
       "5                      Добавить страницу отзывов клиентов о магазине, что позволит увеличить количество заказов   \n",
       "4                              Изменить цвет фона главной страницы, чтобы увеличить вовлеченность пользователей   \n",
       "\n",
       "    RICE  \n",
       "7 112.00  \n",
       "2  56.00  \n",
       "0  40.00  \n",
       "6  40.00  \n",
       "8  16.20  \n",
       "3   9.00  \n",
       "1   4.00  \n",
       "5   4.00  \n",
       "4   3.00  "
      ]
     },
     "execution_count": 17,
     "metadata": {},
     "output_type": "execute_result"
    }
   ],
   "source": [
    "hypothesis['RICE'] = hypothesis['reach']*hypothesis['impact']*hypothesis['confidence']/hypothesis['efforts']\n",
    "hypothesis[['hypothesis','RICE']].sort_values(by='RICE', ascending=False)"
   ]
  },
  {
   "cell_type": "markdown",
   "id": "a5361258",
   "metadata": {},
   "source": [
    "При расчете по методу RICE приоритетными гипотезами являются 7, 2, 0 и 6.Гипотезы 0 и 6 получили одинаковую оценку."
   ]
  },
  {
   "cell_type": "markdown",
   "id": "443cdc54",
   "metadata": {},
   "source": [
    "### Вывод"
   ]
  },
  {
   "cell_type": "markdown",
   "id": "363b23ed",
   "metadata": {},
   "source": [
    "Так как метод RICE включает в себя показатель охвата клиентов,которых затронет изменения (reach), гипотеза 8 о предоставлении скидки в день рождения опустилась на 5 место, относительно первого по методу ICE. С учетом охвата оценка 7 гипотезы добавить форму подписки на все основные страницы, чтобы собрать базу клиентов для email-рассылок явно вырвалась в лидеры, ее оценка 112, что вдвое превышает оценку следующей за ней гипотезы 2 добавить блоки рекомендаций товаров на сайт интернет магазина, чтобы повысить конверсию и средний чек заказа. По методу ICE гипотеза 7 так же вошла в тройку приоритетных.   \n",
    "Исходя из двух оценок приоритетной гипотезой следует считать гипотезу 7 добавить форму подписки на все основные страницы, чтобы собрать базу клиентов для email-рассылок."
   ]
  },
  {
   "cell_type": "markdown",
   "id": "ac1caa42",
   "metadata": {},
   "source": [
    "## Анализ A/B теста"
   ]
  },
  {
   "cell_type": "markdown",
   "id": "7c97f8b7",
   "metadata": {},
   "source": [
    "Для анализа проведенного A/B теста, создадим сводную таблицу `data`, в которой будут собраны данные по дням и кумулятивные показатели в разбивке по группам."
   ]
  },
  {
   "cell_type": "code",
   "execution_count": 18,
   "id": "8e8db990",
   "metadata": {},
   "outputs": [
    {
     "data": {
      "text/html": [
       "<div>\n",
       "<style scoped>\n",
       "    .dataframe tbody tr th:only-of-type {\n",
       "        vertical-align: middle;\n",
       "    }\n",
       "\n",
       "    .dataframe tbody tr th {\n",
       "        vertical-align: top;\n",
       "    }\n",
       "\n",
       "    .dataframe thead th {\n",
       "        text-align: right;\n",
       "    }\n",
       "</style>\n",
       "<table border=\"1\" class=\"dataframe\">\n",
       "  <thead>\n",
       "    <tr style=\"text-align: right;\">\n",
       "      <th></th>\n",
       "      <th>0</th>\n",
       "      <th>1</th>\n",
       "      <th>2</th>\n",
       "      <th>3</th>\n",
       "      <th>4</th>\n",
       "    </tr>\n",
       "  </thead>\n",
       "  <tbody>\n",
       "    <tr>\n",
       "      <th>date</th>\n",
       "      <td>2019-08-01 00:00:00</td>\n",
       "      <td>2019-08-02 00:00:00</td>\n",
       "      <td>2019-08-03 00:00:00</td>\n",
       "      <td>2019-08-04 00:00:00</td>\n",
       "      <td>2019-08-05 00:00:00</td>\n",
       "    </tr>\n",
       "    <tr>\n",
       "      <th>orders_per_date_A</th>\n",
       "      <td>23</td>\n",
       "      <td>19</td>\n",
       "      <td>24</td>\n",
       "      <td>11</td>\n",
       "      <td>22</td>\n",
       "    </tr>\n",
       "    <tr>\n",
       "      <th>revenue_per_date_A</th>\n",
       "      <td>142779</td>\n",
       "      <td>91602</td>\n",
       "      <td>112473</td>\n",
       "      <td>41176</td>\n",
       "      <td>86383</td>\n",
       "    </tr>\n",
       "    <tr>\n",
       "      <th>orders_per_date_B</th>\n",
       "      <td>17</td>\n",
       "      <td>23</td>\n",
       "      <td>14</td>\n",
       "      <td>14</td>\n",
       "      <td>21</td>\n",
       "    </tr>\n",
       "    <tr>\n",
       "      <th>revenue_per_date_B</th>\n",
       "      <td>59758</td>\n",
       "      <td>162043</td>\n",
       "      <td>67049</td>\n",
       "      <td>96890</td>\n",
       "      <td>89908</td>\n",
       "    </tr>\n",
       "    <tr>\n",
       "      <th>orders_cummulative_A</th>\n",
       "      <td>23</td>\n",
       "      <td>42</td>\n",
       "      <td>66</td>\n",
       "      <td>77</td>\n",
       "      <td>99</td>\n",
       "    </tr>\n",
       "    <tr>\n",
       "      <th>revenue_cummulative_A</th>\n",
       "      <td>142779</td>\n",
       "      <td>234381</td>\n",
       "      <td>346854</td>\n",
       "      <td>388030</td>\n",
       "      <td>474413</td>\n",
       "    </tr>\n",
       "    <tr>\n",
       "      <th>orders_cummulative_B</th>\n",
       "      <td>17</td>\n",
       "      <td>40</td>\n",
       "      <td>54</td>\n",
       "      <td>68</td>\n",
       "      <td>89</td>\n",
       "    </tr>\n",
       "    <tr>\n",
       "      <th>revenue_cummulative_B</th>\n",
       "      <td>59758</td>\n",
       "      <td>221801</td>\n",
       "      <td>288850</td>\n",
       "      <td>385740</td>\n",
       "      <td>475648</td>\n",
       "    </tr>\n",
       "    <tr>\n",
       "      <th>visitors_per_date_A</th>\n",
       "      <td>718.00</td>\n",
       "      <td>618.00</td>\n",
       "      <td>507.00</td>\n",
       "      <td>712.00</td>\n",
       "      <td>753.00</td>\n",
       "    </tr>\n",
       "    <tr>\n",
       "      <th>visitors_per_date_B</th>\n",
       "      <td>709.00</td>\n",
       "      <td>580.00</td>\n",
       "      <td>507.00</td>\n",
       "      <td>767.00</td>\n",
       "      <td>705.00</td>\n",
       "    </tr>\n",
       "    <tr>\n",
       "      <th>visitors_cummulative_A</th>\n",
       "      <td>718.00</td>\n",
       "      <td>1,336.00</td>\n",
       "      <td>1,843.00</td>\n",
       "      <td>2,555.00</td>\n",
       "      <td>3,308.00</td>\n",
       "    </tr>\n",
       "    <tr>\n",
       "      <th>visitors_cummulative_B</th>\n",
       "      <td>709.00</td>\n",
       "      <td>1,289.00</td>\n",
       "      <td>1,796.00</td>\n",
       "      <td>2,563.00</td>\n",
       "      <td>3,268.00</td>\n",
       "    </tr>\n",
       "  </tbody>\n",
       "</table>\n",
       "</div>"
      ],
      "text/plain": [
       "                                          0                    1  \\\n",
       "date                    2019-08-01 00:00:00  2019-08-02 00:00:00   \n",
       "orders_per_date_A                        23                   19   \n",
       "revenue_per_date_A                   142779                91602   \n",
       "orders_per_date_B                        17                   23   \n",
       "revenue_per_date_B                    59758               162043   \n",
       "orders_cummulative_A                     23                   42   \n",
       "revenue_cummulative_A                142779               234381   \n",
       "orders_cummulative_B                     17                   40   \n",
       "revenue_cummulative_B                 59758               221801   \n",
       "visitors_per_date_A                  718.00               618.00   \n",
       "visitors_per_date_B                  709.00               580.00   \n",
       "visitors_cummulative_A               718.00             1,336.00   \n",
       "visitors_cummulative_B               709.00             1,289.00   \n",
       "\n",
       "                                          2                    3  \\\n",
       "date                    2019-08-03 00:00:00  2019-08-04 00:00:00   \n",
       "orders_per_date_A                        24                   11   \n",
       "revenue_per_date_A                   112473                41176   \n",
       "orders_per_date_B                        14                   14   \n",
       "revenue_per_date_B                    67049                96890   \n",
       "orders_cummulative_A                     66                   77   \n",
       "revenue_cummulative_A                346854               388030   \n",
       "orders_cummulative_B                     54                   68   \n",
       "revenue_cummulative_B                288850               385740   \n",
       "visitors_per_date_A                  507.00               712.00   \n",
       "visitors_per_date_B                  507.00               767.00   \n",
       "visitors_cummulative_A             1,843.00             2,555.00   \n",
       "visitors_cummulative_B             1,796.00             2,563.00   \n",
       "\n",
       "                                          4  \n",
       "date                    2019-08-05 00:00:00  \n",
       "orders_per_date_A                        22  \n",
       "revenue_per_date_A                    86383  \n",
       "orders_per_date_B                        21  \n",
       "revenue_per_date_B                    89908  \n",
       "orders_cummulative_A                     99  \n",
       "revenue_cummulative_A                474413  \n",
       "orders_cummulative_B                     89  \n",
       "revenue_cummulative_B                475648  \n",
       "visitors_per_date_A                  753.00  \n",
       "visitors_per_date_B                  705.00  \n",
       "visitors_cummulative_A             3,308.00  \n",
       "visitors_cummulative_B             3,268.00  "
      ]
     },
     "execution_count": 18,
     "metadata": {},
     "output_type": "execute_result"
    }
   ],
   "source": [
    "visitors_A_daily = visitors[visitors['group'] == 'A'][['date', 'visitors']]\n",
    "visitors_A_daily.columns = ['date', 'visitors_per_date_A']\n",
    "\n",
    "visitors_A_cummulative = visitors_A_daily.apply(\n",
    "    lambda x: visitors_A_daily[visitors_A_daily['date'] <= x['date']].agg(\n",
    "        {'date': 'max', 'visitors_per_date_A': 'sum'}\n",
    "    ),\n",
    "    axis=1,\n",
    ")\n",
    "visitors_A_cummulative.columns = ['date', 'visitors_cummulative_A']\n",
    "\n",
    "visitors_B_daily = visitors[visitors['group'] == 'B'][['date', 'visitors']]\n",
    "visitors_B_daily.columns = ['date', 'visitors_per_date_B']\n",
    "\n",
    "visitors_B_cummulative = visitors_B_daily.apply(\n",
    "    lambda x: visitors_B_daily[visitors_B_daily['date'] <= x['date']].agg(\n",
    "        {'date': 'max', 'visitors_per_date_B': 'sum'}\n",
    "    ),\n",
    "    axis=1,\n",
    ")\n",
    "visitors_B_cummulative.columns = ['date', 'visitors_cummulative_B']\n",
    "\n",
    "orders_A_daily = (\n",
    "    orders[orders['group'] == 'A'][['date', 'order_id', 'user_id', 'revenue']]\n",
    "    .groupby('date', as_index=False)\n",
    "    .agg({'order_id': pd.Series.nunique, 'revenue': 'sum'})\n",
    ")\n",
    "orders_A_daily.columns = ['date', 'orders_per_date_A', 'revenue_per_date_A']\n",
    "\n",
    "orders_A_cummulative = orders_A_daily.apply(\n",
    "    lambda x: orders_A_daily[orders_A_daily['date'] <= x['date']].agg(\n",
    "        {'date': 'max', 'orders_per_date_A': 'sum', 'revenue_per_date_A': 'sum'}\n",
    "    ),\n",
    "    axis=1,\n",
    ").sort_values(by=['date'])\n",
    "orders_A_cummulative.columns = [\n",
    "    'date',\n",
    "    'orders_cummulative_A',\n",
    "    'revenue_cummulative_A',\n",
    "]\n",
    "\n",
    "orders_B_daily = (\n",
    "    orders[orders['group'] == 'B'][['date', 'order_id', 'user_id', 'revenue']]\n",
    "    .groupby('date', as_index=False)\n",
    "    .agg({'order_id': pd.Series.nunique, 'revenue': 'sum'})\n",
    ")\n",
    "orders_B_daily.columns = ['date', 'orders_per_date_B', 'revenue_per_date_B']\n",
    "\n",
    "orders_B_cummulative = orders_B_daily.apply(\n",
    "    lambda x: orders_B_daily[orders_B_daily['date'] <= x['date']].agg(\n",
    "        {'date': 'max', 'orders_per_date_B': 'sum', 'revenue_per_date_B': 'sum'}\n",
    "    ),\n",
    "    axis=1,\n",
    ").sort_values(by=['date'])\n",
    "orders_B_cummulative.columns = [\n",
    "    'date',\n",
    "    'orders_cummulative_B',\n",
    "    'revenue_cummulative_B',\n",
    "]\n",
    "\n",
    "data = (\n",
    "    orders_A_daily.merge(\n",
    "        orders_B_daily, left_on='date', right_on='date', how='left'\n",
    "    )\n",
    "    .merge(orders_A_cummulative, left_on='date', right_on='date', how='left')\n",
    "    .merge(orders_B_cummulative, left_on='date', right_on='date', how='left')\n",
    "    .merge(visitors_A_daily, left_on='date', right_on='date', how='left')\n",
    "    .merge(visitors_B_daily, left_on='date', right_on='date', how='left')\n",
    "    .merge(visitors_A_cummulative, left_on='date', right_on='date', how='left')\n",
    "    .merge(visitors_B_cummulative, left_on='date', right_on='date', how='left')\n",
    ")\n",
    "data.head(5).T\n"
   ]
  },
  {
   "cell_type": "markdown",
   "id": "f67721ce",
   "metadata": {},
   "source": [
    "\n",
    "\n",
    "Сводная таблица `data` содержит следующую информацию:\n",
    "\n",
    "    orders_per_date_A — количество заказов в выбранную дату в группе A;\n",
    "    revenue_per_date_A — суммарная выручка в выбранную дату в группе A;\n",
    "    orders_per_date_B — количество заказов в выбранную дату в группе B;\n",
    "    revenue_per_date_B — суммарная выручка в выбранную дату в группе B;\n",
    "    orders_cummulative_A — суммарное число заказов до выбранной даты включительно в группе A;\n",
    "    revenue_cummulative_A — суммарная выручка до выбранной даты включительно в группе A;\n",
    "    orders_cummulative_B — суммарное количество заказов до выбранной даты включительно в группе B;\n",
    "    revenue_cummulative_B — суммарная выручка до выбранной даты включительно в группе B;\n",
    "    visitors_per_date_A — количество пользователей в выбранную дату в группе A;\n",
    "    visitors_per_date_B — количество пользователей в выбранную дату в группе B;\n",
    "    visitors_cummulative_A — количество пользователей до выбранной даты включительно в группе A;\n",
    "    visitors_cummulative_B — количество пользователей до выбранной даты включительно в группе B.\n",
    "\n"
   ]
  },
  {
   "cell_type": "markdown",
   "id": "f042a3fe",
   "metadata": {},
   "source": [
    "### Анализ кумулятивных метрик"
   ]
  },
  {
   "cell_type": "markdown",
   "id": "8e13e992",
   "metadata": {},
   "source": [
    "#### Анализ кумулятивной выручки по группам"
   ]
  },
  {
   "cell_type": "code",
   "execution_count": 19,
   "id": "612dc718",
   "metadata": {},
   "outputs": [
    {
     "data": {
      "image/png": "[encoded data removed]",
      "text/plain": [
       "<Figure size 504x216 with 1 Axes>"
      ]
     },
     "metadata": {
      "needs_background": "light"
     },
     "output_type": "display_data"
    }
   ],
   "source": [
    "plt.figure(figsize=(7,3))\n",
    "plt.plot(data['date'], data['revenue_cummulative_A'], label = 'A')\n",
    "plt.plot(data['date'], data['revenue_cummulative_B'], label = 'B')\n",
    "plt.legend()\n",
    "plt.grid()\n",
    "plt.xticks(rotation = 45)\n",
    "plt.xlabel('дата')\n",
    "plt.ylabel('выручка')\n",
    "plt.title('график кумулятивной выручки по группам')\n",
    "plt.show()"
   ]
  },
  {
   "cell_type": "markdown",
   "id": "4d629884",
   "metadata": {},
   "source": [
    "На графике мы видим плавный рост накопленной выручки в группе А, в группе В наблюдается резкий скачок 19 августа, причинами скачка могут являться заказы на большую сумму, либо необычно большое количсетво заказов в этот день."
   ]
  },
  {
   "cell_type": "markdown",
   "id": "b4c33537",
   "metadata": {},
   "source": [
    "#### Анализ кумулятивного среднего чека по группам"
   ]
  },
  {
   "cell_type": "code",
   "execution_count": 20,
   "id": "ad59644a",
   "metadata": {},
   "outputs": [
    {
     "data": {
      "image/png": "[encoded data removed]",
      "text/plain": [
       "<Figure size 504x216 with 1 Axes>"
      ]
     },
     "metadata": {
      "needs_background": "light"
     },
     "output_type": "display_data"
    }
   ],
   "source": [
    "plt.figure(figsize=(7,3))\n",
    "plt.plot(data['date'], data['revenue_cummulative_A']/data['orders_cummulative_A'], label = 'A')\n",
    "plt.plot(data['date'], data['revenue_cummulative_B']/data['orders_cummulative_B'], label = 'B')\n",
    "plt.legend()\n",
    "plt.grid()\n",
    "plt.xticks(rotation = 45)\n",
    "plt.xlabel('дата')\n",
    "plt.ylabel('средний чек')\n",
    "plt.title('график кумулятивного среднего чека по группам')\n",
    "plt.show()"
   ]
  },
  {
   "cell_type": "markdown",
   "id": "7a41e7e2",
   "metadata": {},
   "source": [
    "Средний чек группы А подвергаляся колебаниям в первые две недели наблюдений, в последние две недели стабилизировался на отметке около 7000 с тенеденцией к небольшому росту в поледние дни. В группе В колебания среднего чека более заметны. В последние дни тенденция к снижению среднего чека, после резкого скачка 19 августа. "
   ]
  },
  {
   "cell_type": "markdown",
   "id": "27f0b574",
   "metadata": {},
   "source": [
    "#### Анализ относительного изменения кумулятивного среднего чека группы B к группе A "
   ]
  },
  {
   "cell_type": "code",
   "execution_count": 21,
   "id": "e102ffad",
   "metadata": {},
   "outputs": [
    {
     "data": {
      "image/png": "[encoded data removed]",
      "text/plain": [
       "<Figure size 504x216 with 1 Axes>"
      ]
     },
     "metadata": {
      "needs_background": "light"
     },
     "output_type": "display_data"
    }
   ],
   "source": [
    "plt.figure(figsize=(7,3))\n",
    "plt.plot(data['date'], \n",
    "         (data['revenue_cummulative_B']/data['orders_cummulative_B'])\n",
    "         /(data['revenue_cummulative_A']/data['orders_cummulative_A'])-1)\n",
    "plt.axhline(y=0, color='black', linestyle='--') \n",
    "plt.xticks(rotation = 45)\n",
    "plt.xlabel('дата')\n",
    "plt.ylabel('относительное изменение\\n кумулятивного среднего чека')\n",
    "plt.title('график относительного изменения кумулятивного среднего чека группы B к группе A')\n",
    "plt.show()"
   ]
  },
  {
   "cell_type": "markdown",
   "id": "901a3d9d",
   "metadata": {},
   "source": [
    "Исходя из графика можно сделать вывод, что накопленный средний чек группы В больше группы А, однако скорее всего это связано с несколькими аномальными заказами. Однозначный вывод об увеличение среднего чека в группе нельзя."
   ]
  },
  {
   "cell_type": "markdown",
   "id": "70f26d57",
   "metadata": {},
   "source": [
    "#### Анализ кумулятивного среднего количества заказов на посетителя по группам"
   ]
  },
  {
   "cell_type": "code",
   "execution_count": 22,
   "id": "0cbdba6d",
   "metadata": {
    "scrolled": false
   },
   "outputs": [
    {
     "data": {
      "image/png": "[encoded data removed]",
      "text/plain": [
       "<Figure size 504x216 with 1 Axes>"
      ]
     },
     "metadata": {
      "needs_background": "light"
     },
     "output_type": "display_data"
    }
   ],
   "source": [
    "plt.figure(figsize=(7,3))\n",
    "plt.plot(data['date'], data['orders_cummulative_A']/data['visitors_cummulative_A'], label = 'A')\n",
    "plt.plot(data['date'], data['orders_cummulative_B']/data['visitors_cummulative_B'], label = 'B')\n",
    "plt.legend()\n",
    "plt.grid()\n",
    "plt.xticks(rotation = 45)\n",
    "plt.xlabel('дата')\n",
    "plt.ylabel('среднее количества\\n заказов на посетителя')\n",
    "plt.title('кумулятивного среднего количества заказов на посетителя по группам')\n",
    "plt.show()"
   ]
  },
  {
   "cell_type": "markdown",
   "id": "5084efa0",
   "metadata": {},
   "source": [
    "В первые дни наблюдений в обоих группах наблюдается скачок среднего числа заказов на посетителя. В дальнейшем накопленное среднее число заказов на посетителя в группе А снижается, в группе В растет."
   ]
  },
  {
   "cell_type": "markdown",
   "id": "5219d76e",
   "metadata": {},
   "source": [
    "#### Анализ относительного изменения кумулятивного среднего количества заказов на посетителя группы B к группе A"
   ]
  },
  {
   "cell_type": "code",
   "execution_count": 23,
   "id": "aef23a13",
   "metadata": {},
   "outputs": [
    {
     "data": {
      "image/png": "[encoded data removed]",
      "text/plain": [
       "<Figure size 504x216 with 1 Axes>"
      ]
     },
     "metadata": {
      "needs_background": "light"
     },
     "output_type": "display_data"
    }
   ],
   "source": [
    "plt.figure(figsize=(7,3))\n",
    "plt.plot(data['date'], \n",
    "         (data['orders_cummulative_B']/data['visitors_cummulative_B'])\n",
    "         /(data['orders_cummulative_A']/data['visitors_cummulative_A'])-1)\n",
    "plt.xticks(rotation = 45)\n",
    "plt.xlabel('дата')\n",
    "plt.ylabel('относительное изменение \\n среднего количества заказов\\n на посетителя')\n",
    "plt.title('график относительного изменения среднего количества заказов на посетителя группы B к группе A')\n",
    "plt.axhline(y=0, color='black', linestyle='--')\n",
    "plt.axhline(y=0.16, color='grey', linestyle='--')\n",
    "plt.show()"
   ]
  },
  {
   "cell_type": "markdown",
   "id": "7433f25d",
   "metadata": {},
   "source": [
    "Примерно через неделю после начала эксперимента накопленное среднее количество заказов на посетителя в группе В выросло относительно группы А. С 10го дня и до конца эксперимента наблюдается превышение кумулятивного относительного изменения среднего количества заказов на посетителя в группе В примерно на 16%."
   ]
  },
  {
   "cell_type": "markdown",
   "id": "dbe4071e",
   "metadata": {},
   "source": [
    "### Анализ количества и стоимости заказов"
   ]
  },
  {
   "cell_type": "markdown",
   "id": "1782aa9c",
   "metadata": {},
   "source": [
    "В первой части анализа теста, мы выявлили аномальные скачки кумулятивной выручки и среднего чека, необходимо выявить аномалии."
   ]
  },
  {
   "cell_type": "markdown",
   "id": "3e96fdf4",
   "metadata": {},
   "source": [
    "#### Определение аномального числа заказов"
   ]
  },
  {
   "cell_type": "markdown",
   "id": "357f83d3",
   "metadata": {},
   "source": [
    "Сгруппируем данные по пользователям, посчитаем количество заказов на каждого и построим рафик рассеяния числа заказов."
   ]
  },
  {
   "cell_type": "code",
   "execution_count": 24,
   "id": "b7efcdf4",
   "metadata": {},
   "outputs": [
    {
     "data": {
      "image/png": "[encoded data removed]",
      "text/plain": [
       "<Figure size 360x216 with 1 Axes>"
      ]
     },
     "metadata": {
      "needs_background": "light"
     },
     "output_type": "display_data"
    }
   ],
   "source": [
    "orders_by_users = (\n",
    "    orders.groupby('user_id', as_index=False)\n",
    "    .agg({'order_id': 'nunique'})\n",
    ")\n",
    "orders_by_users.columns = ['user_id', 'orders']\n",
    "x_values = pd.Series(range(0, len(orders_by_users)))\n",
    "plt.figure(figsize=(5,3))\n",
    "plt.scatter(x = x_values, y = orders_by_users['orders'])\n",
    "plt.xlabel('Номер наблюдения')\n",
    "plt.ylabel('Количество заказов')\n",
    "plt.title('Точечный график количества заказов')\n",
    "plt.show()"
   ]
  },
  {
   "cell_type": "markdown",
   "id": "7d16e1ab",
   "metadata": {},
   "source": [
    "Из графика видно, что большая часть покупателей за период наблюдений совершила один заказ, так же есть небольшая группа с 2мя заказами. Три заказа совершили единичные пользователи."
   ]
  },
  {
   "cell_type": "markdown",
   "id": "85a2b2c9",
   "metadata": {},
   "source": [
    "Рассчитаем 95 и 99 перцентили числа заказов."
   ]
  },
  {
   "cell_type": "code",
   "execution_count": 25,
   "id": "1e7db405",
   "metadata": {},
   "outputs": [
    {
     "name": "stdout",
     "output_type": "stream",
     "text": [
      "[1. 2.]\n"
     ]
    }
   ],
   "source": [
    "print(np.percentile(orders_by_users['orders'], [95, 99])) "
   ]
  },
  {
   "cell_type": "markdown",
   "id": "f4a3d4c0",
   "metadata": {},
   "source": [
    "Не более 1 % пользователей за период наблюдения сделали 3 заказа. Определим границу аномалии 2 заказами."
   ]
  },
  {
   "cell_type": "markdown",
   "id": "be4e6553",
   "metadata": {},
   "source": [
    "#### Определение аномальных стоимостей заказов"
   ]
  },
  {
   "cell_type": "markdown",
   "id": "8c6e0ac8",
   "metadata": {},
   "source": [
    "Построим график рассеяния выручки по заказам."
   ]
  },
  {
   "cell_type": "code",
   "execution_count": 26,
   "id": "7dc80fec",
   "metadata": {},
   "outputs": [
    {
     "data": {
      "image/png": "[encoded data removed]",
      "text/plain": [
       "<Figure size 360x216 with 1 Axes>"
      ]
     },
     "metadata": {
      "needs_background": "light"
     },
     "output_type": "display_data"
    }
   ],
   "source": [
    "x_values = pd.Series(range(0, len(orders)))\n",
    "plt.figure(figsize=(5,3))\n",
    "plt.scatter(x = x_values, y = orders['revenue'])\n",
    "plt.xlabel('Номер наблюдения')\n",
    "plt.ylabel('Стоимость заказа')\n",
    "plt.title('Точечный график стоимости заказов')\n",
    "plt.show()"
   ]
  },
  {
   "cell_type": "markdown",
   "id": "7d273d6f",
   "metadata": {},
   "source": [
    "График не очень информативен из-за наличия двух выбросов, построим новый график, ограничив выручку до 200000."
   ]
  },
  {
   "cell_type": "code",
   "execution_count": 27,
   "id": "cc9bbe62",
   "metadata": {},
   "outputs": [
    {
     "data": {
      "image/png": "[encoded data removed]",
      "text/plain": [
       "<Figure size 360x216 with 1 Axes>"
      ]
     },
     "metadata": {
      "needs_background": "light"
     },
     "output_type": "display_data"
    }
   ],
   "source": [
    "orders_clear = orders[orders['revenue']<200000]\n",
    "x_values = pd.Series(range(0, len(orders_clear)))\n",
    "plt.figure(figsize=(5,3))\n",
    "plt.scatter(x = x_values, y = orders_clear['revenue'])\n",
    "plt.xlabel('Номер наблюдения')\n",
    "plt.ylabel('Стоимость заказа')\n",
    "plt.title('Точечный график стоимости заказов')\n",
    "plt.show()"
   ]
  },
  {
   "cell_type": "markdown",
   "id": "3b6159a8",
   "metadata": {},
   "source": [
    "Основная часть заказов находится внизу графика между 0 и 20000. Для точного определения аномалий расчитаем 95 и 99 перцентили стоимости заказов."
   ]
  },
  {
   "cell_type": "code",
   "execution_count": 28,
   "id": "1c002ee9",
   "metadata": {},
   "outputs": [
    {
     "name": "stdout",
     "output_type": "stream",
     "text": [
      "[26550. 52900.]\n"
     ]
    }
   ],
   "source": [
    "print(np.percentile(orders_clear['revenue'], [95, 99])) "
   ]
  },
  {
   "cell_type": "markdown",
   "id": "a561ffe1",
   "metadata": {},
   "source": [
    "Исходя из графика и расчета перцентилей примем за аномалию заказы на сумму больше 52900."
   ]
  },
  {
   "cell_type": "markdown",
   "id": "9bed424e",
   "metadata": {},
   "source": [
    "### Анализ статистической значимости различий между группами по \"сырым\" и \"очищенным\" данным"
   ]
  },
  {
   "cell_type": "markdown",
   "id": "5cfa809f",
   "metadata": {},
   "source": [
    "Для расчёта статистической значимость будем использовать тест Манна Уитни, с параметром two-sided двусторонний.\n",
    "Уровень статистической значимости определим равным 0.05. Нулевой гипотезой будем считать отсутствие статистически значимых различий между группами. Альтернативной: наличие статистически значимых различий."
   ]
  },
  {
   "cell_type": "markdown",
   "id": "ad17eb10",
   "metadata": {},
   "source": [
    "#### Расчёты по \"сырым данным\""
   ]
  },
  {
   "cell_type": "markdown",
   "id": "2502366a",
   "metadata": {},
   "source": [
    "Проверим статическую значимость различий среднего числа заказов на посетителя на \"сырых данных\".  \n",
    "Так же выведем относительное изменение метрики.\n",
    "Сформулируем гипотезы:\n",
    "\n",
    "    Н0 : статистически значимых различий среднего числа заказов на посетителя между группами по \"сырым\" данным нет\n",
    "    Н1 : статистически значимые различия среднего числа заказов на посетителя между группами по \"сырым\" данным есть\n",
    "\n",
    "  "
   ]
  },
  {
   "cell_type": "code",
   "execution_count": 29,
   "id": "5f6c8ab9",
   "metadata": {},
   "outputs": [
    {
     "name": "stdout",
     "output_type": "stream",
     "text": [
      "p_value: 0.011\n",
      "Прирост среднего числа заказов на посетителя:0.160\n"
     ]
    }
   ],
   "source": [
    "orders_by_users_A = (orders[orders['group']=='A']\n",
    "                  .groupby('user_id', as_index = False)\n",
    "                  .agg({'order_id': pd.Series.nunique})\n",
    ")\n",
    "orders_by_users_A.columns = ['user_id', 'orders'] \n",
    "orders_by_users_B = (orders[orders['group']=='B']\n",
    "                  .groupby('user_id', as_index = False)\n",
    "                  .agg({'order_id': pd.Series.nunique})\n",
    ")\n",
    "orders_by_users_B.columns = ['user_id', 'orders'] \n",
    "sample_A = (pd.concat([orders_by_users_A['orders']\n",
    "                       ,pd.Series(0, index=np.arange(data['visitors_per_date_A'].sum()\n",
    "                                                     - len(orders_by_users_A['orders'])), name='orders')],axis=0))\n",
    "\n",
    "sample_B = (pd.concat([orders_by_users_B['orders']\n",
    "                       ,pd.Series(0, index=np.arange(data['visitors_per_date_B'].sum()\n",
    "                                                     - len(orders_by_users_B['orders'])), name='orders')],axis=0))\n",
    "print(\"p_value: {0:.3f}\".format(st.mannwhitneyu(sample_A, sample_B,True,'two-sided')[1]))\n",
    "\n",
    "print(\"Прирост среднего числа заказов на посетителя:{0:.3f}\".format(sample_B.mean() / sample_A.mean() - 1))"
   ]
  },
  {
   "cell_type": "markdown",
   "id": "ee9af9e8",
   "metadata": {},
   "source": [
    "Исходя из полученного p_value принимаем альтернативную гипотезу, статистически значимые различия между группами есть. Прирост среднего числа заказов на посетителя в группе В составляет 16%."
   ]
  },
  {
   "cell_type": "markdown",
   "id": "f5ca2773",
   "metadata": {},
   "source": [
    "Рассчитаем статистическую значимость различий в среднем чеке заказа между группами по «сырым» данным, так же выведем относительный прирост среднего чека.  \n",
    "\n",
    "Сформулируем гипотезы:\n",
    "\n",
    "    Н0 : статистически значимых различий в среднем чеке заказа между группами на \"сырых\" данных нет\n",
    "    Н1 : статистически значимые различия в среднем чеке заказа между группами \"сырых\" данных есть\n"
   ]
  },
  {
   "cell_type": "code",
   "execution_count": 30,
   "id": "88479057",
   "metadata": {},
   "outputs": [
    {
     "name": "stdout",
     "output_type": "stream",
     "text": [
      "p_value: 0.829\n",
      "Относительный прирост среднего чека: 0.287\n"
     ]
    }
   ],
   "source": [
    "print('p_value: {0:.3f}'.format(st.mannwhitneyu(orders[orders['group']=='A']['revenue'],\\\n",
    "                                       orders[orders['group']=='B']['revenue'], True,'two-sided')[1]))\n",
    "print('Относительный прирост среднего чека: {0:.3f}'.format(orders[orders['group']=='B']['revenue']\\\n",
    "                       .mean()/orders[orders['group']=='A']['revenue'].mean()-1)) "
   ]
  },
  {
   "cell_type": "markdown",
   "id": "03326410",
   "metadata": {},
   "source": [
    "P_value значительно выше  уровня значимости, значит мы не можем отвергнуть нулевую гипотезу. Статистически значимых различий в среднем чеке между группами нет."
   ]
  },
  {
   "cell_type": "markdown",
   "id": "bd40ee40",
   "metadata": {},
   "source": [
    "#### Расчёты по \"очищенным\" данным"
   ]
  },
  {
   "cell_type": "markdown",
   "id": "59b7d1b1",
   "metadata": {},
   "source": [
    "Вычислим id пользователей с аномальными заказами, ранее мы определили границы анломалий более 2х заказов и сумма заказов превышающая 52900, что соответствует 99 перцентилю обоих признаков."
   ]
  },
  {
   "cell_type": "code",
   "execution_count": 31,
   "id": "7b142f89",
   "metadata": {},
   "outputs": [
    {
     "name": "stdout",
     "output_type": "stream",
     "text": [
      "Количество аномальных пользователей: 19\n",
      "Общая доля аномальных пользователей: 0.02\n",
      "Количество аномальных пользователей группы А: 12\n",
      "Доля аномальных пользователей группы А: 0.03\n",
      "Количество аномальных пользователей группы B: 7\n",
      "Доля аномальных пользователей группы B: 0.01\n"
     ]
    }
   ],
   "source": [
    "users_with_many_orders = pd.concat(\n",
    "    [orders_by_users_A[orders_by_users_A['orders'] > np.percentile(orders_by_users['orders'], 99)]['user_id'],\n",
    "     orders_by_users_B[orders_by_users_B['orders'] > np.percentile(orders_by_users['orders'], 99)]['user_id'],],\n",
    "    axis=0)\n",
    "users_with_expensive_orders = orders[orders['revenue'] > np.percentile(orders_clear['revenue'], 99)]['user_id'] \n",
    "abnormal_users = (\n",
    "    pd.concat([users_with_many_orders, users_with_expensive_orders], axis=0)\n",
    "    .drop_duplicates()\n",
    "    .sort_values()\n",
    ")\n",
    "print(f'Количество аномальных пользователей: {len(abnormal_users)}')\n",
    "print('Общая доля аномальных пользователей: {0:.2f}'.format(abnormal_users.nunique()/orders['user_id'].nunique()))\n",
    "print('Количество аномальных пользователей группы А: {0:.0f}'.format(\n",
    "    (len(orders_by_users_A[orders_by_users_A['orders'] > np.percentile(orders_by_users['orders'], 99)]['user_id'])\n",
    "     +len(orders_by_users_A.query('user_id in @users_with_expensive_orders')))))\n",
    "print('Доля аномальных пользователей группы А: {0:.2f}'.format(\n",
    "    (len(orders_by_users_A[orders_by_users_A['orders'] > np.percentile(orders_by_users['orders'], 99)]['user_id'])\n",
    "     +len(orders_by_users_A.query('user_id in @users_with_expensive_orders')))/ len(orders_by_users_A)))\n",
    "print('Количество аномальных пользователей группы B: {0:.0f}'.format(\n",
    "    (len(orders_by_users_B[orders_by_users_B['orders'] > np.percentile(orders_by_users['orders'], 99)]['user_id'])\n",
    "     +len(orders_by_users_B.query('user_id in @users_with_expensive_orders')))))\n",
    "print('Доля аномальных пользователей группы B: {0:.2f}'.format(\n",
    "    (len(orders_by_users_B[orders_by_users_B['orders'] > np.percentile(orders_by_users['orders'], 99)]['user_id'])\n",
    "    +len(orders_by_users_B.query('user_id in @users_with_expensive_orders')))/len(orders_by_users_B)))"
   ]
  },
  {
   "cell_type": "markdown",
   "id": "96262153",
   "metadata": {},
   "source": [
    "Выявлено 19 пользователей с аномальными заказами, они составляют 2% от всех наблюдений по заказам. В группе `A` 12 аномальныхпользователей, что составляет 3% от группы. В группе `В` 7 пользователей или 1%."
   ]
  },
  {
   "cell_type": "markdown",
   "id": "4cba4e2a",
   "metadata": {},
   "source": [
    "Проверим статическую значимость различий среднего числа заказов на посетителя на \"очищенных данных\".  \n",
    "Так же выведем относительное изменение метрики. \n",
    "\n",
    "Сформулируем гипотезы:\n",
    "\n",
    "    Н0 : статистически значимых различий среднего числа заказов на посетителя между группами по \"очищенным\" данным нет\n",
    "    Н1 : статистически значимые различия среднего числа заказов на посетителя между группами по \"очищенным\" данным есть\n"
   ]
  },
  {
   "cell_type": "code",
   "execution_count": 32,
   "id": "cbf27edb",
   "metadata": {},
   "outputs": [
    {
     "name": "stdout",
     "output_type": "stream",
     "text": [
      "p_value: 0.006\n",
      "Различие среднего количества заказов на посетителя: 0.192\n"
     ]
    }
   ],
   "source": [
    "sample_A_filtered = pd.concat(\n",
    "    [orders_by_users_A[np.logical_not(orders_by_users_A['user_id'].isin(abnormal_users))]['orders'],\n",
    "        pd.Series(0,index=np.arange(data['visitors_per_date_A'].sum() \n",
    "                                    - len(orders_by_users_A['orders'])),name='orders',),],\n",
    "    axis=0)\n",
    "\n",
    "sample_B_filtered = pd.concat(\n",
    "    [orders_by_users_B[np.logical_not(orders_by_users_B['user_id'].isin(abnormal_users))]['orders'],\n",
    "        pd.Series(0, index=np.arange(data['visitors_per_date_B'].sum() \n",
    "                                     - len(orders_by_users_B['orders'])),name='orders',),],\n",
    "    axis=0) \n",
    "print('p_value: {0:.3f}'.format(st.mannwhitneyu(sample_A_filtered, sample_B_filtered, True, 'two-sided')[1]))\n",
    "print('Различие среднего количества заказов на посетителя: {0:.3f}'\\\n",
    "      .format(sample_B_filtered.mean()/sample_A_filtered.mean()-1)) "
   ]
  },
  {
   "cell_type": "markdown",
   "id": "49523676",
   "metadata": {},
   "source": [
    "P_value меньше 0.05, отвергаем нулевую гипотезу: разница статистически значима. На очищенных данных среднее количество заказов на посетителя выросло на 19.2%"
   ]
  },
  {
   "cell_type": "markdown",
   "id": "618cdeb3",
   "metadata": {},
   "source": [
    "Проверим статистическую значимость различий в среднем чеке на \"очищенных данных\" и выведем относительный прирост метрики.\n",
    "\n",
    "Сформулируем гипотезы:\n",
    "\n",
    "    Н0 : статистически значимых различий в среднем чеке заказа между группами на \"очищенных\" данных нет\n",
    "    Н1 : статистически значимые различия в среднем чеке заказа между группами \"очищенных\" данных есть\n",
    "\n",
    "\n",
    "  "
   ]
  },
  {
   "cell_type": "code",
   "execution_count": 33,
   "id": "e3dc53f3",
   "metadata": {},
   "outputs": [
    {
     "name": "stdout",
     "output_type": "stream",
     "text": [
      "p_value: 0.842\n",
      "Относительный прирост среднего чека: -0.014\n"
     ]
    }
   ],
   "source": [
    "print('p_value: {0:.3f}'.format(st.mannwhitneyu(\n",
    "            orders[np.logical_and(orders['group'] == 'A',\n",
    "                                  np.logical_not(orders['user_id'].isin(abnormal_users)),)]['revenue'],\n",
    "            orders[np.logical_and(orders['group'] == 'B',\n",
    "                                  np.logical_not(orders['user_id'].isin(abnormal_users)),)]['revenue'],True,'two-sided')[1])\n",
    ")\n",
    "\n",
    "print(\"Относительный прирост среднего чека: {0:.3f}\".format(orders[np.logical_and(orders['group'] == 'B',\n",
    "                np.logical_not(orders['user_id'].isin(abnormal_users)),)]['revenue'].mean()\n",
    "        / orders[np.logical_and(orders['group'] == 'A',\n",
    "                np.logical_not(orders['user_id'].isin(abnormal_users)),)]['revenue'].mean()- 1)\n",
    ") "
   ]
  },
  {
   "cell_type": "markdown",
   "id": "2e92eed7",
   "metadata": {},
   "source": [
    "Как и на сырых данных p_value значительно больше 0.05, значит мы не можем отвергнуть нулевуюгипотезу. Разница между средними чеками в группах статистически не значима. После очистки данных относительный прирост принял отрицательное значение, очевидно несколько крупных заказов, которые мы удалили сильно сказывались на показателях."
   ]
  },
  {
   "cell_type": "markdown",
   "id": "e1e37bf1",
   "metadata": {},
   "source": [
    "### Решение по результатам теста "
   ]
  },
  {
   "cell_type": "markdown",
   "id": "b179af54",
   "metadata": {},
   "source": [
    "По результатам теста выявлено следующее:  \n",
    "\n",
    "    Есть статистически значимое различие по среднему числу заказов на посетителя между группами как по \"сырым\" данным, так и \"очищенным\" данным. В группе В на \"сырых\" данных метрика выросла относительно группы А на 16%. На очищенных данных на 19%\n",
    "    Статистически значимые отличия в размере среднего чека отсутствуют.\n",
    "    График относительного изменения кумулятивного среднего чека группы B к группе A подвержен колебаниям, на него оказывают влияния аномально дорогие заказы.\n",
    "Рекомендуется остановить тест. Зафиксировать увеличение среднего количества заказов на посетителя в группе В относительно группы А."
   ]
  },
  {
   "cell_type": "markdown",
   "id": "f0c2d8fd",
   "metadata": {},
   "source": [
    "## Вывод"
   ]
  },
  {
   "cell_type": "markdown",
   "id": "01b6fab3",
   "metadata": {},
   "source": [
    "Проведена приоритизация гипотез и анализ результатов А/В теста интернет-магазина. На вход были получены три файла:\n",
    "`hypothesis` содержал, разработанные 9 гипотез с оценками по 10 бальной шкале для приоритизации. Файл `visitors` с агрегированными данными по числу посетителей с разбивко по датам и группам. Файл `orders` с 1197 наблюдениями о заказах, совершенных посетителями за время проведения A/B теста, идентификатором посетителя, присвоенной группой, суммой и датой заказа.\n",
    "Тест проводился с 01 августа 2019 года по 01 сентября 2019 года. В соответствии с этим файл `orders` содержит 62 наблюдения .  \n",
    "\n",
    "На этапе предобраобработки наименования столбцов были приведены к единому стилю, столбцы содержащие даты приведены к типу datetime. Данные проверены на явные дубликаты и совпадение временных периодов. Так же обнаружены попадания 58(около 10% для каждой группы) пользователей в две группы. Выяленные пользователи были удалены из таблицы c заказами, число посещений снижено на соответствующее дате и группе количество в таблице с посещениями. Однако возникщая проблема явилась сигналом снижения уровня доверия результатам А/В -теста. Рекомендуется обратить на это внимание отдела маркетинга, необходимо провериь алгоритмы разбивки пользователей на группы.  \n",
    "Приоритизация гипотеза была проведена с использованием двух методов ICE и RICE. Различие методик заключается в том, что в методе ICE используются три критерия оценки гипотезы (степень влияния на пользователей, размер затрат, необходимых для тестирования гипотезы и уверенность в оценке охвата, влияния и трудозатрат), метод RICE помимо перечисленного учитывает охват пользователей. Согласно методу ICE приоритет получили гипотезы :\n",
    "        \n",
    "    Запустить акцию, дающую скидку на товар в день рождения;\n",
    "    Добавить два новых канала привлечения трафика, что позволит привлекать на 30% больше пользователей;\n",
    "    Добавить форму подписки на все основные страницы, чтобы собрать базу клиентов для email-рассылок;  \n",
    "        \n",
    "По методу RICE были отобраны 4 приоритетные гипотезы 3 и 4 получили одинаковые балы:  \n",
    "\n",
    "    Добавить форму подписки на все основные страницы, чтобы собрать базу клиентов для email-рассылок \t\n",
    "    Добавить блоки рекомендаций товаров на сайт интернет магазина, чтобы повысить конверсию и средний чек заказа \t\n",
    "    Добавить два новых канала привлечения трафика, что позволит привлекать на 30% больше пользователей \t\n",
    "    Показать на главной странице баннеры с актуальными акциями и распродажами, чтобы увеличить конверсию\n",
    "Приоритет гипотезы \"добавить форму подписки на все основные страницы, чтобы собрать базу клиентов для email-рассылок\" значительно превосходил остальные гипотезы по расчётам RICE, с учетом третьего места по ICE расчетам, данная гипотеза выбрана приоритетной.  \n",
    "\n",
    "В процессе анализа А/В теста были расчитаны кумулятивные метрики. Определено, что не более 1% пользоватлей совершали более двух заказов и не более 1% заказов превышали сумму 52900, эти данные приняты за границы аномалий. Аномальными пользователями оказались 2% или 19 пользователей от всех наблюдений. В группе А 3%(12 пользователей), в группе В 1%(7 пользователей). Проведены расчёты статистической значимости различий между группами на \"сырых\" и \"очищенных\" данных. \n",
    "\n",
    "По результатам анализа А/В теста было выялено следующее:\n",
    "\n",
    "    Кумулятивная выручка и средний чек группы В выше группы А, однако сильное влияние на эти метрики оказал скачок 19 августа, связанный с аномально дорогими заказами в этот день.\n",
    "    Кумулятивное среднее количество заказов на посетителя в группе В стабильно выше группы А. \n",
    "    Среднее количество заказов на посетителя группы В статистически значимо выше группы А. На \"сырых\" данных оно выше на 16%, на \"очищенных\" на 19%.\n",
    "    Средний чек в группах не имеет статистически значимого различия.\n",
    "Рекомендовано остановить тест. Зафиксировать увеличение среднего количества заказов на посетителя в группе В относительно группы А и остутсвие различий в размере среднего чека.\n"
   ]
  }
 ],
 "metadata": {
  "ExecuteTimeLog": [
   {
    "duration": 1262,
    "start_time": "2023-04-02T16:54:26.371Z"
   },
   {
    "duration": 12,
    "start_time": "2023-04-02T16:54:27.635Z"
   },
   {
    "duration": 218,
    "start_time": "2023-04-02T16:54:27.652Z"
   },
   {
    "duration": 0,
    "start_time": "2023-04-02T16:54:27.874Z"
   },
   {
    "duration": 0,
    "start_time": "2023-04-02T16:54:27.875Z"
   },
   {
    "duration": 0,
    "start_time": "2023-04-02T16:54:27.876Z"
   },
   {
    "duration": 0,
    "start_time": "2023-04-02T16:54:27.877Z"
   },
   {
    "duration": 0,
    "start_time": "2023-04-02T16:54:27.881Z"
   },
   {
    "duration": 0,
    "start_time": "2023-04-02T16:54:27.882Z"
   },
   {
    "duration": 0,
    "start_time": "2023-04-02T16:54:27.883Z"
   },
   {
    "duration": 0,
    "start_time": "2023-04-02T16:54:27.885Z"
   },
   {
    "duration": 0,
    "start_time": "2023-04-02T16:54:27.887Z"
   },
   {
    "duration": 0,
    "start_time": "2023-04-02T16:54:27.889Z"
   },
   {
    "duration": 0,
    "start_time": "2023-04-02T16:54:27.890Z"
   },
   {
    "duration": 0,
    "start_time": "2023-04-02T16:54:27.892Z"
   },
   {
    "duration": 0,
    "start_time": "2023-04-02T16:54:27.894Z"
   },
   {
    "duration": 0,
    "start_time": "2023-04-02T16:54:27.895Z"
   },
   {
    "duration": 0,
    "start_time": "2023-04-02T16:54:27.897Z"
   },
   {
    "duration": 0,
    "start_time": "2023-04-02T16:54:27.899Z"
   },
   {
    "duration": 0,
    "start_time": "2023-04-02T16:54:27.900Z"
   },
   {
    "duration": 0,
    "start_time": "2023-04-02T16:54:27.901Z"
   },
   {
    "duration": 0,
    "start_time": "2023-04-02T16:54:27.942Z"
   },
   {
    "duration": 0,
    "start_time": "2023-04-02T16:54:27.943Z"
   },
   {
    "duration": 0,
    "start_time": "2023-04-02T16:54:27.945Z"
   },
   {
    "duration": 0,
    "start_time": "2023-04-02T16:54:27.948Z"
   },
   {
    "duration": 0,
    "start_time": "2023-04-02T16:54:27.949Z"
   },
   {
    "duration": 0,
    "start_time": "2023-04-02T16:54:27.957Z"
   },
   {
    "duration": 0,
    "start_time": "2023-04-02T16:54:27.958Z"
   },
   {
    "duration": 0,
    "start_time": "2023-04-02T16:54:27.959Z"
   },
   {
    "duration": 0,
    "start_time": "2023-04-02T16:54:27.959Z"
   },
   {
    "duration": 0,
    "start_time": "2023-04-02T16:54:27.960Z"
   },
   {
    "duration": 0,
    "start_time": "2023-04-02T16:54:27.961Z"
   },
   {
    "duration": 0,
    "start_time": "2023-04-02T16:54:27.962Z"
   },
   {
    "duration": 1250,
    "start_time": "2023-04-02T16:55:01.360Z"
   },
   {
    "duration": 3,
    "start_time": "2023-04-02T16:55:02.612Z"
   },
   {
    "duration": 283,
    "start_time": "2023-04-02T16:55:02.617Z"
   },
   {
    "duration": 6,
    "start_time": "2023-04-02T16:55:02.902Z"
   },
   {
    "duration": 49,
    "start_time": "2023-04-02T16:55:02.910Z"
   },
   {
    "duration": 22,
    "start_time": "2023-04-02T16:55:02.963Z"
   },
   {
    "duration": 21,
    "start_time": "2023-04-02T16:55:02.987Z"
   },
   {
    "duration": 30,
    "start_time": "2023-04-02T16:55:03.010Z"
   },
   {
    "duration": 10,
    "start_time": "2023-04-02T16:55:03.042Z"
   },
   {
    "duration": 21,
    "start_time": "2023-04-02T16:55:03.058Z"
   },
   {
    "duration": 22,
    "start_time": "2023-04-02T16:55:03.082Z"
   },
   {
    "duration": 9,
    "start_time": "2023-04-02T16:55:03.107Z"
   },
   {
    "duration": 75,
    "start_time": "2023-04-02T16:55:03.117Z"
   },
   {
    "duration": 22,
    "start_time": "2023-04-02T16:55:03.196Z"
   },
   {
    "duration": 33,
    "start_time": "2023-04-02T16:55:03.220Z"
   },
   {
    "duration": 14,
    "start_time": "2023-04-02T16:55:03.256Z"
   },
   {
    "duration": 15,
    "start_time": "2023-04-02T16:55:03.272Z"
   },
   {
    "duration": 262,
    "start_time": "2023-04-02T16:55:03.289Z"
   },
   {
    "duration": 303,
    "start_time": "2023-04-02T16:55:03.559Z"
   },
   {
    "duration": 238,
    "start_time": "2023-04-02T16:55:03.864Z"
   },
   {
    "duration": 352,
    "start_time": "2023-04-02T16:55:04.105Z"
   },
   {
    "duration": 232,
    "start_time": "2023-04-02T16:55:04.459Z"
   },
   {
    "duration": 382,
    "start_time": "2023-04-02T16:55:04.693Z"
   },
   {
    "duration": 181,
    "start_time": "2023-04-02T16:55:05.077Z"
   },
   {
    "duration": 4,
    "start_time": "2023-04-02T16:55:05.263Z"
   },
   {
    "duration": 162,
    "start_time": "2023-04-02T16:55:05.269Z"
   },
   {
    "duration": 251,
    "start_time": "2023-04-02T16:55:05.433Z"
   },
   {
    "duration": 5,
    "start_time": "2023-04-02T16:55:05.685Z"
   },
   {
    "duration": 194,
    "start_time": "2023-04-02T16:55:05.693Z"
   },
   {
    "duration": 12,
    "start_time": "2023-04-02T16:55:05.890Z"
   },
   {
    "duration": 54,
    "start_time": "2023-04-02T16:55:05.905Z"
   },
   {
    "duration": 26,
    "start_time": "2023-04-02T16:55:05.960Z"
   },
   {
    "duration": 16,
    "start_time": "2023-04-02T16:55:05.988Z"
   }
  ],
  "celltoolbar": "Необработанный формат ячейки",
  "kernelspec": {
   "display_name": "Python 3 (ipykernel)",
   "language": "python",
   "name": "python3"
  },
  "language_info": {
   "codemirror_mode": {
    "name": "ipython",
    "version": 3
   },
   "file_extension": ".py",
   "mimetype": "text/x-python",
   "name": "python",
   "nbconvert_exporter": "python",
   "pygments_lexer": "ipython3",
   "version": "3.9.13"
  },
  "toc": {
   "base_numbering": 1,
   "nav_menu": {},
   "number_sections": true,
   "sideBar": true,
   "skip_h1_title": true,
   "title_cell": "Содержание",
   "title_sidebar": "Содержание",
   "toc_cell": false,
   "toc_position": {
    "height": "567px",
    "left": "23px",
    "top": "111.133px",
    "width": "326px"
   },
   "toc_section_display": true,
   "toc_window_display": true
  }
 },
 "nbformat": 4,
 "nbformat_minor": 5
}
